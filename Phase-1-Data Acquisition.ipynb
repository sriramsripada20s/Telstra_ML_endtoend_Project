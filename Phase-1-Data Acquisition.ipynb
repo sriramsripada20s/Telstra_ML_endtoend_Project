{
  "nbformat": 4,
  "nbformat_minor": 0,
  "metadata": {
    "colab": {
      "name": "Phase-1-Documentation.ipynb",
      "provenance": [],
      "collapsed_sections": []
    },
    "kernelspec": {
      "name": "python3",
      "display_name": "Python 3"
    },
    "language_info": {
      "name": "python"
    }
  },
  "cells": [
    {
      "cell_type": "markdown",
      "metadata": {
        "id": "6dtoFTUSwAyw"
      },
      "source": [
        "**Code:** **Implement this metric from scratch in Python using NumPy/Pandas/Scipy only.**"
      ]
    },
    {
      "cell_type": "code",
      "metadata": {
        "id": "MDLo8DsLwBGc"
      },
      "source": [
        "import numpy as np\n",
        "import pandas as pd"
      ],
      "execution_count": null,
      "outputs": []
    },
    {
      "cell_type": "code",
      "metadata": {
        "id": "hCgECb7qwQRQ"
      },
      "source": [
        "def multi_log_loss(y_true, y_prob):\n",
        "  #define an epsilon value\n",
        "  epsilon = 1e-15\n",
        "  #list to store losses\n",
        "  loss = []\n",
        "  #loop over all true and pred probability values\n",
        "  for x,y in zip(y_true, y_prob):\n",
        "    y = np.clip(y, epsilon, 1 - epsilon)\n",
        "    #calculate loss for one sample\n",
        "    loss_1 = - 1.0 * (x * np.log(y) + (1 - x) * np.log(1 - y))\n",
        "    #add to loss list\n",
        "    loss.append(loss_1)\n",
        "    #return mean loss over all samples\n",
        "  return np.mean(loss)"
      ],
      "execution_count": null,
      "outputs": []
    },
    {
      "cell_type": "code",
      "metadata": {
        "id": "KhD9Xvl_wDmH"
      },
      "source": [
        "y_true = [0, 0, 0, 1, 1, 0, 0,0, 0, 1, 1, 1, 0, 0, 1]\n",
        "y_prob = [0.15, 0.3, 0.2, 0.7, 0.8, 0.05,0.9, 0.5, 0.3, 0.66, 0.4, 0.87,0.85, 0.15, 0.99]"
      ],
      "execution_count": null,
      "outputs": []
    },
    {
      "cell_type": "code",
      "metadata": {
        "colab": {
          "base_uri": "https://localhost:8080/"
        },
        "id": "PUUP2NuVwFWu",
        "outputId": "e7a95ab7-8bdf-4602-b6d9-ca1f99788a88"
      },
      "source": [
        "multi_log_loss(y_true, y_prob)"
      ],
      "execution_count": null,
      "outputs": [
        {
          "output_type": "execute_result",
          "data": {
            "text/plain": [
              "0.5511075950193614"
            ]
          },
          "metadata": {},
          "execution_count": 4
        }
      ]
    },
    {
      "cell_type": "markdown",
      "metadata": {
        "id": "9DmBIbR6hBlX"
      },
      "source": [
        "**DATA ACQUISITION**\n",
        "\n",
        "Initial Analysis on data has been done, more exploration of data will be performed in futher phases \n",
        "\n",
        "Our kaggle dataset is mounted on Google Drive for retrieval\n",
        "\n",
        "Dataset is available for download from here: https://www.kaggle.com/c/telstra-recruiting-network/data\n",
        "\n",
        "\n"
      ]
    },
    {
      "cell_type": "code",
      "metadata": {
        "colab": {
          "base_uri": "https://localhost:8080/"
        },
        "id": "UTxBipN8IiQR",
        "outputId": "c3a5ecd3-9963-4c2e-9b4c-8a4b68f262f0"
      },
      "source": [
        "from google.colab import drive\n",
        "drive.mount('/content/drive')"
      ],
      "execution_count": null,
      "outputs": [
        {
          "output_type": "stream",
          "name": "stdout",
          "text": [
            "Drive already mounted at /content/drive; to attempt to forcibly remount, call drive.mount(\"/content/drive\", force_remount=True).\n"
          ]
        }
      ]
    },
    {
      "cell_type": "code",
      "metadata": {
        "colab": {
          "base_uri": "https://localhost:8080/"
        },
        "id": "Lq8o9t1WIiSk",
        "outputId": "f9930cce-d9e9-4c4b-81ba-486a41da03ba"
      },
      "source": [
        "%cd /content/drive/MyDrive/assignment1_colab/Telstra Case Study"
      ],
      "execution_count": null,
      "outputs": [
        {
          "output_type": "stream",
          "name": "stdout",
          "text": [
            "/content/drive/MyDrive/assignment1_colab/Telstra Case Study\n"
          ]
        }
      ]
    },
    {
      "cell_type": "markdown",
      "metadata": {
        "id": "oZo-lG5PhPXb"
      },
      "source": [
        "**Reading the dataset using pandas Dataframe**"
      ]
    },
    {
      "cell_type": "code",
      "metadata": {
        "id": "jYGEegjGIiU-"
      },
      "source": [
        "train_data = pd.read_csv('train.csv')\n",
        "test_data = pd.read_csv('test.csv')\n",
        "event_type = pd.read_csv('event_type.csv')\n",
        "log_feature = pd.read_csv('log_feature.csv')\n",
        "resource_type = pd.read_csv('resource_type.csv')\n",
        "severity_type = pd.read_csv('severity_type.csv')"
      ],
      "execution_count": null,
      "outputs": []
    },
    {
      "cell_type": "markdown",
      "metadata": {
        "id": "NYzsEoFQhb-5"
      },
      "source": [
        "**Printing the no. of datapoints in each dataset provided**"
      ]
    },
    {
      "cell_type": "code",
      "metadata": {
        "colab": {
          "base_uri": "https://localhost:8080/"
        },
        "id": "WKikrrTVPSZ5",
        "outputId": "37601dc3-8821-4718-f98f-95585b5764e6"
      },
      "source": [
        "print('Number of train data points : ', train_data.shape[0])\n",
        "print('Number of features : ', train_data.shape[1])\n",
        "print('-------------------------------------------------------------')\n",
        "print('Number of test data points : ', test_data.shape[0])\n",
        "print('Number of features : ', test_data.shape[1])\n",
        "print('-------------------------------------------------------------')\n",
        "print('Number of  event_type data points : ', event_type.shape[0])\n",
        "print('Number of features : ', event_type.shape[1])\n",
        "print('-------------------------------------------------------------')\n",
        "print('Number of log_feature data points : ', log_feature.shape[0])\n",
        "print('Number of features : ', log_feature.shape[1])\n",
        "print('-------------------------------------------------------------')\n",
        "print('Number of resource_type data points : ', resource_type.shape[0])\n",
        "print('Number of features : ', resource_type.shape[1])\n",
        "print('-------------------------------------------------------------')\n",
        "print('Number of severity_type data points : ', severity_type.shape[0])\n",
        "print('Number of features : ', severity_type.shape[1])"
      ],
      "execution_count": null,
      "outputs": [
        {
          "output_type": "stream",
          "name": "stdout",
          "text": [
            "Number of train data points :  7381\n",
            "Number of features :  3\n",
            "-------------------------------------------------------------\n",
            "Number of test data points :  11171\n",
            "Number of features :  2\n",
            "-------------------------------------------------------------\n",
            "Number of  event_type data points :  31170\n",
            "Number of features :  2\n",
            "-------------------------------------------------------------\n",
            "Number of log_feature data points :  58671\n",
            "Number of features :  3\n",
            "-------------------------------------------------------------\n",
            "Number of resource_type data points :  21076\n",
            "Number of features :  2\n",
            "-------------------------------------------------------------\n",
            "Number of severity_type data points :  18552\n",
            "Number of features :  2\n"
          ]
        }
      ]
    },
    {
      "cell_type": "code",
      "metadata": {
        "colab": {
          "base_uri": "https://localhost:8080/",
          "height": 206
        },
        "id": "iy1qd3hFIiX0",
        "outputId": "e04b8bfe-1ac1-4820-b633-155e23f02cbc"
      },
      "source": [
        "train_data.head()"
      ],
      "execution_count": null,
      "outputs": [
        {
          "output_type": "execute_result",
          "data": {
            "text/html": [
              "<div>\n",
              "<style scoped>\n",
              "    .dataframe tbody tr th:only-of-type {\n",
              "        vertical-align: middle;\n",
              "    }\n",
              "\n",
              "    .dataframe tbody tr th {\n",
              "        vertical-align: top;\n",
              "    }\n",
              "\n",
              "    .dataframe thead th {\n",
              "        text-align: right;\n",
              "    }\n",
              "</style>\n",
              "<table border=\"1\" class=\"dataframe\">\n",
              "  <thead>\n",
              "    <tr style=\"text-align: right;\">\n",
              "      <th></th>\n",
              "      <th>id</th>\n",
              "      <th>location</th>\n",
              "      <th>fault_severity</th>\n",
              "    </tr>\n",
              "  </thead>\n",
              "  <tbody>\n",
              "    <tr>\n",
              "      <th>0</th>\n",
              "      <td>14121</td>\n",
              "      <td>location 118</td>\n",
              "      <td>1</td>\n",
              "    </tr>\n",
              "    <tr>\n",
              "      <th>1</th>\n",
              "      <td>9320</td>\n",
              "      <td>location 91</td>\n",
              "      <td>0</td>\n",
              "    </tr>\n",
              "    <tr>\n",
              "      <th>2</th>\n",
              "      <td>14394</td>\n",
              "      <td>location 152</td>\n",
              "      <td>1</td>\n",
              "    </tr>\n",
              "    <tr>\n",
              "      <th>3</th>\n",
              "      <td>8218</td>\n",
              "      <td>location 931</td>\n",
              "      <td>1</td>\n",
              "    </tr>\n",
              "    <tr>\n",
              "      <th>4</th>\n",
              "      <td>14804</td>\n",
              "      <td>location 120</td>\n",
              "      <td>0</td>\n",
              "    </tr>\n",
              "  </tbody>\n",
              "</table>\n",
              "</div>"
            ],
            "text/plain": [
              "      id      location  fault_severity\n",
              "0  14121  location 118               1\n",
              "1   9320   location 91               0\n",
              "2  14394  location 152               1\n",
              "3   8218  location 931               1\n",
              "4  14804  location 120               0"
            ]
          },
          "metadata": {},
          "execution_count": 9
        }
      ]
    },
    {
      "cell_type": "code",
      "metadata": {
        "colab": {
          "base_uri": "https://localhost:8080/",
          "height": 143
        },
        "id": "l2oWtX_mIiZz",
        "outputId": "f765337b-4a1d-4270-8c4a-947a56db7cee"
      },
      "source": [
        "log_feature.head(3)"
      ],
      "execution_count": null,
      "outputs": [
        {
          "output_type": "execute_result",
          "data": {
            "text/html": [
              "<div>\n",
              "<style scoped>\n",
              "    .dataframe tbody tr th:only-of-type {\n",
              "        vertical-align: middle;\n",
              "    }\n",
              "\n",
              "    .dataframe tbody tr th {\n",
              "        vertical-align: top;\n",
              "    }\n",
              "\n",
              "    .dataframe thead th {\n",
              "        text-align: right;\n",
              "    }\n",
              "</style>\n",
              "<table border=\"1\" class=\"dataframe\">\n",
              "  <thead>\n",
              "    <tr style=\"text-align: right;\">\n",
              "      <th></th>\n",
              "      <th>id</th>\n",
              "      <th>log_feature</th>\n",
              "      <th>volume</th>\n",
              "    </tr>\n",
              "  </thead>\n",
              "  <tbody>\n",
              "    <tr>\n",
              "      <th>0</th>\n",
              "      <td>6597</td>\n",
              "      <td>feature 68</td>\n",
              "      <td>6</td>\n",
              "    </tr>\n",
              "    <tr>\n",
              "      <th>1</th>\n",
              "      <td>8011</td>\n",
              "      <td>feature 68</td>\n",
              "      <td>7</td>\n",
              "    </tr>\n",
              "    <tr>\n",
              "      <th>2</th>\n",
              "      <td>2597</td>\n",
              "      <td>feature 68</td>\n",
              "      <td>1</td>\n",
              "    </tr>\n",
              "  </tbody>\n",
              "</table>\n",
              "</div>"
            ],
            "text/plain": [
              "     id log_feature  volume\n",
              "0  6597  feature 68       6\n",
              "1  8011  feature 68       7\n",
              "2  2597  feature 68       1"
            ]
          },
          "metadata": {},
          "execution_count": 10
        }
      ]
    },
    {
      "cell_type": "code",
      "metadata": {
        "colab": {
          "base_uri": "https://localhost:8080/",
          "height": 143
        },
        "id": "jE4xiJ9gIibt",
        "outputId": "cb04bca8-f90f-4ab0-8240-1249e13873b7"
      },
      "source": [
        "event_type.head(3)"
      ],
      "execution_count": null,
      "outputs": [
        {
          "output_type": "execute_result",
          "data": {
            "text/html": [
              "<div>\n",
              "<style scoped>\n",
              "    .dataframe tbody tr th:only-of-type {\n",
              "        vertical-align: middle;\n",
              "    }\n",
              "\n",
              "    .dataframe tbody tr th {\n",
              "        vertical-align: top;\n",
              "    }\n",
              "\n",
              "    .dataframe thead th {\n",
              "        text-align: right;\n",
              "    }\n",
              "</style>\n",
              "<table border=\"1\" class=\"dataframe\">\n",
              "  <thead>\n",
              "    <tr style=\"text-align: right;\">\n",
              "      <th></th>\n",
              "      <th>id</th>\n",
              "      <th>event_type</th>\n",
              "    </tr>\n",
              "  </thead>\n",
              "  <tbody>\n",
              "    <tr>\n",
              "      <th>0</th>\n",
              "      <td>6597</td>\n",
              "      <td>event_type 11</td>\n",
              "    </tr>\n",
              "    <tr>\n",
              "      <th>1</th>\n",
              "      <td>8011</td>\n",
              "      <td>event_type 15</td>\n",
              "    </tr>\n",
              "    <tr>\n",
              "      <th>2</th>\n",
              "      <td>2597</td>\n",
              "      <td>event_type 15</td>\n",
              "    </tr>\n",
              "  </tbody>\n",
              "</table>\n",
              "</div>"
            ],
            "text/plain": [
              "     id     event_type\n",
              "0  6597  event_type 11\n",
              "1  8011  event_type 15\n",
              "2  2597  event_type 15"
            ]
          },
          "metadata": {},
          "execution_count": 12
        }
      ]
    },
    {
      "cell_type": "code",
      "metadata": {
        "colab": {
          "base_uri": "https://localhost:8080/",
          "height": 143
        },
        "id": "esrJN079i2iw",
        "outputId": "b4aac573-f5dd-4b83-d590-9ea77ca2443e"
      },
      "source": [
        "resource_type.head(3)"
      ],
      "execution_count": null,
      "outputs": [
        {
          "output_type": "execute_result",
          "data": {
            "text/html": [
              "<div>\n",
              "<style scoped>\n",
              "    .dataframe tbody tr th:only-of-type {\n",
              "        vertical-align: middle;\n",
              "    }\n",
              "\n",
              "    .dataframe tbody tr th {\n",
              "        vertical-align: top;\n",
              "    }\n",
              "\n",
              "    .dataframe thead th {\n",
              "        text-align: right;\n",
              "    }\n",
              "</style>\n",
              "<table border=\"1\" class=\"dataframe\">\n",
              "  <thead>\n",
              "    <tr style=\"text-align: right;\">\n",
              "      <th></th>\n",
              "      <th>id</th>\n",
              "      <th>resource_type</th>\n",
              "    </tr>\n",
              "  </thead>\n",
              "  <tbody>\n",
              "    <tr>\n",
              "      <th>0</th>\n",
              "      <td>6597</td>\n",
              "      <td>resource_type 8</td>\n",
              "    </tr>\n",
              "    <tr>\n",
              "      <th>1</th>\n",
              "      <td>8011</td>\n",
              "      <td>resource_type 8</td>\n",
              "    </tr>\n",
              "    <tr>\n",
              "      <th>2</th>\n",
              "      <td>2597</td>\n",
              "      <td>resource_type 8</td>\n",
              "    </tr>\n",
              "  </tbody>\n",
              "</table>\n",
              "</div>"
            ],
            "text/plain": [
              "     id    resource_type\n",
              "0  6597  resource_type 8\n",
              "1  8011  resource_type 8\n",
              "2  2597  resource_type 8"
            ]
          },
          "metadata": {},
          "execution_count": 11
        }
      ]
    },
    {
      "cell_type": "code",
      "metadata": {
        "colab": {
          "base_uri": "https://localhost:8080/",
          "height": 143
        },
        "id": "8Z3tagzoi7_f",
        "outputId": "43ed6e8a-a261-4e61-b267-4b423658cf9a"
      },
      "source": [
        "severity_type.head(3)"
      ],
      "execution_count": null,
      "outputs": [
        {
          "output_type": "execute_result",
          "data": {
            "text/html": [
              "<div>\n",
              "<style scoped>\n",
              "    .dataframe tbody tr th:only-of-type {\n",
              "        vertical-align: middle;\n",
              "    }\n",
              "\n",
              "    .dataframe tbody tr th {\n",
              "        vertical-align: top;\n",
              "    }\n",
              "\n",
              "    .dataframe thead th {\n",
              "        text-align: right;\n",
              "    }\n",
              "</style>\n",
              "<table border=\"1\" class=\"dataframe\">\n",
              "  <thead>\n",
              "    <tr style=\"text-align: right;\">\n",
              "      <th></th>\n",
              "      <th>id</th>\n",
              "      <th>severity_type</th>\n",
              "    </tr>\n",
              "  </thead>\n",
              "  <tbody>\n",
              "    <tr>\n",
              "      <th>0</th>\n",
              "      <td>6597</td>\n",
              "      <td>severity_type 2</td>\n",
              "    </tr>\n",
              "    <tr>\n",
              "      <th>1</th>\n",
              "      <td>8011</td>\n",
              "      <td>severity_type 2</td>\n",
              "    </tr>\n",
              "    <tr>\n",
              "      <th>2</th>\n",
              "      <td>2597</td>\n",
              "      <td>severity_type 2</td>\n",
              "    </tr>\n",
              "  </tbody>\n",
              "</table>\n",
              "</div>"
            ],
            "text/plain": [
              "     id    severity_type\n",
              "0  6597  severity_type 2\n",
              "1  8011  severity_type 2\n",
              "2  2597  severity_type 2"
            ]
          },
          "metadata": {},
          "execution_count": 13
        }
      ]
    }
  ]
}