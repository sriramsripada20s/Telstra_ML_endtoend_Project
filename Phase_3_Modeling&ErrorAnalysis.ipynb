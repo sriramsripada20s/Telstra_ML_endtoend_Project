{
 "cells": [
  {
   "cell_type": "code",
   "execution_count": 1,
   "metadata": {
    "colab": {
     "base_uri": "https://localhost:8080/",
     "height": 17
    },
    "id": "vGFFD3r-uNS-",
    "outputId": "3edf56b7-7ce2-43fe-8b64-9ec0c40a6a7e"
   },
   "outputs": [
    {
     "data": {
      "text/html": [
       "<style>.container { width:60% !important; }</style>"
      ],
      "text/plain": [
       "<IPython.core.display.HTML object>"
      ]
     },
     "metadata": {},
     "output_type": "display_data"
    }
   ],
   "source": [
    "import pandas as pd\n",
    "import numpy as np\n",
    "\n",
    "from sklearn.preprocessing import LabelEncoder\n",
    "from sklearn.naive_bayes import GaussianNB\n",
    "from sklearn import svm\n",
    "import seaborn as sns\n",
    "import matplotlib.pyplot as plt\n",
    "import plotly.express as px\n",
    "import plotly.graph_objs as go\n",
    "import warnings\n",
    "warnings.filterwarnings('ignore')\n",
    "import csv\n",
    "from sklearn.model_selection import cross_val_score\n",
    "from sklearn.naive_bayes import GaussianNB\n",
    "from sklearn.ensemble import RandomForestClassifier\n",
    "from sklearn.neighbors import KNeighborsClassifier\n",
    "from sklearn import svm\n",
    "from sklearn.linear_model import LogisticRegression\n",
    "from xgboost import XGBClassifier\n",
    "import lightgbm as lgb\n",
    "from sklearn.svm import SVC\n",
    "from sklearn.model_selection import GridSearchCV\n",
    "from sklearn.metrics import log_loss, make_scorer, classification_report, confusion_matrix\n",
    "from sklearn.model_selection import train_test_split\n",
    "from sklearn.preprocessing import StandardScaler\n",
    "from sklearn.preprocessing import RobustScaler\n",
    "from sklearn.preprocessing import MinMaxScaler\n",
    "from sklearn.multiclass import OneVsRestClassifier\n",
    "\n",
    "from IPython.core.display import display, HTML\n",
    "display(HTML(\"<style>.container { width:60% !important; }</style>\"))"
   ]
  },
  {
   "cell_type": "code",
   "execution_count": 2,
   "metadata": {
    "colab": {
     "base_uri": "https://localhost:8080/"
    },
    "id": "MlTjp__8uQhS",
    "outputId": "fa7df50e-c102-451d-8712-867dd82cb662"
   },
   "outputs": [
    {
     "name": "stdout",
     "output_type": "stream",
     "text": [
      "Drive already mounted at /content/drive; to attempt to forcibly remount, call drive.mount(\"/content/drive\", force_remount=True).\n"
     ]
    }
   ],
   "source": [
    "from google.colab import drive\n",
    "drive.mount('/content/drive')"
   ]
  },
  {
   "cell_type": "code",
   "execution_count": 3,
   "metadata": {
    "colab": {
     "base_uri": "https://localhost:8080/"
    },
    "id": "CFg8bWs1uQip",
    "outputId": "ac8be806-ecbb-4dc3-90be-521e1541e70a"
   },
   "outputs": [
    {
     "name": "stdout",
     "output_type": "stream",
     "text": [
      "/content/drive/MyDrive/assignment1_colab/Telstra Case Study\n"
     ]
    }
   ],
   "source": [
    "%cd /content/drive/MyDrive/assignment1_colab/Telstra Case Study"
   ]
  },
  {
   "cell_type": "code",
   "execution_count": 4,
   "metadata": {
    "id": "B903J4RhuQk0"
   },
   "outputs": [],
   "source": [
    "train_data = pd.read_csv('train.csv',index_col='id')\n",
    "test_data = pd.read_csv('test.csv',index_col='id')\n",
    "event_type = pd.read_csv('event_type.csv')\n",
    "log_feature = pd.read_csv('log_feature.csv')\n",
    "resource_type = pd.read_csv('resource_type.csv')\n",
    "severity_type = pd.read_csv('severity_type.csv')"
   ]
  },
  {
   "cell_type": "code",
   "execution_count": 5,
   "metadata": {
    "id": "B0bIHf9PuQm6"
   },
   "outputs": [],
   "source": [
    "train_data_copy = train_data.copy()\n",
    "test_data_copy = test_data.copy()\n",
    "event_type_copy = event_type.copy()\n",
    "log_feature_copy = log_feature.copy()\n",
    "resource_type_copy = resource_type.copy()\n",
    "severity_type_copy = severity_type.copy()"
   ]
  },
  {
   "cell_type": "markdown",
   "metadata": {
    "id": "xmoRKNksdYRK"
   },
   "source": []
  },
  {
   "cell_type": "code",
   "execution_count": 6,
   "metadata": {
    "id": "Eic375CduREX"
   },
   "outputs": [],
   "source": [
    "train_data = train_data.reset_index()\n",
    "test_data = test_data.reset_index()"
   ]
  },
  {
   "cell_type": "code",
   "execution_count": 7,
   "metadata": {
    "colab": {
     "base_uri": "https://localhost:8080/"
    },
    "id": "unTcNtxL2cFn",
    "outputId": "71323ded-36c7-48ce-d6bb-d78e674236f0"
   },
   "outputs": [
    {
     "name": "stdout",
     "output_type": "stream",
     "text": [
      "train (7381, 4) test (11171, 3)\n"
     ]
    }
   ],
   "source": [
    "# append train & test\n",
    "# ---------------------------------------------------------------------------------\n",
    "train_data['location_id'] = train_data.location.apply(lambda x: int(x.split('location ')[1]))\n",
    "test_data['location_id'] = test_data.location.apply(lambda x: int(x.split('location ')[1]))\n",
    "\n",
    "print('train', train_data.shape, 'test', test_data.shape)"
   ]
  },
  {
   "cell_type": "markdown",
   "metadata": {
    "id": "K4dalLxpfa3a"
   },
   "source": [
    "**Approach-1 (BaseLine Model - OneHotEncoded + StdScaler())**"
   ]
  },
  {
   "cell_type": "code",
   "execution_count": 8,
   "metadata": {
    "id": "I9j-XsUcuRG-"
   },
   "outputs": [],
   "source": [
    "event_type['event_type'] = event_type['event_type'].map(lambda x: int(x.split(' ')[1]))\n",
    "event_type = pd.get_dummies(event_type, columns=['event_type'],dtype=np.int64) # get dummy variables for event type\n",
    "event_type = event_type.groupby(event_type.id,as_index=False).sum() # compact the rows with the same id"
   ]
  },
  {
   "cell_type": "code",
   "execution_count": 9,
   "metadata": {
    "id": "twXPjPS9uRIy"
   },
   "outputs": [],
   "source": [
    "# 2.1. Left join training/test set <-> event_type set\n",
    "X = pd.merge(left=train_data, right=event_type, how='left', left_on='id', right_on='id')\n",
    "Y = pd.merge(left=test_data, right=event_type, how='left', left_on='id', right_on='id')"
   ]
  },
  {
   "cell_type": "code",
   "execution_count": 10,
   "metadata": {
    "id": "LtxQygCiuRLe"
   },
   "outputs": [],
   "source": [
    "resource_type['resource_type'] = resource_type['resource_type'].map(lambda x: int(x.split(' ')[1]))\n",
    "resource_type = pd.get_dummies(resource_type, columns=['resource_type'],dtype=np.int64)\n",
    "resource_type = resource_type.groupby(resource_type.id,as_index=False).sum()"
   ]
  },
  {
   "cell_type": "code",
   "execution_count": 11,
   "metadata": {
    "id": "7B8sbdFDuRN0"
   },
   "outputs": [],
   "source": [
    "# 2.1. Left join training/test set <-> event_type set\n",
    "X = pd.merge(left=X, right=resource_type, how='left', left_on='id', right_on='id')\n",
    "Y = pd.merge(left=Y, right=resource_type, how='left', left_on='id', right_on='id')"
   ]
  },
  {
   "cell_type": "code",
   "execution_count": 12,
   "metadata": {
    "colab": {
     "base_uri": "https://localhost:8080/"
    },
    "id": "svrYK4mKuRQS",
    "outputId": "ee48a7e5-1708-437b-e0bf-ebe04581fd30"
   },
   "outputs": [
    {
     "name": "stdout",
     "output_type": "stream",
     "text": [
      "(7381, 67) (11171, 66)\n"
     ]
    }
   ],
   "source": [
    "print(X.shape,Y.shape)"
   ]
  },
  {
   "cell_type": "code",
   "execution_count": 13,
   "metadata": {
    "id": "d2-FWBn2g_qP"
   },
   "outputs": [],
   "source": [
    "severity_type['severity_type'] = severity_type['severity_type'].map(lambda x: int(x.split(' ')[1]))\n",
    "severity_type = pd.get_dummies(severity_type, columns=['severity_type'],dtype=np.int64)\n",
    "severity_type = severity_type.groupby(severity_type.id,as_index=False).sum()"
   ]
  },
  {
   "cell_type": "code",
   "execution_count": 14,
   "metadata": {
    "id": "41eaRa54g_u5"
   },
   "outputs": [],
   "source": [
    "# 2.1. Left join training/test set <-> event_type set\n",
    "X = pd.merge(left=X, right=severity_type, how='left', left_on='id', right_on='id')\n",
    "Y = pd.merge(left=Y, right=severity_type, how='left', left_on='id', right_on='id')"
   ]
  },
  {
   "cell_type": "code",
   "execution_count": 15,
   "metadata": {
    "colab": {
     "base_uri": "https://localhost:8080/"
    },
    "id": "cVcStxChg_xX",
    "outputId": "830b3a7a-87ea-4ae8-82b4-68c120d1a4ba"
   },
   "outputs": [
    {
     "name": "stdout",
     "output_type": "stream",
     "text": [
      "(7381, 72) (11171, 71)\n"
     ]
    }
   ],
   "source": [
    "print(X.shape,Y.shape)"
   ]
  },
  {
   "cell_type": "code",
   "execution_count": 16,
   "metadata": {
    "id": "MrNxzz-Tg_z6"
   },
   "outputs": [],
   "source": [
    "log_feature['log_feature'] = log_feature['log_feature'].map(lambda x: int(x.split(' ')[1]))\n",
    "log_feature = pd.get_dummies(log_feature, columns=['log_feature'],dtype=np.int64)\n",
    "log_feature = log_feature.groupby(log_feature.id,as_index=False).sum()"
   ]
  },
  {
   "cell_type": "code",
   "execution_count": 17,
   "metadata": {
    "id": "nKoij1iDg_31"
   },
   "outputs": [],
   "source": [
    "# 2.1. Left join training/test set <-> event_type set\n",
    "X = pd.merge(left=X, right=log_feature, how='left', left_on='id', right_on='id')\n",
    "Y = pd.merge(left=Y, right=log_feature, how='left', left_on='id', right_on='id')"
   ]
  },
  {
   "cell_type": "code",
   "execution_count": 18,
   "metadata": {
    "colab": {
     "base_uri": "https://localhost:8080/"
    },
    "id": "JUZSC4HwuRSz",
    "outputId": "bf6c29d7-29dc-45d3-a85d-aa159f31d083"
   },
   "outputs": [
    {
     "name": "stdout",
     "output_type": "stream",
     "text": [
      "(7381, 459) (11171, 458)\n"
     ]
    }
   ],
   "source": [
    "print(X.shape,Y.shape)"
   ]
  },
  {
   "cell_type": "code",
   "execution_count": 19,
   "metadata": {
    "colab": {
     "base_uri": "https://localhost:8080/",
     "height": 240
    },
    "id": "SNSQim0K2luC",
    "outputId": "984361ce-4275-48d6-b784-6f30e912ae35"
   },
   "outputs": [
    {
     "data": {
      "text/html": [
       "\n",
       "  <div id=\"df-a6c10436-7445-41a5-95bc-d3ec4ad9541a\">\n",
       "    <div class=\"colab-df-container\">\n",
       "      <div>\n",
       "<style scoped>\n",
       "    .dataframe tbody tr th:only-of-type {\n",
       "        vertical-align: middle;\n",
       "    }\n",
       "\n",
       "    .dataframe tbody tr th {\n",
       "        vertical-align: top;\n",
       "    }\n",
       "\n",
       "    .dataframe thead th {\n",
       "        text-align: right;\n",
       "    }\n",
       "</style>\n",
       "<table border=\"1\" class=\"dataframe\">\n",
       "  <thead>\n",
       "    <tr style=\"text-align: right;\">\n",
       "      <th></th>\n",
       "      <th>id</th>\n",
       "      <th>location</th>\n",
       "      <th>fault_severity</th>\n",
       "      <th>location_id</th>\n",
       "      <th>event_type_1</th>\n",
       "      <th>event_type_2</th>\n",
       "      <th>event_type_3</th>\n",
       "      <th>event_type_4</th>\n",
       "      <th>event_type_5</th>\n",
       "      <th>event_type_6</th>\n",
       "      <th>event_type_7</th>\n",
       "      <th>event_type_8</th>\n",
       "      <th>event_type_9</th>\n",
       "      <th>event_type_10</th>\n",
       "      <th>event_type_11</th>\n",
       "      <th>event_type_12</th>\n",
       "      <th>event_type_13</th>\n",
       "      <th>event_type_14</th>\n",
       "      <th>event_type_15</th>\n",
       "      <th>event_type_17</th>\n",
       "      <th>event_type_18</th>\n",
       "      <th>event_type_19</th>\n",
       "      <th>event_type_20</th>\n",
       "      <th>event_type_21</th>\n",
       "      <th>event_type_22</th>\n",
       "      <th>event_type_23</th>\n",
       "      <th>event_type_24</th>\n",
       "      <th>event_type_25</th>\n",
       "      <th>event_type_26</th>\n",
       "      <th>event_type_27</th>\n",
       "      <th>event_type_28</th>\n",
       "      <th>event_type_29</th>\n",
       "      <th>event_type_30</th>\n",
       "      <th>event_type_31</th>\n",
       "      <th>event_type_32</th>\n",
       "      <th>event_type_33</th>\n",
       "      <th>event_type_34</th>\n",
       "      <th>event_type_35</th>\n",
       "      <th>event_type_36</th>\n",
       "      <th>event_type_37</th>\n",
       "      <th>...</th>\n",
       "      <th>log_feature_347</th>\n",
       "      <th>log_feature_348</th>\n",
       "      <th>log_feature_349</th>\n",
       "      <th>log_feature_350</th>\n",
       "      <th>log_feature_351</th>\n",
       "      <th>log_feature_352</th>\n",
       "      <th>log_feature_353</th>\n",
       "      <th>log_feature_354</th>\n",
       "      <th>log_feature_355</th>\n",
       "      <th>log_feature_356</th>\n",
       "      <th>log_feature_357</th>\n",
       "      <th>log_feature_358</th>\n",
       "      <th>log_feature_359</th>\n",
       "      <th>log_feature_360</th>\n",
       "      <th>log_feature_361</th>\n",
       "      <th>log_feature_362</th>\n",
       "      <th>log_feature_363</th>\n",
       "      <th>log_feature_364</th>\n",
       "      <th>log_feature_365</th>\n",
       "      <th>log_feature_366</th>\n",
       "      <th>log_feature_367</th>\n",
       "      <th>log_feature_368</th>\n",
       "      <th>log_feature_369</th>\n",
       "      <th>log_feature_370</th>\n",
       "      <th>log_feature_371</th>\n",
       "      <th>log_feature_372</th>\n",
       "      <th>log_feature_373</th>\n",
       "      <th>log_feature_374</th>\n",
       "      <th>log_feature_375</th>\n",
       "      <th>log_feature_376</th>\n",
       "      <th>log_feature_377</th>\n",
       "      <th>log_feature_378</th>\n",
       "      <th>log_feature_379</th>\n",
       "      <th>log_feature_380</th>\n",
       "      <th>log_feature_381</th>\n",
       "      <th>log_feature_382</th>\n",
       "      <th>log_feature_383</th>\n",
       "      <th>log_feature_384</th>\n",
       "      <th>log_feature_385</th>\n",
       "      <th>log_feature_386</th>\n",
       "    </tr>\n",
       "  </thead>\n",
       "  <tbody>\n",
       "    <tr>\n",
       "      <th>0</th>\n",
       "      <td>14121</td>\n",
       "      <td>location 118</td>\n",
       "      <td>1</td>\n",
       "      <td>118</td>\n",
       "      <td>0</td>\n",
       "      <td>0</td>\n",
       "      <td>0</td>\n",
       "      <td>0</td>\n",
       "      <td>0</td>\n",
       "      <td>0</td>\n",
       "      <td>0</td>\n",
       "      <td>0</td>\n",
       "      <td>0</td>\n",
       "      <td>0</td>\n",
       "      <td>0</td>\n",
       "      <td>0</td>\n",
       "      <td>0</td>\n",
       "      <td>0</td>\n",
       "      <td>0</td>\n",
       "      <td>0</td>\n",
       "      <td>0</td>\n",
       "      <td>0</td>\n",
       "      <td>0</td>\n",
       "      <td>0</td>\n",
       "      <td>0</td>\n",
       "      <td>0</td>\n",
       "      <td>0</td>\n",
       "      <td>0</td>\n",
       "      <td>0</td>\n",
       "      <td>0</td>\n",
       "      <td>0</td>\n",
       "      <td>0</td>\n",
       "      <td>0</td>\n",
       "      <td>0</td>\n",
       "      <td>0</td>\n",
       "      <td>0</td>\n",
       "      <td>1</td>\n",
       "      <td>1</td>\n",
       "      <td>0</td>\n",
       "      <td>0</td>\n",
       "      <td>...</td>\n",
       "      <td>0</td>\n",
       "      <td>0</td>\n",
       "      <td>0</td>\n",
       "      <td>0</td>\n",
       "      <td>0</td>\n",
       "      <td>0</td>\n",
       "      <td>0</td>\n",
       "      <td>0</td>\n",
       "      <td>0</td>\n",
       "      <td>0</td>\n",
       "      <td>0</td>\n",
       "      <td>0</td>\n",
       "      <td>0</td>\n",
       "      <td>0</td>\n",
       "      <td>0</td>\n",
       "      <td>0</td>\n",
       "      <td>0</td>\n",
       "      <td>0</td>\n",
       "      <td>0</td>\n",
       "      <td>0</td>\n",
       "      <td>0</td>\n",
       "      <td>0</td>\n",
       "      <td>0</td>\n",
       "      <td>0</td>\n",
       "      <td>0</td>\n",
       "      <td>0</td>\n",
       "      <td>0</td>\n",
       "      <td>0</td>\n",
       "      <td>0</td>\n",
       "      <td>0</td>\n",
       "      <td>0</td>\n",
       "      <td>0</td>\n",
       "      <td>0</td>\n",
       "      <td>0</td>\n",
       "      <td>0</td>\n",
       "      <td>0</td>\n",
       "      <td>0</td>\n",
       "      <td>0</td>\n",
       "      <td>0</td>\n",
       "      <td>0</td>\n",
       "    </tr>\n",
       "    <tr>\n",
       "      <th>1</th>\n",
       "      <td>9320</td>\n",
       "      <td>location 91</td>\n",
       "      <td>0</td>\n",
       "      <td>91</td>\n",
       "      <td>0</td>\n",
       "      <td>0</td>\n",
       "      <td>0</td>\n",
       "      <td>0</td>\n",
       "      <td>0</td>\n",
       "      <td>0</td>\n",
       "      <td>0</td>\n",
       "      <td>0</td>\n",
       "      <td>0</td>\n",
       "      <td>0</td>\n",
       "      <td>0</td>\n",
       "      <td>0</td>\n",
       "      <td>0</td>\n",
       "      <td>0</td>\n",
       "      <td>0</td>\n",
       "      <td>0</td>\n",
       "      <td>0</td>\n",
       "      <td>0</td>\n",
       "      <td>0</td>\n",
       "      <td>0</td>\n",
       "      <td>0</td>\n",
       "      <td>0</td>\n",
       "      <td>0</td>\n",
       "      <td>0</td>\n",
       "      <td>0</td>\n",
       "      <td>0</td>\n",
       "      <td>0</td>\n",
       "      <td>0</td>\n",
       "      <td>0</td>\n",
       "      <td>0</td>\n",
       "      <td>0</td>\n",
       "      <td>0</td>\n",
       "      <td>1</td>\n",
       "      <td>1</td>\n",
       "      <td>0</td>\n",
       "      <td>0</td>\n",
       "      <td>...</td>\n",
       "      <td>0</td>\n",
       "      <td>0</td>\n",
       "      <td>0</td>\n",
       "      <td>0</td>\n",
       "      <td>0</td>\n",
       "      <td>0</td>\n",
       "      <td>0</td>\n",
       "      <td>0</td>\n",
       "      <td>0</td>\n",
       "      <td>0</td>\n",
       "      <td>0</td>\n",
       "      <td>0</td>\n",
       "      <td>0</td>\n",
       "      <td>0</td>\n",
       "      <td>0</td>\n",
       "      <td>0</td>\n",
       "      <td>0</td>\n",
       "      <td>0</td>\n",
       "      <td>0</td>\n",
       "      <td>0</td>\n",
       "      <td>0</td>\n",
       "      <td>0</td>\n",
       "      <td>0</td>\n",
       "      <td>0</td>\n",
       "      <td>0</td>\n",
       "      <td>0</td>\n",
       "      <td>0</td>\n",
       "      <td>0</td>\n",
       "      <td>0</td>\n",
       "      <td>0</td>\n",
       "      <td>0</td>\n",
       "      <td>0</td>\n",
       "      <td>0</td>\n",
       "      <td>0</td>\n",
       "      <td>0</td>\n",
       "      <td>0</td>\n",
       "      <td>0</td>\n",
       "      <td>0</td>\n",
       "      <td>0</td>\n",
       "      <td>0</td>\n",
       "    </tr>\n",
       "  </tbody>\n",
       "</table>\n",
       "<p>2 rows × 459 columns</p>\n",
       "</div>\n",
       "      <button class=\"colab-df-convert\" onclick=\"convertToInteractive('df-a6c10436-7445-41a5-95bc-d3ec4ad9541a')\"\n",
       "              title=\"Convert this dataframe to an interactive table.\"\n",
       "              style=\"display:none;\">\n",
       "        \n",
       "  <svg xmlns=\"http://www.w3.org/2000/svg\" height=\"24px\"viewBox=\"0 0 24 24\"\n",
       "       width=\"24px\">\n",
       "    <path d=\"M0 0h24v24H0V0z\" fill=\"none\"/>\n",
       "    <path d=\"M18.56 5.44l.94 2.06.94-2.06 2.06-.94-2.06-.94-.94-2.06-.94 2.06-2.06.94zm-11 1L8.5 8.5l.94-2.06 2.06-.94-2.06-.94L8.5 2.5l-.94 2.06-2.06.94zm10 10l.94 2.06.94-2.06 2.06-.94-2.06-.94-.94-2.06-.94 2.06-2.06.94z\"/><path d=\"M17.41 7.96l-1.37-1.37c-.4-.4-.92-.59-1.43-.59-.52 0-1.04.2-1.43.59L10.3 9.45l-7.72 7.72c-.78.78-.78 2.05 0 2.83L4 21.41c.39.39.9.59 1.41.59.51 0 1.02-.2 1.41-.59l7.78-7.78 2.81-2.81c.8-.78.8-2.07 0-2.86zM5.41 20L4 18.59l7.72-7.72 1.47 1.35L5.41 20z\"/>\n",
       "  </svg>\n",
       "      </button>\n",
       "      \n",
       "  <style>\n",
       "    .colab-df-container {\n",
       "      display:flex;\n",
       "      flex-wrap:wrap;\n",
       "      gap: 12px;\n",
       "    }\n",
       "\n",
       "    .colab-df-convert {\n",
       "      background-color: #E8F0FE;\n",
       "      border: none;\n",
       "      border-radius: 50%;\n",
       "      cursor: pointer;\n",
       "      display: none;\n",
       "      fill: #1967D2;\n",
       "      height: 32px;\n",
       "      padding: 0 0 0 0;\n",
       "      width: 32px;\n",
       "    }\n",
       "\n",
       "    .colab-df-convert:hover {\n",
       "      background-color: #E2EBFA;\n",
       "      box-shadow: 0px 1px 2px rgba(60, 64, 67, 0.3), 0px 1px 3px 1px rgba(60, 64, 67, 0.15);\n",
       "      fill: #174EA6;\n",
       "    }\n",
       "\n",
       "    [theme=dark] .colab-df-convert {\n",
       "      background-color: #3B4455;\n",
       "      fill: #D2E3FC;\n",
       "    }\n",
       "\n",
       "    [theme=dark] .colab-df-convert:hover {\n",
       "      background-color: #434B5C;\n",
       "      box-shadow: 0px 1px 3px 1px rgba(0, 0, 0, 0.15);\n",
       "      filter: drop-shadow(0px 1px 2px rgba(0, 0, 0, 0.3));\n",
       "      fill: #FFFFFF;\n",
       "    }\n",
       "  </style>\n",
       "\n",
       "      <script>\n",
       "        const buttonEl =\n",
       "          document.querySelector('#df-a6c10436-7445-41a5-95bc-d3ec4ad9541a button.colab-df-convert');\n",
       "        buttonEl.style.display =\n",
       "          google.colab.kernel.accessAllowed ? 'block' : 'none';\n",
       "\n",
       "        async function convertToInteractive(key) {\n",
       "          const element = document.querySelector('#df-a6c10436-7445-41a5-95bc-d3ec4ad9541a');\n",
       "          const dataTable =\n",
       "            await google.colab.kernel.invokeFunction('convertToInteractive',\n",
       "                                                     [key], {});\n",
       "          if (!dataTable) return;\n",
       "\n",
       "          const docLinkHtml = 'Like what you see? Visit the ' +\n",
       "            '<a target=\"_blank\" href=https://colab.research.google.com/notebooks/data_table.ipynb>data table notebook</a>'\n",
       "            + ' to learn more about interactive tables.';\n",
       "          element.innerHTML = '';\n",
       "          dataTable['output_type'] = 'display_data';\n",
       "          await google.colab.output.renderOutput(dataTable, element);\n",
       "          const docLink = document.createElement('div');\n",
       "          docLink.innerHTML = docLinkHtml;\n",
       "          element.appendChild(docLink);\n",
       "        }\n",
       "      </script>\n",
       "    </div>\n",
       "  </div>\n",
       "  "
      ],
      "text/plain": [
       "      id      location  ...  log_feature_385  log_feature_386\n",
       "0  14121  location 118  ...                0                0\n",
       "1   9320   location 91  ...                0                0\n",
       "\n",
       "[2 rows x 459 columns]"
      ]
     },
     "execution_count": 19,
     "metadata": {},
     "output_type": "execute_result"
    }
   ],
   "source": [
    "X.head(2)"
   ]
  },
  {
   "cell_type": "code",
   "execution_count": 20,
   "metadata": {
    "id": "pnXjkl9u24Dx"
   },
   "outputs": [],
   "source": [
    "X = X.drop('location',axis=1)\n",
    "Y = Y.drop('location',axis=1)"
   ]
  },
  {
   "cell_type": "code",
   "execution_count": 21,
   "metadata": {
    "id": "hDP1TVM7hYC5"
   },
   "outputs": [],
   "source": [
    "X_df = X.copy()\n",
    "Y_df = Y.copy()"
   ]
  },
  {
   "cell_type": "code",
   "execution_count": 22,
   "metadata": {
    "colab": {
     "base_uri": "https://localhost:8080/"
    },
    "id": "bYiuTS_s2BtC",
    "outputId": "dba75e63-97bc-4599-db10-014eee46f84b"
   },
   "outputs": [
    {
     "data": {
      "text/plain": [
       "id                 int64\n",
       "fault_severity     int64\n",
       "location_id        int64\n",
       "event_type_1       int64\n",
       "event_type_2       int64\n",
       "                   ...  \n",
       "log_feature_382    int64\n",
       "log_feature_383    int64\n",
       "log_feature_384    int64\n",
       "log_feature_385    int64\n",
       "log_feature_386    int64\n",
       "Length: 458, dtype: object"
      ]
     },
     "execution_count": 22,
     "metadata": {},
     "output_type": "execute_result"
    }
   ],
   "source": [
    "X_df.dtypes"
   ]
  },
  {
   "cell_type": "code",
   "execution_count": 23,
   "metadata": {
    "id": "PRUrL4_nhYF0"
   },
   "outputs": [],
   "source": [
    "index = Y['id']\n",
    "Y['id'] = index"
   ]
  },
  {
   "cell_type": "code",
   "execution_count": 24,
   "metadata": {
    "id": "8ahFbpQLhYIg"
   },
   "outputs": [],
   "source": [
    "X = X.set_index('id')\n",
    "Y = Y.set_index('id')"
   ]
  },
  {
   "cell_type": "code",
   "execution_count": 25,
   "metadata": {
    "colab": {
     "base_uri": "https://localhost:8080/",
     "height": 237
    },
    "id": "HGmkvVQdhYKQ",
    "outputId": "ab175a65-8240-4298-9cbe-d8952820efa9"
   },
   "outputs": [
    {
     "data": {
      "text/html": [
       "\n",
       "  <div id=\"df-3e29640a-44aa-4d8d-bfd5-533e375f7386\">\n",
       "    <div class=\"colab-df-container\">\n",
       "      <div>\n",
       "<style scoped>\n",
       "    .dataframe tbody tr th:only-of-type {\n",
       "        vertical-align: middle;\n",
       "    }\n",
       "\n",
       "    .dataframe tbody tr th {\n",
       "        vertical-align: top;\n",
       "    }\n",
       "\n",
       "    .dataframe thead th {\n",
       "        text-align: right;\n",
       "    }\n",
       "</style>\n",
       "<table border=\"1\" class=\"dataframe\">\n",
       "  <thead>\n",
       "    <tr style=\"text-align: right;\">\n",
       "      <th></th>\n",
       "      <th>location_id</th>\n",
       "      <th>event_type_1</th>\n",
       "      <th>event_type_2</th>\n",
       "      <th>event_type_3</th>\n",
       "      <th>event_type_4</th>\n",
       "      <th>event_type_5</th>\n",
       "      <th>event_type_6</th>\n",
       "      <th>event_type_7</th>\n",
       "      <th>event_type_8</th>\n",
       "      <th>event_type_9</th>\n",
       "      <th>event_type_10</th>\n",
       "      <th>event_type_11</th>\n",
       "      <th>event_type_12</th>\n",
       "      <th>event_type_13</th>\n",
       "      <th>event_type_14</th>\n",
       "      <th>event_type_15</th>\n",
       "      <th>event_type_17</th>\n",
       "      <th>event_type_18</th>\n",
       "      <th>event_type_19</th>\n",
       "      <th>event_type_20</th>\n",
       "      <th>event_type_21</th>\n",
       "      <th>event_type_22</th>\n",
       "      <th>event_type_23</th>\n",
       "      <th>event_type_24</th>\n",
       "      <th>event_type_25</th>\n",
       "      <th>event_type_26</th>\n",
       "      <th>event_type_27</th>\n",
       "      <th>event_type_28</th>\n",
       "      <th>event_type_29</th>\n",
       "      <th>event_type_30</th>\n",
       "      <th>event_type_31</th>\n",
       "      <th>event_type_32</th>\n",
       "      <th>event_type_33</th>\n",
       "      <th>event_type_34</th>\n",
       "      <th>event_type_35</th>\n",
       "      <th>event_type_36</th>\n",
       "      <th>event_type_37</th>\n",
       "      <th>event_type_38</th>\n",
       "      <th>event_type_39</th>\n",
       "      <th>event_type_40</th>\n",
       "      <th>...</th>\n",
       "      <th>log_feature_347</th>\n",
       "      <th>log_feature_348</th>\n",
       "      <th>log_feature_349</th>\n",
       "      <th>log_feature_350</th>\n",
       "      <th>log_feature_351</th>\n",
       "      <th>log_feature_352</th>\n",
       "      <th>log_feature_353</th>\n",
       "      <th>log_feature_354</th>\n",
       "      <th>log_feature_355</th>\n",
       "      <th>log_feature_356</th>\n",
       "      <th>log_feature_357</th>\n",
       "      <th>log_feature_358</th>\n",
       "      <th>log_feature_359</th>\n",
       "      <th>log_feature_360</th>\n",
       "      <th>log_feature_361</th>\n",
       "      <th>log_feature_362</th>\n",
       "      <th>log_feature_363</th>\n",
       "      <th>log_feature_364</th>\n",
       "      <th>log_feature_365</th>\n",
       "      <th>log_feature_366</th>\n",
       "      <th>log_feature_367</th>\n",
       "      <th>log_feature_368</th>\n",
       "      <th>log_feature_369</th>\n",
       "      <th>log_feature_370</th>\n",
       "      <th>log_feature_371</th>\n",
       "      <th>log_feature_372</th>\n",
       "      <th>log_feature_373</th>\n",
       "      <th>log_feature_374</th>\n",
       "      <th>log_feature_375</th>\n",
       "      <th>log_feature_376</th>\n",
       "      <th>log_feature_377</th>\n",
       "      <th>log_feature_378</th>\n",
       "      <th>log_feature_379</th>\n",
       "      <th>log_feature_380</th>\n",
       "      <th>log_feature_381</th>\n",
       "      <th>log_feature_382</th>\n",
       "      <th>log_feature_383</th>\n",
       "      <th>log_feature_384</th>\n",
       "      <th>log_feature_385</th>\n",
       "      <th>log_feature_386</th>\n",
       "    </tr>\n",
       "    <tr>\n",
       "      <th>id</th>\n",
       "      <th></th>\n",
       "      <th></th>\n",
       "      <th></th>\n",
       "      <th></th>\n",
       "      <th></th>\n",
       "      <th></th>\n",
       "      <th></th>\n",
       "      <th></th>\n",
       "      <th></th>\n",
       "      <th></th>\n",
       "      <th></th>\n",
       "      <th></th>\n",
       "      <th></th>\n",
       "      <th></th>\n",
       "      <th></th>\n",
       "      <th></th>\n",
       "      <th></th>\n",
       "      <th></th>\n",
       "      <th></th>\n",
       "      <th></th>\n",
       "      <th></th>\n",
       "      <th></th>\n",
       "      <th></th>\n",
       "      <th></th>\n",
       "      <th></th>\n",
       "      <th></th>\n",
       "      <th></th>\n",
       "      <th></th>\n",
       "      <th></th>\n",
       "      <th></th>\n",
       "      <th></th>\n",
       "      <th></th>\n",
       "      <th></th>\n",
       "      <th></th>\n",
       "      <th></th>\n",
       "      <th></th>\n",
       "      <th></th>\n",
       "      <th></th>\n",
       "      <th></th>\n",
       "      <th></th>\n",
       "      <th></th>\n",
       "      <th></th>\n",
       "      <th></th>\n",
       "      <th></th>\n",
       "      <th></th>\n",
       "      <th></th>\n",
       "      <th></th>\n",
       "      <th></th>\n",
       "      <th></th>\n",
       "      <th></th>\n",
       "      <th></th>\n",
       "      <th></th>\n",
       "      <th></th>\n",
       "      <th></th>\n",
       "      <th></th>\n",
       "      <th></th>\n",
       "      <th></th>\n",
       "      <th></th>\n",
       "      <th></th>\n",
       "      <th></th>\n",
       "      <th></th>\n",
       "      <th></th>\n",
       "      <th></th>\n",
       "      <th></th>\n",
       "      <th></th>\n",
       "      <th></th>\n",
       "      <th></th>\n",
       "      <th></th>\n",
       "      <th></th>\n",
       "      <th></th>\n",
       "      <th></th>\n",
       "      <th></th>\n",
       "      <th></th>\n",
       "      <th></th>\n",
       "      <th></th>\n",
       "      <th></th>\n",
       "      <th></th>\n",
       "      <th></th>\n",
       "      <th></th>\n",
       "      <th></th>\n",
       "      <th></th>\n",
       "    </tr>\n",
       "  </thead>\n",
       "  <tbody>\n",
       "    <tr>\n",
       "      <th>14121</th>\n",
       "      <td>118</td>\n",
       "      <td>0</td>\n",
       "      <td>0</td>\n",
       "      <td>0</td>\n",
       "      <td>0</td>\n",
       "      <td>0</td>\n",
       "      <td>0</td>\n",
       "      <td>0</td>\n",
       "      <td>0</td>\n",
       "      <td>0</td>\n",
       "      <td>0</td>\n",
       "      <td>0</td>\n",
       "      <td>0</td>\n",
       "      <td>0</td>\n",
       "      <td>0</td>\n",
       "      <td>0</td>\n",
       "      <td>0</td>\n",
       "      <td>0</td>\n",
       "      <td>0</td>\n",
       "      <td>0</td>\n",
       "      <td>0</td>\n",
       "      <td>0</td>\n",
       "      <td>0</td>\n",
       "      <td>0</td>\n",
       "      <td>0</td>\n",
       "      <td>0</td>\n",
       "      <td>0</td>\n",
       "      <td>0</td>\n",
       "      <td>0</td>\n",
       "      <td>0</td>\n",
       "      <td>0</td>\n",
       "      <td>0</td>\n",
       "      <td>0</td>\n",
       "      <td>1</td>\n",
       "      <td>1</td>\n",
       "      <td>0</td>\n",
       "      <td>0</td>\n",
       "      <td>0</td>\n",
       "      <td>0</td>\n",
       "      <td>0</td>\n",
       "      <td>...</td>\n",
       "      <td>0</td>\n",
       "      <td>0</td>\n",
       "      <td>0</td>\n",
       "      <td>0</td>\n",
       "      <td>0</td>\n",
       "      <td>0</td>\n",
       "      <td>0</td>\n",
       "      <td>0</td>\n",
       "      <td>0</td>\n",
       "      <td>0</td>\n",
       "      <td>0</td>\n",
       "      <td>0</td>\n",
       "      <td>0</td>\n",
       "      <td>0</td>\n",
       "      <td>0</td>\n",
       "      <td>0</td>\n",
       "      <td>0</td>\n",
       "      <td>0</td>\n",
       "      <td>0</td>\n",
       "      <td>0</td>\n",
       "      <td>0</td>\n",
       "      <td>0</td>\n",
       "      <td>0</td>\n",
       "      <td>0</td>\n",
       "      <td>0</td>\n",
       "      <td>0</td>\n",
       "      <td>0</td>\n",
       "      <td>0</td>\n",
       "      <td>0</td>\n",
       "      <td>0</td>\n",
       "      <td>0</td>\n",
       "      <td>0</td>\n",
       "      <td>0</td>\n",
       "      <td>0</td>\n",
       "      <td>0</td>\n",
       "      <td>0</td>\n",
       "      <td>0</td>\n",
       "      <td>0</td>\n",
       "      <td>0</td>\n",
       "      <td>0</td>\n",
       "    </tr>\n",
       "    <tr>\n",
       "      <th>9320</th>\n",
       "      <td>91</td>\n",
       "      <td>0</td>\n",
       "      <td>0</td>\n",
       "      <td>0</td>\n",
       "      <td>0</td>\n",
       "      <td>0</td>\n",
       "      <td>0</td>\n",
       "      <td>0</td>\n",
       "      <td>0</td>\n",
       "      <td>0</td>\n",
       "      <td>0</td>\n",
       "      <td>0</td>\n",
       "      <td>0</td>\n",
       "      <td>0</td>\n",
       "      <td>0</td>\n",
       "      <td>0</td>\n",
       "      <td>0</td>\n",
       "      <td>0</td>\n",
       "      <td>0</td>\n",
       "      <td>0</td>\n",
       "      <td>0</td>\n",
       "      <td>0</td>\n",
       "      <td>0</td>\n",
       "      <td>0</td>\n",
       "      <td>0</td>\n",
       "      <td>0</td>\n",
       "      <td>0</td>\n",
       "      <td>0</td>\n",
       "      <td>0</td>\n",
       "      <td>0</td>\n",
       "      <td>0</td>\n",
       "      <td>0</td>\n",
       "      <td>0</td>\n",
       "      <td>1</td>\n",
       "      <td>1</td>\n",
       "      <td>0</td>\n",
       "      <td>0</td>\n",
       "      <td>0</td>\n",
       "      <td>0</td>\n",
       "      <td>0</td>\n",
       "      <td>...</td>\n",
       "      <td>0</td>\n",
       "      <td>0</td>\n",
       "      <td>0</td>\n",
       "      <td>0</td>\n",
       "      <td>0</td>\n",
       "      <td>0</td>\n",
       "      <td>0</td>\n",
       "      <td>0</td>\n",
       "      <td>0</td>\n",
       "      <td>0</td>\n",
       "      <td>0</td>\n",
       "      <td>0</td>\n",
       "      <td>0</td>\n",
       "      <td>0</td>\n",
       "      <td>0</td>\n",
       "      <td>0</td>\n",
       "      <td>0</td>\n",
       "      <td>0</td>\n",
       "      <td>0</td>\n",
       "      <td>0</td>\n",
       "      <td>0</td>\n",
       "      <td>0</td>\n",
       "      <td>0</td>\n",
       "      <td>0</td>\n",
       "      <td>0</td>\n",
       "      <td>0</td>\n",
       "      <td>0</td>\n",
       "      <td>0</td>\n",
       "      <td>0</td>\n",
       "      <td>0</td>\n",
       "      <td>0</td>\n",
       "      <td>0</td>\n",
       "      <td>0</td>\n",
       "      <td>0</td>\n",
       "      <td>0</td>\n",
       "      <td>0</td>\n",
       "      <td>0</td>\n",
       "      <td>0</td>\n",
       "      <td>0</td>\n",
       "      <td>0</td>\n",
       "    </tr>\n",
       "  </tbody>\n",
       "</table>\n",
       "<p>2 rows × 456 columns</p>\n",
       "</div>\n",
       "      <button class=\"colab-df-convert\" onclick=\"convertToInteractive('df-3e29640a-44aa-4d8d-bfd5-533e375f7386')\"\n",
       "              title=\"Convert this dataframe to an interactive table.\"\n",
       "              style=\"display:none;\">\n",
       "        \n",
       "  <svg xmlns=\"http://www.w3.org/2000/svg\" height=\"24px\"viewBox=\"0 0 24 24\"\n",
       "       width=\"24px\">\n",
       "    <path d=\"M0 0h24v24H0V0z\" fill=\"none\"/>\n",
       "    <path d=\"M18.56 5.44l.94 2.06.94-2.06 2.06-.94-2.06-.94-.94-2.06-.94 2.06-2.06.94zm-11 1L8.5 8.5l.94-2.06 2.06-.94-2.06-.94L8.5 2.5l-.94 2.06-2.06.94zm10 10l.94 2.06.94-2.06 2.06-.94-2.06-.94-.94-2.06-.94 2.06-2.06.94z\"/><path d=\"M17.41 7.96l-1.37-1.37c-.4-.4-.92-.59-1.43-.59-.52 0-1.04.2-1.43.59L10.3 9.45l-7.72 7.72c-.78.78-.78 2.05 0 2.83L4 21.41c.39.39.9.59 1.41.59.51 0 1.02-.2 1.41-.59l7.78-7.78 2.81-2.81c.8-.78.8-2.07 0-2.86zM5.41 20L4 18.59l7.72-7.72 1.47 1.35L5.41 20z\"/>\n",
       "  </svg>\n",
       "      </button>\n",
       "      \n",
       "  <style>\n",
       "    .colab-df-container {\n",
       "      display:flex;\n",
       "      flex-wrap:wrap;\n",
       "      gap: 12px;\n",
       "    }\n",
       "\n",
       "    .colab-df-convert {\n",
       "      background-color: #E8F0FE;\n",
       "      border: none;\n",
       "      border-radius: 50%;\n",
       "      cursor: pointer;\n",
       "      display: none;\n",
       "      fill: #1967D2;\n",
       "      height: 32px;\n",
       "      padding: 0 0 0 0;\n",
       "      width: 32px;\n",
       "    }\n",
       "\n",
       "    .colab-df-convert:hover {\n",
       "      background-color: #E2EBFA;\n",
       "      box-shadow: 0px 1px 2px rgba(60, 64, 67, 0.3), 0px 1px 3px 1px rgba(60, 64, 67, 0.15);\n",
       "      fill: #174EA6;\n",
       "    }\n",
       "\n",
       "    [theme=dark] .colab-df-convert {\n",
       "      background-color: #3B4455;\n",
       "      fill: #D2E3FC;\n",
       "    }\n",
       "\n",
       "    [theme=dark] .colab-df-convert:hover {\n",
       "      background-color: #434B5C;\n",
       "      box-shadow: 0px 1px 3px 1px rgba(0, 0, 0, 0.15);\n",
       "      filter: drop-shadow(0px 1px 2px rgba(0, 0, 0, 0.3));\n",
       "      fill: #FFFFFF;\n",
       "    }\n",
       "  </style>\n",
       "\n",
       "      <script>\n",
       "        const buttonEl =\n",
       "          document.querySelector('#df-3e29640a-44aa-4d8d-bfd5-533e375f7386 button.colab-df-convert');\n",
       "        buttonEl.style.display =\n",
       "          google.colab.kernel.accessAllowed ? 'block' : 'none';\n",
       "\n",
       "        async function convertToInteractive(key) {\n",
       "          const element = document.querySelector('#df-3e29640a-44aa-4d8d-bfd5-533e375f7386');\n",
       "          const dataTable =\n",
       "            await google.colab.kernel.invokeFunction('convertToInteractive',\n",
       "                                                     [key], {});\n",
       "          if (!dataTable) return;\n",
       "\n",
       "          const docLinkHtml = 'Like what you see? Visit the ' +\n",
       "            '<a target=\"_blank\" href=https://colab.research.google.com/notebooks/data_table.ipynb>data table notebook</a>'\n",
       "            + ' to learn more about interactive tables.';\n",
       "          element.innerHTML = '';\n",
       "          dataTable['output_type'] = 'display_data';\n",
       "          await google.colab.output.renderOutput(dataTable, element);\n",
       "          const docLink = document.createElement('div');\n",
       "          docLink.innerHTML = docLinkHtml;\n",
       "          element.appendChild(docLink);\n",
       "        }\n",
       "      </script>\n",
       "    </div>\n",
       "  </div>\n",
       "  "
      ],
      "text/plain": [
       "       location_id  event_type_1  ...  log_feature_385  log_feature_386\n",
       "id                                ...                                  \n",
       "14121          118             0  ...                0                0\n",
       "9320            91             0  ...                0                0\n",
       "\n",
       "[2 rows x 456 columns]"
      ]
     },
     "execution_count": 25,
     "metadata": {},
     "output_type": "execute_result"
    }
   ],
   "source": [
    "X = X.drop(['fault_severity'], axis=1)\n",
    "X.head(2)"
   ]
  },
  {
   "cell_type": "code",
   "execution_count": 26,
   "metadata": {
    "id": "EQGPaZ4biG6O"
   },
   "outputs": [],
   "source": [
    "y = X_df['fault_severity']"
   ]
  },
  {
   "cell_type": "code",
   "execution_count": 27,
   "metadata": {
    "colab": {
     "base_uri": "https://localhost:8080/"
    },
    "id": "4w3WooyKiJg_",
    "outputId": "253baff1-d21a-4cdf-b82e-22145125bec2"
   },
   "outputs": [
    {
     "data": {
      "text/plain": [
       "location_id        False\n",
       "event_type_1       False\n",
       "event_type_2       False\n",
       "event_type_3       False\n",
       "event_type_4       False\n",
       "                   ...  \n",
       "log_feature_382    False\n",
       "log_feature_383    False\n",
       "log_feature_384    False\n",
       "log_feature_385    False\n",
       "log_feature_386    False\n",
       "Length: 456, dtype: bool"
      ]
     },
     "execution_count": 27,
     "metadata": {},
     "output_type": "execute_result"
    }
   ],
   "source": [
    "X.isnull().any()"
   ]
  },
  {
   "cell_type": "markdown",
   "metadata": {
    "id": "GECTKT9hiPNR"
   },
   "source": [
    "**Test, Train and Cross Validation Split**\n",
    "\n",
    "Splitting data into train, test (80:20)"
   ]
  },
  {
   "cell_type": "code",
   "execution_count": 28,
   "metadata": {
    "id": "miVLJzDBl9Kq"
   },
   "outputs": [],
   "source": [
    "# split the data into test and train by maintaining same distribution of output varaible 'y_true' [stratify=y_true]\n",
    "X_train,X_test, y_train, y_test = train_test_split(X, y, stratify=y, test_size=0.2)"
   ]
  },
  {
   "cell_type": "code",
   "execution_count": 29,
   "metadata": {
    "colab": {
     "base_uri": "https://localhost:8080/"
    },
    "id": "vICNw-2UiJor",
    "outputId": "7cef928b-00de-462c-e6d8-f93b3d8cc251"
   },
   "outputs": [
    {
     "name": "stdout",
     "output_type": "stream",
     "text": [
      "(5904, 456) (5904,) (1477, 456) (1477,)\n"
     ]
    }
   ],
   "source": [
    "print(X_train.shape,y_train.shape,X_test.shape,y_test.shape)"
   ]
  },
  {
   "cell_type": "code",
   "execution_count": 30,
   "metadata": {
    "colab": {
     "base_uri": "https://localhost:8080/"
    },
    "id": "Dtwp77o6iJrT",
    "outputId": "cb2f32c7-f86c-4b80-ebd2-aaa9db6d42f8"
   },
   "outputs": [
    {
     "name": "stdout",
     "output_type": "stream",
     "text": [
      "Number of data points in train data: 5904\n",
      "Number of data points in test data: 1477\n"
     ]
    }
   ],
   "source": [
    "print('Number of data points in train data:', X_train.shape[0])\n",
    "print('Number of data points in test data:', X_test.shape[0])"
   ]
  },
  {
   "cell_type": "code",
   "execution_count": 31,
   "metadata": {
    "id": "D-5TSu93iJtl"
   },
   "outputs": [],
   "source": [
    "numeric_features = X.select_dtypes(include=['int64', 'float64']).columns\n",
    "categorical_features = X.select_dtypes(include=['object', 'category']).columns"
   ]
  },
  {
   "cell_type": "code",
   "execution_count": 32,
   "metadata": {
    "id": "J8kcY4hZiaxX"
   },
   "outputs": [],
   "source": [
    "# import the needed libraries first\n",
    "from sklearn.pipeline import Pipeline\n",
    "from sklearn.impute import SimpleImputer\n",
    "from sklearn.preprocessing import StandardScaler, OneHotEncoder\n",
    "from sklearn.preprocessing import MinMaxScaler\n",
    "\n",
    "# create a transformer for the categorical values\n",
    "categorical_transformer = Pipeline(steps=[\n",
    "    ('one_hot', OneHotEncoder(handle_unknown='ignore'))])\n",
    "\n",
    "# create a transformed for the numerical values\n",
    "numeric_transformer_std = Pipeline(steps=[('imputer', SimpleImputer(strategy='median')), ('scaler',StandardScaler())])"
   ]
  },
  {
   "cell_type": "code",
   "execution_count": 33,
   "metadata": {
    "id": "IcZhVWnria0W"
   },
   "outputs": [],
   "source": [
    "\n",
    "from sklearn.compose import ColumnTransformer\n",
    "\n",
    "preprocessor_sca_train = ColumnTransformer(\n",
    "    transformers=[\n",
    "        ('num', numeric_transformer_std, numeric_features),\n",
    "        ('cat', categorical_transformer, categorical_features)\n",
    "    ])"
   ]
  },
  {
   "cell_type": "code",
   "execution_count": 34,
   "metadata": {
    "id": "FjMxM8Tgia7f"
   },
   "outputs": [],
   "source": [
    "#We are then ready to transform!\n",
    "X_train_transformed_sca = preprocessor_sca_train.fit_transform(X_train)\n",
    "X_test_transformed_sca = preprocessor_sca_train.transform(X_test)\n",
    "X_train_transformed_sca_copy = X_train_transformed_sca.copy()\n",
    "test_transformed_sca = preprocessor_sca_train.transform(Y)"
   ]
  },
  {
   "cell_type": "code",
   "execution_count": 35,
   "metadata": {
    "id": "Sq4wo_m5ia-N"
   },
   "outputs": [],
   "source": [
    "X_train_sca = pd.DataFrame(X_train_transformed_sca)\n",
    "X_test_sca = pd.DataFrame(X_test_transformed_sca)\n",
    "test_sca = pd.DataFrame(test_transformed_sca)"
   ]
  },
  {
   "cell_type": "code",
   "execution_count": 36,
   "metadata": {
    "id": "gOPVtiPAhpZC"
   },
   "outputs": [],
   "source": [
    "from sklearn.ensemble import GradientBoostingClassifier"
   ]
  },
  {
   "cell_type": "code",
   "execution_count": 37,
   "metadata": {
    "id": "6eYSKDNlioW7"
   },
   "outputs": [],
   "source": [
    "classifiers = [KNeighborsClassifier(),\n",
    "               RandomForestClassifier(),\n",
    "               # Learn to predict each class against the other\n",
    "               LogisticRegression(multi_class='ovr'),\n",
    "               OneVsRestClassifier(SVC()),\n",
    "               OneVsRestClassifier(XGBClassifier()),\n",
    "               lgb.LGBMClassifier(),\n",
    "               GradientBoostingClassifier()\n",
    "              ]\n",
    "classifier_names = ['kNN','forest','LogReg','SVC','XGB','LGBM','GBC']"
   ]
  },
  {
   "cell_type": "code",
   "execution_count": null,
   "metadata": {
    "id": "uONzmSkyFXVs"
   },
   "outputs": [],
   "source": [
    "scoring = ['f1_macro','precision_macro', 'recall_macro']"
   ]
  },
  {
   "cell_type": "code",
   "execution_count": null,
   "metadata": {
    "colab": {
     "base_uri": "https://localhost:8080/"
    },
    "id": "uU4flnF-iXDn",
    "outputId": "46cc418c-1ee5-4dab-a6ee-a9def7a0c5c5"
   },
   "outputs": [
    {
     "name": "stdout",
     "output_type": "stream",
     "text": [
      "Model evaluation By Standardizing Data\n",
      "kNN \t 0.6005997148397582\n",
      "forest \t 0.6344846989381515\n",
      "LogReg \t 0.6210558076746047\n",
      "SVC \t 0.6066614113462898\n",
      "XGB \t 0.6145534222368054\n",
      "LGBM \t 0.6490994199360033\n",
      "GBC \t 0.6274849395900925\n"
     ]
    }
   ],
   "source": [
    "# Loop through classifiers\n",
    "print('Model evaluation By Standardizing Data')\n",
    "\n",
    "for classifier, clf_name in zip(classifiers, classifier_names):\n",
    "  # Calculate CV\n",
    "  print(clf_name,'\\t',cross_val_score(estimator=classifier,X=X_train_sca, y=y_train, cv=5, scoring='f1_macro').mean())"
   ]
  },
  {
   "cell_type": "code",
   "execution_count": null,
   "metadata": {
    "id": "Qnu5hpfPRwyB"
   },
   "outputs": [],
   "source": [
    "from sklearn.metrics import classification_report"
   ]
  },
  {
   "cell_type": "code",
   "execution_count": null,
   "metadata": {
    "colab": {
     "base_uri": "https://localhost:8080/"
    },
    "id": "ojWUcDozQNrQ",
    "outputId": "77492f45-524f-4861-e0e1-ea8f23d48b15"
   },
   "outputs": [
    {
     "data": {
      "text/plain": [
       "LGBMClassifier()"
      ]
     },
     "execution_count": 41,
     "metadata": {},
     "output_type": "execute_result"
    }
   ],
   "source": [
    "# Train uncalibrated random forest classifier on whole train and validation\n",
    "# data and evaluate on test data\n",
    "lgbm = lgb.LGBMClassifier()\n",
    "lgbm.fit(X_train_sca, y_train)"
   ]
  },
  {
   "cell_type": "code",
   "execution_count": null,
   "metadata": {
    "id": "Cg5ZZHOBQKtY"
   },
   "outputs": [],
   "source": [
    "#Predictions\n",
    "y_pred = lgbm.predict(X_test_sca)\n",
    "report1 = classification_report(y_test,y_pred,output_dict=True)\n",
    "df_std = pd.DataFrame(report1).transpose()"
   ]
  },
  {
   "cell_type": "code",
   "execution_count": null,
   "metadata": {
    "colab": {
     "base_uri": "https://localhost:8080/",
     "height": 238
    },
    "id": "curuqfFE0wrH",
    "outputId": "8fa0b6c6-cc5d-4936-b705-174248f25dab"
   },
   "outputs": [
    {
     "data": {
      "text/html": [
       "\n",
       "  <div id=\"df-92b26762-05a2-49c6-bddc-a7ac02147748\">\n",
       "    <div class=\"colab-df-container\">\n",
       "      <div>\n",
       "<style scoped>\n",
       "    .dataframe tbody tr th:only-of-type {\n",
       "        vertical-align: middle;\n",
       "    }\n",
       "\n",
       "    .dataframe tbody tr th {\n",
       "        vertical-align: top;\n",
       "    }\n",
       "\n",
       "    .dataframe thead th {\n",
       "        text-align: right;\n",
       "    }\n",
       "</style>\n",
       "<table border=\"1\" class=\"dataframe\">\n",
       "  <thead>\n",
       "    <tr style=\"text-align: right;\">\n",
       "      <th></th>\n",
       "      <th>precision</th>\n",
       "      <th>recall</th>\n",
       "      <th>f1-score</th>\n",
       "      <th>support</th>\n",
       "    </tr>\n",
       "  </thead>\n",
       "  <tbody>\n",
       "    <tr>\n",
       "      <th>0</th>\n",
       "      <td>0.821179</td>\n",
       "      <td>0.858934</td>\n",
       "      <td>0.839632</td>\n",
       "      <td>957.00000</td>\n",
       "    </tr>\n",
       "    <tr>\n",
       "      <th>1</th>\n",
       "      <td>0.608025</td>\n",
       "      <td>0.525333</td>\n",
       "      <td>0.563662</td>\n",
       "      <td>375.00000</td>\n",
       "    </tr>\n",
       "    <tr>\n",
       "      <th>2</th>\n",
       "      <td>0.539474</td>\n",
       "      <td>0.565517</td>\n",
       "      <td>0.552189</td>\n",
       "      <td>145.00000</td>\n",
       "    </tr>\n",
       "    <tr>\n",
       "      <th>accuracy</th>\n",
       "      <td>0.745430</td>\n",
       "      <td>0.745430</td>\n",
       "      <td>0.745430</td>\n",
       "      <td>0.74543</td>\n",
       "    </tr>\n",
       "    <tr>\n",
       "      <th>macro avg</th>\n",
       "      <td>0.656226</td>\n",
       "      <td>0.649928</td>\n",
       "      <td>0.651828</td>\n",
       "      <td>1477.00000</td>\n",
       "    </tr>\n",
       "    <tr>\n",
       "      <th>weighted avg</th>\n",
       "      <td>0.739405</td>\n",
       "      <td>0.745430</td>\n",
       "      <td>0.741347</td>\n",
       "      <td>1477.00000</td>\n",
       "    </tr>\n",
       "  </tbody>\n",
       "</table>\n",
       "</div>\n",
       "      <button class=\"colab-df-convert\" onclick=\"convertToInteractive('df-92b26762-05a2-49c6-bddc-a7ac02147748')\"\n",
       "              title=\"Convert this dataframe to an interactive table.\"\n",
       "              style=\"display:none;\">\n",
       "        \n",
       "  <svg xmlns=\"http://www.w3.org/2000/svg\" height=\"24px\"viewBox=\"0 0 24 24\"\n",
       "       width=\"24px\">\n",
       "    <path d=\"M0 0h24v24H0V0z\" fill=\"none\"/>\n",
       "    <path d=\"M18.56 5.44l.94 2.06.94-2.06 2.06-.94-2.06-.94-.94-2.06-.94 2.06-2.06.94zm-11 1L8.5 8.5l.94-2.06 2.06-.94-2.06-.94L8.5 2.5l-.94 2.06-2.06.94zm10 10l.94 2.06.94-2.06 2.06-.94-2.06-.94-.94-2.06-.94 2.06-2.06.94z\"/><path d=\"M17.41 7.96l-1.37-1.37c-.4-.4-.92-.59-1.43-.59-.52 0-1.04.2-1.43.59L10.3 9.45l-7.72 7.72c-.78.78-.78 2.05 0 2.83L4 21.41c.39.39.9.59 1.41.59.51 0 1.02-.2 1.41-.59l7.78-7.78 2.81-2.81c.8-.78.8-2.07 0-2.86zM5.41 20L4 18.59l7.72-7.72 1.47 1.35L5.41 20z\"/>\n",
       "  </svg>\n",
       "      </button>\n",
       "      \n",
       "  <style>\n",
       "    .colab-df-container {\n",
       "      display:flex;\n",
       "      flex-wrap:wrap;\n",
       "      gap: 12px;\n",
       "    }\n",
       "\n",
       "    .colab-df-convert {\n",
       "      background-color: #E8F0FE;\n",
       "      border: none;\n",
       "      border-radius: 50%;\n",
       "      cursor: pointer;\n",
       "      display: none;\n",
       "      fill: #1967D2;\n",
       "      height: 32px;\n",
       "      padding: 0 0 0 0;\n",
       "      width: 32px;\n",
       "    }\n",
       "\n",
       "    .colab-df-convert:hover {\n",
       "      background-color: #E2EBFA;\n",
       "      box-shadow: 0px 1px 2px rgba(60, 64, 67, 0.3), 0px 1px 3px 1px rgba(60, 64, 67, 0.15);\n",
       "      fill: #174EA6;\n",
       "    }\n",
       "\n",
       "    [theme=dark] .colab-df-convert {\n",
       "      background-color: #3B4455;\n",
       "      fill: #D2E3FC;\n",
       "    }\n",
       "\n",
       "    [theme=dark] .colab-df-convert:hover {\n",
       "      background-color: #434B5C;\n",
       "      box-shadow: 0px 1px 3px 1px rgba(0, 0, 0, 0.15);\n",
       "      filter: drop-shadow(0px 1px 2px rgba(0, 0, 0, 0.3));\n",
       "      fill: #FFFFFF;\n",
       "    }\n",
       "  </style>\n",
       "\n",
       "      <script>\n",
       "        const buttonEl =\n",
       "          document.querySelector('#df-92b26762-05a2-49c6-bddc-a7ac02147748 button.colab-df-convert');\n",
       "        buttonEl.style.display =\n",
       "          google.colab.kernel.accessAllowed ? 'block' : 'none';\n",
       "\n",
       "        async function convertToInteractive(key) {\n",
       "          const element = document.querySelector('#df-92b26762-05a2-49c6-bddc-a7ac02147748');\n",
       "          const dataTable =\n",
       "            await google.colab.kernel.invokeFunction('convertToInteractive',\n",
       "                                                     [key], {});\n",
       "          if (!dataTable) return;\n",
       "\n",
       "          const docLinkHtml = 'Like what you see? Visit the ' +\n",
       "            '<a target=\"_blank\" href=https://colab.research.google.com/notebooks/data_table.ipynb>data table notebook</a>'\n",
       "            + ' to learn more about interactive tables.';\n",
       "          element.innerHTML = '';\n",
       "          dataTable['output_type'] = 'display_data';\n",
       "          await google.colab.output.renderOutput(dataTable, element);\n",
       "          const docLink = document.createElement('div');\n",
       "          docLink.innerHTML = docLinkHtml;\n",
       "          element.appendChild(docLink);\n",
       "        }\n",
       "      </script>\n",
       "    </div>\n",
       "  </div>\n",
       "  "
      ],
      "text/plain": [
       "              precision    recall  f1-score     support\n",
       "0              0.821179  0.858934  0.839632   957.00000\n",
       "1              0.608025  0.525333  0.563662   375.00000\n",
       "2              0.539474  0.565517  0.552189   145.00000\n",
       "accuracy       0.745430  0.745430  0.745430     0.74543\n",
       "macro avg      0.656226  0.649928  0.651828  1477.00000\n",
       "weighted avg   0.739405  0.745430  0.741347  1477.00000"
      ]
     },
     "execution_count": 43,
     "metadata": {},
     "output_type": "execute_result"
    }
   ],
   "source": [
    "df_std"
   ]
  },
  {
   "cell_type": "code",
   "execution_count": null,
   "metadata": {
    "id": "sVApngiElJqd"
   },
   "outputs": [],
   "source": [
    "from sklearn.metrics import log_loss"
   ]
  },
  {
   "cell_type": "code",
   "execution_count": null,
   "metadata": {
    "id": "q2eee3-RpfRd"
   },
   "outputs": [],
   "source": [
    "y_test = pd.DataFrame(y_test)\n",
    "y_train = pd.DataFrame(y_train)"
   ]
  },
  {
   "cell_type": "code",
   "execution_count": null,
   "metadata": {
    "colab": {
     "base_uri": "https://localhost:8080/"
    },
    "id": "8zDHTcXEtv9L",
    "outputId": "aa2e8da8-066c-4388-af38-18089d1dc0fd"
   },
   "outputs": [
    {
     "name": "stdout",
     "output_type": "stream",
     "text": [
      "LGBM: train loss 0.4042\n",
      "---------------------------------------------------------------\n",
      "LGBM forest: test loss 0.5513\n",
      "---------------------------------------------------------------\n"
     ]
    }
   ],
   "source": [
    "loss2tr = log_loss(y_train.values, lgbm.predict_proba(X_train_sca.values))\n",
    "print(\"LGBM: train loss {:.4f}\".format(loss2tr))\n",
    "print('---------------------------------------------------------------')\n",
    "loss2te = log_loss(y_test.values, lgbm.predict_proba(X_test_sca.values))\n",
    "print(\"LGBM forest: test loss {:.4f}\".format(loss2te))\n",
    "print('---------------------------------------------------------------')"
   ]
  },
  {
   "cell_type": "markdown",
   "metadata": {
    "id": "jsYKVLFe_SYu"
   },
   "source": [
    "**Approach-2 (OneHotEncoded + StdScaler() +  PCA())**"
   ]
  },
  {
   "cell_type": "code",
   "execution_count": null,
   "metadata": {
    "id": "XGuLrMO1_bGW"
   },
   "outputs": [],
   "source": [
    "# Calculating Eigenvectors and eigenvalues of Cov matirx\n",
    "mean_vec = np.mean(X_train_transformed_sca_copy, axis=0)\n",
    "cov_mat = np.cov(X_train_transformed_sca_copy.T)\n",
    "eig_vals, eig_vecs = np.linalg.eig(cov_mat)\n",
    "# Create a list of (eigenvalue, eigenvector) tuples\n",
    "eig_pairs = [ (np.abs(eig_vals[i]),eig_vecs[:,i]) for i in range(len(eig_vals))]\n",
    "\n",
    "# Sort the eigenvalue, eigenvector pair from high to low\n",
    "eig_pairs.sort(key = lambda x: x[0], reverse= True)\n",
    "\n",
    "# Calculation of Explained Variance from the eigenvalues\n",
    "tot = sum(eig_vals)\n",
    "var_exp = [(i/tot)*100 for i in sorted(eig_vals, reverse=True)] # Individual explained variance\n",
    "cum_var_exp = np.cumsum(var_exp) # Cumulative explained variance"
   ]
  },
  {
   "cell_type": "code",
   "execution_count": null,
   "metadata": {
    "colab": {
     "base_uri": "https://localhost:8080/"
    },
    "id": "OqPA0T4G_bKe",
    "outputId": "8801809d-1618-47da-e1f4-6f039e920a4a"
   },
   "outputs": [
    {
     "data": {
      "text/plain": [
       "136"
      ]
     },
     "execution_count": 48,
     "metadata": {},
     "output_type": "execute_result"
    }
   ],
   "source": [
    "# Find the eigenvector beyond which 85% of the data is explained\n",
    "[ n for n,i in enumerate(cum_var_exp) if i>85 ][0]"
   ]
  },
  {
   "cell_type": "code",
   "execution_count": null,
   "metadata": {
    "id": "zTen4h6S_bNw"
   },
   "outputs": [],
   "source": [
    "from sklearn.decomposition import PCA\n",
    "\n",
    "# Call the PCA method with 134 components. \n",
    "pca = PCA(n_components=134)\n",
    "pca.fit(X_train_transformed_sca)\n",
    "X_134d_train = pca.transform(X_train_transformed_sca)\n",
    "X_134d_test = pca.transform(X_test_transformed_sca)"
   ]
  },
  {
   "cell_type": "code",
   "execution_count": null,
   "metadata": {
    "colab": {
     "base_uri": "https://localhost:8080/"
    },
    "id": "Byin1eXN_bQx",
    "outputId": "ae3232bb-0104-4b96-bea4-1f4c75737645"
   },
   "outputs": [
    {
     "name": "stdout",
     "output_type": "stream",
     "text": [
      "(5904, 134) (5904, 1)\n"
     ]
    }
   ],
   "source": [
    "print(X_134d_train.shape,y_train.shape)"
   ]
  },
  {
   "cell_type": "code",
   "execution_count": null,
   "metadata": {
    "colab": {
     "base_uri": "https://localhost:8080/"
    },
    "id": "u6cI8h3n_9Bb",
    "outputId": "b5ff836b-aad8-4580-c3b3-02285b8a6e70"
   },
   "outputs": [
    {
     "data": {
      "text/plain": [
       "LGBMClassifier()"
      ]
     },
     "execution_count": 51,
     "metadata": {},
     "output_type": "execute_result"
    }
   ],
   "source": [
    "lgbm = lgb.LGBMClassifier()\n",
    "lgbm.fit(X_134d_train, y_train)"
   ]
  },
  {
   "cell_type": "code",
   "execution_count": null,
   "metadata": {
    "colab": {
     "base_uri": "https://localhost:8080/"
    },
    "id": "ZvUKEeJpsU8N",
    "outputId": "567c7264-28fc-4967-dc37-5474d3f1a29b"
   },
   "outputs": [
    {
     "name": "stdout",
     "output_type": "stream",
     "text": [
      "(1477, 1) (1477,)\n"
     ]
    }
   ],
   "source": [
    "print(y_test.shape,y_pred.shape)"
   ]
  },
  {
   "cell_type": "code",
   "execution_count": null,
   "metadata": {
    "id": "k4wbIIHh13Wx"
   },
   "outputs": [],
   "source": [
    "#Predictions\n",
    "y_pred = lgbm.predict(X_134d_test)\n",
    "report2 = classification_report(y_test,y_pred,output_dict=True)\n",
    "df_std = pd.DataFrame(report2).transpose()"
   ]
  },
  {
   "cell_type": "code",
   "execution_count": null,
   "metadata": {
    "colab": {
     "base_uri": "https://localhost:8080/",
     "height": 238
    },
    "id": "eat8yLZj2aoe",
    "outputId": "32589091-85b7-4d99-afee-830737221c4d"
   },
   "outputs": [
    {
     "data": {
      "text/html": [
       "\n",
       "  <div id=\"df-b02a31be-cb10-431a-9840-1c545eb069f5\">\n",
       "    <div class=\"colab-df-container\">\n",
       "      <div>\n",
       "<style scoped>\n",
       "    .dataframe tbody tr th:only-of-type {\n",
       "        vertical-align: middle;\n",
       "    }\n",
       "\n",
       "    .dataframe tbody tr th {\n",
       "        vertical-align: top;\n",
       "    }\n",
       "\n",
       "    .dataframe thead th {\n",
       "        text-align: right;\n",
       "    }\n",
       "</style>\n",
       "<table border=\"1\" class=\"dataframe\">\n",
       "  <thead>\n",
       "    <tr style=\"text-align: right;\">\n",
       "      <th></th>\n",
       "      <th>precision</th>\n",
       "      <th>recall</th>\n",
       "      <th>f1-score</th>\n",
       "      <th>support</th>\n",
       "    </tr>\n",
       "  </thead>\n",
       "  <tbody>\n",
       "    <tr>\n",
       "      <th>0</th>\n",
       "      <td>0.817279</td>\n",
       "      <td>0.859979</td>\n",
       "      <td>0.838086</td>\n",
       "      <td>957.000000</td>\n",
       "    </tr>\n",
       "    <tr>\n",
       "      <th>1</th>\n",
       "      <td>0.557229</td>\n",
       "      <td>0.493333</td>\n",
       "      <td>0.523338</td>\n",
       "      <td>375.000000</td>\n",
       "    </tr>\n",
       "    <tr>\n",
       "      <th>2</th>\n",
       "      <td>0.514493</td>\n",
       "      <td>0.489655</td>\n",
       "      <td>0.501767</td>\n",
       "      <td>145.000000</td>\n",
       "    </tr>\n",
       "    <tr>\n",
       "      <th>accuracy</th>\n",
       "      <td>0.730535</td>\n",
       "      <td>0.730535</td>\n",
       "      <td>0.730535</td>\n",
       "      <td>0.730535</td>\n",
       "    </tr>\n",
       "    <tr>\n",
       "      <th>macro avg</th>\n",
       "      <td>0.629667</td>\n",
       "      <td>0.614323</td>\n",
       "      <td>0.621063</td>\n",
       "      <td>1477.000000</td>\n",
       "    </tr>\n",
       "    <tr>\n",
       "      <th>weighted avg</th>\n",
       "      <td>0.721529</td>\n",
       "      <td>0.730535</td>\n",
       "      <td>0.725156</td>\n",
       "      <td>1477.000000</td>\n",
       "    </tr>\n",
       "  </tbody>\n",
       "</table>\n",
       "</div>\n",
       "      <button class=\"colab-df-convert\" onclick=\"convertToInteractive('df-b02a31be-cb10-431a-9840-1c545eb069f5')\"\n",
       "              title=\"Convert this dataframe to an interactive table.\"\n",
       "              style=\"display:none;\">\n",
       "        \n",
       "  <svg xmlns=\"http://www.w3.org/2000/svg\" height=\"24px\"viewBox=\"0 0 24 24\"\n",
       "       width=\"24px\">\n",
       "    <path d=\"M0 0h24v24H0V0z\" fill=\"none\"/>\n",
       "    <path d=\"M18.56 5.44l.94 2.06.94-2.06 2.06-.94-2.06-.94-.94-2.06-.94 2.06-2.06.94zm-11 1L8.5 8.5l.94-2.06 2.06-.94-2.06-.94L8.5 2.5l-.94 2.06-2.06.94zm10 10l.94 2.06.94-2.06 2.06-.94-2.06-.94-.94-2.06-.94 2.06-2.06.94z\"/><path d=\"M17.41 7.96l-1.37-1.37c-.4-.4-.92-.59-1.43-.59-.52 0-1.04.2-1.43.59L10.3 9.45l-7.72 7.72c-.78.78-.78 2.05 0 2.83L4 21.41c.39.39.9.59 1.41.59.51 0 1.02-.2 1.41-.59l7.78-7.78 2.81-2.81c.8-.78.8-2.07 0-2.86zM5.41 20L4 18.59l7.72-7.72 1.47 1.35L5.41 20z\"/>\n",
       "  </svg>\n",
       "      </button>\n",
       "      \n",
       "  <style>\n",
       "    .colab-df-container {\n",
       "      display:flex;\n",
       "      flex-wrap:wrap;\n",
       "      gap: 12px;\n",
       "    }\n",
       "\n",
       "    .colab-df-convert {\n",
       "      background-color: #E8F0FE;\n",
       "      border: none;\n",
       "      border-radius: 50%;\n",
       "      cursor: pointer;\n",
       "      display: none;\n",
       "      fill: #1967D2;\n",
       "      height: 32px;\n",
       "      padding: 0 0 0 0;\n",
       "      width: 32px;\n",
       "    }\n",
       "\n",
       "    .colab-df-convert:hover {\n",
       "      background-color: #E2EBFA;\n",
       "      box-shadow: 0px 1px 2px rgba(60, 64, 67, 0.3), 0px 1px 3px 1px rgba(60, 64, 67, 0.15);\n",
       "      fill: #174EA6;\n",
       "    }\n",
       "\n",
       "    [theme=dark] .colab-df-convert {\n",
       "      background-color: #3B4455;\n",
       "      fill: #D2E3FC;\n",
       "    }\n",
       "\n",
       "    [theme=dark] .colab-df-convert:hover {\n",
       "      background-color: #434B5C;\n",
       "      box-shadow: 0px 1px 3px 1px rgba(0, 0, 0, 0.15);\n",
       "      filter: drop-shadow(0px 1px 2px rgba(0, 0, 0, 0.3));\n",
       "      fill: #FFFFFF;\n",
       "    }\n",
       "  </style>\n",
       "\n",
       "      <script>\n",
       "        const buttonEl =\n",
       "          document.querySelector('#df-b02a31be-cb10-431a-9840-1c545eb069f5 button.colab-df-convert');\n",
       "        buttonEl.style.display =\n",
       "          google.colab.kernel.accessAllowed ? 'block' : 'none';\n",
       "\n",
       "        async function convertToInteractive(key) {\n",
       "          const element = document.querySelector('#df-b02a31be-cb10-431a-9840-1c545eb069f5');\n",
       "          const dataTable =\n",
       "            await google.colab.kernel.invokeFunction('convertToInteractive',\n",
       "                                                     [key], {});\n",
       "          if (!dataTable) return;\n",
       "\n",
       "          const docLinkHtml = 'Like what you see? Visit the ' +\n",
       "            '<a target=\"_blank\" href=https://colab.research.google.com/notebooks/data_table.ipynb>data table notebook</a>'\n",
       "            + ' to learn more about interactive tables.';\n",
       "          element.innerHTML = '';\n",
       "          dataTable['output_type'] = 'display_data';\n",
       "          await google.colab.output.renderOutput(dataTable, element);\n",
       "          const docLink = document.createElement('div');\n",
       "          docLink.innerHTML = docLinkHtml;\n",
       "          element.appendChild(docLink);\n",
       "        }\n",
       "      </script>\n",
       "    </div>\n",
       "  </div>\n",
       "  "
      ],
      "text/plain": [
       "              precision    recall  f1-score      support\n",
       "0              0.817279  0.859979  0.838086   957.000000\n",
       "1              0.557229  0.493333  0.523338   375.000000\n",
       "2              0.514493  0.489655  0.501767   145.000000\n",
       "accuracy       0.730535  0.730535  0.730535     0.730535\n",
       "macro avg      0.629667  0.614323  0.621063  1477.000000\n",
       "weighted avg   0.721529  0.730535  0.725156  1477.000000"
      ]
     },
     "execution_count": 54,
     "metadata": {},
     "output_type": "execute_result"
    }
   ],
   "source": [
    "df_std"
   ]
  },
  {
   "cell_type": "code",
   "execution_count": null,
   "metadata": {
    "id": "VQXeeNN_hBwr"
   },
   "outputs": [],
   "source": [
    "X_134d_train = pd.DataFrame(X_134d_train)\n",
    "X_134d_test = pd.DataFrame(X_134d_test)"
   ]
  },
  {
   "cell_type": "code",
   "execution_count": null,
   "metadata": {
    "colab": {
     "base_uri": "https://localhost:8080/"
    },
    "id": "Dr0IMkh4AUbF",
    "outputId": "c15b37ef-ec68-4b66-c04c-bf105a3b8df5"
   },
   "outputs": [
    {
     "name": "stdout",
     "output_type": "stream",
     "text": [
      "Random forest: train loss 0.3024\n",
      "---------------------------------------------------------------\n",
      "Random forest: test loss 0.5797\n",
      "---------------------------------------------------------------\n"
     ]
    }
   ],
   "source": [
    "loss2tr = log_loss(y_train.values, lgbm.predict_proba(X_134d_train.values))\n",
    "print(\"Random forest: train loss {:.4f}\".format(loss2tr))\n",
    "print('---------------------------------------------------------------')\n",
    "loss2te = log_loss(y_test.values, lgbm.predict_proba(X_134d_test.values))\n",
    "print(\"Random forest: test loss {:.4f}\".format(loss2te))\n",
    "print('---------------------------------------------------------------')"
   ]
  },
  {
   "cell_type": "markdown",
   "metadata": {
    "id": "683E7cQN7Q_8"
   },
   "source": [
    "**OneHptEncodng + MinMaxScaler**"
   ]
  },
  {
   "cell_type": "code",
   "execution_count": null,
   "metadata": {
    "id": "SU5NTp5klJ0r"
   },
   "outputs": [],
   "source": [
    "# create a transformed for the numerical values\n",
    "numeric_transformer_minmax = Pipeline(steps=[('imputer', SimpleImputer(strategy='median')), ('scaler',MinMaxScaler())])"
   ]
  },
  {
   "cell_type": "code",
   "execution_count": null,
   "metadata": {
    "id": "y-x5Pnsi8JJv"
   },
   "outputs": [],
   "source": [
    "from sklearn.compose import ColumnTransformer\n",
    "\n",
    "preprocessor_sca_minmax = ColumnTransformer(\n",
    "    transformers=[\n",
    "        ('num', numeric_transformer_minmax, numeric_features),\n",
    "        ('cat', categorical_transformer, categorical_features)\n",
    "    ])"
   ]
  },
  {
   "cell_type": "code",
   "execution_count": null,
   "metadata": {
    "id": "GTTHIZ8u8UAC"
   },
   "outputs": [],
   "source": [
    "#We are then ready to transform!\n",
    "X_train_transformed_sca = preprocessor_sca_minmax.fit_transform(X_train)\n",
    "X_test_transformed_sca = preprocessor_sca_minmax.transform(X_test)\n",
    "X_train_transformed_sca_copy = X_train_transformed_sca.copy()\n",
    "test_transformed_sca = preprocessor_sca_minmax.transform(Y)"
   ]
  },
  {
   "cell_type": "code",
   "execution_count": null,
   "metadata": {
    "id": "1iU_1U4u8UfK"
   },
   "outputs": [],
   "source": [
    "X_train_sca = pd.DataFrame(X_train_transformed_sca)\n",
    "X_test_sca = pd.DataFrame(X_test_transformed_sca)\n",
    "test_sca = pd.DataFrame(test_transformed_sca)"
   ]
  },
  {
   "cell_type": "code",
   "execution_count": null,
   "metadata": {
    "colab": {
     "base_uri": "https://localhost:8080/"
    },
    "id": "WQE5zRZJlJ3O",
    "outputId": "3cff55f8-95f6-4142-cd40-f597a6387395"
   },
   "outputs": [
    {
     "name": "stdout",
     "output_type": "stream",
     "text": [
      "Model evaluation By Standardizing Data\n",
      "kNN \t 0.5859140300977853\n",
      "forest \t 0.6308603582242089\n",
      "LogReg \t 0.589781459093239\n",
      "SVC \t 0.5966931479525635\n",
      "XGB \t 0.6145534222368054\n",
      "LGBM \t 0.6530227324218197\n",
      "GBC \t 0.628346428839474\n"
     ]
    }
   ],
   "source": [
    "# Loop through classifiers\n",
    "print('Model evaluation By Standardizing Data')\n",
    "\n",
    "for classifier, clf_name in zip(classifiers, classifier_names):\n",
    "  # Calculate CV\n",
    "  print(clf_name,'\\t',cross_val_score(estimator=classifier,X=X_train_sca, y=y_train, cv=5, scoring='f1_macro').mean())"
   ]
  },
  {
   "cell_type": "code",
   "execution_count": null,
   "metadata": {
    "colab": {
     "base_uri": "https://localhost:8080/"
    },
    "id": "BpAx1GUf8hdO",
    "outputId": "737cbe81-de85-4540-d0c5-4e00d9c10bea"
   },
   "outputs": [
    {
     "data": {
      "text/plain": [
       "LGBMClassifier()"
      ]
     },
     "execution_count": 62,
     "metadata": {},
     "output_type": "execute_result"
    }
   ],
   "source": [
    "# Train uncalibrated random forest classifier on whole train and validation\n",
    "# data and evaluate on test data\n",
    "lbbm = lgb.LGBMClassifier()\n",
    "lgbm.fit(X_train_sca, y_train)"
   ]
  },
  {
   "cell_type": "code",
   "execution_count": null,
   "metadata": {
    "id": "jpqZG2ajy_EB"
   },
   "outputs": [],
   "source": [
    "#Predictions\n",
    "y_pred = lgbm.predict(X_test_sca)\n",
    "report3 = classification_report(y_test,y_pred,output_dict=True)\n",
    "df_std = pd.DataFrame(report3).transpose()"
   ]
  },
  {
   "cell_type": "code",
   "execution_count": null,
   "metadata": {
    "colab": {
     "base_uri": "https://localhost:8080/",
     "height": 238
    },
    "id": "-K0izCnH4SHw",
    "outputId": "9aadf6a2-4038-4c57-d5db-bb05c98a7b99"
   },
   "outputs": [
    {
     "data": {
      "text/html": [
       "\n",
       "  <div id=\"df-21dd5f7c-f0a7-4ab5-b6d4-d230e2a9159b\">\n",
       "    <div class=\"colab-df-container\">\n",
       "      <div>\n",
       "<style scoped>\n",
       "    .dataframe tbody tr th:only-of-type {\n",
       "        vertical-align: middle;\n",
       "    }\n",
       "\n",
       "    .dataframe tbody tr th {\n",
       "        vertical-align: top;\n",
       "    }\n",
       "\n",
       "    .dataframe thead th {\n",
       "        text-align: right;\n",
       "    }\n",
       "</style>\n",
       "<table border=\"1\" class=\"dataframe\">\n",
       "  <thead>\n",
       "    <tr style=\"text-align: right;\">\n",
       "      <th></th>\n",
       "      <th>precision</th>\n",
       "      <th>recall</th>\n",
       "      <th>f1-score</th>\n",
       "      <th>support</th>\n",
       "    </tr>\n",
       "  </thead>\n",
       "  <tbody>\n",
       "    <tr>\n",
       "      <th>0</th>\n",
       "      <td>0.830645</td>\n",
       "      <td>0.861024</td>\n",
       "      <td>0.845562</td>\n",
       "      <td>957.0000</td>\n",
       "    </tr>\n",
       "    <tr>\n",
       "      <th>1</th>\n",
       "      <td>0.615616</td>\n",
       "      <td>0.546667</td>\n",
       "      <td>0.579096</td>\n",
       "      <td>375.0000</td>\n",
       "    </tr>\n",
       "    <tr>\n",
       "      <th>2</th>\n",
       "      <td>0.539474</td>\n",
       "      <td>0.565517</td>\n",
       "      <td>0.552189</td>\n",
       "      <td>145.0000</td>\n",
       "    </tr>\n",
       "    <tr>\n",
       "      <th>accuracy</th>\n",
       "      <td>0.752200</td>\n",
       "      <td>0.752200</td>\n",
       "      <td>0.752200</td>\n",
       "      <td>0.7522</td>\n",
       "    </tr>\n",
       "    <tr>\n",
       "      <th>macro avg</th>\n",
       "      <td>0.661911</td>\n",
       "      <td>0.657736</td>\n",
       "      <td>0.658949</td>\n",
       "      <td>1477.0000</td>\n",
       "    </tr>\n",
       "    <tr>\n",
       "      <th>weighted avg</th>\n",
       "      <td>0.747466</td>\n",
       "      <td>0.752200</td>\n",
       "      <td>0.749107</td>\n",
       "      <td>1477.0000</td>\n",
       "    </tr>\n",
       "  </tbody>\n",
       "</table>\n",
       "</div>\n",
       "      <button class=\"colab-df-convert\" onclick=\"convertToInteractive('df-21dd5f7c-f0a7-4ab5-b6d4-d230e2a9159b')\"\n",
       "              title=\"Convert this dataframe to an interactive table.\"\n",
       "              style=\"display:none;\">\n",
       "        \n",
       "  <svg xmlns=\"http://www.w3.org/2000/svg\" height=\"24px\"viewBox=\"0 0 24 24\"\n",
       "       width=\"24px\">\n",
       "    <path d=\"M0 0h24v24H0V0z\" fill=\"none\"/>\n",
       "    <path d=\"M18.56 5.44l.94 2.06.94-2.06 2.06-.94-2.06-.94-.94-2.06-.94 2.06-2.06.94zm-11 1L8.5 8.5l.94-2.06 2.06-.94-2.06-.94L8.5 2.5l-.94 2.06-2.06.94zm10 10l.94 2.06.94-2.06 2.06-.94-2.06-.94-.94-2.06-.94 2.06-2.06.94z\"/><path d=\"M17.41 7.96l-1.37-1.37c-.4-.4-.92-.59-1.43-.59-.52 0-1.04.2-1.43.59L10.3 9.45l-7.72 7.72c-.78.78-.78 2.05 0 2.83L4 21.41c.39.39.9.59 1.41.59.51 0 1.02-.2 1.41-.59l7.78-7.78 2.81-2.81c.8-.78.8-2.07 0-2.86zM5.41 20L4 18.59l7.72-7.72 1.47 1.35L5.41 20z\"/>\n",
       "  </svg>\n",
       "      </button>\n",
       "      \n",
       "  <style>\n",
       "    .colab-df-container {\n",
       "      display:flex;\n",
       "      flex-wrap:wrap;\n",
       "      gap: 12px;\n",
       "    }\n",
       "\n",
       "    .colab-df-convert {\n",
       "      background-color: #E8F0FE;\n",
       "      border: none;\n",
       "      border-radius: 50%;\n",
       "      cursor: pointer;\n",
       "      display: none;\n",
       "      fill: #1967D2;\n",
       "      height: 32px;\n",
       "      padding: 0 0 0 0;\n",
       "      width: 32px;\n",
       "    }\n",
       "\n",
       "    .colab-df-convert:hover {\n",
       "      background-color: #E2EBFA;\n",
       "      box-shadow: 0px 1px 2px rgba(60, 64, 67, 0.3), 0px 1px 3px 1px rgba(60, 64, 67, 0.15);\n",
       "      fill: #174EA6;\n",
       "    }\n",
       "\n",
       "    [theme=dark] .colab-df-convert {\n",
       "      background-color: #3B4455;\n",
       "      fill: #D2E3FC;\n",
       "    }\n",
       "\n",
       "    [theme=dark] .colab-df-convert:hover {\n",
       "      background-color: #434B5C;\n",
       "      box-shadow: 0px 1px 3px 1px rgba(0, 0, 0, 0.15);\n",
       "      filter: drop-shadow(0px 1px 2px rgba(0, 0, 0, 0.3));\n",
       "      fill: #FFFFFF;\n",
       "    }\n",
       "  </style>\n",
       "\n",
       "      <script>\n",
       "        const buttonEl =\n",
       "          document.querySelector('#df-21dd5f7c-f0a7-4ab5-b6d4-d230e2a9159b button.colab-df-convert');\n",
       "        buttonEl.style.display =\n",
       "          google.colab.kernel.accessAllowed ? 'block' : 'none';\n",
       "\n",
       "        async function convertToInteractive(key) {\n",
       "          const element = document.querySelector('#df-21dd5f7c-f0a7-4ab5-b6d4-d230e2a9159b');\n",
       "          const dataTable =\n",
       "            await google.colab.kernel.invokeFunction('convertToInteractive',\n",
       "                                                     [key], {});\n",
       "          if (!dataTable) return;\n",
       "\n",
       "          const docLinkHtml = 'Like what you see? Visit the ' +\n",
       "            '<a target=\"_blank\" href=https://colab.research.google.com/notebooks/data_table.ipynb>data table notebook</a>'\n",
       "            + ' to learn more about interactive tables.';\n",
       "          element.innerHTML = '';\n",
       "          dataTable['output_type'] = 'display_data';\n",
       "          await google.colab.output.renderOutput(dataTable, element);\n",
       "          const docLink = document.createElement('div');\n",
       "          docLink.innerHTML = docLinkHtml;\n",
       "          element.appendChild(docLink);\n",
       "        }\n",
       "      </script>\n",
       "    </div>\n",
       "  </div>\n",
       "  "
      ],
      "text/plain": [
       "              precision    recall  f1-score    support\n",
       "0              0.830645  0.861024  0.845562   957.0000\n",
       "1              0.615616  0.546667  0.579096   375.0000\n",
       "2              0.539474  0.565517  0.552189   145.0000\n",
       "accuracy       0.752200  0.752200  0.752200     0.7522\n",
       "macro avg      0.661911  0.657736  0.658949  1477.0000\n",
       "weighted avg   0.747466  0.752200  0.749107  1477.0000"
      ]
     },
     "execution_count": 64,
     "metadata": {},
     "output_type": "execute_result"
    }
   ],
   "source": [
    "df_std"
   ]
  },
  {
   "cell_type": "code",
   "execution_count": null,
   "metadata": {
    "colab": {
     "base_uri": "https://localhost:8080/"
    },
    "id": "RVsP-ym18krx",
    "outputId": "e6a0fa99-5f23-4644-d54c-247704c17101"
   },
   "outputs": [
    {
     "name": "stdout",
     "output_type": "stream",
     "text": [
      "Random forest: train loss 0.4047\n",
      "---------------------------------------------------------------\n",
      "Random forest: test loss 0.5442\n",
      "---------------------------------------------------------------\n"
     ]
    }
   ],
   "source": [
    "loss2tr = log_loss(y_train.values, lgbm.predict_proba(X_train_sca.values))\n",
    "print(\"Random forest: train loss {:.4f}\".format(loss2tr))\n",
    "print('---------------------------------------------------------------')\n",
    "loss2te = log_loss(y_test.values, lgbm.predict_proba(X_test_sca.values))\n",
    "print(\"Random forest: test loss {:.4f}\".format(loss2te))\n",
    "print('---------------------------------------------------------------')"
   ]
  },
  {
   "cell_type": "markdown",
   "metadata": {
    "id": "PjkTj4_pGPZM"
   },
   "source": [
    "**OneHptEncodng + MinMaxScaler + PCA()**"
   ]
  },
  {
   "cell_type": "code",
   "execution_count": null,
   "metadata": {
    "colab": {
     "base_uri": "https://localhost:8080/"
    },
    "id": "7fcA4R23GE0y",
    "outputId": "d71380cb-db75-43c9-8972-5bc181206d2f"
   },
   "outputs": [
    {
     "data": {
      "text/plain": [
       "38"
      ]
     },
     "execution_count": 66,
     "metadata": {},
     "output_type": "execute_result"
    }
   ],
   "source": [
    "# Calculating Eigenvectors and eigenvalues of Cov matirx\n",
    "mean_vec = np.mean(X_train_transformed_sca_copy, axis=0)\n",
    "cov_mat = np.cov(X_train_transformed_sca_copy.T)\n",
    "eig_vals, eig_vecs = np.linalg.eig(cov_mat)\n",
    "# Create a list of (eigenvalue, eigenvector) tuples\n",
    "eig_pairs = [ (np.abs(eig_vals[i]),eig_vecs[:,i]) for i in range(len(eig_vals))]\n",
    "\n",
    "# Sort the eigenvalue, eigenvector pair from high to low\n",
    "eig_pairs.sort(key = lambda x: x[0], reverse= True)\n",
    "\n",
    "# Calculation of Explained Variance from the eigenvalues\n",
    "tot = sum(eig_vals)\n",
    "var_exp = [(i/tot)*100 for i in sorted(eig_vals, reverse=True)] # Individual explained variance\n",
    "cum_var_exp = np.cumsum(var_exp) # Cumulative explained variance\n",
    "\n",
    "# Find the eigenvector beyond which 90% of the data is explained\n",
    "[ n for n,i in enumerate(cum_var_exp) if i>90 ][0]"
   ]
  },
  {
   "cell_type": "code",
   "execution_count": null,
   "metadata": {
    "id": "LKe3sBZ6GE3g"
   },
   "outputs": [],
   "source": [
    "from sklearn.decomposition import PCA\n",
    "\n",
    "# Call the PCA method with 38 components. \n",
    "pca = PCA(n_components=38)\n",
    "pca.fit(X_train_transformed_sca)\n",
    "X_38d_train = pca.transform(X_train_transformed_sca)\n",
    "X_38d_test = pca.transform(X_test_transformed_sca)"
   ]
  },
  {
   "cell_type": "code",
   "execution_count": null,
   "metadata": {
    "colab": {
     "base_uri": "https://localhost:8080/"
    },
    "id": "TvQXw_AyHiRp",
    "outputId": "afab0d4f-e7ea-4836-9a8f-2f99aa5b50ec"
   },
   "outputs": [
    {
     "name": "stdout",
     "output_type": "stream",
     "text": [
      "(5904, 38) (5904, 1)\n"
     ]
    }
   ],
   "source": [
    "print(X_38d_train.shape,y_train.shape)"
   ]
  },
  {
   "cell_type": "code",
   "execution_count": null,
   "metadata": {
    "colab": {
     "base_uri": "https://localhost:8080/"
    },
    "id": "jq_Tabw_41k6",
    "outputId": "bbc2edd1-f8e5-4c3d-d816-cf8872585427"
   },
   "outputs": [
    {
     "data": {
      "text/plain": [
       "LGBMClassifier()"
      ]
     },
     "execution_count": 69,
     "metadata": {},
     "output_type": "execute_result"
    }
   ],
   "source": [
    "lbbm = lgb.LGBMClassifier()\n",
    "lgbm.fit(X_38d_train, y_train)"
   ]
  },
  {
   "cell_type": "code",
   "execution_count": null,
   "metadata": {
    "id": "0k-wf0SZ5ABs"
   },
   "outputs": [],
   "source": [
    "#Predictions\n",
    "y_pred = lgbm.predict(X_38d_test)\n",
    "report4 = classification_report(y_test,y_pred,output_dict=True)\n",
    "df_std = pd.DataFrame(report4).transpose()"
   ]
  },
  {
   "cell_type": "code",
   "execution_count": null,
   "metadata": {
    "colab": {
     "base_uri": "https://localhost:8080/",
     "height": 238
    },
    "id": "6l2HZFTi5LWf",
    "outputId": "76e97179-49d3-4a1a-f57c-5a06b736404d"
   },
   "outputs": [
    {
     "data": {
      "text/html": [
       "\n",
       "  <div id=\"df-5db3ea63-16c6-403d-b769-9c4535bbd987\">\n",
       "    <div class=\"colab-df-container\">\n",
       "      <div>\n",
       "<style scoped>\n",
       "    .dataframe tbody tr th:only-of-type {\n",
       "        vertical-align: middle;\n",
       "    }\n",
       "\n",
       "    .dataframe tbody tr th {\n",
       "        vertical-align: top;\n",
       "    }\n",
       "\n",
       "    .dataframe thead th {\n",
       "        text-align: right;\n",
       "    }\n",
       "</style>\n",
       "<table border=\"1\" class=\"dataframe\">\n",
       "  <thead>\n",
       "    <tr style=\"text-align: right;\">\n",
       "      <th></th>\n",
       "      <th>precision</th>\n",
       "      <th>recall</th>\n",
       "      <th>f1-score</th>\n",
       "      <th>support</th>\n",
       "    </tr>\n",
       "  </thead>\n",
       "  <tbody>\n",
       "    <tr>\n",
       "      <th>0</th>\n",
       "      <td>0.819192</td>\n",
       "      <td>0.847440</td>\n",
       "      <td>0.833077</td>\n",
       "      <td>957.00000</td>\n",
       "    </tr>\n",
       "    <tr>\n",
       "      <th>1</th>\n",
       "      <td>0.543860</td>\n",
       "      <td>0.496000</td>\n",
       "      <td>0.518828</td>\n",
       "      <td>375.00000</td>\n",
       "    </tr>\n",
       "    <tr>\n",
       "      <th>2</th>\n",
       "      <td>0.482759</td>\n",
       "      <td>0.482759</td>\n",
       "      <td>0.482759</td>\n",
       "      <td>145.00000</td>\n",
       "    </tr>\n",
       "    <tr>\n",
       "      <th>accuracy</th>\n",
       "      <td>0.722410</td>\n",
       "      <td>0.722410</td>\n",
       "      <td>0.722410</td>\n",
       "      <td>0.72241</td>\n",
       "    </tr>\n",
       "    <tr>\n",
       "      <th>macro avg</th>\n",
       "      <td>0.615270</td>\n",
       "      <td>0.608733</td>\n",
       "      <td>0.611555</td>\n",
       "      <td>1477.00000</td>\n",
       "    </tr>\n",
       "    <tr>\n",
       "      <th>weighted avg</th>\n",
       "      <td>0.716259</td>\n",
       "      <td>0.722410</td>\n",
       "      <td>0.718900</td>\n",
       "      <td>1477.00000</td>\n",
       "    </tr>\n",
       "  </tbody>\n",
       "</table>\n",
       "</div>\n",
       "      <button class=\"colab-df-convert\" onclick=\"convertToInteractive('df-5db3ea63-16c6-403d-b769-9c4535bbd987')\"\n",
       "              title=\"Convert this dataframe to an interactive table.\"\n",
       "              style=\"display:none;\">\n",
       "        \n",
       "  <svg xmlns=\"http://www.w3.org/2000/svg\" height=\"24px\"viewBox=\"0 0 24 24\"\n",
       "       width=\"24px\">\n",
       "    <path d=\"M0 0h24v24H0V0z\" fill=\"none\"/>\n",
       "    <path d=\"M18.56 5.44l.94 2.06.94-2.06 2.06-.94-2.06-.94-.94-2.06-.94 2.06-2.06.94zm-11 1L8.5 8.5l.94-2.06 2.06-.94-2.06-.94L8.5 2.5l-.94 2.06-2.06.94zm10 10l.94 2.06.94-2.06 2.06-.94-2.06-.94-.94-2.06-.94 2.06-2.06.94z\"/><path d=\"M17.41 7.96l-1.37-1.37c-.4-.4-.92-.59-1.43-.59-.52 0-1.04.2-1.43.59L10.3 9.45l-7.72 7.72c-.78.78-.78 2.05 0 2.83L4 21.41c.39.39.9.59 1.41.59.51 0 1.02-.2 1.41-.59l7.78-7.78 2.81-2.81c.8-.78.8-2.07 0-2.86zM5.41 20L4 18.59l7.72-7.72 1.47 1.35L5.41 20z\"/>\n",
       "  </svg>\n",
       "      </button>\n",
       "      \n",
       "  <style>\n",
       "    .colab-df-container {\n",
       "      display:flex;\n",
       "      flex-wrap:wrap;\n",
       "      gap: 12px;\n",
       "    }\n",
       "\n",
       "    .colab-df-convert {\n",
       "      background-color: #E8F0FE;\n",
       "      border: none;\n",
       "      border-radius: 50%;\n",
       "      cursor: pointer;\n",
       "      display: none;\n",
       "      fill: #1967D2;\n",
       "      height: 32px;\n",
       "      padding: 0 0 0 0;\n",
       "      width: 32px;\n",
       "    }\n",
       "\n",
       "    .colab-df-convert:hover {\n",
       "      background-color: #E2EBFA;\n",
       "      box-shadow: 0px 1px 2px rgba(60, 64, 67, 0.3), 0px 1px 3px 1px rgba(60, 64, 67, 0.15);\n",
       "      fill: #174EA6;\n",
       "    }\n",
       "\n",
       "    [theme=dark] .colab-df-convert {\n",
       "      background-color: #3B4455;\n",
       "      fill: #D2E3FC;\n",
       "    }\n",
       "\n",
       "    [theme=dark] .colab-df-convert:hover {\n",
       "      background-color: #434B5C;\n",
       "      box-shadow: 0px 1px 3px 1px rgba(0, 0, 0, 0.15);\n",
       "      filter: drop-shadow(0px 1px 2px rgba(0, 0, 0, 0.3));\n",
       "      fill: #FFFFFF;\n",
       "    }\n",
       "  </style>\n",
       "\n",
       "      <script>\n",
       "        const buttonEl =\n",
       "          document.querySelector('#df-5db3ea63-16c6-403d-b769-9c4535bbd987 button.colab-df-convert');\n",
       "        buttonEl.style.display =\n",
       "          google.colab.kernel.accessAllowed ? 'block' : 'none';\n",
       "\n",
       "        async function convertToInteractive(key) {\n",
       "          const element = document.querySelector('#df-5db3ea63-16c6-403d-b769-9c4535bbd987');\n",
       "          const dataTable =\n",
       "            await google.colab.kernel.invokeFunction('convertToInteractive',\n",
       "                                                     [key], {});\n",
       "          if (!dataTable) return;\n",
       "\n",
       "          const docLinkHtml = 'Like what you see? Visit the ' +\n",
       "            '<a target=\"_blank\" href=https://colab.research.google.com/notebooks/data_table.ipynb>data table notebook</a>'\n",
       "            + ' to learn more about interactive tables.';\n",
       "          element.innerHTML = '';\n",
       "          dataTable['output_type'] = 'display_data';\n",
       "          await google.colab.output.renderOutput(dataTable, element);\n",
       "          const docLink = document.createElement('div');\n",
       "          docLink.innerHTML = docLinkHtml;\n",
       "          element.appendChild(docLink);\n",
       "        }\n",
       "      </script>\n",
       "    </div>\n",
       "  </div>\n",
       "  "
      ],
      "text/plain": [
       "              precision    recall  f1-score     support\n",
       "0              0.819192  0.847440  0.833077   957.00000\n",
       "1              0.543860  0.496000  0.518828   375.00000\n",
       "2              0.482759  0.482759  0.482759   145.00000\n",
       "accuracy       0.722410  0.722410  0.722410     0.72241\n",
       "macro avg      0.615270  0.608733  0.611555  1477.00000\n",
       "weighted avg   0.716259  0.722410  0.718900  1477.00000"
      ]
     },
     "execution_count": 71,
     "metadata": {},
     "output_type": "execute_result"
    }
   ],
   "source": [
    "df_std"
   ]
  },
  {
   "cell_type": "code",
   "execution_count": null,
   "metadata": {
    "id": "6FEI5_rb76y6"
   },
   "outputs": [],
   "source": [
    "X_38d_train = pd.DataFrame(X_38d_train)\n",
    "X_38d_test = pd.DataFrame(X_38d_test)"
   ]
  },
  {
   "cell_type": "code",
   "execution_count": null,
   "metadata": {
    "colab": {
     "base_uri": "https://localhost:8080/"
    },
    "id": "PfKpUzepMgNe",
    "outputId": "28c69da4-bff3-481c-b120-34cd7e245732"
   },
   "outputs": [
    {
     "name": "stdout",
     "output_type": "stream",
     "text": [
      "Random forest: train loss 0.3670\n",
      "---------------------------------------------------------------\n",
      "Random forest: test loss 0.6017\n",
      "---------------------------------------------------------------\n"
     ]
    }
   ],
   "source": [
    "loss2tr = log_loss(y_train.values, lgbm.predict_proba(X_38d_train.values))\n",
    "print(\"Random forest: train loss {:.4f}\".format(loss2tr))\n",
    "print('---------------------------------------------------------------')\n",
    "loss2te = log_loss(y_test.values, lgbm.predict_proba(X_38d_test.values))\n",
    "print(\"Random forest: test loss {:.4f}\".format(loss2te))\n",
    "print('---------------------------------------------------------------')"
   ]
  },
  {
   "cell_type": "markdown",
   "metadata": {
    "id": "FP8zL-mc8o0m"
   },
   "source": [
    "**OneHoEncoding + RobustScaler()**"
   ]
  },
  {
   "cell_type": "code",
   "execution_count": null,
   "metadata": {
    "id": "ubxHYNAL8ncI"
   },
   "outputs": [],
   "source": [
    "# create a transformed for the numerical values\n",
    "numeric_transformer_robust = Pipeline(steps=[('imputer', SimpleImputer(strategy='median')), ('scaler',RobustScaler())])"
   ]
  },
  {
   "cell_type": "code",
   "execution_count": null,
   "metadata": {
    "id": "CBNSQ_YY8yqS"
   },
   "outputs": [],
   "source": [
    "from sklearn.compose import ColumnTransformer\n",
    "\n",
    "preprocessor_sca_robust = ColumnTransformer(\n",
    "    transformers=[\n",
    "        ('num', numeric_transformer_robust, numeric_features),\n",
    "        ('cat', categorical_transformer, categorical_features)\n",
    "    ])"
   ]
  },
  {
   "cell_type": "code",
   "execution_count": null,
   "metadata": {
    "id": "ehfyPDXd84sf"
   },
   "outputs": [],
   "source": [
    "#We are then ready to transform!\n",
    "X_train_transformed_sca = preprocessor_sca_robust.fit_transform(X_train)\n",
    "X_test_transformed_sca = preprocessor_sca_robust.transform(X_test)\n",
    "X_train_transformed_sca_copy = X_train_transformed_sca.copy()\n",
    "test_transformed_sca = preprocessor_sca_robust.transform(Y)\n",
    "\n",
    "X_train_sca = pd.DataFrame(X_train_transformed_sca)\n",
    "X_test_sca = pd.DataFrame(X_test_transformed_sca)\n",
    "test_sca = pd.DataFrame(test_transformed_sca)"
   ]
  },
  {
   "cell_type": "code",
   "execution_count": null,
   "metadata": {
    "colab": {
     "base_uri": "https://localhost:8080/"
    },
    "id": "oGf4DfMS8_qr",
    "outputId": "262d39a1-5389-484c-907f-f1620b75f4b4"
   },
   "outputs": [
    {
     "name": "stdout",
     "output_type": "stream",
     "text": [
      "Model evaluation By Standardizing Data\n",
      "kNN \t 0.5944700220651774\n",
      "forest \t 0.6333380866880441\n",
      "LogReg \t 0.6106504108167008\n",
      "SVC \t 0.6069384796365953\n",
      "XGB \t 0.6145534222368054\n",
      "LGBM \t 0.647369724903187\n",
      "GBC \t 0.6268064348967959\n"
     ]
    }
   ],
   "source": [
    "# Loop through classifiers\n",
    "print('Model evaluation By Standardizing Data')\n",
    "\n",
    "for classifier, clf_name in zip(classifiers, classifier_names):\n",
    "  # Calculate CV\n",
    "  print(clf_name,'\\t',cross_val_score(estimator=classifier,X=X_train_sca, y=y_train, cv=5, scoring='f1_macro').mean())"
   ]
  },
  {
   "cell_type": "code",
   "execution_count": null,
   "metadata": {
    "colab": {
     "base_uri": "https://localhost:8080/"
    },
    "id": "E2ao_JDV952O",
    "outputId": "733ca926-10f1-4e81-c634-fa5e46c25915"
   },
   "outputs": [
    {
     "data": {
      "text/plain": [
       "LGBMClassifier()"
      ]
     },
     "execution_count": 78,
     "metadata": {},
     "output_type": "execute_result"
    }
   ],
   "source": [
    "# Train uncalibrated random forest classifier on whole train and validation\n",
    "# data and evaluate on test data\n",
    "lbbm = lgb.LGBMClassifier()\n",
    "lgbm.fit(X_train_sca, y_train)"
   ]
  },
  {
   "cell_type": "code",
   "execution_count": null,
   "metadata": {
    "id": "DhHq43Q580oq"
   },
   "outputs": [],
   "source": [
    "#Predictions\n",
    "y_pred = lgbm.predict(X_test_sca)\n",
    "report5 = classification_report(y_test,y_pred,output_dict=True)\n",
    "df_std = pd.DataFrame(report5).transpose()"
   ]
  },
  {
   "cell_type": "code",
   "execution_count": null,
   "metadata": {
    "colab": {
     "base_uri": "https://localhost:8080/",
     "height": 238
    },
    "id": "m2RA8_qt-fif",
    "outputId": "a9cf7cab-2d0d-48ed-e765-81768dd4c8a6"
   },
   "outputs": [
    {
     "data": {
      "text/html": [
       "\n",
       "  <div id=\"df-be5cdf51-91a2-4715-95a8-ba918f6b9be6\">\n",
       "    <div class=\"colab-df-container\">\n",
       "      <div>\n",
       "<style scoped>\n",
       "    .dataframe tbody tr th:only-of-type {\n",
       "        vertical-align: middle;\n",
       "    }\n",
       "\n",
       "    .dataframe tbody tr th {\n",
       "        vertical-align: top;\n",
       "    }\n",
       "\n",
       "    .dataframe thead th {\n",
       "        text-align: right;\n",
       "    }\n",
       "</style>\n",
       "<table border=\"1\" class=\"dataframe\">\n",
       "  <thead>\n",
       "    <tr style=\"text-align: right;\">\n",
       "      <th></th>\n",
       "      <th>precision</th>\n",
       "      <th>recall</th>\n",
       "      <th>f1-score</th>\n",
       "      <th>support</th>\n",
       "    </tr>\n",
       "  </thead>\n",
       "  <tbody>\n",
       "    <tr>\n",
       "      <th>0</th>\n",
       "      <td>0.823353</td>\n",
       "      <td>0.862069</td>\n",
       "      <td>0.842266</td>\n",
       "      <td>957.000000</td>\n",
       "    </tr>\n",
       "    <tr>\n",
       "      <th>1</th>\n",
       "      <td>0.610592</td>\n",
       "      <td>0.522667</td>\n",
       "      <td>0.563218</td>\n",
       "      <td>375.000000</td>\n",
       "    </tr>\n",
       "    <tr>\n",
       "      <th>2</th>\n",
       "      <td>0.538961</td>\n",
       "      <td>0.572414</td>\n",
       "      <td>0.555184</td>\n",
       "      <td>145.000000</td>\n",
       "    </tr>\n",
       "    <tr>\n",
       "      <th>accuracy</th>\n",
       "      <td>0.747461</td>\n",
       "      <td>0.747461</td>\n",
       "      <td>0.747461</td>\n",
       "      <td>0.747461</td>\n",
       "    </tr>\n",
       "    <tr>\n",
       "      <th>macro avg</th>\n",
       "      <td>0.657635</td>\n",
       "      <td>0.652383</td>\n",
       "      <td>0.653556</td>\n",
       "      <td>1477.000000</td>\n",
       "    </tr>\n",
       "    <tr>\n",
       "      <th>weighted avg</th>\n",
       "      <td>0.741415</td>\n",
       "      <td>0.747461</td>\n",
       "      <td>0.743235</td>\n",
       "      <td>1477.000000</td>\n",
       "    </tr>\n",
       "  </tbody>\n",
       "</table>\n",
       "</div>\n",
       "      <button class=\"colab-df-convert\" onclick=\"convertToInteractive('df-be5cdf51-91a2-4715-95a8-ba918f6b9be6')\"\n",
       "              title=\"Convert this dataframe to an interactive table.\"\n",
       "              style=\"display:none;\">\n",
       "        \n",
       "  <svg xmlns=\"http://www.w3.org/2000/svg\" height=\"24px\"viewBox=\"0 0 24 24\"\n",
       "       width=\"24px\">\n",
       "    <path d=\"M0 0h24v24H0V0z\" fill=\"none\"/>\n",
       "    <path d=\"M18.56 5.44l.94 2.06.94-2.06 2.06-.94-2.06-.94-.94-2.06-.94 2.06-2.06.94zm-11 1L8.5 8.5l.94-2.06 2.06-.94-2.06-.94L8.5 2.5l-.94 2.06-2.06.94zm10 10l.94 2.06.94-2.06 2.06-.94-2.06-.94-.94-2.06-.94 2.06-2.06.94z\"/><path d=\"M17.41 7.96l-1.37-1.37c-.4-.4-.92-.59-1.43-.59-.52 0-1.04.2-1.43.59L10.3 9.45l-7.72 7.72c-.78.78-.78 2.05 0 2.83L4 21.41c.39.39.9.59 1.41.59.51 0 1.02-.2 1.41-.59l7.78-7.78 2.81-2.81c.8-.78.8-2.07 0-2.86zM5.41 20L4 18.59l7.72-7.72 1.47 1.35L5.41 20z\"/>\n",
       "  </svg>\n",
       "      </button>\n",
       "      \n",
       "  <style>\n",
       "    .colab-df-container {\n",
       "      display:flex;\n",
       "      flex-wrap:wrap;\n",
       "      gap: 12px;\n",
       "    }\n",
       "\n",
       "    .colab-df-convert {\n",
       "      background-color: #E8F0FE;\n",
       "      border: none;\n",
       "      border-radius: 50%;\n",
       "      cursor: pointer;\n",
       "      display: none;\n",
       "      fill: #1967D2;\n",
       "      height: 32px;\n",
       "      padding: 0 0 0 0;\n",
       "      width: 32px;\n",
       "    }\n",
       "\n",
       "    .colab-df-convert:hover {\n",
       "      background-color: #E2EBFA;\n",
       "      box-shadow: 0px 1px 2px rgba(60, 64, 67, 0.3), 0px 1px 3px 1px rgba(60, 64, 67, 0.15);\n",
       "      fill: #174EA6;\n",
       "    }\n",
       "\n",
       "    [theme=dark] .colab-df-convert {\n",
       "      background-color: #3B4455;\n",
       "      fill: #D2E3FC;\n",
       "    }\n",
       "\n",
       "    [theme=dark] .colab-df-convert:hover {\n",
       "      background-color: #434B5C;\n",
       "      box-shadow: 0px 1px 3px 1px rgba(0, 0, 0, 0.15);\n",
       "      filter: drop-shadow(0px 1px 2px rgba(0, 0, 0, 0.3));\n",
       "      fill: #FFFFFF;\n",
       "    }\n",
       "  </style>\n",
       "\n",
       "      <script>\n",
       "        const buttonEl =\n",
       "          document.querySelector('#df-be5cdf51-91a2-4715-95a8-ba918f6b9be6 button.colab-df-convert');\n",
       "        buttonEl.style.display =\n",
       "          google.colab.kernel.accessAllowed ? 'block' : 'none';\n",
       "\n",
       "        async function convertToInteractive(key) {\n",
       "          const element = document.querySelector('#df-be5cdf51-91a2-4715-95a8-ba918f6b9be6');\n",
       "          const dataTable =\n",
       "            await google.colab.kernel.invokeFunction('convertToInteractive',\n",
       "                                                     [key], {});\n",
       "          if (!dataTable) return;\n",
       "\n",
       "          const docLinkHtml = 'Like what you see? Visit the ' +\n",
       "            '<a target=\"_blank\" href=https://colab.research.google.com/notebooks/data_table.ipynb>data table notebook</a>'\n",
       "            + ' to learn more about interactive tables.';\n",
       "          element.innerHTML = '';\n",
       "          dataTable['output_type'] = 'display_data';\n",
       "          await google.colab.output.renderOutput(dataTable, element);\n",
       "          const docLink = document.createElement('div');\n",
       "          docLink.innerHTML = docLinkHtml;\n",
       "          element.appendChild(docLink);\n",
       "        }\n",
       "      </script>\n",
       "    </div>\n",
       "  </div>\n",
       "  "
      ],
      "text/plain": [
       "              precision    recall  f1-score      support\n",
       "0              0.823353  0.862069  0.842266   957.000000\n",
       "1              0.610592  0.522667  0.563218   375.000000\n",
       "2              0.538961  0.572414  0.555184   145.000000\n",
       "accuracy       0.747461  0.747461  0.747461     0.747461\n",
       "macro avg      0.657635  0.652383  0.653556  1477.000000\n",
       "weighted avg   0.741415  0.747461  0.743235  1477.000000"
      ]
     },
     "execution_count": 80,
     "metadata": {},
     "output_type": "execute_result"
    }
   ],
   "source": [
    "df_std"
   ]
  },
  {
   "cell_type": "code",
   "execution_count": null,
   "metadata": {
    "colab": {
     "base_uri": "https://localhost:8080/"
    },
    "id": "IvOAYsrH9En1",
    "outputId": "e86516ac-7fd9-48fa-d6b7-41dd5a5e005d"
   },
   "outputs": [
    {
     "name": "stdout",
     "output_type": "stream",
     "text": [
      "Random forest: train loss 0.8647\n",
      "---------------------------------------------------------------\n",
      "Random forest: test loss 0.9167\n",
      "---------------------------------------------------------------\n"
     ]
    }
   ],
   "source": [
    "loss2tr = log_loss(y_train.values, lgbm.predict_proba(X_train.values))\n",
    "print(\"Random forest: train loss {:.4f}\".format(loss2tr))\n",
    "print('---------------------------------------------------------------')\n",
    "loss2te = log_loss(y_test.values, lgbm.predict_proba(X_test.values))\n",
    "print(\"Random forest: test loss {:.4f}\".format(loss2te))\n",
    "print('---------------------------------------------------------------')"
   ]
  },
  {
   "cell_type": "markdown",
   "metadata": {
    "id": "JBvwI2px_LGq"
   },
   "source": [
    "**Approach-3 -- OneHotEncoder + MinMaxScaler() + Adding new features**"
   ]
  },
  {
   "cell_type": "markdown",
   "metadata": {
    "id": "wO7DjhuNPPs8"
   },
   "source": [
    "a) Adding log volume features"
   ]
  },
  {
   "cell_type": "code",
   "execution_count": 38,
   "metadata": {
    "id": "aCYvm83p9HmC"
   },
   "outputs": [],
   "source": [
    "# merge log features\n",
    "log_vol = log_feature_copy.groupby('id')['volume'].agg(['count','min', 'mean', 'max', 'std', 'sum']).fillna(0).add_prefix('log_volume')"
   ]
  },
  {
   "cell_type": "code",
   "execution_count": 39,
   "metadata": {
    "id": "yD7v8UkLPXJn"
   },
   "outputs": [],
   "source": [
    "log_vol = log_vol.reset_index()"
   ]
  },
  {
   "cell_type": "code",
   "execution_count": 40,
   "metadata": {
    "colab": {
     "base_uri": "https://localhost:8080/",
     "height": 112
    },
    "id": "dmn5BuvlPXMU",
    "outputId": "1a084fb1-12c6-477a-cc94-e7eb0de95f48"
   },
   "outputs": [
    {
     "data": {
      "text/html": [
       "\n",
       "  <div id=\"df-e2fd3ab6-51dd-45e7-9753-7436baa5e9e1\">\n",
       "    <div class=\"colab-df-container\">\n",
       "      <div>\n",
       "<style scoped>\n",
       "    .dataframe tbody tr th:only-of-type {\n",
       "        vertical-align: middle;\n",
       "    }\n",
       "\n",
       "    .dataframe tbody tr th {\n",
       "        vertical-align: top;\n",
       "    }\n",
       "\n",
       "    .dataframe thead th {\n",
       "        text-align: right;\n",
       "    }\n",
       "</style>\n",
       "<table border=\"1\" class=\"dataframe\">\n",
       "  <thead>\n",
       "    <tr style=\"text-align: right;\">\n",
       "      <th></th>\n",
       "      <th>id</th>\n",
       "      <th>log_volumecount</th>\n",
       "      <th>log_volumemin</th>\n",
       "      <th>log_volumemean</th>\n",
       "      <th>log_volumemax</th>\n",
       "      <th>log_volumestd</th>\n",
       "      <th>log_volumesum</th>\n",
       "    </tr>\n",
       "  </thead>\n",
       "  <tbody>\n",
       "    <tr>\n",
       "      <th>0</th>\n",
       "      <td>1</td>\n",
       "      <td>3</td>\n",
       "      <td>1</td>\n",
       "      <td>1.666667</td>\n",
       "      <td>2</td>\n",
       "      <td>0.57735</td>\n",
       "      <td>5</td>\n",
       "    </tr>\n",
       "    <tr>\n",
       "      <th>1</th>\n",
       "      <td>2</td>\n",
       "      <td>5</td>\n",
       "      <td>1</td>\n",
       "      <td>1.000000</td>\n",
       "      <td>1</td>\n",
       "      <td>0.00000</td>\n",
       "      <td>5</td>\n",
       "    </tr>\n",
       "  </tbody>\n",
       "</table>\n",
       "</div>\n",
       "      <button class=\"colab-df-convert\" onclick=\"convertToInteractive('df-e2fd3ab6-51dd-45e7-9753-7436baa5e9e1')\"\n",
       "              title=\"Convert this dataframe to an interactive table.\"\n",
       "              style=\"display:none;\">\n",
       "        \n",
       "  <svg xmlns=\"http://www.w3.org/2000/svg\" height=\"24px\"viewBox=\"0 0 24 24\"\n",
       "       width=\"24px\">\n",
       "    <path d=\"M0 0h24v24H0V0z\" fill=\"none\"/>\n",
       "    <path d=\"M18.56 5.44l.94 2.06.94-2.06 2.06-.94-2.06-.94-.94-2.06-.94 2.06-2.06.94zm-11 1L8.5 8.5l.94-2.06 2.06-.94-2.06-.94L8.5 2.5l-.94 2.06-2.06.94zm10 10l.94 2.06.94-2.06 2.06-.94-2.06-.94-.94-2.06-.94 2.06-2.06.94z\"/><path d=\"M17.41 7.96l-1.37-1.37c-.4-.4-.92-.59-1.43-.59-.52 0-1.04.2-1.43.59L10.3 9.45l-7.72 7.72c-.78.78-.78 2.05 0 2.83L4 21.41c.39.39.9.59 1.41.59.51 0 1.02-.2 1.41-.59l7.78-7.78 2.81-2.81c.8-.78.8-2.07 0-2.86zM5.41 20L4 18.59l7.72-7.72 1.47 1.35L5.41 20z\"/>\n",
       "  </svg>\n",
       "      </button>\n",
       "      \n",
       "  <style>\n",
       "    .colab-df-container {\n",
       "      display:flex;\n",
       "      flex-wrap:wrap;\n",
       "      gap: 12px;\n",
       "    }\n",
       "\n",
       "    .colab-df-convert {\n",
       "      background-color: #E8F0FE;\n",
       "      border: none;\n",
       "      border-radius: 50%;\n",
       "      cursor: pointer;\n",
       "      display: none;\n",
       "      fill: #1967D2;\n",
       "      height: 32px;\n",
       "      padding: 0 0 0 0;\n",
       "      width: 32px;\n",
       "    }\n",
       "\n",
       "    .colab-df-convert:hover {\n",
       "      background-color: #E2EBFA;\n",
       "      box-shadow: 0px 1px 2px rgba(60, 64, 67, 0.3), 0px 1px 3px 1px rgba(60, 64, 67, 0.15);\n",
       "      fill: #174EA6;\n",
       "    }\n",
       "\n",
       "    [theme=dark] .colab-df-convert {\n",
       "      background-color: #3B4455;\n",
       "      fill: #D2E3FC;\n",
       "    }\n",
       "\n",
       "    [theme=dark] .colab-df-convert:hover {\n",
       "      background-color: #434B5C;\n",
       "      box-shadow: 0px 1px 3px 1px rgba(0, 0, 0, 0.15);\n",
       "      filter: drop-shadow(0px 1px 2px rgba(0, 0, 0, 0.3));\n",
       "      fill: #FFFFFF;\n",
       "    }\n",
       "  </style>\n",
       "\n",
       "      <script>\n",
       "        const buttonEl =\n",
       "          document.querySelector('#df-e2fd3ab6-51dd-45e7-9753-7436baa5e9e1 button.colab-df-convert');\n",
       "        buttonEl.style.display =\n",
       "          google.colab.kernel.accessAllowed ? 'block' : 'none';\n",
       "\n",
       "        async function convertToInteractive(key) {\n",
       "          const element = document.querySelector('#df-e2fd3ab6-51dd-45e7-9753-7436baa5e9e1');\n",
       "          const dataTable =\n",
       "            await google.colab.kernel.invokeFunction('convertToInteractive',\n",
       "                                                     [key], {});\n",
       "          if (!dataTable) return;\n",
       "\n",
       "          const docLinkHtml = 'Like what you see? Visit the ' +\n",
       "            '<a target=\"_blank\" href=https://colab.research.google.com/notebooks/data_table.ipynb>data table notebook</a>'\n",
       "            + ' to learn more about interactive tables.';\n",
       "          element.innerHTML = '';\n",
       "          dataTable['output_type'] = 'display_data';\n",
       "          await google.colab.output.renderOutput(dataTable, element);\n",
       "          const docLink = document.createElement('div');\n",
       "          docLink.innerHTML = docLinkHtml;\n",
       "          element.appendChild(docLink);\n",
       "        }\n",
       "      </script>\n",
       "    </div>\n",
       "  </div>\n",
       "  "
      ],
      "text/plain": [
       "   id  log_volumecount  ...  log_volumestd  log_volumesum\n",
       "0   1                3  ...        0.57735              5\n",
       "1   2                5  ...        0.00000              5\n",
       "\n",
       "[2 rows x 7 columns]"
      ]
     },
     "execution_count": 40,
     "metadata": {},
     "output_type": "execute_result"
    }
   ],
   "source": [
    "log_vol.head(2)"
   ]
  },
  {
   "cell_type": "code",
   "execution_count": 41,
   "metadata": {
    "colab": {
     "base_uri": "https://localhost:8080/"
    },
    "id": "TmuDTyXlPdjF",
    "outputId": "997daaa5-aaa6-48c4-cfd1-4a06ce84b02b"
   },
   "outputs": [
    {
     "name": "stdout",
     "output_type": "stream",
     "text": [
      "(7381, 456) (11171, 456)\n"
     ]
    }
   ],
   "source": [
    "print(X.shape,Y.shape)"
   ]
  },
  {
   "cell_type": "code",
   "execution_count": 42,
   "metadata": {
    "colab": {
     "base_uri": "https://localhost:8080/",
     "height": 206
    },
    "id": "pssSijuXPlg-",
    "outputId": "8faf194f-bd89-44d3-fa3d-af275e4e572d"
   },
   "outputs": [
    {
     "data": {
      "text/html": [
       "\n",
       "  <div id=\"df-bab08538-5eaa-4788-87be-bbac4b970b43\">\n",
       "    <div class=\"colab-df-container\">\n",
       "      <div>\n",
       "<style scoped>\n",
       "    .dataframe tbody tr th:only-of-type {\n",
       "        vertical-align: middle;\n",
       "    }\n",
       "\n",
       "    .dataframe tbody tr th {\n",
       "        vertical-align: top;\n",
       "    }\n",
       "\n",
       "    .dataframe thead th {\n",
       "        text-align: right;\n",
       "    }\n",
       "</style>\n",
       "<table border=\"1\" class=\"dataframe\">\n",
       "  <thead>\n",
       "    <tr style=\"text-align: right;\">\n",
       "      <th></th>\n",
       "      <th>location_id</th>\n",
       "      <th>event_type_1</th>\n",
       "      <th>event_type_2</th>\n",
       "      <th>event_type_3</th>\n",
       "      <th>event_type_4</th>\n",
       "      <th>event_type_5</th>\n",
       "      <th>event_type_6</th>\n",
       "      <th>event_type_7</th>\n",
       "      <th>event_type_8</th>\n",
       "      <th>event_type_9</th>\n",
       "      <th>event_type_10</th>\n",
       "      <th>event_type_11</th>\n",
       "      <th>event_type_12</th>\n",
       "      <th>event_type_13</th>\n",
       "      <th>event_type_14</th>\n",
       "      <th>event_type_15</th>\n",
       "      <th>event_type_17</th>\n",
       "      <th>event_type_18</th>\n",
       "      <th>event_type_19</th>\n",
       "      <th>event_type_20</th>\n",
       "      <th>event_type_21</th>\n",
       "      <th>event_type_22</th>\n",
       "      <th>event_type_23</th>\n",
       "      <th>event_type_24</th>\n",
       "      <th>event_type_25</th>\n",
       "      <th>event_type_26</th>\n",
       "      <th>event_type_27</th>\n",
       "      <th>event_type_28</th>\n",
       "      <th>event_type_29</th>\n",
       "      <th>event_type_30</th>\n",
       "      <th>event_type_31</th>\n",
       "      <th>event_type_32</th>\n",
       "      <th>event_type_33</th>\n",
       "      <th>event_type_34</th>\n",
       "      <th>event_type_35</th>\n",
       "      <th>event_type_36</th>\n",
       "      <th>event_type_37</th>\n",
       "      <th>event_type_38</th>\n",
       "      <th>event_type_39</th>\n",
       "      <th>event_type_40</th>\n",
       "      <th>...</th>\n",
       "      <th>log_feature_347</th>\n",
       "      <th>log_feature_348</th>\n",
       "      <th>log_feature_349</th>\n",
       "      <th>log_feature_350</th>\n",
       "      <th>log_feature_351</th>\n",
       "      <th>log_feature_352</th>\n",
       "      <th>log_feature_353</th>\n",
       "      <th>log_feature_354</th>\n",
       "      <th>log_feature_355</th>\n",
       "      <th>log_feature_356</th>\n",
       "      <th>log_feature_357</th>\n",
       "      <th>log_feature_358</th>\n",
       "      <th>log_feature_359</th>\n",
       "      <th>log_feature_360</th>\n",
       "      <th>log_feature_361</th>\n",
       "      <th>log_feature_362</th>\n",
       "      <th>log_feature_363</th>\n",
       "      <th>log_feature_364</th>\n",
       "      <th>log_feature_365</th>\n",
       "      <th>log_feature_366</th>\n",
       "      <th>log_feature_367</th>\n",
       "      <th>log_feature_368</th>\n",
       "      <th>log_feature_369</th>\n",
       "      <th>log_feature_370</th>\n",
       "      <th>log_feature_371</th>\n",
       "      <th>log_feature_372</th>\n",
       "      <th>log_feature_373</th>\n",
       "      <th>log_feature_374</th>\n",
       "      <th>log_feature_375</th>\n",
       "      <th>log_feature_376</th>\n",
       "      <th>log_feature_377</th>\n",
       "      <th>log_feature_378</th>\n",
       "      <th>log_feature_379</th>\n",
       "      <th>log_feature_380</th>\n",
       "      <th>log_feature_381</th>\n",
       "      <th>log_feature_382</th>\n",
       "      <th>log_feature_383</th>\n",
       "      <th>log_feature_384</th>\n",
       "      <th>log_feature_385</th>\n",
       "      <th>log_feature_386</th>\n",
       "    </tr>\n",
       "    <tr>\n",
       "      <th>id</th>\n",
       "      <th></th>\n",
       "      <th></th>\n",
       "      <th></th>\n",
       "      <th></th>\n",
       "      <th></th>\n",
       "      <th></th>\n",
       "      <th></th>\n",
       "      <th></th>\n",
       "      <th></th>\n",
       "      <th></th>\n",
       "      <th></th>\n",
       "      <th></th>\n",
       "      <th></th>\n",
       "      <th></th>\n",
       "      <th></th>\n",
       "      <th></th>\n",
       "      <th></th>\n",
       "      <th></th>\n",
       "      <th></th>\n",
       "      <th></th>\n",
       "      <th></th>\n",
       "      <th></th>\n",
       "      <th></th>\n",
       "      <th></th>\n",
       "      <th></th>\n",
       "      <th></th>\n",
       "      <th></th>\n",
       "      <th></th>\n",
       "      <th></th>\n",
       "      <th></th>\n",
       "      <th></th>\n",
       "      <th></th>\n",
       "      <th></th>\n",
       "      <th></th>\n",
       "      <th></th>\n",
       "      <th></th>\n",
       "      <th></th>\n",
       "      <th></th>\n",
       "      <th></th>\n",
       "      <th></th>\n",
       "      <th></th>\n",
       "      <th></th>\n",
       "      <th></th>\n",
       "      <th></th>\n",
       "      <th></th>\n",
       "      <th></th>\n",
       "      <th></th>\n",
       "      <th></th>\n",
       "      <th></th>\n",
       "      <th></th>\n",
       "      <th></th>\n",
       "      <th></th>\n",
       "      <th></th>\n",
       "      <th></th>\n",
       "      <th></th>\n",
       "      <th></th>\n",
       "      <th></th>\n",
       "      <th></th>\n",
       "      <th></th>\n",
       "      <th></th>\n",
       "      <th></th>\n",
       "      <th></th>\n",
       "      <th></th>\n",
       "      <th></th>\n",
       "      <th></th>\n",
       "      <th></th>\n",
       "      <th></th>\n",
       "      <th></th>\n",
       "      <th></th>\n",
       "      <th></th>\n",
       "      <th></th>\n",
       "      <th></th>\n",
       "      <th></th>\n",
       "      <th></th>\n",
       "      <th></th>\n",
       "      <th></th>\n",
       "      <th></th>\n",
       "      <th></th>\n",
       "      <th></th>\n",
       "      <th></th>\n",
       "      <th></th>\n",
       "    </tr>\n",
       "  </thead>\n",
       "  <tbody>\n",
       "    <tr>\n",
       "      <th>14121</th>\n",
       "      <td>118</td>\n",
       "      <td>0</td>\n",
       "      <td>0</td>\n",
       "      <td>0</td>\n",
       "      <td>0</td>\n",
       "      <td>0</td>\n",
       "      <td>0</td>\n",
       "      <td>0</td>\n",
       "      <td>0</td>\n",
       "      <td>0</td>\n",
       "      <td>0</td>\n",
       "      <td>0</td>\n",
       "      <td>0</td>\n",
       "      <td>0</td>\n",
       "      <td>0</td>\n",
       "      <td>0</td>\n",
       "      <td>0</td>\n",
       "      <td>0</td>\n",
       "      <td>0</td>\n",
       "      <td>0</td>\n",
       "      <td>0</td>\n",
       "      <td>0</td>\n",
       "      <td>0</td>\n",
       "      <td>0</td>\n",
       "      <td>0</td>\n",
       "      <td>0</td>\n",
       "      <td>0</td>\n",
       "      <td>0</td>\n",
       "      <td>0</td>\n",
       "      <td>0</td>\n",
       "      <td>0</td>\n",
       "      <td>0</td>\n",
       "      <td>0</td>\n",
       "      <td>1</td>\n",
       "      <td>1</td>\n",
       "      <td>0</td>\n",
       "      <td>0</td>\n",
       "      <td>0</td>\n",
       "      <td>0</td>\n",
       "      <td>0</td>\n",
       "      <td>...</td>\n",
       "      <td>0</td>\n",
       "      <td>0</td>\n",
       "      <td>0</td>\n",
       "      <td>0</td>\n",
       "      <td>0</td>\n",
       "      <td>0</td>\n",
       "      <td>0</td>\n",
       "      <td>0</td>\n",
       "      <td>0</td>\n",
       "      <td>0</td>\n",
       "      <td>0</td>\n",
       "      <td>0</td>\n",
       "      <td>0</td>\n",
       "      <td>0</td>\n",
       "      <td>0</td>\n",
       "      <td>0</td>\n",
       "      <td>0</td>\n",
       "      <td>0</td>\n",
       "      <td>0</td>\n",
       "      <td>0</td>\n",
       "      <td>0</td>\n",
       "      <td>0</td>\n",
       "      <td>0</td>\n",
       "      <td>0</td>\n",
       "      <td>0</td>\n",
       "      <td>0</td>\n",
       "      <td>0</td>\n",
       "      <td>0</td>\n",
       "      <td>0</td>\n",
       "      <td>0</td>\n",
       "      <td>0</td>\n",
       "      <td>0</td>\n",
       "      <td>0</td>\n",
       "      <td>0</td>\n",
       "      <td>0</td>\n",
       "      <td>0</td>\n",
       "      <td>0</td>\n",
       "      <td>0</td>\n",
       "      <td>0</td>\n",
       "      <td>0</td>\n",
       "    </tr>\n",
       "  </tbody>\n",
       "</table>\n",
       "<p>1 rows × 456 columns</p>\n",
       "</div>\n",
       "      <button class=\"colab-df-convert\" onclick=\"convertToInteractive('df-bab08538-5eaa-4788-87be-bbac4b970b43')\"\n",
       "              title=\"Convert this dataframe to an interactive table.\"\n",
       "              style=\"display:none;\">\n",
       "        \n",
       "  <svg xmlns=\"http://www.w3.org/2000/svg\" height=\"24px\"viewBox=\"0 0 24 24\"\n",
       "       width=\"24px\">\n",
       "    <path d=\"M0 0h24v24H0V0z\" fill=\"none\"/>\n",
       "    <path d=\"M18.56 5.44l.94 2.06.94-2.06 2.06-.94-2.06-.94-.94-2.06-.94 2.06-2.06.94zm-11 1L8.5 8.5l.94-2.06 2.06-.94-2.06-.94L8.5 2.5l-.94 2.06-2.06.94zm10 10l.94 2.06.94-2.06 2.06-.94-2.06-.94-.94-2.06-.94 2.06-2.06.94z\"/><path d=\"M17.41 7.96l-1.37-1.37c-.4-.4-.92-.59-1.43-.59-.52 0-1.04.2-1.43.59L10.3 9.45l-7.72 7.72c-.78.78-.78 2.05 0 2.83L4 21.41c.39.39.9.59 1.41.59.51 0 1.02-.2 1.41-.59l7.78-7.78 2.81-2.81c.8-.78.8-2.07 0-2.86zM5.41 20L4 18.59l7.72-7.72 1.47 1.35L5.41 20z\"/>\n",
       "  </svg>\n",
       "      </button>\n",
       "      \n",
       "  <style>\n",
       "    .colab-df-container {\n",
       "      display:flex;\n",
       "      flex-wrap:wrap;\n",
       "      gap: 12px;\n",
       "    }\n",
       "\n",
       "    .colab-df-convert {\n",
       "      background-color: #E8F0FE;\n",
       "      border: none;\n",
       "      border-radius: 50%;\n",
       "      cursor: pointer;\n",
       "      display: none;\n",
       "      fill: #1967D2;\n",
       "      height: 32px;\n",
       "      padding: 0 0 0 0;\n",
       "      width: 32px;\n",
       "    }\n",
       "\n",
       "    .colab-df-convert:hover {\n",
       "      background-color: #E2EBFA;\n",
       "      box-shadow: 0px 1px 2px rgba(60, 64, 67, 0.3), 0px 1px 3px 1px rgba(60, 64, 67, 0.15);\n",
       "      fill: #174EA6;\n",
       "    }\n",
       "\n",
       "    [theme=dark] .colab-df-convert {\n",
       "      background-color: #3B4455;\n",
       "      fill: #D2E3FC;\n",
       "    }\n",
       "\n",
       "    [theme=dark] .colab-df-convert:hover {\n",
       "      background-color: #434B5C;\n",
       "      box-shadow: 0px 1px 3px 1px rgba(0, 0, 0, 0.15);\n",
       "      filter: drop-shadow(0px 1px 2px rgba(0, 0, 0, 0.3));\n",
       "      fill: #FFFFFF;\n",
       "    }\n",
       "  </style>\n",
       "\n",
       "      <script>\n",
       "        const buttonEl =\n",
       "          document.querySelector('#df-bab08538-5eaa-4788-87be-bbac4b970b43 button.colab-df-convert');\n",
       "        buttonEl.style.display =\n",
       "          google.colab.kernel.accessAllowed ? 'block' : 'none';\n",
       "\n",
       "        async function convertToInteractive(key) {\n",
       "          const element = document.querySelector('#df-bab08538-5eaa-4788-87be-bbac4b970b43');\n",
       "          const dataTable =\n",
       "            await google.colab.kernel.invokeFunction('convertToInteractive',\n",
       "                                                     [key], {});\n",
       "          if (!dataTable) return;\n",
       "\n",
       "          const docLinkHtml = 'Like what you see? Visit the ' +\n",
       "            '<a target=\"_blank\" href=https://colab.research.google.com/notebooks/data_table.ipynb>data table notebook</a>'\n",
       "            + ' to learn more about interactive tables.';\n",
       "          element.innerHTML = '';\n",
       "          dataTable['output_type'] = 'display_data';\n",
       "          await google.colab.output.renderOutput(dataTable, element);\n",
       "          const docLink = document.createElement('div');\n",
       "          docLink.innerHTML = docLinkHtml;\n",
       "          element.appendChild(docLink);\n",
       "        }\n",
       "      </script>\n",
       "    </div>\n",
       "  </div>\n",
       "  "
      ],
      "text/plain": [
       "       location_id  event_type_1  ...  log_feature_385  log_feature_386\n",
       "id                                ...                                  \n",
       "14121          118             0  ...                0                0\n",
       "\n",
       "[1 rows x 456 columns]"
      ]
     },
     "execution_count": 42,
     "metadata": {},
     "output_type": "execute_result"
    }
   ],
   "source": [
    "X.head(1)"
   ]
  },
  {
   "cell_type": "code",
   "execution_count": 43,
   "metadata": {
    "id": "MVxh7m9IPZY1"
   },
   "outputs": [],
   "source": [
    "# 2.1. Left join training/test set <-> event_type set\n",
    "X = pd.merge(left=X, right=log_vol, how='left', left_on='id', right_on='id')\n",
    "Y = pd.merge(left=Y, right=log_vol, how='left', left_on='id', right_on='id')"
   ]
  },
  {
   "cell_type": "code",
   "execution_count": 44,
   "metadata": {
    "colab": {
     "base_uri": "https://localhost:8080/"
    },
    "id": "K7cxXSQiPZbc",
    "outputId": "a93707ca-618f-4fb6-f804-34b1fb2f4c86"
   },
   "outputs": [
    {
     "name": "stdout",
     "output_type": "stream",
     "text": [
      "(7381, 463) (11171, 463)\n"
     ]
    }
   ],
   "source": [
    "print(X.shape,Y.shape)"
   ]
  },
  {
   "cell_type": "markdown",
   "metadata": {
    "id": "iiLZ67G8P6qo"
   },
   "source": [
    "b)Merging severity type, event type and log feature on 'id' and creaing new feature using location id's"
   ]
  },
  {
   "cell_type": "code",
   "execution_count": 45,
   "metadata": {
    "id": "0DtTtP3lPZe3"
   },
   "outputs": [],
   "source": [
    "X1 = pd.merge(left=train_data_copy, right=event_type_copy, how='left', left_on='id', right_on='id')\n",
    "Y1 = pd.merge(left=test_data_copy, right=event_type_copy, how='left', left_on='id', right_on='id')"
   ]
  },
  {
   "cell_type": "code",
   "execution_count": 46,
   "metadata": {
    "id": "6UAQMYikQP8Y"
   },
   "outputs": [],
   "source": [
    "X1 = pd.merge(left=X1, right=log_feature_copy, how='left', left_on='id', right_on='id')\n",
    "Y1 = pd.merge(left=Y1, right=log_feature_copy, how='left', left_on='id', right_on='id')"
   ]
  },
  {
   "cell_type": "code",
   "execution_count": 47,
   "metadata": {
    "colab": {
     "base_uri": "https://localhost:8080/",
     "height": 112
    },
    "id": "a1kCNv97PnI-",
    "outputId": "727d5e4a-a44f-4932-e4ce-dab23699cd8a"
   },
   "outputs": [
    {
     "data": {
      "text/html": [
       "\n",
       "  <div id=\"df-cd3397a0-5f9b-4c63-ad5f-643f99ebbe8b\">\n",
       "    <div class=\"colab-df-container\">\n",
       "      <div>\n",
       "<style scoped>\n",
       "    .dataframe tbody tr th:only-of-type {\n",
       "        vertical-align: middle;\n",
       "    }\n",
       "\n",
       "    .dataframe tbody tr th {\n",
       "        vertical-align: top;\n",
       "    }\n",
       "\n",
       "    .dataframe thead th {\n",
       "        text-align: right;\n",
       "    }\n",
       "</style>\n",
       "<table border=\"1\" class=\"dataframe\">\n",
       "  <thead>\n",
       "    <tr style=\"text-align: right;\">\n",
       "      <th></th>\n",
       "      <th>id</th>\n",
       "      <th>location</th>\n",
       "      <th>fault_severity</th>\n",
       "      <th>event_type</th>\n",
       "      <th>log_feature</th>\n",
       "      <th>volume</th>\n",
       "    </tr>\n",
       "  </thead>\n",
       "  <tbody>\n",
       "    <tr>\n",
       "      <th>0</th>\n",
       "      <td>14121</td>\n",
       "      <td>location 118</td>\n",
       "      <td>1</td>\n",
       "      <td>event_type 34</td>\n",
       "      <td>feature 312</td>\n",
       "      <td>19</td>\n",
       "    </tr>\n",
       "    <tr>\n",
       "      <th>1</th>\n",
       "      <td>14121</td>\n",
       "      <td>location 118</td>\n",
       "      <td>1</td>\n",
       "      <td>event_type 34</td>\n",
       "      <td>feature 232</td>\n",
       "      <td>19</td>\n",
       "    </tr>\n",
       "  </tbody>\n",
       "</table>\n",
       "</div>\n",
       "      <button class=\"colab-df-convert\" onclick=\"convertToInteractive('df-cd3397a0-5f9b-4c63-ad5f-643f99ebbe8b')\"\n",
       "              title=\"Convert this dataframe to an interactive table.\"\n",
       "              style=\"display:none;\">\n",
       "        \n",
       "  <svg xmlns=\"http://www.w3.org/2000/svg\" height=\"24px\"viewBox=\"0 0 24 24\"\n",
       "       width=\"24px\">\n",
       "    <path d=\"M0 0h24v24H0V0z\" fill=\"none\"/>\n",
       "    <path d=\"M18.56 5.44l.94 2.06.94-2.06 2.06-.94-2.06-.94-.94-2.06-.94 2.06-2.06.94zm-11 1L8.5 8.5l.94-2.06 2.06-.94-2.06-.94L8.5 2.5l-.94 2.06-2.06.94zm10 10l.94 2.06.94-2.06 2.06-.94-2.06-.94-.94-2.06-.94 2.06-2.06.94z\"/><path d=\"M17.41 7.96l-1.37-1.37c-.4-.4-.92-.59-1.43-.59-.52 0-1.04.2-1.43.59L10.3 9.45l-7.72 7.72c-.78.78-.78 2.05 0 2.83L4 21.41c.39.39.9.59 1.41.59.51 0 1.02-.2 1.41-.59l7.78-7.78 2.81-2.81c.8-.78.8-2.07 0-2.86zM5.41 20L4 18.59l7.72-7.72 1.47 1.35L5.41 20z\"/>\n",
       "  </svg>\n",
       "      </button>\n",
       "      \n",
       "  <style>\n",
       "    .colab-df-container {\n",
       "      display:flex;\n",
       "      flex-wrap:wrap;\n",
       "      gap: 12px;\n",
       "    }\n",
       "\n",
       "    .colab-df-convert {\n",
       "      background-color: #E8F0FE;\n",
       "      border: none;\n",
       "      border-radius: 50%;\n",
       "      cursor: pointer;\n",
       "      display: none;\n",
       "      fill: #1967D2;\n",
       "      height: 32px;\n",
       "      padding: 0 0 0 0;\n",
       "      width: 32px;\n",
       "    }\n",
       "\n",
       "    .colab-df-convert:hover {\n",
       "      background-color: #E2EBFA;\n",
       "      box-shadow: 0px 1px 2px rgba(60, 64, 67, 0.3), 0px 1px 3px 1px rgba(60, 64, 67, 0.15);\n",
       "      fill: #174EA6;\n",
       "    }\n",
       "\n",
       "    [theme=dark] .colab-df-convert {\n",
       "      background-color: #3B4455;\n",
       "      fill: #D2E3FC;\n",
       "    }\n",
       "\n",
       "    [theme=dark] .colab-df-convert:hover {\n",
       "      background-color: #434B5C;\n",
       "      box-shadow: 0px 1px 3px 1px rgba(0, 0, 0, 0.15);\n",
       "      filter: drop-shadow(0px 1px 2px rgba(0, 0, 0, 0.3));\n",
       "      fill: #FFFFFF;\n",
       "    }\n",
       "  </style>\n",
       "\n",
       "      <script>\n",
       "        const buttonEl =\n",
       "          document.querySelector('#df-cd3397a0-5f9b-4c63-ad5f-643f99ebbe8b button.colab-df-convert');\n",
       "        buttonEl.style.display =\n",
       "          google.colab.kernel.accessAllowed ? 'block' : 'none';\n",
       "\n",
       "        async function convertToInteractive(key) {\n",
       "          const element = document.querySelector('#df-cd3397a0-5f9b-4c63-ad5f-643f99ebbe8b');\n",
       "          const dataTable =\n",
       "            await google.colab.kernel.invokeFunction('convertToInteractive',\n",
       "                                                     [key], {});\n",
       "          if (!dataTable) return;\n",
       "\n",
       "          const docLinkHtml = 'Like what you see? Visit the ' +\n",
       "            '<a target=\"_blank\" href=https://colab.research.google.com/notebooks/data_table.ipynb>data table notebook</a>'\n",
       "            + ' to learn more about interactive tables.';\n",
       "          element.innerHTML = '';\n",
       "          dataTable['output_type'] = 'display_data';\n",
       "          await google.colab.output.renderOutput(dataTable, element);\n",
       "          const docLink = document.createElement('div');\n",
       "          docLink.innerHTML = docLinkHtml;\n",
       "          element.appendChild(docLink);\n",
       "        }\n",
       "      </script>\n",
       "    </div>\n",
       "  </div>\n",
       "  "
      ],
      "text/plain": [
       "      id      location  fault_severity     event_type  log_feature  volume\n",
       "0  14121  location 118               1  event_type 34  feature 312      19\n",
       "1  14121  location 118               1  event_type 34  feature 232      19"
      ]
     },
     "execution_count": 47,
     "metadata": {},
     "output_type": "execute_result"
    }
   ],
   "source": [
    "X1.head(2)"
   ]
  },
  {
   "cell_type": "code",
   "execution_count": 48,
   "metadata": {
    "id": "lkLo7eLqPlCR"
   },
   "outputs": [],
   "source": [
    "# merge log features\n",
    "events = X1.groupby('id')['volume'].agg(['count','min', 'mean', 'max','sum']).fillna(0).add_prefix('event_vol')"
   ]
  },
  {
   "cell_type": "code",
   "execution_count": 49,
   "metadata": {
    "id": "djDLcMcVKxjd"
   },
   "outputs": [],
   "source": [
    "events = events.reset_index()"
   ]
  },
  {
   "cell_type": "code",
   "execution_count": 50,
   "metadata": {
    "id": "AnxsPiaTPzLb"
   },
   "outputs": [],
   "source": [
    "# 2.1. Left join training/test set <-> event_type set\n",
    "X = pd.merge(left=X, right=events, how='left', left_on='id', right_on='id')\n",
    "Y = pd.merge(left=Y, right=events, how='left', left_on='id', right_on='id')"
   ]
  },
  {
   "cell_type": "code",
   "execution_count": 51,
   "metadata": {
    "id": "aUwVNIwPQ982"
   },
   "outputs": [],
   "source": [
    "X1 = pd.merge(left=X1, right=severity_type_copy, how='left', left_on='id', right_on='id')\n",
    "Y1 = pd.merge(left=Y1, right=severity_type_copy, how='left', left_on='id', right_on='id')"
   ]
  },
  {
   "cell_type": "code",
   "execution_count": 52,
   "metadata": {
    "id": "PCocxZh1Q1NM"
   },
   "outputs": [],
   "source": [
    "# merge log features\n",
    "severity = X1.groupby('id')['volume'].agg(['count','min', 'mean', 'max','sum']).fillna(0).add_prefix('sev_vol')"
   ]
  },
  {
   "cell_type": "code",
   "execution_count": 53,
   "metadata": {
    "id": "zCgyB6dfK8wG"
   },
   "outputs": [],
   "source": [
    "severity  = severity.reset_index()"
   ]
  },
  {
   "cell_type": "code",
   "execution_count": 54,
   "metadata": {
    "id": "EoQ9oVqRRAzw"
   },
   "outputs": [],
   "source": [
    "# 2.1. Left join training/test set <-> event_type set\n",
    "X = pd.merge(left=X, right=severity, how='left', left_on='id', right_on='id')\n",
    "Y = pd.merge(left=Y, right=severity, how='left', left_on='id', right_on='id')"
   ]
  },
  {
   "cell_type": "code",
   "execution_count": 55,
   "metadata": {
    "colab": {
     "base_uri": "https://localhost:8080/"
    },
    "id": "qB7URaVgQQEP",
    "outputId": "6b8f2bda-30dd-4a57-afe5-94377cd76d7d"
   },
   "outputs": [
    {
     "name": "stdout",
     "output_type": "stream",
     "text": [
      "(7381, 473) (11171, 473)\n"
     ]
    }
   ],
   "source": [
    "print(X.shape,Y.shape)"
   ]
  },
  {
   "cell_type": "markdown",
   "metadata": {
    "id": "pSJOtGzHQZmg"
   },
   "source": [
    "c) Adding new 'location_id' feature"
   ]
  },
  {
   "cell_type": "code",
   "execution_count": 56,
   "metadata": {
    "id": "dqRMwWClQQHF"
   },
   "outputs": [],
   "source": [
    "#newly added\n",
    "X1['location_id'] = X1.location.apply(lambda x: int(x.split('location ')[1]))\n",
    "Y1['location_id'] = Y1.location.apply(lambda x: int(x.split('location ')[1]))"
   ]
  },
  {
   "cell_type": "code",
   "execution_count": 57,
   "metadata": {
    "colab": {
     "base_uri": "https://localhost:8080/",
     "height": 88
    },
    "id": "UyDN2hz3Qguh",
    "outputId": "6a206602-a629-4d64-a499-49a1f63e1354"
   },
   "outputs": [
    {
     "data": {
      "application/vnd.google.colaboratory.intrinsic+json": {
       "type": "string"
      },
      "text/plain": [
       "'\\n\\nX[\"avgev_per_loc\"]= X1.groupby([\\'event_type\\'])[\"volume\"].transform(\\'mean\\')\\nX[\"maxev_per_loc\"]= X1.groupby([\\'event_type\\'])[\"volume\"].transform(\\'max\\')\\nX[\"minev_per_event\"]= X1.groupby([\\'event_type\\'])[\"volume\"].transform(\\'min\\')\\nX[\"noev_per_event\"]= X1.groupby([\\'event_type\\'])[\"volume\"].transform(\\'count\\')\\n\\nY[\"avgev_per_loc\"]= Y1.groupby([\\'event_type\\'])[\"volume\"].transform(\\'mean\\')\\nY[\"maxev_per_loc\"]= Y1.groupby([\\'event_type\\'])[\"volume\"].transform(\\'max\\')\\nY[\"minev_per_event\"]= Y1.groupby([\\'event_type\\'])[\"volume\"].transform(\\'min\\')\\nY[\"noev_per_event\"]= Y1.groupby([\\'event_type\\'])[\"volume\"].transform(\\'count\\')\\n\\n\\n'"
      ]
     },
     "execution_count": 57,
     "metadata": {},
     "output_type": "execute_result"
    }
   ],
   "source": [
    "\"\"\"\n",
    "\n",
    "X[\"avgev_per_loc\"]= X1.groupby(['event_type'])[\"volume\"].transform('mean')\n",
    "X[\"maxev_per_loc\"]= X1.groupby(['event_type'])[\"volume\"].transform('max')\n",
    "X[\"minev_per_event\"]= X1.groupby(['event_type'])[\"volume\"].transform('min')\n",
    "X[\"noev_per_event\"]= X1.groupby(['event_type'])[\"volume\"].transform('count')\n",
    "\n",
    "Y[\"avgev_per_loc\"]= Y1.groupby(['event_type'])[\"volume\"].transform('mean')\n",
    "Y[\"maxev_per_loc\"]= Y1.groupby(['event_type'])[\"volume\"].transform('max')\n",
    "Y[\"minev_per_event\"]= Y1.groupby(['event_type'])[\"volume\"].transform('min')\n",
    "Y[\"noev_per_event\"]= Y1.groupby(['event_type'])[\"volume\"].transform('count')\n",
    "\n",
    "\n",
    "\"\"\""
   ]
  },
  {
   "cell_type": "code",
   "execution_count": 58,
   "metadata": {
    "colab": {
     "base_uri": "https://localhost:8080/",
     "height": 88
    },
    "id": "8VrOfl9dHCMH",
    "outputId": "c7dda7ba-febd-43bf-b7ef-b66f664e952f"
   },
   "outputs": [
    {
     "data": {
      "application/vnd.google.colaboratory.intrinsic+json": {
       "type": "string"
      },
      "text/plain": [
       "'\\nX[\"avgres_per_loc\"]= X1.groupby([\\'resource_type\\'])[\"volume\"].transform(\\'mean\\')\\nX[\"maxres_per_loc\"]= X1.groupby([\\'resource_type\\'])[\"volume\"].transform(\\'max\\')\\nX[\"minres_per_loc\"]= X1.groupby([\\'resource_type\\'])[\"volume\"].transform(\\'min\\')\\nX[\"rescount_per_loc\"]= X1.groupby([\\'resource_type\\'])[\"volume\"].transform(\\'count\\')\\n\\nY[\"avgres_per_loc\"]= Y1.groupby([\\'resource_type\\'])[\"volume\"].transform(\\'mean\\')\\nY[\"maxres_per_loc\"]= Y1.groupby([\\'resource_type\\'])[\"volume\"].transform(\\'max\\')\\nY[\"minres_per_loc\"]= Y1.groupby([\\'resource_type\\'])[\"volume\"].transform(\\'min\\')\\nY[\"rescount_per_loc\"]= Y1.groupby([\\'resource_type\\'])[\"volume\"].transform(\\'count\\')\\n\\n'"
      ]
     },
     "execution_count": 58,
     "metadata": {},
     "output_type": "execute_result"
    }
   ],
   "source": [
    "\"\"\"\n",
    "X[\"avgres_per_loc\"]= X1.groupby(['resource_type'])[\"volume\"].transform('mean')\n",
    "X[\"maxres_per_loc\"]= X1.groupby(['resource_type'])[\"volume\"].transform('max')\n",
    "X[\"minres_per_loc\"]= X1.groupby(['resource_type'])[\"volume\"].transform('min')\n",
    "X[\"rescount_per_loc\"]= X1.groupby(['resource_type'])[\"volume\"].transform('count')\n",
    "\n",
    "Y[\"avgres_per_loc\"]= Y1.groupby(['resource_type'])[\"volume\"].transform('mean')\n",
    "Y[\"maxres_per_loc\"]= Y1.groupby(['resource_type'])[\"volume\"].transform('max')\n",
    "Y[\"minres_per_loc\"]= Y1.groupby(['resource_type'])[\"volume\"].transform('min')\n",
    "Y[\"rescount_per_loc\"]= Y1.groupby(['resource_type'])[\"volume\"].transform('count')\n",
    "\n",
    "\"\"\""
   ]
  },
  {
   "cell_type": "code",
   "execution_count": 59,
   "metadata": {
    "colab": {
     "base_uri": "https://localhost:8080/",
     "height": 70
    },
    "id": "aNWXSO9JQif3",
    "outputId": "7ec6449d-66f1-438f-8593-1a0e2d350131"
   },
   "outputs": [
    {
     "data": {
      "application/vnd.google.colaboratory.intrinsic+json": {
       "type": "string"
      },
      "text/plain": [
       "'\\nX[\"avgsev_per_loc\"]= X1.groupby([\\'severity_type\\'])[\"volume\"].transform(\\'mean\\')\\nX[\"maxsev_per_loc\"]= X1.groupby([\\'severity_type\\'])[\"volume\"].transform(\\'max\\')\\nX[\"minsev_per_loc\"]= X1.groupby([\\'severity_type\\'])[\"volume\"].transform(\\'min\\')\\n\\nY[\"avgsev_per_loc\"]= Y1.groupby([\\'severity_type\\'])[\"volume\"].transform(\\'mean\\')\\nY[\"maxsev_per_loc\"]= Y1.groupby([\\'severity_type\\'])[\"volume\"].transform(\\'max\\')\\nY[\"minsev_per_loc\"]= Y1.groupby([\\'severity_type\\'])[\"volume\"].transform(\\'min\\')\\n'"
      ]
     },
     "execution_count": 59,
     "metadata": {},
     "output_type": "execute_result"
    }
   ],
   "source": [
    "\"\"\"\n",
    "X[\"avgsev_per_loc\"]= X1.groupby(['severity_type'])[\"volume\"].transform('mean')\n",
    "X[\"maxsev_per_loc\"]= X1.groupby(['severity_type'])[\"volume\"].transform('max')\n",
    "X[\"minsev_per_loc\"]= X1.groupby(['severity_type'])[\"volume\"].transform('min')\n",
    "\n",
    "Y[\"avgsev_per_loc\"]= Y1.groupby(['severity_type'])[\"volume\"].transform('mean')\n",
    "Y[\"maxsev_per_loc\"]= Y1.groupby(['severity_type'])[\"volume\"].transform('max')\n",
    "Y[\"minsev_per_loc\"]= Y1.groupby(['severity_type'])[\"volume\"].transform('min')\n",
    "\"\"\""
   ]
  },
  {
   "cell_type": "markdown",
   "metadata": {
    "id": "b8j3EMtEQrst"
   },
   "source": [
    "d)Inserting new feature 'log_volume'"
   ]
  },
  {
   "cell_type": "code",
   "execution_count": 60,
   "metadata": {
    "id": "DeFAdbisQii2"
   },
   "outputs": [],
   "source": [
    "# Python log transform\n",
    "X.insert(len(X.columns), 'log_volume',np.log(X['volume']))\n",
    "Y.insert(len(Y.columns), 'log_volume',np.log(Y['volume']))"
   ]
  },
  {
   "cell_type": "markdown",
   "metadata": {
    "id": "x3DnL9-kQ5Rb"
   },
   "source": [
    "e) adding avg,min,max,median,std volume of traffic using location_id by using groupby opeartion. "
   ]
  },
  {
   "cell_type": "code",
   "execution_count": 61,
   "metadata": {
    "id": "Vtx1fpFtQipF"
   },
   "outputs": [],
   "source": [
    "X[\"avgvol_per_loc\"]= X1.groupby(['location_id'])[\"volume\"].transform('mean')\n",
    "X[\"maxvol_per_loc\"]= X1.groupby(['location_id'])[\"volume\"].transform('max')\n",
    "X[\"minvol_per_loc\"]= X1.groupby(['location_id'])[\"volume\"].transform('min')\n",
    "X[\"medianvol_per_loc\"]= X1.groupby(['location_id'])[\"volume\"].transform('median')\n",
    "X[\"stdvol_per_loc\"] = X1.groupby(['location_id'])[\"volume\"].transform('std')\n",
    "\n",
    "Y[\"avgvol_per_loc\"]= Y1.groupby(['location_id'])[\"volume\"].transform('mean')\n",
    "Y[\"maxvol_per_loc\"]= Y1.groupby(['location_id'])[\"volume\"].transform('max')\n",
    "Y[\"minvol_per_loc\"]= Y1.groupby(['location_id'])[\"volume\"].transform('min')\n",
    "Y[\"medianvol_per_loc\"]= Y1.groupby(['location_id'])[\"volume\"].transform('median')\n",
    "Y[\"stdvol_per_loc\"] = Y1.groupby(['location_id'])[\"volume\"].transform('std')"
   ]
  },
  {
   "cell_type": "code",
   "execution_count": 62,
   "metadata": {
    "colab": {
     "base_uri": "https://localhost:8080/"
    },
    "id": "GtqR4EmLQivt",
    "outputId": "96b2657d-8104-42f2-d709-2fe179e610d7"
   },
   "outputs": [
    {
     "name": "stdout",
     "output_type": "stream",
     "text": [
      "(7381, 479) (11171, 479)\n"
     ]
    }
   ],
   "source": [
    "print(X.shape,Y.shape)"
   ]
  },
  {
   "cell_type": "code",
   "execution_count": 63,
   "metadata": {
    "id": "BZ354jPHUnB2"
   },
   "outputs": [],
   "source": [
    "# split the data into test and train by maintaining same distribution of output varaible 'y_true' [stratify=y_true]\n",
    "X_train,X_test, y_train, y_test = train_test_split(X, y, stratify=y, test_size=0.2)"
   ]
  },
  {
   "cell_type": "code",
   "execution_count": 64,
   "metadata": {
    "colab": {
     "base_uri": "https://localhost:8080/"
    },
    "id": "eyJREJbfUnEw",
    "outputId": "d9cc9844-e893-47bc-d365-4d07a420b0da"
   },
   "outputs": [
    {
     "name": "stdout",
     "output_type": "stream",
     "text": [
      "(5904, 479) (5904,) (1477, 479) (1477,)\n"
     ]
    }
   ],
   "source": [
    "print(X_train.shape,y_train.shape,X_test.shape,y_test.shape)"
   ]
  },
  {
   "cell_type": "code",
   "execution_count": 65,
   "metadata": {
    "id": "FtVGo_bYUnHs"
   },
   "outputs": [],
   "source": [
    "numeric_features = X.select_dtypes(include=['int64', 'float64']).columns\n",
    "categorical_features = X.select_dtypes(include=['object', 'category']).columns"
   ]
  },
  {
   "cell_type": "code",
   "execution_count": 66,
   "metadata": {
    "id": "7XStF6YURxyc"
   },
   "outputs": [],
   "source": [
    "# create a transformed for the numerical values\n",
    "numeric_transformer_minmax = Pipeline(steps=[('imputer', SimpleImputer(strategy='median')), ('scaler',MinMaxScaler())])\n",
    "\n",
    "from sklearn.compose import ColumnTransformer\n",
    "\n",
    "preprocessor_sca_minmax = ColumnTransformer(\n",
    "    transformers=[\n",
    "        ('num', numeric_transformer_minmax, numeric_features),\n",
    "        #('cat', categorical_transformer, categorical_features)\n",
    "    ])"
   ]
  },
  {
   "cell_type": "code",
   "execution_count": 67,
   "metadata": {
    "id": "SBmPsAweRx1t"
   },
   "outputs": [],
   "source": [
    "#We are then ready to transform!\n",
    "X_train_transformed_sca1 = preprocessor_sca_minmax.fit_transform(X_train)\n",
    "X_test_transformed_sca1 = preprocessor_sca_minmax.transform(X_test)\n",
    "X_train_transformed_sca_copy = X_train_transformed_sca.copy()\n",
    "test_transformed_sca1 = preprocessor_sca_minmax.transform(Y)\n",
    "\n",
    "X_train_sca = pd.DataFrame(X_train_transformed_sca1)\n",
    "X_test_sca = pd.DataFrame(X_test_transformed_sca1)\n",
    "test_sca = pd.DataFrame(test_transformed_sca1)"
   ]
  },
  {
   "cell_type": "code",
   "execution_count": 68,
   "metadata": {
    "colab": {
     "base_uri": "https://localhost:8080/"
    },
    "id": "hyGdQVv2gC28",
    "outputId": "f0b200d7-b397-4f65-eda0-60e9d4e55d89"
   },
   "outputs": [
    {
     "data": {
      "text/plain": [
       "(5904, 479)"
      ]
     },
     "execution_count": 68,
     "metadata": {},
     "output_type": "execute_result"
    }
   ],
   "source": [
    "X_train_sca.shape"
   ]
  },
  {
   "cell_type": "code",
   "execution_count": 69,
   "metadata": {
    "id": "Mda8qfNzVHcG"
   },
   "outputs": [],
   "source": [
    "classifiers = [KNeighborsClassifier(),\n",
    "               RandomForestClassifier(),\n",
    "               # Learn to predict each class against the other\n",
    "               LogisticRegression(multi_class='ovr'),\n",
    "               OneVsRestClassifier(SVC()),\n",
    "               OneVsRestClassifier(XGBClassifier()),\n",
    "               lgb.LGBMClassifier()\n",
    "              ]\n",
    "classifier_names = ['kNN','forest','LogReg','SVC','XGB','LGBM']"
   ]
  },
  {
   "cell_type": "code",
   "execution_count": 70,
   "metadata": {
    "colab": {
     "base_uri": "https://localhost:8080/"
    },
    "id": "S-46-IHATOc3",
    "outputId": "db14777a-bf4b-4cad-8f15-8d96fd763d93"
   },
   "outputs": [
    {
     "name": "stdout",
     "output_type": "stream",
     "text": [
      "Model evaluation By Standardizing Data\n",
      "kNN \t 0.5618026244241293\n",
      "forest \t 0.6481718957962154\n",
      "LogReg \t 0.628068415335632\n",
      "SVC \t 0.6201487453356588\n",
      "XGB \t 0.6340036680304983\n",
      "LGBM \t 0.6593240251874732\n"
     ]
    }
   ],
   "source": [
    "# Loop through classifiers\n",
    "print('Model evaluation By Standardizing Data')\n",
    "\n",
    "for classifier, clf_name in zip(classifiers, classifier_names):\n",
    "  # Calculate CV\n",
    "  print(clf_name,'\\t',cross_val_score(estimator=classifier,X=X_train_sca, y=y_train, cv=5, scoring='f1_macro').mean())"
   ]
  },
  {
   "cell_type": "code",
   "execution_count": 71,
   "metadata": {
    "colab": {
     "base_uri": "https://localhost:8080/"
    },
    "id": "WX8CErYtPYjg",
    "outputId": "f02f355a-dd40-4464-f998-7e148680ad82"
   },
   "outputs": [
    {
     "data": {
      "text/plain": [
       "LGBMClassifier()"
      ]
     },
     "execution_count": 71,
     "metadata": {},
     "output_type": "execute_result"
    }
   ],
   "source": [
    "# Train uncalibrated random forest classifier on whole train and validation\n",
    "# data and evaluate on test data\n",
    "lgbm = lgb.LGBMClassifier()\n",
    "lgbm.fit(X_train_sca, y_train)"
   ]
  },
  {
   "cell_type": "code",
   "execution_count": 72,
   "metadata": {
    "id": "UpJaXMGLPREH"
   },
   "outputs": [],
   "source": [
    "#Predictions\n",
    "y_pred = lgbm.predict(X_test_sca)\n",
    "report6 = classification_report(y_test,y_pred,output_dict=True)\n",
    "df_std = pd.DataFrame(report6).transpose()"
   ]
  },
  {
   "cell_type": "code",
   "execution_count": 73,
   "metadata": {
    "colab": {
     "base_uri": "https://localhost:8080/",
     "height": 238
    },
    "id": "UrfoSzhoePa4",
    "outputId": "19f85baa-6601-4178-8532-6d89feef81f5"
   },
   "outputs": [
    {
     "data": {
      "text/html": [
       "\n",
       "  <div id=\"df-29c36cbf-cc32-4558-a5f4-396cf422e4ba\">\n",
       "    <div class=\"colab-df-container\">\n",
       "      <div>\n",
       "<style scoped>\n",
       "    .dataframe tbody tr th:only-of-type {\n",
       "        vertical-align: middle;\n",
       "    }\n",
       "\n",
       "    .dataframe tbody tr th {\n",
       "        vertical-align: top;\n",
       "    }\n",
       "\n",
       "    .dataframe thead th {\n",
       "        text-align: right;\n",
       "    }\n",
       "</style>\n",
       "<table border=\"1\" class=\"dataframe\">\n",
       "  <thead>\n",
       "    <tr style=\"text-align: right;\">\n",
       "      <th></th>\n",
       "      <th>precision</th>\n",
       "      <th>recall</th>\n",
       "      <th>f1-score</th>\n",
       "      <th>support</th>\n",
       "    </tr>\n",
       "  </thead>\n",
       "  <tbody>\n",
       "    <tr>\n",
       "      <th>0</th>\n",
       "      <td>0.819688</td>\n",
       "      <td>0.878788</td>\n",
       "      <td>0.848210</td>\n",
       "      <td>957.000000</td>\n",
       "    </tr>\n",
       "    <tr>\n",
       "      <th>1</th>\n",
       "      <td>0.630573</td>\n",
       "      <td>0.528000</td>\n",
       "      <td>0.574746</td>\n",
       "      <td>375.000000</td>\n",
       "    </tr>\n",
       "    <tr>\n",
       "      <th>2</th>\n",
       "      <td>0.605839</td>\n",
       "      <td>0.572414</td>\n",
       "      <td>0.588652</td>\n",
       "      <td>145.000000</td>\n",
       "    </tr>\n",
       "    <tr>\n",
       "      <th>accuracy</th>\n",
       "      <td>0.759648</td>\n",
       "      <td>0.759648</td>\n",
       "      <td>0.759648</td>\n",
       "      <td>0.759648</td>\n",
       "    </tr>\n",
       "    <tr>\n",
       "      <th>macro avg</th>\n",
       "      <td>0.685367</td>\n",
       "      <td>0.659734</td>\n",
       "      <td>0.670536</td>\n",
       "      <td>1477.000000</td>\n",
       "    </tr>\n",
       "    <tr>\n",
       "      <th>weighted avg</th>\n",
       "      <td>0.750679</td>\n",
       "      <td>0.759648</td>\n",
       "      <td>0.753298</td>\n",
       "      <td>1477.000000</td>\n",
       "    </tr>\n",
       "  </tbody>\n",
       "</table>\n",
       "</div>\n",
       "      <button class=\"colab-df-convert\" onclick=\"convertToInteractive('df-29c36cbf-cc32-4558-a5f4-396cf422e4ba')\"\n",
       "              title=\"Convert this dataframe to an interactive table.\"\n",
       "              style=\"display:none;\">\n",
       "        \n",
       "  <svg xmlns=\"http://www.w3.org/2000/svg\" height=\"24px\"viewBox=\"0 0 24 24\"\n",
       "       width=\"24px\">\n",
       "    <path d=\"M0 0h24v24H0V0z\" fill=\"none\"/>\n",
       "    <path d=\"M18.56 5.44l.94 2.06.94-2.06 2.06-.94-2.06-.94-.94-2.06-.94 2.06-2.06.94zm-11 1L8.5 8.5l.94-2.06 2.06-.94-2.06-.94L8.5 2.5l-.94 2.06-2.06.94zm10 10l.94 2.06.94-2.06 2.06-.94-2.06-.94-.94-2.06-.94 2.06-2.06.94z\"/><path d=\"M17.41 7.96l-1.37-1.37c-.4-.4-.92-.59-1.43-.59-.52 0-1.04.2-1.43.59L10.3 9.45l-7.72 7.72c-.78.78-.78 2.05 0 2.83L4 21.41c.39.39.9.59 1.41.59.51 0 1.02-.2 1.41-.59l7.78-7.78 2.81-2.81c.8-.78.8-2.07 0-2.86zM5.41 20L4 18.59l7.72-7.72 1.47 1.35L5.41 20z\"/>\n",
       "  </svg>\n",
       "      </button>\n",
       "      \n",
       "  <style>\n",
       "    .colab-df-container {\n",
       "      display:flex;\n",
       "      flex-wrap:wrap;\n",
       "      gap: 12px;\n",
       "    }\n",
       "\n",
       "    .colab-df-convert {\n",
       "      background-color: #E8F0FE;\n",
       "      border: none;\n",
       "      border-radius: 50%;\n",
       "      cursor: pointer;\n",
       "      display: none;\n",
       "      fill: #1967D2;\n",
       "      height: 32px;\n",
       "      padding: 0 0 0 0;\n",
       "      width: 32px;\n",
       "    }\n",
       "\n",
       "    .colab-df-convert:hover {\n",
       "      background-color: #E2EBFA;\n",
       "      box-shadow: 0px 1px 2px rgba(60, 64, 67, 0.3), 0px 1px 3px 1px rgba(60, 64, 67, 0.15);\n",
       "      fill: #174EA6;\n",
       "    }\n",
       "\n",
       "    [theme=dark] .colab-df-convert {\n",
       "      background-color: #3B4455;\n",
       "      fill: #D2E3FC;\n",
       "    }\n",
       "\n",
       "    [theme=dark] .colab-df-convert:hover {\n",
       "      background-color: #434B5C;\n",
       "      box-shadow: 0px 1px 3px 1px rgba(0, 0, 0, 0.15);\n",
       "      filter: drop-shadow(0px 1px 2px rgba(0, 0, 0, 0.3));\n",
       "      fill: #FFFFFF;\n",
       "    }\n",
       "  </style>\n",
       "\n",
       "      <script>\n",
       "        const buttonEl =\n",
       "          document.querySelector('#df-29c36cbf-cc32-4558-a5f4-396cf422e4ba button.colab-df-convert');\n",
       "        buttonEl.style.display =\n",
       "          google.colab.kernel.accessAllowed ? 'block' : 'none';\n",
       "\n",
       "        async function convertToInteractive(key) {\n",
       "          const element = document.querySelector('#df-29c36cbf-cc32-4558-a5f4-396cf422e4ba');\n",
       "          const dataTable =\n",
       "            await google.colab.kernel.invokeFunction('convertToInteractive',\n",
       "                                                     [key], {});\n",
       "          if (!dataTable) return;\n",
       "\n",
       "          const docLinkHtml = 'Like what you see? Visit the ' +\n",
       "            '<a target=\"_blank\" href=https://colab.research.google.com/notebooks/data_table.ipynb>data table notebook</a>'\n",
       "            + ' to learn more about interactive tables.';\n",
       "          element.innerHTML = '';\n",
       "          dataTable['output_type'] = 'display_data';\n",
       "          await google.colab.output.renderOutput(dataTable, element);\n",
       "          const docLink = document.createElement('div');\n",
       "          docLink.innerHTML = docLinkHtml;\n",
       "          element.appendChild(docLink);\n",
       "        }\n",
       "      </script>\n",
       "    </div>\n",
       "  </div>\n",
       "  "
      ],
      "text/plain": [
       "              precision    recall  f1-score      support\n",
       "0              0.819688  0.878788  0.848210   957.000000\n",
       "1              0.630573  0.528000  0.574746   375.000000\n",
       "2              0.605839  0.572414  0.588652   145.000000\n",
       "accuracy       0.759648  0.759648  0.759648     0.759648\n",
       "macro avg      0.685367  0.659734  0.670536  1477.000000\n",
       "weighted avg   0.750679  0.759648  0.753298  1477.000000"
      ]
     },
     "execution_count": 73,
     "metadata": {},
     "output_type": "execute_result"
    }
   ],
   "source": [
    "df_std"
   ]
  },
  {
   "cell_type": "code",
   "execution_count": null,
   "metadata": {
    "id": "AGLOFIN2WJZH"
   },
   "outputs": [],
   "source": [
    "y_test = pd.DataFrame(y_test)\n",
    "y_train = pd.DataFrame(y_train)"
   ]
  },
  {
   "cell_type": "code",
   "execution_count": null,
   "metadata": {
    "colab": {
     "base_uri": "https://localhost:8080/"
    },
    "id": "nxvJOhYLWPGx",
    "outputId": "f85bcfa9-4d40-4d25-f4d7-72faca3a8a5f"
   },
   "outputs": [
    {
     "name": "stdout",
     "output_type": "stream",
     "text": [
      "(5904, 474) (5904, 1)\n"
     ]
    }
   ],
   "source": [
    "print(X_train_sca.shape,y_train.shape)"
   ]
  },
  {
   "cell_type": "code",
   "execution_count": null,
   "metadata": {
    "colab": {
     "base_uri": "https://localhost:8080/"
    },
    "id": "niGip5SpTVDs",
    "outputId": "93de2367-01a9-42ce-abab-bbcbef530445"
   },
   "outputs": [
    {
     "name": "stdout",
     "output_type": "stream",
     "text": [
      "Random forest: train loss 0.3314\n",
      "---------------------------------------------------------------\n",
      "Random forest: test loss 0.5287\n",
      "---------------------------------------------------------------\n"
     ]
    }
   ],
   "source": [
    "loss2tr = log_loss(y_train.values, lgbm.predict_proba(X_train_sca.values))\n",
    "print(\"Random forest: train loss {:.4f}\".format(loss2tr))\n",
    "print('---------------------------------------------------------------')\n",
    "loss2te = log_loss(y_test.values, lgbm.predict_proba(X_test_sca.values))\n",
    "print(\"Random forest: test loss {:.4f}\".format(loss2te))\n",
    "print('---------------------------------------------------------------')"
   ]
  },
  {
   "cell_type": "markdown",
   "metadata": {
    "id": "fqmR39fjkAUx"
   },
   "source": [
    "**Feature Importance**"
   ]
  },
  {
   "cell_type": "code",
   "execution_count": null,
   "metadata": {
    "id": "WWl6xwzym3bX"
   },
   "outputs": [],
   "source": [
    "features=[]\n",
    "for columns in X.columns:\n",
    "    features.append(columns)"
   ]
  },
  {
   "cell_type": "code",
   "execution_count": null,
   "metadata": {
    "colab": {
     "base_uri": "https://localhost:8080/"
    },
    "id": "w24hR5ThkiHc",
    "outputId": "05ddfcd3-c7b8-41f0-c292-a6d35bfd8eb3"
   },
   "outputs": [
    {
     "name": "stdout",
     "output_type": "stream",
     "text": [
      "1326\n",
      "1558\n",
      "0\n",
      "0\n",
      "0\n",
      "0\n",
      "0\n",
      "0\n",
      "0\n",
      "0\n",
      "0\n",
      "9\n",
      "56\n",
      "0\n",
      "25\n",
      "20\n",
      "69\n",
      "0\n",
      "31\n",
      "0\n",
      "52\n",
      "32\n",
      "5\n",
      "5\n",
      "0\n",
      "0\n",
      "23\n",
      "0\n",
      "0\n",
      "0\n",
      "17\n",
      "0\n",
      "0\n",
      "0\n",
      "39\n",
      "78\n",
      "0\n",
      "0\n",
      "0\n",
      "0\n",
      "0\n",
      "0\n",
      "0\n",
      "3\n",
      "0\n",
      "0\n",
      "0\n",
      "0\n",
      "0\n",
      "0\n",
      "14\n",
      "0\n",
      "0\n",
      "0\n",
      "69\n",
      "29\n",
      "92\n",
      "0\n",
      "0\n",
      "0\n",
      "0\n",
      "24\n",
      "56\n",
      "23\n",
      "0\n",
      "98\n",
      "34\n",
      "0\n",
      "67\n",
      "5\n",
      "517\n",
      "0\n",
      "0\n",
      "0\n",
      "0\n",
      "0\n",
      "0\n",
      "0\n",
      "0\n",
      "0\n",
      "0\n",
      "0\n",
      "0\n",
      "0\n",
      "0\n",
      "0\n",
      "0\n",
      "0\n",
      "0\n",
      "0\n",
      "0\n",
      "0\n",
      "0\n",
      "0\n",
      "0\n",
      "0\n",
      "0\n",
      "0\n",
      "0\n",
      "0\n",
      "0\n",
      "0\n",
      "0\n",
      "0\n",
      "0\n",
      "0\n",
      "0\n",
      "0\n",
      "0\n",
      "3\n",
      "0\n",
      "0\n",
      "0\n",
      "0\n",
      "21\n",
      "0\n",
      "0\n",
      "18\n",
      "0\n",
      "0\n",
      "0\n",
      "34\n",
      "0\n",
      "0\n",
      "49\n",
      "27\n",
      "19\n",
      "0\n",
      "0\n",
      "0\n",
      "0\n",
      "0\n",
      "28\n",
      "0\n",
      "0\n",
      "0\n",
      "0\n",
      "0\n",
      "54\n",
      "0\n",
      "47\n",
      "76\n",
      "0\n",
      "110\n",
      "21\n",
      "45\n",
      "0\n",
      "0\n",
      "0\n",
      "0\n",
      "26\n",
      "14\n",
      "62\n",
      "0\n",
      "0\n",
      "0\n",
      "0\n",
      "2\n",
      "0\n",
      "0\n",
      "0\n",
      "0\n",
      "0\n",
      "0\n",
      "0\n",
      "0\n",
      "0\n",
      "0\n",
      "0\n",
      "0\n",
      "0\n",
      "0\n",
      "0\n",
      "0\n",
      "0\n",
      "0\n",
      "0\n",
      "0\n",
      "0\n",
      "16\n",
      "0\n",
      "0\n",
      "0\n",
      "0\n",
      "0\n",
      "0\n",
      "0\n",
      "0\n",
      "0\n",
      "0\n",
      "0\n",
      "0\n",
      "0\n",
      "0\n",
      "0\n",
      "0\n",
      "0\n",
      "0\n",
      "0\n",
      "0\n",
      "0\n",
      "0\n",
      "0\n",
      "0\n",
      "12\n",
      "0\n",
      "0\n",
      "0\n",
      "0\n",
      "0\n",
      "0\n",
      "0\n",
      "0\n",
      "0\n",
      "0\n",
      "0\n",
      "0\n",
      "0\n",
      "0\n",
      "0\n",
      "0\n",
      "0\n",
      "0\n",
      "0\n",
      "0\n",
      "0\n",
      "0\n",
      "0\n",
      "0\n",
      "0\n",
      "1\n",
      "0\n",
      "0\n",
      "11\n",
      "0\n",
      "0\n",
      "0\n",
      "9\n",
      "0\n",
      "0\n",
      "88\n",
      "32\n",
      "2\n",
      "0\n",
      "0\n",
      "0\n",
      "0\n",
      "0\n",
      "0\n",
      "13\n",
      "0\n",
      "0\n",
      "32\n",
      "0\n",
      "0\n",
      "0\n",
      "0\n",
      "0\n",
      "0\n",
      "0\n",
      "0\n",
      "22\n",
      "0\n",
      "59\n",
      "0\n",
      "9\n",
      "0\n",
      "2\n",
      "11\n",
      "0\n",
      "0\n",
      "20\n",
      "10\n",
      "91\n",
      "9\n",
      "0\n",
      "0\n",
      "0\n",
      "0\n",
      "27\n",
      "0\n",
      "7\n",
      "0\n",
      "0\n",
      "0\n",
      "0\n",
      "0\n",
      "0\n",
      "0\n",
      "26\n",
      "0\n",
      "25\n",
      "23\n",
      "43\n",
      "0\n",
      "0\n",
      "0\n",
      "11\n",
      "5\n",
      "16\n",
      "18\n",
      "0\n",
      "38\n",
      "21\n",
      "15\n",
      "11\n",
      "0\n",
      "0\n",
      "0\n",
      "0\n",
      "0\n",
      "0\n",
      "0\n",
      "0\n",
      "0\n",
      "0\n",
      "0\n",
      "0\n",
      "0\n",
      "0\n",
      "0\n",
      "0\n",
      "0\n",
      "0\n",
      "0\n",
      "0\n",
      "0\n",
      "0\n",
      "0\n",
      "0\n",
      "0\n",
      "0\n",
      "0\n",
      "0\n",
      "0\n",
      "0\n",
      "0\n",
      "0\n",
      "0\n",
      "0\n",
      "0\n",
      "0\n",
      "0\n",
      "12\n",
      "0\n",
      "0\n",
      "0\n",
      "0\n",
      "0\n",
      "0\n",
      "0\n",
      "0\n",
      "0\n",
      "3\n",
      "0\n",
      "0\n",
      "0\n",
      "0\n",
      "0\n",
      "23\n",
      "0\n",
      "26\n",
      "0\n",
      "0\n",
      "0\n",
      "0\n",
      "0\n",
      "0\n",
      "0\n",
      "0\n",
      "0\n",
      "7\n",
      "0\n",
      "0\n",
      "0\n",
      "5\n",
      "11\n",
      "11\n",
      "3\n",
      "3\n",
      "2\n",
      "0\n",
      "37\n",
      "20\n",
      "6\n",
      "39\n",
      "13\n",
      "0\n",
      "0\n",
      "0\n",
      "0\n",
      "0\n",
      "0\n",
      "0\n",
      "0\n",
      "0\n",
      "0\n",
      "0\n",
      "0\n",
      "0\n",
      "0\n",
      "0\n",
      "0\n",
      "0\n",
      "0\n",
      "0\n",
      "0\n",
      "0\n",
      "0\n",
      "0\n",
      "0\n",
      "0\n",
      "0\n",
      "0\n",
      "0\n",
      "2\n",
      "0\n",
      "0\n",
      "0\n",
      "0\n",
      "0\n",
      "0\n",
      "0\n",
      "0\n",
      "0\n",
      "0\n",
      "0\n",
      "0\n",
      "0\n",
      "0\n",
      "0\n",
      "0\n",
      "1\n",
      "0\n",
      "0\n",
      "0\n",
      "0\n",
      "0\n",
      "0\n",
      "0\n",
      "0\n",
      "0\n",
      "0\n",
      "0\n",
      "1\n",
      "0\n",
      "1\n",
      "0\n",
      "0\n",
      "0\n",
      "0\n",
      "0\n",
      "0\n",
      "0\n",
      "0\n",
      "0\n",
      "0\n",
      "354\n",
      "276\n",
      "582\n",
      "296\n",
      "632\n",
      "0\n",
      "328\n",
      "0\n",
      "0\n",
      "0\n",
      "539\n",
      "0\n",
      "0\n",
      "0\n",
      "0\n",
      "0\n",
      "0\n"
     ]
    }
   ],
   "source": [
    "imp_features = lgbm.feature_importances_\n",
    "for i in imp_features:\n",
    "    print(i.round(3))\n",
    "df_imp_features = pd.DataFrame({\"features\":features}).join(pd.DataFrame({\"weights\":imp_features}))\n",
    "df_imp_features = df_imp_features.sort_values(by=['weights'], ascending=False)"
   ]
  },
  {
   "cell_type": "code",
   "execution_count": null,
   "metadata": {
    "id": "0pnRC3oqlGWu"
   },
   "outputs": [],
   "source": [
    "df_imp_features = df_imp_features.head(10)"
   ]
  },
  {
   "cell_type": "code",
   "execution_count": null,
   "metadata": {
    "colab": {
     "base_uri": "https://localhost:8080/",
     "height": 369
    },
    "id": "dL2Ow2hRlWVg",
    "outputId": "2ba7cfbf-0996-4d41-c367-c2fbc055a1a7"
   },
   "outputs": [
    {
     "data": {
      "image/png": "[encoded data removed]",
      "text/plain": [
       "<Figure size 720x360 with 1 Axes>"
      ]
     },
     "metadata": {
      "needs_background": "light"
     },
     "output_type": "display_data"
    }
   ],
   "source": [
    "plt.figure(figsize=(10,5))\n",
    "sns.barplot(x=\"weights\",y=\"features\",data=df_imp_features)\n",
    "plt.tight_layout()\n",
    "plt.savefig('lgbm_importances1.png')"
   ]
  },
  {
   "cell_type": "code",
   "execution_count": 142,
   "metadata": {
    "colab": {
     "base_uri": "https://localhost:8080/"
    },
    "id": "RUoiW_oMl1IC",
    "outputId": "38286b4a-d81d-4cc1-9180-5dcf447781ac"
   },
   "outputs": [
    {
     "data": {
      "text/plain": [
       "0       1\n",
       "1       0\n",
       "2       1\n",
       "3       1\n",
       "4       0\n",
       "       ..\n",
       "7376    0\n",
       "7377    0\n",
       "7378    2\n",
       "7379    0\n",
       "7380    0\n",
       "Name: fault_severity, Length: 7381, dtype: int64"
      ]
     },
     "execution_count": 142,
     "metadata": {},
     "output_type": "execute_result"
    }
   ],
   "source": [
    "y"
   ]
  },
  {
   "cell_type": "code",
   "execution_count": 144,
   "metadata": {
    "id": "CpdW5qkelySL"
   },
   "outputs": [],
   "source": [
    "y2 = y.astype(np.uint8)\n",
    "n_classes = len(set(y2))"
   ]
  },
  {
   "cell_type": "code",
   "execution_count": 146,
   "metadata": {
    "id": "g1r_zmI1ONAE"
   },
   "outputs": [],
   "source": [
    "y_scores = lgbm.predict_proba(X_test_sca)"
   ]
  },
  {
   "cell_type": "code",
   "execution_count": 151,
   "metadata": {
    "colab": {
     "base_uri": "https://localhost:8080/"
    },
    "id": "WNOp0ePPmwPS",
    "outputId": "b05a6fe1-46ae-4aec-fad2-a4c6f809f3ac"
   },
   "outputs": [
    {
     "data": {
      "text/plain": [
       "(1477, 479)"
      ]
     },
     "execution_count": 151,
     "metadata": {},
     "output_type": "execute_result"
    }
   ],
   "source": [
    "X_test_sca.shape"
   ]
  },
  {
   "cell_type": "code",
   "execution_count": 150,
   "metadata": {
    "colab": {
     "base_uri": "https://localhost:8080/"
    },
    "id": "bdvGVXHwmpnq",
    "outputId": "63934411-eebe-4001-935b-7a595c62fddb"
   },
   "outputs": [
    {
     "data": {
      "text/plain": [
       "4431"
      ]
     },
     "execution_count": 150,
     "metadata": {},
     "output_type": "execute_result"
    }
   ],
   "source": [
    "y_scores.size"
   ]
  },
  {
   "cell_type": "code",
   "execution_count": 148,
   "metadata": {
    "colab": {
     "base_uri": "https://localhost:8080/"
    },
    "id": "pjv_K8NimOdZ",
    "outputId": "bcf12909-85fc-4c55-df80-205c4940b9b4"
   },
   "outputs": [
    {
     "data": {
      "text/plain": [
       "4131    0\n",
       "6928    0\n",
       "893     1\n",
       "3214    0\n",
       "5550    0\n",
       "       ..\n",
       "5302    0\n",
       "6291    0\n",
       "1436    0\n",
       "2582    0\n",
       "2418    0\n",
       "Name: fault_severity, Length: 1477, dtype: int64"
      ]
     },
     "execution_count": 148,
     "metadata": {},
     "output_type": "execute_result"
    }
   ],
   "source": [
    "y_test"
   ]
  },
  {
   "cell_type": "code",
   "execution_count": 149,
   "metadata": {
    "id": "s29s9MdAmgSn"
   },
   "outputs": [],
   "source": [
    "from sklearn.metrics import precision_recall_curve, roc_curve"
   ]
  },
  {
   "cell_type": "code",
   "execution_count": null,
   "metadata": {
    "id": "MLGOW2GqONKk"
   },
   "outputs": [],
   "source": [
    "# precision recall curve\n",
    "precision = dict()\n",
    "recall = dict()\n",
    "for i in range(n_classes):\n",
    "    precision[i], recall[i], _ = precision_recall_curve(y_test[:, i],\n",
    "                                                        y_score[:, i])\n",
    "    plt.plot(recall[i], precision[i], lw=2, label='class {}'.format(i))\n",
    "    \n",
    "plt.xlabel(\"recall\")\n",
    "plt.ylabel(\"precision\")\n",
    "plt.legend(loc=\"best\")\n",
    "plt.title(\"precision vs. recall curve\")\n",
    "plt.show()"
   ]
  },
  {
   "cell_type": "code",
   "execution_count": null,
   "metadata": {
    "id": "H83CA8b5mLQt"
   },
   "outputs": [],
   "source": []
  },
  {
   "cell_type": "code",
   "execution_count": null,
   "metadata": {
    "id": "97HKgkZCmLT5"
   },
   "outputs": [],
   "source": []
  },
  {
   "cell_type": "markdown",
   "metadata": {
    "id": "skBR2UlojXBZ"
   },
   "source": [
    "**Hyperparamater Tuning Using Hyperopt - LGBM Classifier** "
   ]
  },
  {
   "cell_type": "markdown",
   "metadata": {
    "id": "0zQjyYCsyhiP"
   },
   "source": [
    "sorce:https://www.kaggle.com/eikedehling/tune-and-compare-xgb-lightgbm-rf-with-hyperopt"
   ]
  },
  {
   "cell_type": "code",
   "execution_count": null,
   "metadata": {
    "id": "9XjX5dyi3z-s"
   },
   "outputs": [],
   "source": [
    "import lightgbm as lgbm"
   ]
  },
  {
   "cell_type": "code",
   "execution_count": null,
   "metadata": {
    "colab": {
     "base_uri": "https://localhost:8080/"
    },
    "id": "MJHto70CzV-1",
    "outputId": "0c5ebcbe-b4db-4ed2-dda9-6cce39763e35"
   },
   "outputs": [
    {
     "name": "stdout",
     "output_type": "stream",
     "text": [
      "F1 macro 0.636 params {'objective': 'multiclass', 'num_leaves': 100, 'colsample_bytree': '0.925'}\n",
      "F1 macro 0.641 params {'objective': 'multiclass', 'num_leaves': 110, 'colsample_bytree': '0.588'}\n",
      "F1 macro 0.643 params {'objective': 'multiclass', 'num_leaves': 30, 'colsample_bytree': '0.771'}\n",
      "F1 macro 0.638 params {'objective': 'multiclass', 'num_leaves': 114, 'colsample_bytree': '0.476'}\n",
      "F1 macro 0.639 params {'objective': 'multiclass', 'num_leaves': 126, 'colsample_bytree': '0.569'}\n",
      "F1 macro 0.635 params {'objective': 'multiclass', 'num_leaves': 62, 'colsample_bytree': '0.401'}\n",
      "F1 macro 0.644 params {'objective': 'multiclass', 'num_leaves': 54, 'colsample_bytree': '0.724'}\n",
      "F1 macro 0.645 params {'objective': 'multiclass', 'num_leaves': 64, 'colsample_bytree': '0.629'}\n",
      "F1 macro 0.645 params {'objective': 'multiclass', 'num_leaves': 48, 'colsample_bytree': '0.724'}\n",
      "F1 macro 0.635 params {'objective': 'multiclass', 'num_leaves': 80, 'colsample_bytree': '0.936'}\n",
      "F1 macro 0.638 params {'objective': 'multiclass', 'num_leaves': 54, 'colsample_bytree': '0.412'}\n",
      "F1 macro 0.630 params {'objective': 'multiclass', 'num_leaves': 14, 'colsample_bytree': '0.510'}\n",
      "F1 macro 0.637 params {'objective': 'multiclass', 'num_leaves': 110, 'colsample_bytree': '0.772'}\n",
      "F1 macro 0.637 params {'objective': 'multiclass', 'num_leaves': 78, 'colsample_bytree': '0.405'}\n",
      "F1 macro 0.639 params {'objective': 'multiclass', 'num_leaves': 98, 'colsample_bytree': '0.528'}\n",
      "100%|██████████| 15/15 [10:21<00:00, 41.41s/it, best loss: 0.6298377617096491]\n"
     ]
    }
   ],
   "source": [
    "def objective(params):\n",
    "    params = {\n",
    "        'objective': 'multiclass',\n",
    "        'num_leaves': int(params['num_leaves']),\n",
    "        'colsample_bytree': '{:.3f}'.format(params['colsample_bytree']),\n",
    "    }\n",
    "    \n",
    "    clf = lgbm.LGBMClassifier(\n",
    "        n_estimators=500,\n",
    "        learning_rate=0.005,\n",
    "        max_depth=-1,\n",
    "        **params\n",
    "    )\n",
    "\n",
    "    score = cross_val_score(clf, X_train_sca,y_train, scoring='f1_macro', cv=StratifiedKFold()).mean()\n",
    "    print(\"F1 macro {:.3f} params {}\".format(score, params))\n",
    "    return score\n",
    "\n",
    "space = {\n",
    "    'num_leaves': hp.quniform('num_leaves', 8, 128, 2),\n",
    "    'colsample_bytree': hp.uniform('colsample_bytree', 0.3, 1.0),\n",
    "}\n",
    "\n",
    "best = fmin(fn=objective,\n",
    "            space=space,\n",
    "            algo=tpe.suggest,\n",
    "            max_evals=15)"
   ]
  },
  {
   "cell_type": "code",
   "execution_count": null,
   "metadata": {
    "id": "tO6pilTi7B91"
   },
   "outputs": [],
   "source": [
    "params = {\n",
    "         'objective': 'multiclass',\n",
    "        'num_leaves': '48',\n",
    "         'colsample_bytree': '0.724'\n",
    "        }"
   ]
  },
  {
   "cell_type": "code",
   "execution_count": null,
   "metadata": {
    "id": "gcqKsURK6-Rk"
   },
   "outputs": [],
   "source": [
    "clf = lgbm.LGBMClassifier(\n",
    "        n_estimators=1000,\n",
    "        learning_rate=0.005,\n",
    "        max_depth=-3,\n",
    "        random_state=42,\n",
    "        **params)"
   ]
  },
  {
   "cell_type": "code",
   "execution_count": null,
   "metadata": {
    "colab": {
     "base_uri": "https://localhost:8080/"
    },
    "id": "CGDur-Qa7TVI",
    "outputId": "447d2e68-9ae7-42bb-9989-83c2f7169758"
   },
   "outputs": [
    {
     "data": {
      "text/plain": [
       "LGBMClassifier(colsample_bytree='0.724', learning_rate=0.005, max_depth=-3,\n",
       "               n_estimators=1000, num_leaves='48', objective='multiclass',\n",
       "               random_state=42)"
      ]
     },
     "execution_count": 87,
     "metadata": {},
     "output_type": "execute_result"
    }
   ],
   "source": [
    "clf.fit(X_train_sca, y_train)"
   ]
  },
  {
   "cell_type": "code",
   "execution_count": null,
   "metadata": {
    "id": "2rFFwO0s7n7s"
   },
   "outputs": [],
   "source": [
    "\n",
    "#Predictions\n",
    "y_pred = clf.predict(X_test_sca)\n",
    "report7 = classification_report(y_test,y_pred,output_dict=True)\n",
    "df_std = pd.DataFrame(report7).transpose()"
   ]
  },
  {
   "cell_type": "code",
   "execution_count": null,
   "metadata": {
    "colab": {
     "base_uri": "https://localhost:8080/",
     "height": 238
    },
    "id": "EEUQORNZ7oA1",
    "outputId": "3a35e610-c70b-4c3a-c845-1781df76adcc"
   },
   "outputs": [
    {
     "data": {
      "text/html": [
       "\n",
       "  <div id=\"df-ad2f4c13-8438-4c2c-a6b3-9faea974d055\">\n",
       "    <div class=\"colab-df-container\">\n",
       "      <div>\n",
       "<style scoped>\n",
       "    .dataframe tbody tr th:only-of-type {\n",
       "        vertical-align: middle;\n",
       "    }\n",
       "\n",
       "    .dataframe tbody tr th {\n",
       "        vertical-align: top;\n",
       "    }\n",
       "\n",
       "    .dataframe thead th {\n",
       "        text-align: right;\n",
       "    }\n",
       "</style>\n",
       "<table border=\"1\" class=\"dataframe\">\n",
       "  <thead>\n",
       "    <tr style=\"text-align: right;\">\n",
       "      <th></th>\n",
       "      <th>precision</th>\n",
       "      <th>recall</th>\n",
       "      <th>f1-score</th>\n",
       "      <th>support</th>\n",
       "    </tr>\n",
       "  </thead>\n",
       "  <tbody>\n",
       "    <tr>\n",
       "      <th>0</th>\n",
       "      <td>0.831612</td>\n",
       "      <td>0.841170</td>\n",
       "      <td>0.836364</td>\n",
       "      <td>957.000000</td>\n",
       "    </tr>\n",
       "    <tr>\n",
       "      <th>1</th>\n",
       "      <td>0.608069</td>\n",
       "      <td>0.562667</td>\n",
       "      <td>0.584488</td>\n",
       "      <td>375.000000</td>\n",
       "    </tr>\n",
       "    <tr>\n",
       "      <th>2</th>\n",
       "      <td>0.623457</td>\n",
       "      <td>0.696552</td>\n",
       "      <td>0.657980</td>\n",
       "      <td>145.000000</td>\n",
       "    </tr>\n",
       "    <tr>\n",
       "      <th>accuracy</th>\n",
       "      <td>0.756263</td>\n",
       "      <td>0.756263</td>\n",
       "      <td>0.756263</td>\n",
       "      <td>0.756263</td>\n",
       "    </tr>\n",
       "    <tr>\n",
       "      <th>macro avg</th>\n",
       "      <td>0.687713</td>\n",
       "      <td>0.700130</td>\n",
       "      <td>0.692944</td>\n",
       "      <td>1477.000000</td>\n",
       "    </tr>\n",
       "    <tr>\n",
       "      <th>weighted avg</th>\n",
       "      <td>0.754421</td>\n",
       "      <td>0.756263</td>\n",
       "      <td>0.754902</td>\n",
       "      <td>1477.000000</td>\n",
       "    </tr>\n",
       "  </tbody>\n",
       "</table>\n",
       "</div>\n",
       "      <button class=\"colab-df-convert\" onclick=\"convertToInteractive('df-ad2f4c13-8438-4c2c-a6b3-9faea974d055')\"\n",
       "              title=\"Convert this dataframe to an interactive table.\"\n",
       "              style=\"display:none;\">\n",
       "        \n",
       "  <svg xmlns=\"http://www.w3.org/2000/svg\" height=\"24px\"viewBox=\"0 0 24 24\"\n",
       "       width=\"24px\">\n",
       "    <path d=\"M0 0h24v24H0V0z\" fill=\"none\"/>\n",
       "    <path d=\"M18.56 5.44l.94 2.06.94-2.06 2.06-.94-2.06-.94-.94-2.06-.94 2.06-2.06.94zm-11 1L8.5 8.5l.94-2.06 2.06-.94-2.06-.94L8.5 2.5l-.94 2.06-2.06.94zm10 10l.94 2.06.94-2.06 2.06-.94-2.06-.94-.94-2.06-.94 2.06-2.06.94z\"/><path d=\"M17.41 7.96l-1.37-1.37c-.4-.4-.92-.59-1.43-.59-.52 0-1.04.2-1.43.59L10.3 9.45l-7.72 7.72c-.78.78-.78 2.05 0 2.83L4 21.41c.39.39.9.59 1.41.59.51 0 1.02-.2 1.41-.59l7.78-7.78 2.81-2.81c.8-.78.8-2.07 0-2.86zM5.41 20L4 18.59l7.72-7.72 1.47 1.35L5.41 20z\"/>\n",
       "  </svg>\n",
       "      </button>\n",
       "      \n",
       "  <style>\n",
       "    .colab-df-container {\n",
       "      display:flex;\n",
       "      flex-wrap:wrap;\n",
       "      gap: 12px;\n",
       "    }\n",
       "\n",
       "    .colab-df-convert {\n",
       "      background-color: #E8F0FE;\n",
       "      border: none;\n",
       "      border-radius: 50%;\n",
       "      cursor: pointer;\n",
       "      display: none;\n",
       "      fill: #1967D2;\n",
       "      height: 32px;\n",
       "      padding: 0 0 0 0;\n",
       "      width: 32px;\n",
       "    }\n",
       "\n",
       "    .colab-df-convert:hover {\n",
       "      background-color: #E2EBFA;\n",
       "      box-shadow: 0px 1px 2px rgba(60, 64, 67, 0.3), 0px 1px 3px 1px rgba(60, 64, 67, 0.15);\n",
       "      fill: #174EA6;\n",
       "    }\n",
       "\n",
       "    [theme=dark] .colab-df-convert {\n",
       "      background-color: #3B4455;\n",
       "      fill: #D2E3FC;\n",
       "    }\n",
       "\n",
       "    [theme=dark] .colab-df-convert:hover {\n",
       "      background-color: #434B5C;\n",
       "      box-shadow: 0px 1px 3px 1px rgba(0, 0, 0, 0.15);\n",
       "      filter: drop-shadow(0px 1px 2px rgba(0, 0, 0, 0.3));\n",
       "      fill: #FFFFFF;\n",
       "    }\n",
       "  </style>\n",
       "\n",
       "      <script>\n",
       "        const buttonEl =\n",
       "          document.querySelector('#df-ad2f4c13-8438-4c2c-a6b3-9faea974d055 button.colab-df-convert');\n",
       "        buttonEl.style.display =\n",
       "          google.colab.kernel.accessAllowed ? 'block' : 'none';\n",
       "\n",
       "        async function convertToInteractive(key) {\n",
       "          const element = document.querySelector('#df-ad2f4c13-8438-4c2c-a6b3-9faea974d055');\n",
       "          const dataTable =\n",
       "            await google.colab.kernel.invokeFunction('convertToInteractive',\n",
       "                                                     [key], {});\n",
       "          if (!dataTable) return;\n",
       "\n",
       "          const docLinkHtml = 'Like what you see? Visit the ' +\n",
       "            '<a target=\"_blank\" href=https://colab.research.google.com/notebooks/data_table.ipynb>data table notebook</a>'\n",
       "            + ' to learn more about interactive tables.';\n",
       "          element.innerHTML = '';\n",
       "          dataTable['output_type'] = 'display_data';\n",
       "          await google.colab.output.renderOutput(dataTable, element);\n",
       "          const docLink = document.createElement('div');\n",
       "          docLink.innerHTML = docLinkHtml;\n",
       "          element.appendChild(docLink);\n",
       "        }\n",
       "      </script>\n",
       "    </div>\n",
       "  </div>\n",
       "  "
      ],
      "text/plain": [
       "              precision    recall  f1-score      support\n",
       "0              0.831612  0.841170  0.836364   957.000000\n",
       "1              0.608069  0.562667  0.584488   375.000000\n",
       "2              0.623457  0.696552  0.657980   145.000000\n",
       "accuracy       0.756263  0.756263  0.756263     0.756263\n",
       "macro avg      0.687713  0.700130  0.692944  1477.000000\n",
       "weighted avg   0.754421  0.756263  0.754902  1477.000000"
      ]
     },
     "execution_count": 89,
     "metadata": {},
     "output_type": "execute_result"
    }
   ],
   "source": [
    "df_std"
   ]
  },
  {
   "cell_type": "code",
   "execution_count": null,
   "metadata": {
    "colab": {
     "base_uri": "https://localhost:8080/"
    },
    "id": "5fhdN7ZK2LMz",
    "outputId": "b955ac51-8cc4-4fca-d362-e401ef1983d0"
   },
   "outputs": [
    {
     "name": "stdout",
     "output_type": "stream",
     "text": [
      "LGBM: train loss 0.3663\n",
      "---------------------------------------------------------------\n",
      "LGBM: test loss 0.5301\n",
      "---------------------------------------------------------------\n"
     ]
    }
   ],
   "source": [
    "loss2tr = log_loss(y_train.values, clf.predict_proba(X_train_sca.values))\n",
    "print(\"LGBM: train loss {:.4f}\".format(loss2tr))\n",
    "print('---------------------------------------------------------------')\n",
    "loss2te = log_loss(y_test.values, clf.predict_proba(X_test_sca.values))\n",
    "print(\"LGBM: test loss {:.4f}\".format(loss2te))\n",
    "print('---------------------------------------------------------------')"
   ]
  },
  {
   "cell_type": "markdown",
   "metadata": {
    "id": "9mP3nwRKT5Qb"
   },
   "source": [
    "**Hyperparameter Optimization Using Hyperopt - To Find out best classifier**"
   ]
  },
  {
   "cell_type": "code",
   "execution_count": null,
   "metadata": {
    "colab": {
     "base_uri": "https://localhost:8080/"
    },
    "id": "P6RbMdNNi1nN",
    "outputId": "4b51bded-1a10-421a-e437-65f9a2a039e0"
   },
   "outputs": [
    {
     "name": "stdout",
     "output_type": "stream",
     "text": [
      "Requirement already satisfied: hyperopt in /usr/local/lib/python3.7/dist-packages (0.1.2)\n",
      "Requirement already satisfied: six in /usr/local/lib/python3.7/dist-packages (from hyperopt) (1.15.0)\n",
      "Requirement already satisfied: future in /usr/local/lib/python3.7/dist-packages (from hyperopt) (0.16.0)\n",
      "Requirement already satisfied: tqdm in /usr/local/lib/python3.7/dist-packages (from hyperopt) (4.62.3)\n",
      "Requirement already satisfied: numpy in /usr/local/lib/python3.7/dist-packages (from hyperopt) (1.19.5)\n",
      "Requirement already satisfied: networkx in /usr/local/lib/python3.7/dist-packages (from hyperopt) (2.6.3)\n",
      "Requirement already satisfied: pymongo in /usr/local/lib/python3.7/dist-packages (from hyperopt) (4.0.1)\n",
      "Requirement already satisfied: scipy in /usr/local/lib/python3.7/dist-packages (from hyperopt) (1.4.1)\n"
     ]
    }
   ],
   "source": [
    "!pip install hyperopt"
   ]
  },
  {
   "cell_type": "code",
   "execution_count": null,
   "metadata": {
    "colab": {
     "base_uri": "https://localhost:8080/"
    },
    "id": "0xxoP_yDLTAc",
    "outputId": "effd8152-e82e-4939-ae9b-2feae64a1db1"
   },
   "outputs": [
    {
     "name": "stdout",
     "output_type": "stream",
     "text": [
      "Collecting git+https://github.com/hyperopt/hyperopt-sklearn\n",
      "  Cloning https://github.com/hyperopt/hyperopt-sklearn to /tmp/pip-req-build-0f0zqeit\n",
      "  Running command git clone -q https://github.com/hyperopt/hyperopt-sklearn /tmp/pip-req-build-0f0zqeit\n",
      "Requirement already satisfied: hyperopt in /usr/local/lib/python3.7/dist-packages (from hpsklearn==0.0.3) (0.1.2)\n",
      "Requirement already satisfied: nose in /usr/local/lib/python3.7/dist-packages (from hpsklearn==0.0.3) (1.3.7)\n",
      "Requirement already satisfied: numpy in /usr/local/lib/python3.7/dist-packages (from hpsklearn==0.0.3) (1.19.5)\n",
      "Requirement already satisfied: scikit-learn in /usr/local/lib/python3.7/dist-packages (from hpsklearn==0.0.3) (1.0.2)\n",
      "Requirement already satisfied: scipy in /usr/local/lib/python3.7/dist-packages (from hpsklearn==0.0.3) (1.4.1)\n",
      "Requirement already satisfied: networkx in /usr/local/lib/python3.7/dist-packages (from hyperopt->hpsklearn==0.0.3) (2.6.3)\n",
      "Requirement already satisfied: future in /usr/local/lib/python3.7/dist-packages (from hyperopt->hpsklearn==0.0.3) (0.16.0)\n",
      "Requirement already satisfied: pymongo in /usr/local/lib/python3.7/dist-packages (from hyperopt->hpsklearn==0.0.3) (4.0.1)\n",
      "Requirement already satisfied: tqdm in /usr/local/lib/python3.7/dist-packages (from hyperopt->hpsklearn==0.0.3) (4.62.3)\n",
      "Requirement already satisfied: six in /usr/local/lib/python3.7/dist-packages (from hyperopt->hpsklearn==0.0.3) (1.15.0)\n",
      "Requirement already satisfied: threadpoolctl>=2.0.0 in /usr/local/lib/python3.7/dist-packages (from scikit-learn->hpsklearn==0.0.3) (3.0.0)\n",
      "Requirement already satisfied: joblib>=0.11 in /usr/local/lib/python3.7/dist-packages (from scikit-learn->hpsklearn==0.0.3) (1.1.0)\n"
     ]
    }
   ],
   "source": [
    "!pip install git+https://github.com/hyperopt/hyperopt-sklearn"
   ]
  },
  {
   "cell_type": "code",
   "execution_count": null,
   "metadata": {
    "colab": {
     "base_uri": "https://localhost:8080/"
    },
    "id": "CmhDalPZMDGs",
    "outputId": "28caefa2-a555-457c-c2f8-9a060835ee4c"
   },
   "outputs": [
    {
     "name": "stdout",
     "output_type": "stream",
     "text": [
      "WARN: OMP_NUM_THREADS=None =>\n",
      "... If you are using openblas if you are using openblas set OMP_NUM_THREADS=1 or risk subprocess calls hanging indefinitely\n"
     ]
    }
   ],
   "source": [
    "from hpsklearn import HyperoptEstimator\n",
    "from hpsklearn import any_classifier\n",
    "from hpsklearn import any_preprocessing\n",
    "from hyperopt import tpe"
   ]
  },
  {
   "cell_type": "code",
   "execution_count": null,
   "metadata": {
    "id": "uiT271QKQI-C"
   },
   "outputs": [],
   "source": [
    "\n",
    "X_train = X_train.replace((np.inf, -np.inf, np.nan), 0).reset_index(drop=True)\n",
    "y_train = y_train.replace((np.inf, -np.inf, np.nan), 0).reset_index(drop=True)\n",
    "X_test = X_test.replace((np.inf, -np.inf, np.nan), 0).reset_index(drop=True)"
   ]
  },
  {
   "cell_type": "code",
   "execution_count": null,
   "metadata": {
    "colab": {
     "base_uri": "https://localhost:8080/"
    },
    "id": "6ApRAUZCMZ0o",
    "outputId": "7e7f36d3-fc60-42ad-c76d-3e8b3eb33047"
   },
   "outputs": [
    {
     "name": "stdout",
     "output_type": "stream",
     "text": [
      "100%|██████████| 1/1 [00:09<00:00,  9.81s/it, best loss: 0.27688399661303975]\n",
      "100%|██████████| 1/1 [00:00<00:00,  1.19it/s, best loss: 0.2591024555461473]\n",
      "100%|██████████| 1/1 [00:13<00:00, 13.44s/it, best loss: 0.2591024555461473]\n",
      "100%|██████████| 1/1 [00:03<00:00,  3.57s/it, best loss: 0.2591024555461473]\n",
      "100%|██████████| 1/1 [00:05<00:00,  5.58s/it, best loss: 0.2591024555461473]\n",
      "100%|██████████| 1/1 [00:01<00:00,  1.66s/it, best loss: 0.2591024555461473]\n",
      "100%|██████████| 1/1 [00:01<00:00,  1.69s/it, best loss: 0.2591024555461473]\n",
      "100%|██████████| 1/1 [00:30<00:00, 30.12s/it, best loss: 0.2591024555461473]\n",
      "100%|██████████| 1/1 [00:00<00:00,  1.66it/s, best loss: 0.2591024555461473]\n",
      "100%|██████████| 1/1 [00:01<00:00,  1.43s/it, best loss: 0.2591024555461473]\n",
      "100%|██████████| 1/1 [00:30<00:00, 30.12s/it, best loss: 0.2591024555461473]\n",
      "100%|██████████| 1/1 [00:30<00:00, 30.24s/it, best loss: 0.2591024555461473]\n",
      "100%|██████████| 1/1 [00:00<00:00,  1.33it/s, best loss: 0.2591024555461473]\n",
      "100%|██████████| 1/1 [00:05<00:00,  5.16s/it, best loss: 0.2591024555461473]\n",
      "100%|██████████| 1/1 [00:00<00:00,  1.99it/s, best loss: 0.2591024555461473]\n",
      "100%|██████████| 1/1 [00:00<00:00,  1.14it/s, best loss: 0.2591024555461473]\n",
      "100%|██████████| 1/1 [00:04<00:00,  4.35s/it, best loss: 0.2591024555461473]\n",
      "100%|██████████| 1/1 [00:00<00:00,  1.22it/s, best loss: 0.2591024555461473]\n",
      "100%|██████████| 1/1 [00:00<00:00,  1.76it/s, best loss: 0.2591024555461473]\n",
      "100%|██████████| 1/1 [00:10<00:00, 10.22s/it, best loss: 0.2591024555461473]\n",
      "100%|██████████| 1/1 [00:00<00:00,  2.12it/s, best loss: 0.2591024555461473]\n",
      "100%|██████████| 1/1 [00:00<00:00,  2.21it/s, best loss: 0.2591024555461473]\n",
      "100%|██████████| 1/1 [00:00<00:00,  1.61it/s, best loss: 0.2591024555461473]\n",
      "100%|██████████| 1/1 [00:00<00:00,  2.83it/s, best loss: 0.2591024555461473]\n",
      "100%|██████████| 1/1 [00:00<00:00,  3.60it/s, best loss: 0.2591024555461473]\n",
      "100%|██████████| 1/1 [00:00<00:00,  1.98it/s, best loss: 0.2591024555461473]\n",
      "100%|██████████| 1/1 [00:30<00:00, 30.18s/it, best loss: 0.2591024555461473]\n",
      "100%|██████████| 1/1 [00:22<00:00, 22.54s/it, best loss: 0.25063505503810335]\n",
      "100%|██████████| 1/1 [00:30<00:00, 30.30s/it, best loss: 0.25063505503810335]\n",
      "100%|██████████| 1/1 [00:14<00:00, 14.19s/it, best loss: 0.25063505503810335]\n",
      "100%|██████████| 1/1 [00:30<00:00, 30.31s/it, best loss: 0.25063505503810335]\n",
      "100%|██████████| 1/1 [00:00<00:00,  1.43it/s, best loss: 0.25063505503810335]\n",
      "100%|██████████| 1/1 [00:30<00:00, 30.20s/it, best loss: 0.25063505503810335]\n",
      "100%|██████████| 1/1 [00:02<00:00,  2.28s/it, best loss: 0.25063505503810335]\n",
      "100%|██████████| 1/1 [00:11<00:00, 11.30s/it, best loss: 0.25063505503810335]\n",
      "100%|██████████| 1/1 [00:14<00:00, 14.12s/it, best loss: 0.25063505503810335]\n",
      "100%|██████████| 1/1 [00:22<00:00, 22.63s/it, best loss: 0.25063505503810335]\n",
      "100%|██████████| 1/1 [00:01<00:00,  1.32s/it, best loss: 0.25063505503810335]\n",
      "100%|██████████| 1/1 [00:00<00:00,  1.34it/s, best loss: 0.25063505503810335]\n",
      "100%|██████████| 1/1 [00:00<00:00,  1.59it/s, best loss: 0.25063505503810335]\n",
      "100%|██████████| 1/1 [00:10<00:00, 10.75s/it, best loss: 0.25063505503810335]\n",
      "100%|██████████| 1/1 [00:00<00:00,  1.72it/s, best loss: 0.25063505503810335]\n",
      "100%|██████████| 1/1 [00:30<00:00, 30.33s/it, best loss: 0.25063505503810335]\n",
      "100%|██████████| 1/1 [00:30<00:00, 30.18s/it, best loss: 0.25063505503810335]\n",
      "100%|██████████| 1/1 [00:30<00:00, 30.19s/it, best loss: 0.25063505503810335]\n",
      "100%|██████████| 1/1 [00:06<00:00,  6.59s/it, best loss: 0.25063505503810335]\n",
      "100%|██████████| 1/1 [00:30<00:00, 30.19s/it, best loss: 0.25063505503810335]\n",
      "100%|██████████| 1/1 [00:30<00:00, 30.16s/it, best loss: 0.25063505503810335]\n",
      "100%|██████████| 1/1 [00:27<00:00, 27.91s/it, best loss: 0.25063505503810335]\n",
      "100%|██████████| 1/1 [00:00<00:00,  1.94it/s, best loss: 0.25063505503810335]\n",
      "{'learner': RandomForestClassifier(bootstrap=False, criterion='entropy',\n",
      "                       max_features=0.2845974974724481, min_samples_leaf=9,\n",
      "                       n_estimators=561, n_jobs=1, random_state=0,\n",
      "                       verbose=False), 'preprocs': (StandardScaler(),), 'ex_preprocs': ()}\n"
     ]
    }
   ],
   "source": [
    "# define search\n",
    "model = HyperoptEstimator(classifier=any_classifier('cla'), preprocessing=any_preprocessing('pre'), algo=tpe.suggest, max_evals=50, trial_timeout=30)\n",
    "# perform the search\n",
    "model.fit(X_train, y_train)\n",
    "\n",
    "# summarize the best model\n",
    "print(model.best_model())"
   ]
  },
  {
   "cell_type": "code",
   "execution_count": null,
   "metadata": {
    "colab": {
     "base_uri": "https://localhost:8080/"
    },
    "id": "HRL8wFxwSsKu",
    "outputId": "f50a6734-5fff-4d15-d7c4-839551506364"
   },
   "outputs": [
    {
     "data": {
      "text/plain": [
       "RandomForestClassifier(bootstrap=False, criterion='entropy',\n",
       "                       max_features=0.2845974974724481, min_samples_leaf=9,\n",
       "                       n_estimators=561, n_jobs=1, random_state=0,\n",
       "                       verbose=False)"
      ]
     },
     "execution_count": 97,
     "metadata": {},
     "output_type": "execute_result"
    }
   ],
   "source": [
    "rfc = RandomForestClassifier(bootstrap=False, criterion='entropy',\n",
    "                       max_features=0.2845974974724481, min_samples_leaf=9,\n",
    "                       n_estimators=561, n_jobs=1, random_state=0,\n",
    "                       verbose=False)\n",
    "\n",
    "rfc.fit(X_train, y_train)"
   ]
  },
  {
   "cell_type": "code",
   "execution_count": null,
   "metadata": {
    "id": "ErIFlB8veqxI"
   },
   "outputs": [],
   "source": [
    "#Predictions\n",
    "y_pred = rfc.predict(X_test)\n",
    "report7 = classification_report(y_test,y_pred,output_dict=True)\n",
    "df_std = pd.DataFrame(report7).transpose()"
   ]
  },
  {
   "cell_type": "code",
   "execution_count": null,
   "metadata": {
    "colab": {
     "base_uri": "https://localhost:8080/",
     "height": 238
    },
    "id": "K36C5IKPbfbk",
    "outputId": "b64f9ed0-39de-4454-d1a2-b43618c9f159"
   },
   "outputs": [
    {
     "data": {
      "text/html": [
       "\n",
       "  <div id=\"df-97f103ca-c009-45b9-a34f-9299a009c02e\">\n",
       "    <div class=\"colab-df-container\">\n",
       "      <div>\n",
       "<style scoped>\n",
       "    .dataframe tbody tr th:only-of-type {\n",
       "        vertical-align: middle;\n",
       "    }\n",
       "\n",
       "    .dataframe tbody tr th {\n",
       "        vertical-align: top;\n",
       "    }\n",
       "\n",
       "    .dataframe thead th {\n",
       "        text-align: right;\n",
       "    }\n",
       "</style>\n",
       "<table border=\"1\" class=\"dataframe\">\n",
       "  <thead>\n",
       "    <tr style=\"text-align: right;\">\n",
       "      <th></th>\n",
       "      <th>precision</th>\n",
       "      <th>recall</th>\n",
       "      <th>f1-score</th>\n",
       "      <th>support</th>\n",
       "    </tr>\n",
       "  </thead>\n",
       "  <tbody>\n",
       "    <tr>\n",
       "      <th>0</th>\n",
       "      <td>0.819572</td>\n",
       "      <td>0.840125</td>\n",
       "      <td>0.829721</td>\n",
       "      <td>957.000000</td>\n",
       "    </tr>\n",
       "    <tr>\n",
       "      <th>1</th>\n",
       "      <td>0.613497</td>\n",
       "      <td>0.533333</td>\n",
       "      <td>0.570613</td>\n",
       "      <td>375.000000</td>\n",
       "    </tr>\n",
       "    <tr>\n",
       "      <th>2</th>\n",
       "      <td>0.594118</td>\n",
       "      <td>0.696552</td>\n",
       "      <td>0.641270</td>\n",
       "      <td>145.000000</td>\n",
       "    </tr>\n",
       "    <tr>\n",
       "      <th>accuracy</th>\n",
       "      <td>0.748138</td>\n",
       "      <td>0.748138</td>\n",
       "      <td>0.748138</td>\n",
       "      <td>0.748138</td>\n",
       "    </tr>\n",
       "    <tr>\n",
       "      <th>macro avg</th>\n",
       "      <td>0.675729</td>\n",
       "      <td>0.690003</td>\n",
       "      <td>0.680535</td>\n",
       "      <td>1477.000000</td>\n",
       "    </tr>\n",
       "    <tr>\n",
       "      <th>weighted avg</th>\n",
       "      <td>0.745118</td>\n",
       "      <td>0.748138</td>\n",
       "      <td>0.745435</td>\n",
       "      <td>1477.000000</td>\n",
       "    </tr>\n",
       "  </tbody>\n",
       "</table>\n",
       "</div>\n",
       "      <button class=\"colab-df-convert\" onclick=\"convertToInteractive('df-97f103ca-c009-45b9-a34f-9299a009c02e')\"\n",
       "              title=\"Convert this dataframe to an interactive table.\"\n",
       "              style=\"display:none;\">\n",
       "        \n",
       "  <svg xmlns=\"http://www.w3.org/2000/svg\" height=\"24px\"viewBox=\"0 0 24 24\"\n",
       "       width=\"24px\">\n",
       "    <path d=\"M0 0h24v24H0V0z\" fill=\"none\"/>\n",
       "    <path d=\"M18.56 5.44l.94 2.06.94-2.06 2.06-.94-2.06-.94-.94-2.06-.94 2.06-2.06.94zm-11 1L8.5 8.5l.94-2.06 2.06-.94-2.06-.94L8.5 2.5l-.94 2.06-2.06.94zm10 10l.94 2.06.94-2.06 2.06-.94-2.06-.94-.94-2.06-.94 2.06-2.06.94z\"/><path d=\"M17.41 7.96l-1.37-1.37c-.4-.4-.92-.59-1.43-.59-.52 0-1.04.2-1.43.59L10.3 9.45l-7.72 7.72c-.78.78-.78 2.05 0 2.83L4 21.41c.39.39.9.59 1.41.59.51 0 1.02-.2 1.41-.59l7.78-7.78 2.81-2.81c.8-.78.8-2.07 0-2.86zM5.41 20L4 18.59l7.72-7.72 1.47 1.35L5.41 20z\"/>\n",
       "  </svg>\n",
       "      </button>\n",
       "      \n",
       "  <style>\n",
       "    .colab-df-container {\n",
       "      display:flex;\n",
       "      flex-wrap:wrap;\n",
       "      gap: 12px;\n",
       "    }\n",
       "\n",
       "    .colab-df-convert {\n",
       "      background-color: #E8F0FE;\n",
       "      border: none;\n",
       "      border-radius: 50%;\n",
       "      cursor: pointer;\n",
       "      display: none;\n",
       "      fill: #1967D2;\n",
       "      height: 32px;\n",
       "      padding: 0 0 0 0;\n",
       "      width: 32px;\n",
       "    }\n",
       "\n",
       "    .colab-df-convert:hover {\n",
       "      background-color: #E2EBFA;\n",
       "      box-shadow: 0px 1px 2px rgba(60, 64, 67, 0.3), 0px 1px 3px 1px rgba(60, 64, 67, 0.15);\n",
       "      fill: #174EA6;\n",
       "    }\n",
       "\n",
       "    [theme=dark] .colab-df-convert {\n",
       "      background-color: #3B4455;\n",
       "      fill: #D2E3FC;\n",
       "    }\n",
       "\n",
       "    [theme=dark] .colab-df-convert:hover {\n",
       "      background-color: #434B5C;\n",
       "      box-shadow: 0px 1px 3px 1px rgba(0, 0, 0, 0.15);\n",
       "      filter: drop-shadow(0px 1px 2px rgba(0, 0, 0, 0.3));\n",
       "      fill: #FFFFFF;\n",
       "    }\n",
       "  </style>\n",
       "\n",
       "      <script>\n",
       "        const buttonEl =\n",
       "          document.querySelector('#df-97f103ca-c009-45b9-a34f-9299a009c02e button.colab-df-convert');\n",
       "        buttonEl.style.display =\n",
       "          google.colab.kernel.accessAllowed ? 'block' : 'none';\n",
       "\n",
       "        async function convertToInteractive(key) {\n",
       "          const element = document.querySelector('#df-97f103ca-c009-45b9-a34f-9299a009c02e');\n",
       "          const dataTable =\n",
       "            await google.colab.kernel.invokeFunction('convertToInteractive',\n",
       "                                                     [key], {});\n",
       "          if (!dataTable) return;\n",
       "\n",
       "          const docLinkHtml = 'Like what you see? Visit the ' +\n",
       "            '<a target=\"_blank\" href=https://colab.research.google.com/notebooks/data_table.ipynb>data table notebook</a>'\n",
       "            + ' to learn more about interactive tables.';\n",
       "          element.innerHTML = '';\n",
       "          dataTable['output_type'] = 'display_data';\n",
       "          await google.colab.output.renderOutput(dataTable, element);\n",
       "          const docLink = document.createElement('div');\n",
       "          docLink.innerHTML = docLinkHtml;\n",
       "          element.appendChild(docLink);\n",
       "        }\n",
       "      </script>\n",
       "    </div>\n",
       "  </div>\n",
       "  "
      ],
      "text/plain": [
       "              precision    recall  f1-score      support\n",
       "0              0.819572  0.840125  0.829721   957.000000\n",
       "1              0.613497  0.533333  0.570613   375.000000\n",
       "2              0.594118  0.696552  0.641270   145.000000\n",
       "accuracy       0.748138  0.748138  0.748138     0.748138\n",
       "macro avg      0.675729  0.690003  0.680535  1477.000000\n",
       "weighted avg   0.745118  0.748138  0.745435  1477.000000"
      ]
     },
     "execution_count": 99,
     "metadata": {},
     "output_type": "execute_result"
    }
   ],
   "source": [
    "df_std"
   ]
  },
  {
   "cell_type": "code",
   "execution_count": null,
   "metadata": {
    "colab": {
     "base_uri": "https://localhost:8080/"
    },
    "id": "QlfrNAbTPMme",
    "outputId": "47a102e9-6396-4fff-ac77-f2005fe99a61"
   },
   "outputs": [
    {
     "name": "stdout",
     "output_type": "stream",
     "text": [
      "Random forest: train loss 0.3697\n",
      "---------------------------------------------------------------\n",
      "Random forest: test loss 0.5386\n"
     ]
    }
   ],
   "source": [
    "loss2tr = log_loss(y_train.values, rfc.predict_proba(X_train.values))\n",
    "print(\"Random forest: train loss {:.4f}\".format(loss2tr))\n",
    "print('---------------------------------------------------------------')\n",
    "loss2te = log_loss(y_test.values, rfc.predict_proba(X_test.values))\n",
    "print(\"Random forest: test loss {:.4f}\".format(loss2te))"
   ]
  },
  {
   "cell_type": "markdown",
   "metadata": {
    "id": "76tqRO0DUEHp"
   },
   "source": [
    "**Feature Importance**"
   ]
  },
  {
   "cell_type": "code",
   "execution_count": null,
   "metadata": {
    "id": "kyOcLlK4XX3y"
   },
   "outputs": [],
   "source": [
    "features=[]\n",
    "for columns in X.columns:\n",
    "    features.append(columns)"
   ]
  },
  {
   "cell_type": "code",
   "execution_count": null,
   "metadata": {
    "colab": {
     "base_uri": "https://localhost:8080/"
    },
    "id": "2qoLrn6_VPUG",
    "outputId": "d44ef1cb-e923-4f56-f7d9-1422f3079150"
   },
   "outputs": [
    {
     "name": "stdout",
     "output_type": "stream",
     "text": [
      "0.039\n",
      "0.095\n",
      "0.0\n",
      "0.0\n",
      "0.0\n",
      "0.0\n",
      "0.0\n",
      "0.0\n",
      "0.0\n",
      "0.0\n",
      "0.0\n",
      "0.0\n",
      "0.006\n",
      "0.0\n",
      "0.002\n",
      "0.001\n",
      "0.009\n",
      "0.0\n",
      "0.0\n",
      "0.0\n",
      "0.004\n",
      "0.0\n",
      "0.001\n",
      "0.001\n",
      "0.0\n",
      "0.0\n",
      "0.0\n",
      "0.0\n",
      "0.0\n",
      "0.0\n",
      "0.0\n",
      "0.0\n",
      "0.0\n",
      "0.0\n",
      "0.014\n",
      "0.049\n",
      "0.0\n",
      "0.0\n",
      "0.0\n",
      "0.0\n",
      "0.0\n",
      "0.0\n",
      "0.001\n",
      "0.0\n",
      "0.0\n",
      "0.0\n",
      "0.0\n",
      "0.0\n",
      "0.0\n",
      "0.0\n",
      "0.0\n",
      "0.0\n",
      "0.0\n",
      "0.0\n",
      "0.002\n",
      "0.0\n",
      "0.006\n",
      "0.0\n",
      "0.001\n",
      "0.0\n",
      "0.002\n",
      "0.001\n",
      "0.017\n",
      "0.0\n",
      "0.0\n",
      "0.029\n",
      "0.017\n",
      "0.0\n",
      "0.006\n",
      "0.0\n",
      "0.027\n",
      "0.0\n",
      "0.0\n",
      "0.0\n",
      "0.0\n",
      "0.0\n",
      "0.0\n",
      "0.0\n",
      "0.0\n",
      "0.0\n",
      "0.0\n",
      "0.0\n",
      "0.0\n",
      "0.0\n",
      "0.0\n",
      "0.0\n",
      "0.0\n",
      "0.0\n",
      "0.0\n",
      "0.0\n",
      "0.0\n",
      "0.0\n",
      "0.0\n",
      "0.0\n",
      "0.0\n",
      "0.0\n",
      "0.0\n",
      "0.0\n",
      "0.0\n",
      "0.0\n",
      "0.0\n",
      "0.0\n",
      "0.0\n",
      "0.0\n",
      "0.0\n",
      "0.0\n",
      "0.0\n",
      "0.0\n",
      "0.0\n",
      "0.0\n",
      "0.0\n",
      "0.0\n",
      "0.0\n",
      "0.0\n",
      "0.0\n",
      "0.0\n",
      "0.0\n",
      "0.0\n",
      "0.0\n",
      "0.0\n",
      "0.0\n",
      "0.0\n",
      "0.0\n",
      "0.0\n",
      "0.007\n",
      "0.002\n",
      "0.0\n",
      "0.0\n",
      "0.0\n",
      "0.0\n",
      "0.0\n",
      "0.0\n",
      "0.0\n",
      "0.0\n",
      "0.0\n",
      "0.0\n",
      "0.0\n",
      "0.0\n",
      "0.002\n",
      "0.0\n",
      "0.005\n",
      "0.01\n",
      "0.0\n",
      "0.017\n",
      "0.0\n",
      "0.0\n",
      "0.0\n",
      "0.0\n",
      "0.0\n",
      "0.0\n",
      "0.002\n",
      "0.001\n",
      "0.043\n",
      "0.0\n",
      "0.0\n",
      "0.0\n",
      "0.0\n",
      "0.0\n",
      "0.0\n",
      "0.0\n",
      "0.0\n",
      "0.0\n",
      "0.0\n",
      "0.0\n",
      "0.0\n",
      "0.0\n",
      "0.0\n",
      "0.0\n",
      "0.0\n",
      "0.0\n",
      "0.0\n",
      "0.0\n",
      "0.0\n",
      "0.0\n",
      "0.0\n",
      "0.0\n",
      "0.0\n",
      "0.0\n",
      "0.0\n",
      "0.0\n",
      "0.0\n",
      "0.0\n",
      "0.0\n",
      "0.0\n",
      "0.0\n",
      "0.0\n",
      "0.0\n",
      "0.0\n",
      "0.0\n",
      "0.0\n",
      "0.0\n",
      "0.0\n",
      "0.0\n",
      "0.0\n",
      "0.0\n",
      "0.0\n",
      "0.0\n",
      "0.0\n",
      "0.0\n",
      "0.0\n",
      "0.0\n",
      "0.0\n",
      "0.0\n",
      "0.0\n",
      "0.002\n",
      "0.0\n",
      "0.0\n",
      "0.0\n",
      "0.0\n",
      "0.0\n",
      "0.0\n",
      "0.0\n",
      "0.0\n",
      "0.0\n",
      "0.0\n",
      "0.0\n",
      "0.0\n",
      "0.0\n",
      "0.0\n",
      "0.0\n",
      "0.0\n",
      "0.0\n",
      "0.0\n",
      "0.0\n",
      "0.0\n",
      "0.002\n",
      "0.0\n",
      "0.0\n",
      "0.0\n",
      "0.0\n",
      "0.0\n",
      "0.0\n",
      "0.0\n",
      "0.0\n",
      "0.0\n",
      "0.0\n",
      "0.0\n",
      "0.0\n",
      "0.0\n",
      "0.0\n",
      "0.023\n",
      "0.003\n",
      "0.0\n",
      "0.0\n",
      "0.0\n",
      "0.0\n",
      "0.0\n",
      "0.0\n",
      "0.0\n",
      "0.0\n",
      "0.0\n",
      "0.0\n",
      "0.0\n",
      "0.0\n",
      "0.0\n",
      "0.0\n",
      "0.0\n",
      "0.0\n",
      "0.0\n",
      "0.0\n",
      "0.0\n",
      "0.003\n",
      "0.0\n",
      "0.003\n",
      "0.0\n",
      "0.008\n",
      "0.0\n",
      "0.0\n",
      "0.0\n",
      "0.0\n",
      "0.0\n",
      "0.001\n",
      "0.001\n",
      "0.114\n",
      "0.0\n",
      "0.0\n",
      "0.0\n",
      "0.0\n",
      "0.0\n",
      "0.001\n",
      "0.0\n",
      "0.0\n",
      "0.0\n",
      "0.0\n",
      "0.0\n",
      "0.0\n",
      "0.0\n",
      "0.0\n",
      "0.0\n",
      "0.001\n",
      "0.0\n",
      "0.001\n",
      "0.001\n",
      "0.0\n",
      "0.0\n",
      "0.0\n",
      "0.0\n",
      "0.001\n",
      "0.0\n",
      "0.0\n",
      "0.0\n",
      "0.0\n",
      "0.002\n",
      "0.002\n",
      "0.0\n",
      "0.001\n",
      "0.0\n",
      "0.0\n",
      "0.0\n",
      "0.0\n",
      "0.0\n",
      "0.0\n",
      "0.0\n",
      "0.0\n",
      "0.0\n",
      "0.0\n",
      "0.0\n",
      "0.0\n",
      "0.0\n",
      "0.0\n",
      "0.0\n",
      "0.0\n",
      "0.0\n",
      "0.0\n",
      "0.0\n",
      "0.0\n",
      "0.0\n",
      "0.0\n",
      "0.0\n",
      "0.0\n",
      "0.0\n",
      "0.0\n",
      "0.0\n",
      "0.0\n",
      "0.0\n",
      "0.0\n",
      "0.0\n",
      "0.0\n",
      "0.0\n",
      "0.0\n",
      "0.0\n",
      "0.0\n",
      "0.0\n",
      "0.001\n",
      "0.0\n",
      "0.0\n",
      "0.0\n",
      "0.0\n",
      "0.0\n",
      "0.0\n",
      "0.0\n",
      "0.0\n",
      "0.0\n",
      "0.001\n",
      "0.0\n",
      "0.0\n",
      "0.0\n",
      "0.0\n",
      "0.0\n",
      "0.0\n",
      "0.0\n",
      "0.001\n",
      "0.0\n",
      "0.0\n",
      "0.0\n",
      "0.0\n",
      "0.0\n",
      "0.0\n",
      "0.0\n",
      "0.0\n",
      "0.0\n",
      "0.001\n",
      "0.0\n",
      "0.0\n",
      "0.0\n",
      "0.0\n",
      "0.001\n",
      "0.001\n",
      "0.0\n",
      "0.0\n",
      "0.0\n",
      "0.0\n",
      "0.008\n",
      "0.003\n",
      "0.001\n",
      "0.005\n",
      "0.0\n",
      "0.0\n",
      "0.0\n",
      "0.0\n",
      "0.0\n",
      "0.0\n",
      "0.0\n",
      "0.0\n",
      "0.0\n",
      "0.0\n",
      "0.0\n",
      "0.0\n",
      "0.0\n",
      "0.0\n",
      "0.0\n",
      "0.0\n",
      "0.0\n",
      "0.0\n",
      "0.0\n",
      "0.0\n",
      "0.0\n",
      "0.0\n",
      "0.0\n",
      "0.0\n",
      "0.0\n",
      "0.0\n",
      "0.0\n",
      "0.0\n",
      "0.0\n",
      "0.0\n",
      "0.0\n",
      "0.0\n",
      "0.0\n",
      "0.0\n",
      "0.0\n",
      "0.0\n",
      "0.0\n",
      "0.0\n",
      "0.0\n",
      "0.0\n",
      "0.0\n",
      "0.0\n",
      "0.0\n",
      "0.0\n",
      "0.0\n",
      "0.0\n",
      "0.0\n",
      "0.0\n",
      "0.0\n",
      "0.0\n",
      "0.0\n",
      "0.0\n",
      "0.001\n",
      "0.0\n",
      "0.0\n",
      "0.0\n",
      "0.0\n",
      "0.0\n",
      "0.0\n",
      "0.0\n",
      "0.0\n",
      "0.0\n",
      "0.0\n",
      "0.0\n",
      "0.0\n",
      "0.0\n",
      "0.0\n",
      "0.0\n",
      "0.0\n",
      "0.0\n",
      "0.0\n",
      "0.031\n",
      "0.013\n",
      "0.03\n",
      "0.014\n",
      "0.02\n",
      "0.028\n",
      "0.024\n",
      "0.013\n",
      "0.03\n",
      "0.015\n",
      "0.024\n",
      "0.025\n",
      "0.014\n",
      "0.031\n",
      "0.015\n",
      "0.023\n",
      "0.028\n"
     ]
    }
   ],
   "source": [
    "imp_features = rfc.feature_importances_\n",
    "for i in imp_features:\n",
    "    print(i.round(3))\n",
    "df_imp_features = pd.DataFrame({\"features\":features}).join(pd.DataFrame({\"weights\":imp_features}))\n",
    "df_imp_features = df_imp_features.sort_values(by=['weights'], ascending=False)"
   ]
  },
  {
   "cell_type": "code",
   "execution_count": null,
   "metadata": {
    "id": "PsMNxA_0YNk7"
   },
   "outputs": [],
   "source": [
    "df_imp_features = df_imp_features.head(10)"
   ]
  },
  {
   "cell_type": "code",
   "execution_count": null,
   "metadata": {
    "colab": {
     "base_uri": "https://localhost:8080/",
     "height": 369
    },
    "id": "Jv3g3gWLxhBG",
    "outputId": "5b583cb9-a250-4b12-879c-b4d0f6f50321"
   },
   "outputs": [
    {
     "data": {
      "image/png": "[encoded data removed]",
      "text/plain": [
       "<Figure size 720x360 with 1 Axes>"
      ]
     },
     "metadata": {
      "needs_background": "light"
     },
     "output_type": "display_data"
    }
   ],
   "source": [
    "plt.figure(figsize=(10,5))\n",
    "sns.barplot(x=\"weights\",y=\"features\",data=df_imp_features)\n",
    "plt.tight_layout()\n",
    "plt.savefig('rfc_importances2.png')"
   ]
  },
  {
   "cell_type": "markdown",
   "metadata": {
    "id": "3crIrpj9Y1aq"
   },
   "source": []
  },
  {
   "cell_type": "markdown",
   "metadata": {
    "id": "-v1ZMefoY1ge"
   },
   "source": [
    "**Approach - 6 (OneHotEncoded + StdScaler + Added New Features)**"
   ]
  },
  {
   "cell_type": "code",
   "execution_count": null,
   "metadata": {
    "id": "TnSDUg-TZVJB"
   },
   "outputs": [],
   "source": [
    "# order ~ time\n",
    "# ---------------------------------------------------------------------------------\n",
    "severity_type_order = severity_type_copy[['id']].drop_duplicates()\n",
    "severity_type_order['order'] = 1. * np.arange(len(severity_type_order)) / len(severity_type_order)"
   ]
  },
  {
   "cell_type": "code",
   "execution_count": null,
   "metadata": {
    "id": "NdaDk5baZma1"
   },
   "outputs": [],
   "source": [
    "X = pd.merge(left=X, right=severity_type_order, how='inner', on='id')\n",
    "Y = pd.merge(left=Y, right=severity_type_order, how='inner', on='id')"
   ]
  },
  {
   "cell_type": "code",
   "execution_count": null,
   "metadata": {
    "colab": {
     "base_uri": "https://localhost:8080/"
    },
    "id": "GJq5DAtQZujN",
    "outputId": "af2e9825-e412-4a30-c1ec-9152c9828e67"
   },
   "outputs": [
    {
     "name": "stdout",
     "output_type": "stream",
     "text": [
      "(7381, 475) (11171, 475)\n"
     ]
    }
   ],
   "source": [
    "print(X.shape,Y.shape)"
   ]
  },
  {
   "cell_type": "code",
   "execution_count": null,
   "metadata": {
    "id": "CEBUhPOGSEB4"
   },
   "outputs": [],
   "source": [
    "# rank location features by ascneding and descending orders\n",
    "# ---------------------------------------------------------------------------------\n",
    "X['location_rank_asc'] = X.groupby('location_id')[['order']].rank()\n",
    "X['location_rank_desc'] = X.groupby('location_id')[['order']].rank(ascending=False)\n",
    "\n",
    "# ---------------------------------------------------------------------------------\n",
    "Y['location_rank_asc'] = Y.groupby('location_id')[['order']].rank()\n",
    "Y['location_rank_desc'] = Y.groupby('location_id')[['order']].rank(ascending=False)"
   ]
  },
  {
   "cell_type": "code",
   "execution_count": null,
   "metadata": {
    "colab": {
     "base_uri": "https://localhost:8080/"
    },
    "id": "16MlSdGPZ2rv",
    "outputId": "ec711900-0b0b-43f7-9698-bcea1701ab09"
   },
   "outputs": [
    {
     "name": "stdout",
     "output_type": "stream",
     "text": [
      "(7381, 477) (11171, 477)\n"
     ]
    }
   ],
   "source": [
    "print(X.shape,Y.shape)"
   ]
  },
  {
   "cell_type": "code",
   "execution_count": null,
   "metadata": {
    "id": "4E54dzq4ADiw"
   },
   "outputs": [],
   "source": [
    "# split the data into test and train by maintaining same distribution of output varaible 'y_true' [stratify=y_true]\n",
    "X_train,X_test, y_train, y_test = train_test_split(X, y, stratify=y, test_size=0.2)"
   ]
  },
  {
   "cell_type": "code",
   "execution_count": null,
   "metadata": {
    "id": "W6TRKO44Z4NG"
   },
   "outputs": [],
   "source": [
    "numeric_features = X.select_dtypes(include=['int64', 'float64']).columns\n",
    "categorical_features = X.select_dtypes(include=['object', 'category']).columns"
   ]
  },
  {
   "cell_type": "code",
   "execution_count": null,
   "metadata": {
    "id": "xLRgkbsuZ4Qu"
   },
   "outputs": [],
   "source": [
    "# create a transformed for the numerical values\n",
    "numeric_transformer_std = Pipeline(steps=[('imputer', SimpleImputer(strategy='median')), ('scaler',StandardScaler())])\n",
    "\n",
    "from sklearn.compose import ColumnTransformer\n",
    "\n",
    "preprocessor_sca_std = ColumnTransformer(\n",
    "    transformers=[\n",
    "        ('num', numeric_transformer_std, numeric_features),\n",
    "        #('cat', categorical_transformer, categorical_features)\n",
    "    ])"
   ]
  },
  {
   "cell_type": "code",
   "execution_count": null,
   "metadata": {
    "id": "eENnIppZAJJt"
   },
   "outputs": [],
   "source": [
    "#We are then ready to transform!\n",
    "X_train_transformed_sca1 = preprocessor_sca_minmax.fit_transform(X_train)\n",
    "X_test_transformed_sca1 = preprocessor_sca_minmax.transform(X_test)\n",
    "X_train_transformed_sca_copy = X_train_transformed_sca.copy()\n",
    "test_transformed_sca1 = preprocessor_sca_minmax.transform(Y)\n",
    "\n",
    "X_train_sca = pd.DataFrame(X_train_transformed_sca1)\n",
    "X_test_sca = pd.DataFrame(X_test_transformed_sca1)\n",
    "test_sca = pd.DataFrame(test_transformed_sca1)"
   ]
  },
  {
   "cell_type": "code",
   "execution_count": null,
   "metadata": {
    "colab": {
     "base_uri": "https://localhost:8080/"
    },
    "id": "dPOWMuNQT5oR",
    "outputId": "65519f05-e6f1-4d3a-e558-1550f1cbcd9c"
   },
   "outputs": [
    {
     "name": "stdout",
     "output_type": "stream",
     "text": [
      "Model evaluation By Standardizing Data\n",
      "kNN \t 0.5952416662430791\n",
      "forest \t 0.6787395827721161\n",
      "LogReg \t 0.651336244617174\n",
      "SVC \t 0.6313099716803015\n",
      "XGB \t 0.6756731484016167\n",
      "LGBM \t 0.7096398946040559\n"
     ]
    }
   ],
   "source": [
    "# Loop through classifiers\n",
    "print('Model evaluation By Standardizing Data')\n",
    "\n",
    "for classifier, clf_name in zip(classifiers, classifier_names):\n",
    "  # Calculate CV\n",
    "  print(clf_name,'\\t',cross_val_score(estimator=classifier,X=X_train_sca, y=y_train, cv=5, scoring='f1_macro').mean())"
   ]
  },
  {
   "cell_type": "code",
   "execution_count": null,
   "metadata": {
    "colab": {
     "base_uri": "https://localhost:8080/"
    },
    "id": "eYdvs_uPAJRh",
    "outputId": "477366ff-fcb9-48c2-f0af-2bd22b510131"
   },
   "outputs": [
    {
     "data": {
      "text/plain": [
       "LGBMClassifier()"
      ]
     },
     "execution_count": 118,
     "metadata": {},
     "output_type": "execute_result"
    }
   ],
   "source": [
    "lgbm = lgb.LGBMClassifier()\n",
    "lgbm.fit(X_train_sca, y_train)"
   ]
  },
  {
   "cell_type": "code",
   "execution_count": null,
   "metadata": {
    "id": "JFbLqbP0eayH"
   },
   "outputs": [],
   "source": [
    "#Predictions\n",
    "y_pred = lgbm.predict(X_test_sca)\n",
    "report9 = classification_report(y_test,y_pred,output_dict=True)\n",
    "df_std = pd.DataFrame(report9).transpose()"
   ]
  },
  {
   "cell_type": "code",
   "execution_count": null,
   "metadata": {
    "colab": {
     "base_uri": "https://localhost:8080/",
     "height": 238
    },
    "id": "icWmd7XAbymd",
    "outputId": "601c3d48-1d97-4d2a-cd7a-b2d61def0ec1"
   },
   "outputs": [
    {
     "data": {
      "text/html": [
       "\n",
       "  <div id=\"df-eaa6127b-df88-499c-b97a-0882e1fa910c\">\n",
       "    <div class=\"colab-df-container\">\n",
       "      <div>\n",
       "<style scoped>\n",
       "    .dataframe tbody tr th:only-of-type {\n",
       "        vertical-align: middle;\n",
       "    }\n",
       "\n",
       "    .dataframe tbody tr th {\n",
       "        vertical-align: top;\n",
       "    }\n",
       "\n",
       "    .dataframe thead th {\n",
       "        text-align: right;\n",
       "    }\n",
       "</style>\n",
       "<table border=\"1\" class=\"dataframe\">\n",
       "  <thead>\n",
       "    <tr style=\"text-align: right;\">\n",
       "      <th></th>\n",
       "      <th>precision</th>\n",
       "      <th>recall</th>\n",
       "      <th>f1-score</th>\n",
       "      <th>support</th>\n",
       "    </tr>\n",
       "  </thead>\n",
       "  <tbody>\n",
       "    <tr>\n",
       "      <th>0</th>\n",
       "      <td>0.867735</td>\n",
       "      <td>0.904911</td>\n",
       "      <td>0.885934</td>\n",
       "      <td>957.000000</td>\n",
       "    </tr>\n",
       "    <tr>\n",
       "      <th>1</th>\n",
       "      <td>0.670659</td>\n",
       "      <td>0.597333</td>\n",
       "      <td>0.631876</td>\n",
       "      <td>375.000000</td>\n",
       "    </tr>\n",
       "    <tr>\n",
       "      <th>2</th>\n",
       "      <td>0.689655</td>\n",
       "      <td>0.689655</td>\n",
       "      <td>0.689655</td>\n",
       "      <td>145.000000</td>\n",
       "    </tr>\n",
       "    <tr>\n",
       "      <th>accuracy</th>\n",
       "      <td>0.805687</td>\n",
       "      <td>0.805687</td>\n",
       "      <td>0.805687</td>\n",
       "      <td>0.805687</td>\n",
       "    </tr>\n",
       "    <tr>\n",
       "      <th>macro avg</th>\n",
       "      <td>0.742683</td>\n",
       "      <td>0.730633</td>\n",
       "      <td>0.735822</td>\n",
       "      <td>1477.000000</td>\n",
       "    </tr>\n",
       "    <tr>\n",
       "      <th>weighted avg</th>\n",
       "      <td>0.800217</td>\n",
       "      <td>0.805687</td>\n",
       "      <td>0.802161</td>\n",
       "      <td>1477.000000</td>\n",
       "    </tr>\n",
       "  </tbody>\n",
       "</table>\n",
       "</div>\n",
       "      <button class=\"colab-df-convert\" onclick=\"convertToInteractive('df-eaa6127b-df88-499c-b97a-0882e1fa910c')\"\n",
       "              title=\"Convert this dataframe to an interactive table.\"\n",
       "              style=\"display:none;\">\n",
       "        \n",
       "  <svg xmlns=\"http://www.w3.org/2000/svg\" height=\"24px\"viewBox=\"0 0 24 24\"\n",
       "       width=\"24px\">\n",
       "    <path d=\"M0 0h24v24H0V0z\" fill=\"none\"/>\n",
       "    <path d=\"M18.56 5.44l.94 2.06.94-2.06 2.06-.94-2.06-.94-.94-2.06-.94 2.06-2.06.94zm-11 1L8.5 8.5l.94-2.06 2.06-.94-2.06-.94L8.5 2.5l-.94 2.06-2.06.94zm10 10l.94 2.06.94-2.06 2.06-.94-2.06-.94-.94-2.06-.94 2.06-2.06.94z\"/><path d=\"M17.41 7.96l-1.37-1.37c-.4-.4-.92-.59-1.43-.59-.52 0-1.04.2-1.43.59L10.3 9.45l-7.72 7.72c-.78.78-.78 2.05 0 2.83L4 21.41c.39.39.9.59 1.41.59.51 0 1.02-.2 1.41-.59l7.78-7.78 2.81-2.81c.8-.78.8-2.07 0-2.86zM5.41 20L4 18.59l7.72-7.72 1.47 1.35L5.41 20z\"/>\n",
       "  </svg>\n",
       "      </button>\n",
       "      \n",
       "  <style>\n",
       "    .colab-df-container {\n",
       "      display:flex;\n",
       "      flex-wrap:wrap;\n",
       "      gap: 12px;\n",
       "    }\n",
       "\n",
       "    .colab-df-convert {\n",
       "      background-color: #E8F0FE;\n",
       "      border: none;\n",
       "      border-radius: 50%;\n",
       "      cursor: pointer;\n",
       "      display: none;\n",
       "      fill: #1967D2;\n",
       "      height: 32px;\n",
       "      padding: 0 0 0 0;\n",
       "      width: 32px;\n",
       "    }\n",
       "\n",
       "    .colab-df-convert:hover {\n",
       "      background-color: #E2EBFA;\n",
       "      box-shadow: 0px 1px 2px rgba(60, 64, 67, 0.3), 0px 1px 3px 1px rgba(60, 64, 67, 0.15);\n",
       "      fill: #174EA6;\n",
       "    }\n",
       "\n",
       "    [theme=dark] .colab-df-convert {\n",
       "      background-color: #3B4455;\n",
       "      fill: #D2E3FC;\n",
       "    }\n",
       "\n",
       "    [theme=dark] .colab-df-convert:hover {\n",
       "      background-color: #434B5C;\n",
       "      box-shadow: 0px 1px 3px 1px rgba(0, 0, 0, 0.15);\n",
       "      filter: drop-shadow(0px 1px 2px rgba(0, 0, 0, 0.3));\n",
       "      fill: #FFFFFF;\n",
       "    }\n",
       "  </style>\n",
       "\n",
       "      <script>\n",
       "        const buttonEl =\n",
       "          document.querySelector('#df-eaa6127b-df88-499c-b97a-0882e1fa910c button.colab-df-convert');\n",
       "        buttonEl.style.display =\n",
       "          google.colab.kernel.accessAllowed ? 'block' : 'none';\n",
       "\n",
       "        async function convertToInteractive(key) {\n",
       "          const element = document.querySelector('#df-eaa6127b-df88-499c-b97a-0882e1fa910c');\n",
       "          const dataTable =\n",
       "            await google.colab.kernel.invokeFunction('convertToInteractive',\n",
       "                                                     [key], {});\n",
       "          if (!dataTable) return;\n",
       "\n",
       "          const docLinkHtml = 'Like what you see? Visit the ' +\n",
       "            '<a target=\"_blank\" href=https://colab.research.google.com/notebooks/data_table.ipynb>data table notebook</a>'\n",
       "            + ' to learn more about interactive tables.';\n",
       "          element.innerHTML = '';\n",
       "          dataTable['output_type'] = 'display_data';\n",
       "          await google.colab.output.renderOutput(dataTable, element);\n",
       "          const docLink = document.createElement('div');\n",
       "          docLink.innerHTML = docLinkHtml;\n",
       "          element.appendChild(docLink);\n",
       "        }\n",
       "      </script>\n",
       "    </div>\n",
       "  </div>\n",
       "  "
      ],
      "text/plain": [
       "              precision    recall  f1-score      support\n",
       "0              0.867735  0.904911  0.885934   957.000000\n",
       "1              0.670659  0.597333  0.631876   375.000000\n",
       "2              0.689655  0.689655  0.689655   145.000000\n",
       "accuracy       0.805687  0.805687  0.805687     0.805687\n",
       "macro avg      0.742683  0.730633  0.735822  1477.000000\n",
       "weighted avg   0.800217  0.805687  0.802161  1477.000000"
      ]
     },
     "execution_count": 83,
     "metadata": {},
     "output_type": "execute_result"
    }
   ],
   "source": [
    "df_std"
   ]
  },
  {
   "cell_type": "code",
   "execution_count": null,
   "metadata": {
    "colab": {
     "base_uri": "https://localhost:8080/"
    },
    "id": "3I7jzwGKATgI",
    "outputId": "8dca96bb-ba1b-4b18-c6e9-0083cab1f56f"
   },
   "outputs": [
    {
     "name": "stdout",
     "output_type": "stream",
     "text": [
      "LGBM: train loss 1.1826\n",
      "---------------------------------------------------------------\n",
      "LGBM: test loss 1.1250\n"
     ]
    }
   ],
   "source": [
    "loss2tr = log_loss(y_train.values, lgbm.predict_proba(X_train.values))\n",
    "print(\"LGBM: train loss {:.4f}\".format(loss2tr))\n",
    "print('---------------------------------------------------------------')\n",
    "loss2te = log_loss(y_test.values, lgbm.predict_proba(X_test.values))\n",
    "print(\"LGBM: test loss {:.4f}\".format(loss2te))"
   ]
  },
  {
   "cell_type": "code",
   "execution_count": null,
   "metadata": {
    "colab": {
     "base_uri": "https://localhost:8080/",
     "height": 238
    },
    "id": "zdTNOfCzU3rr",
    "outputId": "2d499bc1-a3b5-457b-e950-2fc82a8abc62"
   },
   "outputs": [
    {
     "data": {
      "text/html": [
       "\n",
       "  <div id=\"df-35b1ed76-0da9-4424-8eb2-d0b12b85dba5\">\n",
       "    <div class=\"colab-df-container\">\n",
       "      <div>\n",
       "<style scoped>\n",
       "    .dataframe tbody tr th:only-of-type {\n",
       "        vertical-align: middle;\n",
       "    }\n",
       "\n",
       "    .dataframe tbody tr th {\n",
       "        vertical-align: top;\n",
       "    }\n",
       "\n",
       "    .dataframe thead th {\n",
       "        text-align: right;\n",
       "    }\n",
       "</style>\n",
       "<table border=\"1\" class=\"dataframe\">\n",
       "  <thead>\n",
       "    <tr style=\"text-align: right;\">\n",
       "      <th></th>\n",
       "      <th>predict_0</th>\n",
       "      <th>predict_1</th>\n",
       "      <th>predict_2</th>\n",
       "    </tr>\n",
       "    <tr>\n",
       "      <th>id</th>\n",
       "      <th></th>\n",
       "      <th></th>\n",
       "      <th></th>\n",
       "    </tr>\n",
       "  </thead>\n",
       "  <tbody>\n",
       "    <tr>\n",
       "      <th>11066</th>\n",
       "      <td>0.976036</td>\n",
       "      <td>0.023333</td>\n",
       "      <td>0.000631</td>\n",
       "    </tr>\n",
       "    <tr>\n",
       "      <th>18000</th>\n",
       "      <td>0.409727</td>\n",
       "      <td>0.159216</td>\n",
       "      <td>0.431057</td>\n",
       "    </tr>\n",
       "    <tr>\n",
       "      <th>16964</th>\n",
       "      <td>0.990392</td>\n",
       "      <td>0.009123</td>\n",
       "      <td>0.000485</td>\n",
       "    </tr>\n",
       "    <tr>\n",
       "      <th>4795</th>\n",
       "      <td>0.643447</td>\n",
       "      <td>0.352071</td>\n",
       "      <td>0.004482</td>\n",
       "    </tr>\n",
       "    <tr>\n",
       "      <th>3392</th>\n",
       "      <td>0.316824</td>\n",
       "      <td>0.644197</td>\n",
       "      <td>0.038979</td>\n",
       "    </tr>\n",
       "  </tbody>\n",
       "</table>\n",
       "</div>\n",
       "      <button class=\"colab-df-convert\" onclick=\"convertToInteractive('df-35b1ed76-0da9-4424-8eb2-d0b12b85dba5')\"\n",
       "              title=\"Convert this dataframe to an interactive table.\"\n",
       "              style=\"display:none;\">\n",
       "        \n",
       "  <svg xmlns=\"http://www.w3.org/2000/svg\" height=\"24px\"viewBox=\"0 0 24 24\"\n",
       "       width=\"24px\">\n",
       "    <path d=\"M0 0h24v24H0V0z\" fill=\"none\"/>\n",
       "    <path d=\"M18.56 5.44l.94 2.06.94-2.06 2.06-.94-2.06-.94-.94-2.06-.94 2.06-2.06.94zm-11 1L8.5 8.5l.94-2.06 2.06-.94-2.06-.94L8.5 2.5l-.94 2.06-2.06.94zm10 10l.94 2.06.94-2.06 2.06-.94-2.06-.94-.94-2.06-.94 2.06-2.06.94z\"/><path d=\"M17.41 7.96l-1.37-1.37c-.4-.4-.92-.59-1.43-.59-.52 0-1.04.2-1.43.59L10.3 9.45l-7.72 7.72c-.78.78-.78 2.05 0 2.83L4 21.41c.39.39.9.59 1.41.59.51 0 1.02-.2 1.41-.59l7.78-7.78 2.81-2.81c.8-.78.8-2.07 0-2.86zM5.41 20L4 18.59l7.72-7.72 1.47 1.35L5.41 20z\"/>\n",
       "  </svg>\n",
       "      </button>\n",
       "      \n",
       "  <style>\n",
       "    .colab-df-container {\n",
       "      display:flex;\n",
       "      flex-wrap:wrap;\n",
       "      gap: 12px;\n",
       "    }\n",
       "\n",
       "    .colab-df-convert {\n",
       "      background-color: #E8F0FE;\n",
       "      border: none;\n",
       "      border-radius: 50%;\n",
       "      cursor: pointer;\n",
       "      display: none;\n",
       "      fill: #1967D2;\n",
       "      height: 32px;\n",
       "      padding: 0 0 0 0;\n",
       "      width: 32px;\n",
       "    }\n",
       "\n",
       "    .colab-df-convert:hover {\n",
       "      background-color: #E2EBFA;\n",
       "      box-shadow: 0px 1px 2px rgba(60, 64, 67, 0.3), 0px 1px 3px 1px rgba(60, 64, 67, 0.15);\n",
       "      fill: #174EA6;\n",
       "    }\n",
       "\n",
       "    [theme=dark] .colab-df-convert {\n",
       "      background-color: #3B4455;\n",
       "      fill: #D2E3FC;\n",
       "    }\n",
       "\n",
       "    [theme=dark] .colab-df-convert:hover {\n",
       "      background-color: #434B5C;\n",
       "      box-shadow: 0px 1px 3px 1px rgba(0, 0, 0, 0.15);\n",
       "      filter: drop-shadow(0px 1px 2px rgba(0, 0, 0, 0.3));\n",
       "      fill: #FFFFFF;\n",
       "    }\n",
       "  </style>\n",
       "\n",
       "      <script>\n",
       "        const buttonEl =\n",
       "          document.querySelector('#df-35b1ed76-0da9-4424-8eb2-d0b12b85dba5 button.colab-df-convert');\n",
       "        buttonEl.style.display =\n",
       "          google.colab.kernel.accessAllowed ? 'block' : 'none';\n",
       "\n",
       "        async function convertToInteractive(key) {\n",
       "          const element = document.querySelector('#df-35b1ed76-0da9-4424-8eb2-d0b12b85dba5');\n",
       "          const dataTable =\n",
       "            await google.colab.kernel.invokeFunction('convertToInteractive',\n",
       "                                                     [key], {});\n",
       "          if (!dataTable) return;\n",
       "\n",
       "          const docLinkHtml = 'Like what you see? Visit the ' +\n",
       "            '<a target=\"_blank\" href=https://colab.research.google.com/notebooks/data_table.ipynb>data table notebook</a>'\n",
       "            + ' to learn more about interactive tables.';\n",
       "          element.innerHTML = '';\n",
       "          dataTable['output_type'] = 'display_data';\n",
       "          await google.colab.output.renderOutput(dataTable, element);\n",
       "          const docLink = document.createElement('div');\n",
       "          docLink.innerHTML = docLinkHtml;\n",
       "          element.appendChild(docLink);\n",
       "        }\n",
       "      </script>\n",
       "    </div>\n",
       "  </div>\n",
       "  "
      ],
      "text/plain": [
       "       predict_0  predict_1  predict_2\n",
       "id                                    \n",
       "11066   0.976036   0.023333   0.000631\n",
       "18000   0.409727   0.159216   0.431057\n",
       "16964   0.990392   0.009123   0.000485\n",
       "4795    0.643447   0.352071   0.004482\n",
       "3392    0.316824   0.644197   0.038979"
      ]
     },
     "execution_count": 86,
     "metadata": {},
     "output_type": "execute_result"
    }
   ],
   "source": [
    "predict_test = lgbm.predict_proba(test_sca)\n",
    "pred_df = pd.DataFrame(predict_test,columns=['predict_0', 'predict_1', 'predict_2'])\n",
    "Y3 = Y.reset_index()\n",
    "results = pd.concat([Y3[['id']],pred_df],axis=1)\n",
    "results = results.set_index('id')  # set ID as index\n",
    "results.head()"
   ]
  },
  {
   "cell_type": "code",
   "execution_count": null,
   "metadata": {
    "id": "zVhuk3pjbRK9"
   },
   "outputs": [],
   "source": [
    "results.to_csv('sub_lgbm_std.csv')"
   ]
  },
  {
   "cell_type": "code",
   "execution_count": null,
   "metadata": {
    "id": "vE1C9JbnbYeH"
   },
   "outputs": [],
   "source": []
  },
  {
   "cell_type": "code",
   "execution_count": null,
   "metadata": {
    "id": "BsrsevPJATlY"
   },
   "outputs": [],
   "source": [
    "features=[]\n",
    "for columns in X.columns:\n",
    "    features.append(columns)"
   ]
  },
  {
   "cell_type": "code",
   "execution_count": null,
   "metadata": {
    "colab": {
     "base_uri": "https://localhost:8080/"
    },
    "id": "C8X9zogVAkA-",
    "outputId": "f0ac4831-bbc7-4f19-9170-1482934a9dd7"
   },
   "outputs": [
    {
     "name": "stdout",
     "output_type": "stream",
     "text": [
      "831\n",
      "829\n",
      "0\n",
      "0\n",
      "0\n",
      "0\n",
      "0\n",
      "0\n",
      "0\n",
      "0\n",
      "0\n",
      "0\n",
      "24\n",
      "0\n",
      "17\n",
      "11\n",
      "30\n",
      "0\n",
      "32\n",
      "0\n",
      "13\n",
      "29\n",
      "6\n",
      "6\n",
      "0\n",
      "0\n",
      "12\n",
      "0\n",
      "0\n",
      "0\n",
      "4\n",
      "0\n",
      "0\n",
      "0\n",
      "17\n",
      "76\n",
      "0\n",
      "0\n",
      "0\n",
      "0\n",
      "0\n",
      "0\n",
      "14\n",
      "1\n",
      "0\n",
      "0\n",
      "0\n",
      "0\n",
      "0\n",
      "0\n",
      "0\n",
      "0\n",
      "0\n",
      "0\n",
      "34\n",
      "31\n",
      "63\n",
      "0\n",
      "0\n",
      "0\n",
      "0\n",
      "9\n",
      "58\n",
      "5\n",
      "0\n",
      "75\n",
      "32\n",
      "0\n",
      "71\n",
      "0\n",
      "425\n",
      "0\n",
      "0\n",
      "0\n",
      "0\n",
      "0\n",
      "0\n",
      "0\n",
      "0\n",
      "0\n",
      "0\n",
      "0\n",
      "0\n",
      "0\n",
      "0\n",
      "0\n",
      "0\n",
      "0\n",
      "0\n",
      "0\n",
      "0\n",
      "0\n",
      "0\n",
      "0\n",
      "0\n",
      "0\n",
      "0\n",
      "0\n",
      "0\n",
      "0\n",
      "0\n",
      "0\n",
      "0\n",
      "0\n",
      "0\n",
      "0\n",
      "0\n",
      "0\n",
      "0\n",
      "13\n",
      "0\n",
      "0\n",
      "0\n",
      "0\n",
      "17\n",
      "0\n",
      "0\n",
      "1\n",
      "0\n",
      "0\n",
      "0\n",
      "25\n",
      "0\n",
      "0\n",
      "42\n",
      "31\n",
      "9\n",
      "0\n",
      "0\n",
      "0\n",
      "0\n",
      "0\n",
      "8\n",
      "0\n",
      "0\n",
      "0\n",
      "0\n",
      "0\n",
      "50\n",
      "0\n",
      "52\n",
      "44\n",
      "0\n",
      "95\n",
      "19\n",
      "19\n",
      "0\n",
      "0\n",
      "0\n",
      "0\n",
      "30\n",
      "14\n",
      "7\n",
      "0\n",
      "0\n",
      "0\n",
      "0\n",
      "3\n",
      "0\n",
      "0\n",
      "0\n",
      "0\n",
      "0\n",
      "0\n",
      "0\n",
      "0\n",
      "0\n",
      "0\n",
      "0\n",
      "0\n",
      "0\n",
      "0\n",
      "0\n",
      "0\n",
      "0\n",
      "0\n",
      "0\n",
      "0\n",
      "0\n",
      "13\n",
      "0\n",
      "0\n",
      "0\n",
      "0\n",
      "0\n",
      "0\n",
      "0\n",
      "0\n",
      "0\n",
      "0\n",
      "0\n",
      "0\n",
      "0\n",
      "0\n",
      "0\n",
      "0\n",
      "0\n",
      "0\n",
      "0\n",
      "0\n",
      "0\n",
      "0\n",
      "0\n",
      "0\n",
      "47\n",
      "0\n",
      "0\n",
      "0\n",
      "0\n",
      "0\n",
      "0\n",
      "0\n",
      "0\n",
      "0\n",
      "0\n",
      "0\n",
      "0\n",
      "0\n",
      "0\n",
      "0\n",
      "0\n",
      "0\n",
      "0\n",
      "0\n",
      "0\n",
      "0\n",
      "0\n",
      "0\n",
      "0\n",
      "0\n",
      "0\n",
      "0\n",
      "0\n",
      "6\n",
      "0\n",
      "0\n",
      "0\n",
      "0\n",
      "0\n",
      "0\n",
      "47\n",
      "36\n",
      "0\n",
      "0\n",
      "0\n",
      "0\n",
      "0\n",
      "0\n",
      "0\n",
      "2\n",
      "0\n",
      "25\n",
      "15\n",
      "0\n",
      "0\n",
      "0\n",
      "0\n",
      "0\n",
      "0\n",
      "0\n",
      "0\n",
      "5\n",
      "0\n",
      "29\n",
      "0\n",
      "17\n",
      "0\n",
      "11\n",
      "5\n",
      "0\n",
      "0\n",
      "40\n",
      "31\n",
      "127\n",
      "9\n",
      "0\n",
      "0\n",
      "10\n",
      "0\n",
      "12\n",
      "0\n",
      "6\n",
      "0\n",
      "0\n",
      "0\n",
      "0\n",
      "0\n",
      "0\n",
      "0\n",
      "14\n",
      "0\n",
      "22\n",
      "10\n",
      "39\n",
      "0\n",
      "0\n",
      "0\n",
      "7\n",
      "2\n",
      "2\n",
      "11\n",
      "0\n",
      "39\n",
      "13\n",
      "8\n",
      "2\n",
      "0\n",
      "0\n",
      "0\n",
      "0\n",
      "0\n",
      "0\n",
      "0\n",
      "0\n",
      "0\n",
      "0\n",
      "0\n",
      "0\n",
      "0\n",
      "0\n",
      "0\n",
      "0\n",
      "0\n",
      "0\n",
      "0\n",
      "0\n",
      "0\n",
      "0\n",
      "0\n",
      "0\n",
      "0\n",
      "0\n",
      "0\n",
      "0\n",
      "0\n",
      "0\n",
      "0\n",
      "0\n",
      "0\n",
      "0\n",
      "0\n",
      "0\n",
      "0\n",
      "23\n",
      "0\n",
      "0\n",
      "0\n",
      "0\n",
      "0\n",
      "0\n",
      "0\n",
      "0\n",
      "0\n",
      "5\n",
      "0\n",
      "0\n",
      "0\n",
      "0\n",
      "0\n",
      "22\n",
      "2\n",
      "26\n",
      "0\n",
      "0\n",
      "0\n",
      "0\n",
      "0\n",
      "0\n",
      "0\n",
      "0\n",
      "0\n",
      "5\n",
      "0\n",
      "0\n",
      "0\n",
      "10\n",
      "10\n",
      "15\n",
      "11\n",
      "6\n",
      "1\n",
      "0\n",
      "39\n",
      "17\n",
      "15\n",
      "36\n",
      "4\n",
      "0\n",
      "0\n",
      "0\n",
      "0\n",
      "0\n",
      "0\n",
      "0\n",
      "0\n",
      "0\n",
      "0\n",
      "0\n",
      "0\n",
      "0\n",
      "0\n",
      "0\n",
      "0\n",
      "0\n",
      "0\n",
      "0\n",
      "0\n",
      "0\n",
      "0\n",
      "0\n",
      "0\n",
      "0\n",
      "0\n",
      "0\n",
      "0\n",
      "14\n",
      "0\n",
      "0\n",
      "0\n",
      "0\n",
      "0\n",
      "0\n",
      "0\n",
      "0\n",
      "0\n",
      "0\n",
      "0\n",
      "0\n",
      "0\n",
      "0\n",
      "0\n",
      "0\n",
      "2\n",
      "0\n",
      "0\n",
      "0\n",
      "0\n",
      "0\n",
      "0\n",
      "0\n",
      "0\n",
      "0\n",
      "0\n",
      "0\n",
      "0\n",
      "2\n",
      "0\n",
      "0\n",
      "0\n",
      "0\n",
      "0\n",
      "0\n",
      "0\n",
      "0\n",
      "0\n",
      "0\n",
      "0\n",
      "305\n",
      "209\n",
      "414\n",
      "253\n",
      "382\n",
      "0\n",
      "196\n",
      "0\n",
      "0\n",
      "0\n",
      "432\n",
      "0\n",
      "0\n",
      "0\n",
      "0\n",
      "0\n",
      "33\n",
      "772\n",
      "929\n",
      "914\n"
     ]
    }
   ],
   "source": [
    "imp_features = lgbm.feature_importances_\n",
    "for i in imp_features:\n",
    "    print(i.round(3))\n",
    "df_imp_features = pd.DataFrame({\"features\":features}).join(pd.DataFrame({\"weights\":imp_features}))\n",
    "df_imp_features = df_imp_features.sort_values(by=['weights'], ascending=False)"
   ]
  },
  {
   "cell_type": "code",
   "execution_count": null,
   "metadata": {
    "id": "L7MsFauwAkE6"
   },
   "outputs": [],
   "source": [
    "df_imp_features = df_imp_features.head(10)"
   ]
  },
  {
   "cell_type": "code",
   "execution_count": null,
   "metadata": {
    "colab": {
     "base_uri": "https://localhost:8080/",
     "height": 369
    },
    "id": "mFLLN0PYfPvv",
    "outputId": "8a18dfc7-3fb2-4198-e458-54d89b78e968"
   },
   "outputs": [
    {
     "data": {
      "image/png": "[encoded data removed]",
      "text/plain": [
       "<Figure size 720x360 with 1 Axes>"
      ]
     },
     "metadata": {
      "needs_background": "light"
     },
     "output_type": "display_data"
    }
   ],
   "source": [
    "plt.figure(figsize=(10,5))\n",
    "sns.barplot(x=\"weights\",y=\"features\",data=df_imp_features)\n",
    "plt.tight_layout()\n",
    "plt.savefig('lgbm_importances3.png')"
   ]
  },
  {
   "cell_type": "markdown",
   "metadata": {
    "id": "8dWxtljnBrkq"
   },
   "source": [
    "**Approach - 7 (Target Encoding + Std Scaler + Adding new features)**\n",
    "\n"
   ]
  },
  {
   "cell_type": "code",
   "execution_count": 4,
   "metadata": {
    "id": "zY-7VZ8VMWtd"
   },
   "outputs": [],
   "source": [
    "train_data = pd.read_csv('train.csv',index_col='id')\n",
    "test_data = pd.read_csv('test.csv',index_col='id')\n",
    "event_type = pd.read_csv('event_type.csv')\n",
    "log_feature = pd.read_csv('log_feature.csv')\n",
    "resource_type = pd.read_csv('resource_type.csv')\n",
    "severity_type = pd.read_csv('severity_type.csv',index_col='id')"
   ]
  },
  {
   "cell_type": "code",
   "execution_count": 5,
   "metadata": {
    "id": "MXFk7FYAIicy"
   },
   "outputs": [],
   "source": [
    "train_data_copy = pd.read_csv('train.csv',index_col='id')\n",
    "test_data_copy = pd.read_csv('test.csv',index_col='id')\n",
    "event_type_copy = event_type.copy()\n",
    "log_feature_copy = log_feature.copy()\n",
    "resource_type_copy = pd.read_csv('resource_type.csv')\n",
    "severity_type_copy = pd.read_csv('severity_type.csv')"
   ]
  },
  {
   "cell_type": "code",
   "execution_count": 6,
   "metadata": {
    "colab": {
     "base_uri": "https://localhost:8080/"
    },
    "id": "bmH-opHIJ0fH",
    "outputId": "7c5e99ba-46fa-4f5b-b2b3-05fa1f06e8d7"
   },
   "outputs": [
    {
     "name": "stdout",
     "output_type": "stream",
     "text": [
      "train (7381, 3) test (11171, 2)\n"
     ]
    }
   ],
   "source": [
    "# append train & test\n",
    "# ---------------------------------------------------------------------------------\n",
    "train_data['location_id'] = train_data.location.apply(lambda x: int(x.split('location ')[1]))\n",
    "test_data['location_id'] = test_data.location.apply(lambda x: int(x.split('location ')[1]))\n",
    "\n",
    "print('train', train_data.shape, 'test', test_data.shape)"
   ]
  },
  {
   "cell_type": "code",
   "execution_count": 7,
   "metadata": {
    "id": "p66l9lMYJ0lW"
   },
   "outputs": [],
   "source": [
    "#newly added\n",
    "train_data['location_id'] = train_data.location.apply(lambda x: int(x.split('location ')[1]))\n",
    "test_data['location_id'] = test_data.location.apply(lambda x: int(x.split('location ')[1]))"
   ]
  },
  {
   "cell_type": "code",
   "execution_count": 8,
   "metadata": {
    "id": "5vmLSr_2JfIx"
   },
   "outputs": [],
   "source": [
    "# order ~ time\n",
    "# ---------------------------------------------------------------------------------\n",
    "severity_type_order = severity_type_copy[['id']].drop_duplicates()\n",
    "severity_type_order['order'] = 1. * np.arange(len(severity_type_order)) / len(severity_type_order)"
   ]
  },
  {
   "cell_type": "code",
   "execution_count": 9,
   "metadata": {
    "colab": {
     "base_uri": "https://localhost:8080/",
     "height": 112
    },
    "id": "KaErZ9UPdcY4",
    "outputId": "e4ba1bdf-693f-44ba-85c2-20b027f7ff10"
   },
   "outputs": [
    {
     "data": {
      "text/html": [
       "\n",
       "  <div id=\"df-b5eb9e19-a85e-4129-832f-a25bf1a2f1bd\">\n",
       "    <div class=\"colab-df-container\">\n",
       "      <div>\n",
       "<style scoped>\n",
       "    .dataframe tbody tr th:only-of-type {\n",
       "        vertical-align: middle;\n",
       "    }\n",
       "\n",
       "    .dataframe tbody tr th {\n",
       "        vertical-align: top;\n",
       "    }\n",
       "\n",
       "    .dataframe thead th {\n",
       "        text-align: right;\n",
       "    }\n",
       "</style>\n",
       "<table border=\"1\" class=\"dataframe\">\n",
       "  <thead>\n",
       "    <tr style=\"text-align: right;\">\n",
       "      <th></th>\n",
       "      <th>id</th>\n",
       "      <th>order</th>\n",
       "    </tr>\n",
       "  </thead>\n",
       "  <tbody>\n",
       "    <tr>\n",
       "      <th>0</th>\n",
       "      <td>6597</td>\n",
       "      <td>0.000000</td>\n",
       "    </tr>\n",
       "    <tr>\n",
       "      <th>1</th>\n",
       "      <td>8011</td>\n",
       "      <td>0.000054</td>\n",
       "    </tr>\n",
       "  </tbody>\n",
       "</table>\n",
       "</div>\n",
       "      <button class=\"colab-df-convert\" onclick=\"convertToInteractive('df-b5eb9e19-a85e-4129-832f-a25bf1a2f1bd')\"\n",
       "              title=\"Convert this dataframe to an interactive table.\"\n",
       "              style=\"display:none;\">\n",
       "        \n",
       "  <svg xmlns=\"http://www.w3.org/2000/svg\" height=\"24px\"viewBox=\"0 0 24 24\"\n",
       "       width=\"24px\">\n",
       "    <path d=\"M0 0h24v24H0V0z\" fill=\"none\"/>\n",
       "    <path d=\"M18.56 5.44l.94 2.06.94-2.06 2.06-.94-2.06-.94-.94-2.06-.94 2.06-2.06.94zm-11 1L8.5 8.5l.94-2.06 2.06-.94-2.06-.94L8.5 2.5l-.94 2.06-2.06.94zm10 10l.94 2.06.94-2.06 2.06-.94-2.06-.94-.94-2.06-.94 2.06-2.06.94z\"/><path d=\"M17.41 7.96l-1.37-1.37c-.4-.4-.92-.59-1.43-.59-.52 0-1.04.2-1.43.59L10.3 9.45l-7.72 7.72c-.78.78-.78 2.05 0 2.83L4 21.41c.39.39.9.59 1.41.59.51 0 1.02-.2 1.41-.59l7.78-7.78 2.81-2.81c.8-.78.8-2.07 0-2.86zM5.41 20L4 18.59l7.72-7.72 1.47 1.35L5.41 20z\"/>\n",
       "  </svg>\n",
       "      </button>\n",
       "      \n",
       "  <style>\n",
       "    .colab-df-container {\n",
       "      display:flex;\n",
       "      flex-wrap:wrap;\n",
       "      gap: 12px;\n",
       "    }\n",
       "\n",
       "    .colab-df-convert {\n",
       "      background-color: #E8F0FE;\n",
       "      border: none;\n",
       "      border-radius: 50%;\n",
       "      cursor: pointer;\n",
       "      display: none;\n",
       "      fill: #1967D2;\n",
       "      height: 32px;\n",
       "      padding: 0 0 0 0;\n",
       "      width: 32px;\n",
       "    }\n",
       "\n",
       "    .colab-df-convert:hover {\n",
       "      background-color: #E2EBFA;\n",
       "      box-shadow: 0px 1px 2px rgba(60, 64, 67, 0.3), 0px 1px 3px 1px rgba(60, 64, 67, 0.15);\n",
       "      fill: #174EA6;\n",
       "    }\n",
       "\n",
       "    [theme=dark] .colab-df-convert {\n",
       "      background-color: #3B4455;\n",
       "      fill: #D2E3FC;\n",
       "    }\n",
       "\n",
       "    [theme=dark] .colab-df-convert:hover {\n",
       "      background-color: #434B5C;\n",
       "      box-shadow: 0px 1px 3px 1px rgba(0, 0, 0, 0.15);\n",
       "      filter: drop-shadow(0px 1px 2px rgba(0, 0, 0, 0.3));\n",
       "      fill: #FFFFFF;\n",
       "    }\n",
       "  </style>\n",
       "\n",
       "      <script>\n",
       "        const buttonEl =\n",
       "          document.querySelector('#df-b5eb9e19-a85e-4129-832f-a25bf1a2f1bd button.colab-df-convert');\n",
       "        buttonEl.style.display =\n",
       "          google.colab.kernel.accessAllowed ? 'block' : 'none';\n",
       "\n",
       "        async function convertToInteractive(key) {\n",
       "          const element = document.querySelector('#df-b5eb9e19-a85e-4129-832f-a25bf1a2f1bd');\n",
       "          const dataTable =\n",
       "            await google.colab.kernel.invokeFunction('convertToInteractive',\n",
       "                                                     [key], {});\n",
       "          if (!dataTable) return;\n",
       "\n",
       "          const docLinkHtml = 'Like what you see? Visit the ' +\n",
       "            '<a target=\"_blank\" href=https://colab.research.google.com/notebooks/data_table.ipynb>data table notebook</a>'\n",
       "            + ' to learn more about interactive tables.';\n",
       "          element.innerHTML = '';\n",
       "          dataTable['output_type'] = 'display_data';\n",
       "          await google.colab.output.renderOutput(dataTable, element);\n",
       "          const docLink = document.createElement('div');\n",
       "          docLink.innerHTML = docLinkHtml;\n",
       "          element.appendChild(docLink);\n",
       "        }\n",
       "      </script>\n",
       "    </div>\n",
       "  </div>\n",
       "  "
      ],
      "text/plain": [
       "     id     order\n",
       "0  6597  0.000000\n",
       "1  8011  0.000054"
      ]
     },
     "execution_count": 9,
     "metadata": {},
     "output_type": "execute_result"
    }
   ],
   "source": [
    "severity_type_order.head(2)"
   ]
  },
  {
   "cell_type": "code",
   "execution_count": 10,
   "metadata": {
    "id": "hxECkOL9dKW6"
   },
   "outputs": [],
   "source": [
    "# merge all the features together\n",
    "X_t = pd.merge(train_data,severity_type_order, how='left',left_index=True,right_index = True).fillna(0)\n",
    "# merge all the features together\n",
    "Y_t = pd.merge(test_data,severity_type_order, how='left',left_index=True,right_index = True).fillna(0)"
   ]
  },
  {
   "cell_type": "code",
   "execution_count": 11,
   "metadata": {
    "id": "WZymS9MFdOjO"
   },
   "outputs": [],
   "source": [
    "# merge all the features together\n",
    "X_t = pd.merge(X_t,severity_type,left_index=True,how='left',right_index = True).fillna(0)\n",
    "# merge all the features together\n",
    "Y_t = pd.merge(Y_t,severity_type,left_index=True,how='left',right_index = True).fillna(0)"
   ]
  },
  {
   "cell_type": "code",
   "execution_count": 12,
   "metadata": {
    "colab": {
     "base_uri": "https://localhost:8080/"
    },
    "id": "4BxPgMgLF2p_",
    "outputId": "55d0e0a4-e584-4b22-9a49-dc738fea27a7"
   },
   "outputs": [
    {
     "name": "stdout",
     "output_type": "stream",
     "text": [
      "(7381, 6) (11171, 5)\n"
     ]
    }
   ],
   "source": [
    "print(X_t.shape,Y_t.shape)"
   ]
  },
  {
   "cell_type": "code",
   "execution_count": 13,
   "metadata": {
    "id": "Gva52MewF6w8"
   },
   "outputs": [],
   "source": [
    "# merge event count\n",
    "X_t = pd.merge(X_t, event_type, left_index=True,right_index = True, how='left').fillna(0)\n",
    "Y_t = pd.merge(Y_t, event_type,left_index=True,right_index = True, how='left').fillna(0)"
   ]
  },
  {
   "cell_type": "code",
   "execution_count": 14,
   "metadata": {
    "colab": {
     "base_uri": "https://localhost:8080/"
    },
    "id": "7iiXCiAoGBg-",
    "outputId": "bf32c545-c5a5-43b1-a8dd-6e28a16709b7"
   },
   "outputs": [
    {
     "name": "stdout",
     "output_type": "stream",
     "text": [
      "(7381, 8) (11171, 7)\n"
     ]
    }
   ],
   "source": [
    "print(X_t.shape,Y_t.shape)"
   ]
  },
  {
   "cell_type": "code",
   "execution_count": 15,
   "metadata": {
    "id": "0GF0zzFLfrbx"
   },
   "outputs": [],
   "source": [
    "# merge event count\n",
    "X_t = pd.merge(X_t, log_feature, left_index=True,right_index = True, how='left').fillna(0)\n",
    "Y_t = pd.merge(Y_t, log_feature,left_index=True,right_index = True, how='left').fillna(0)"
   ]
  },
  {
   "cell_type": "code",
   "execution_count": 16,
   "metadata": {
    "colab": {
     "base_uri": "https://localhost:8080/"
    },
    "id": "pXqFVKRmfsxa",
    "outputId": "03ee8eef-95ed-4d2c-fe2f-1c33967e89a3"
   },
   "outputs": [
    {
     "name": "stdout",
     "output_type": "stream",
     "text": [
      "(7381, 11) (11171, 10)\n"
     ]
    }
   ],
   "source": [
    "print(X_t.shape,Y_t.shape)"
   ]
  },
  {
   "cell_type": "code",
   "execution_count": 17,
   "metadata": {
    "id": "x7Y4UqeAGBp1"
   },
   "outputs": [],
   "source": [
    "X_t = pd.merge(X_t,resource_type, right_index = True,left_index=True, how='left').fillna(0)\n",
    "Y_t = pd.merge(Y_t,resource_type, right_index = True,left_index=True, how='left').fillna(0)"
   ]
  },
  {
   "cell_type": "code",
   "execution_count": 18,
   "metadata": {
    "colab": {
     "base_uri": "https://localhost:8080/",
     "height": 143
    },
    "id": "oObpR3ajGCJT",
    "outputId": "eed02448-2db3-43e3-e0c4-f76aec55f5e4"
   },
   "outputs": [
    {
     "data": {
      "text/html": [
       "\n",
       "  <div id=\"df-d89423b6-97f9-4da8-9a52-b01df0119e1b\">\n",
       "    <div class=\"colab-df-container\">\n",
       "      <div>\n",
       "<style scoped>\n",
       "    .dataframe tbody tr th:only-of-type {\n",
       "        vertical-align: middle;\n",
       "    }\n",
       "\n",
       "    .dataframe tbody tr th {\n",
       "        vertical-align: top;\n",
       "    }\n",
       "\n",
       "    .dataframe thead th {\n",
       "        text-align: right;\n",
       "    }\n",
       "</style>\n",
       "<table border=\"1\" class=\"dataframe\">\n",
       "  <thead>\n",
       "    <tr style=\"text-align: right;\">\n",
       "      <th></th>\n",
       "      <th>location</th>\n",
       "      <th>fault_severity</th>\n",
       "      <th>location_id</th>\n",
       "      <th>id_x</th>\n",
       "      <th>order</th>\n",
       "      <th>severity_type</th>\n",
       "      <th>id_y</th>\n",
       "      <th>event_type</th>\n",
       "      <th>id_x</th>\n",
       "      <th>log_feature</th>\n",
       "      <th>volume</th>\n",
       "      <th>id_y</th>\n",
       "      <th>resource_type</th>\n",
       "    </tr>\n",
       "    <tr>\n",
       "      <th>id</th>\n",
       "      <th></th>\n",
       "      <th></th>\n",
       "      <th></th>\n",
       "      <th></th>\n",
       "      <th></th>\n",
       "      <th></th>\n",
       "      <th></th>\n",
       "      <th></th>\n",
       "      <th></th>\n",
       "      <th></th>\n",
       "      <th></th>\n",
       "      <th></th>\n",
       "      <th></th>\n",
       "    </tr>\n",
       "  </thead>\n",
       "  <tbody>\n",
       "    <tr>\n",
       "      <th>14121</th>\n",
       "      <td>location 118</td>\n",
       "      <td>1</td>\n",
       "      <td>118</td>\n",
       "      <td>17133</td>\n",
       "      <td>0.761158</td>\n",
       "      <td>severity_type 2</td>\n",
       "      <td>6478</td>\n",
       "      <td>event_type 34</td>\n",
       "      <td>884</td>\n",
       "      <td>feature 44</td>\n",
       "      <td>2</td>\n",
       "      <td>9540</td>\n",
       "      <td>resource_type 2</td>\n",
       "    </tr>\n",
       "    <tr>\n",
       "      <th>9320</th>\n",
       "      <td>location 91</td>\n",
       "      <td>0</td>\n",
       "      <td>91</td>\n",
       "      <td>213</td>\n",
       "      <td>0.502372</td>\n",
       "      <td>severity_type 2</td>\n",
       "      <td>7252</td>\n",
       "      <td>event_type 35</td>\n",
       "      <td>8498</td>\n",
       "      <td>feature 227</td>\n",
       "      <td>4</td>\n",
       "      <td>13129</td>\n",
       "      <td>resource_type 2</td>\n",
       "    </tr>\n",
       "  </tbody>\n",
       "</table>\n",
       "</div>\n",
       "      <button class=\"colab-df-convert\" onclick=\"convertToInteractive('df-d89423b6-97f9-4da8-9a52-b01df0119e1b')\"\n",
       "              title=\"Convert this dataframe to an interactive table.\"\n",
       "              style=\"display:none;\">\n",
       "        \n",
       "  <svg xmlns=\"http://www.w3.org/2000/svg\" height=\"24px\"viewBox=\"0 0 24 24\"\n",
       "       width=\"24px\">\n",
       "    <path d=\"M0 0h24v24H0V0z\" fill=\"none\"/>\n",
       "    <path d=\"M18.56 5.44l.94 2.06.94-2.06 2.06-.94-2.06-.94-.94-2.06-.94 2.06-2.06.94zm-11 1L8.5 8.5l.94-2.06 2.06-.94-2.06-.94L8.5 2.5l-.94 2.06-2.06.94zm10 10l.94 2.06.94-2.06 2.06-.94-2.06-.94-.94-2.06-.94 2.06-2.06.94z\"/><path d=\"M17.41 7.96l-1.37-1.37c-.4-.4-.92-.59-1.43-.59-.52 0-1.04.2-1.43.59L10.3 9.45l-7.72 7.72c-.78.78-.78 2.05 0 2.83L4 21.41c.39.39.9.59 1.41.59.51 0 1.02-.2 1.41-.59l7.78-7.78 2.81-2.81c.8-.78.8-2.07 0-2.86zM5.41 20L4 18.59l7.72-7.72 1.47 1.35L5.41 20z\"/>\n",
       "  </svg>\n",
       "      </button>\n",
       "      \n",
       "  <style>\n",
       "    .colab-df-container {\n",
       "      display:flex;\n",
       "      flex-wrap:wrap;\n",
       "      gap: 12px;\n",
       "    }\n",
       "\n",
       "    .colab-df-convert {\n",
       "      background-color: #E8F0FE;\n",
       "      border: none;\n",
       "      border-radius: 50%;\n",
       "      cursor: pointer;\n",
       "      display: none;\n",
       "      fill: #1967D2;\n",
       "      height: 32px;\n",
       "      padding: 0 0 0 0;\n",
       "      width: 32px;\n",
       "    }\n",
       "\n",
       "    .colab-df-convert:hover {\n",
       "      background-color: #E2EBFA;\n",
       "      box-shadow: 0px 1px 2px rgba(60, 64, 67, 0.3), 0px 1px 3px 1px rgba(60, 64, 67, 0.15);\n",
       "      fill: #174EA6;\n",
       "    }\n",
       "\n",
       "    [theme=dark] .colab-df-convert {\n",
       "      background-color: #3B4455;\n",
       "      fill: #D2E3FC;\n",
       "    }\n",
       "\n",
       "    [theme=dark] .colab-df-convert:hover {\n",
       "      background-color: #434B5C;\n",
       "      box-shadow: 0px 1px 3px 1px rgba(0, 0, 0, 0.15);\n",
       "      filter: drop-shadow(0px 1px 2px rgba(0, 0, 0, 0.3));\n",
       "      fill: #FFFFFF;\n",
       "    }\n",
       "  </style>\n",
       "\n",
       "      <script>\n",
       "        const buttonEl =\n",
       "          document.querySelector('#df-d89423b6-97f9-4da8-9a52-b01df0119e1b button.colab-df-convert');\n",
       "        buttonEl.style.display =\n",
       "          google.colab.kernel.accessAllowed ? 'block' : 'none';\n",
       "\n",
       "        async function convertToInteractive(key) {\n",
       "          const element = document.querySelector('#df-d89423b6-97f9-4da8-9a52-b01df0119e1b');\n",
       "          const dataTable =\n",
       "            await google.colab.kernel.invokeFunction('convertToInteractive',\n",
       "                                                     [key], {});\n",
       "          if (!dataTable) return;\n",
       "\n",
       "          const docLinkHtml = 'Like what you see? Visit the ' +\n",
       "            '<a target=\"_blank\" href=https://colab.research.google.com/notebooks/data_table.ipynb>data table notebook</a>'\n",
       "            + ' to learn more about interactive tables.';\n",
       "          element.innerHTML = '';\n",
       "          dataTable['output_type'] = 'display_data';\n",
       "          await google.colab.output.renderOutput(dataTable, element);\n",
       "          const docLink = document.createElement('div');\n",
       "          docLink.innerHTML = docLinkHtml;\n",
       "          element.appendChild(docLink);\n",
       "        }\n",
       "      </script>\n",
       "    </div>\n",
       "  </div>\n",
       "  "
      ],
      "text/plain": [
       "           location  fault_severity  ...   id_y    resource_type\n",
       "id                                   ...                        \n",
       "14121  location 118               1  ...   9540  resource_type 2\n",
       "9320    location 91               0  ...  13129  resource_type 2\n",
       "\n",
       "[2 rows x 13 columns]"
      ]
     },
     "execution_count": 18,
     "metadata": {},
     "output_type": "execute_result"
    }
   ],
   "source": [
    "X_t.head(2)"
   ]
  },
  {
   "cell_type": "code",
   "execution_count": 19,
   "metadata": {
    "id": "ahXuiC1JNBt1"
   },
   "outputs": [],
   "source": [
    "# merge log features\n",
    "log_vol = log_feature_copy.groupby('id')['volume'].agg(['count','min', 'mean', 'max', 'std', 'sum']).fillna(0).add_prefix('log_volume')"
   ]
  },
  {
   "cell_type": "code",
   "execution_count": 20,
   "metadata": {
    "id": "L3-6ImByGWO3"
   },
   "outputs": [],
   "source": [
    "X_t = pd.merge(X_t,log_vol, right_index = True,left_index=True, how='left').fillna(0)\n",
    "Y_t = pd.merge(Y_t,log_vol, right_index = True,left_index=True, how='left').fillna(0)"
   ]
  },
  {
   "cell_type": "code",
   "execution_count": 21,
   "metadata": {
    "colab": {
     "base_uri": "https://localhost:8080/",
     "height": 242
    },
    "id": "1B5--4DZtec8",
    "outputId": "8a48ffa2-869f-4077-ef96-ba7d1def3501"
   },
   "outputs": [
    {
     "data": {
      "text/html": [
       "\n",
       "  <div id=\"df-6a579d62-84f6-467a-8607-4719f1b82b08\">\n",
       "    <div class=\"colab-df-container\">\n",
       "      <div>\n",
       "<style scoped>\n",
       "    .dataframe tbody tr th:only-of-type {\n",
       "        vertical-align: middle;\n",
       "    }\n",
       "\n",
       "    .dataframe tbody tr th {\n",
       "        vertical-align: top;\n",
       "    }\n",
       "\n",
       "    .dataframe thead th {\n",
       "        text-align: right;\n",
       "    }\n",
       "</style>\n",
       "<table border=\"1\" class=\"dataframe\">\n",
       "  <thead>\n",
       "    <tr style=\"text-align: right;\">\n",
       "      <th></th>\n",
       "      <th>location</th>\n",
       "      <th>fault_severity</th>\n",
       "      <th>location_id</th>\n",
       "      <th>id_x</th>\n",
       "      <th>order</th>\n",
       "      <th>severity_type</th>\n",
       "      <th>id_y</th>\n",
       "      <th>event_type</th>\n",
       "      <th>id_x</th>\n",
       "      <th>log_feature</th>\n",
       "      <th>volume</th>\n",
       "      <th>id_y</th>\n",
       "      <th>resource_type</th>\n",
       "      <th>log_volumecount</th>\n",
       "      <th>log_volumemin</th>\n",
       "      <th>log_volumemean</th>\n",
       "      <th>log_volumemax</th>\n",
       "      <th>log_volumestd</th>\n",
       "      <th>log_volumesum</th>\n",
       "    </tr>\n",
       "    <tr>\n",
       "      <th>id</th>\n",
       "      <th></th>\n",
       "      <th></th>\n",
       "      <th></th>\n",
       "      <th></th>\n",
       "      <th></th>\n",
       "      <th></th>\n",
       "      <th></th>\n",
       "      <th></th>\n",
       "      <th></th>\n",
       "      <th></th>\n",
       "      <th></th>\n",
       "      <th></th>\n",
       "      <th></th>\n",
       "      <th></th>\n",
       "      <th></th>\n",
       "      <th></th>\n",
       "      <th></th>\n",
       "      <th></th>\n",
       "      <th></th>\n",
       "    </tr>\n",
       "  </thead>\n",
       "  <tbody>\n",
       "    <tr>\n",
       "      <th>14121</th>\n",
       "      <td>location 118</td>\n",
       "      <td>1</td>\n",
       "      <td>118</td>\n",
       "      <td>17133</td>\n",
       "      <td>0.761158</td>\n",
       "      <td>severity_type 2</td>\n",
       "      <td>6478</td>\n",
       "      <td>event_type 34</td>\n",
       "      <td>884</td>\n",
       "      <td>feature 44</td>\n",
       "      <td>2</td>\n",
       "      <td>9540</td>\n",
       "      <td>resource_type 2</td>\n",
       "      <td>2</td>\n",
       "      <td>19</td>\n",
       "      <td>19.0</td>\n",
       "      <td>19</td>\n",
       "      <td>0.00000</td>\n",
       "      <td>38</td>\n",
       "    </tr>\n",
       "    <tr>\n",
       "      <th>9320</th>\n",
       "      <td>location 91</td>\n",
       "      <td>0</td>\n",
       "      <td>91</td>\n",
       "      <td>213</td>\n",
       "      <td>0.502372</td>\n",
       "      <td>severity_type 2</td>\n",
       "      <td>7252</td>\n",
       "      <td>event_type 35</td>\n",
       "      <td>8498</td>\n",
       "      <td>feature 227</td>\n",
       "      <td>4</td>\n",
       "      <td>13129</td>\n",
       "      <td>resource_type 2</td>\n",
       "      <td>2</td>\n",
       "      <td>116</td>\n",
       "      <td>158.0</td>\n",
       "      <td>200</td>\n",
       "      <td>59.39697</td>\n",
       "      <td>316</td>\n",
       "    </tr>\n",
       "  </tbody>\n",
       "</table>\n",
       "</div>\n",
       "      <button class=\"colab-df-convert\" onclick=\"convertToInteractive('df-6a579d62-84f6-467a-8607-4719f1b82b08')\"\n",
       "              title=\"Convert this dataframe to an interactive table.\"\n",
       "              style=\"display:none;\">\n",
       "        \n",
       "  <svg xmlns=\"http://www.w3.org/2000/svg\" height=\"24px\"viewBox=\"0 0 24 24\"\n",
       "       width=\"24px\">\n",
       "    <path d=\"M0 0h24v24H0V0z\" fill=\"none\"/>\n",
       "    <path d=\"M18.56 5.44l.94 2.06.94-2.06 2.06-.94-2.06-.94-.94-2.06-.94 2.06-2.06.94zm-11 1L8.5 8.5l.94-2.06 2.06-.94-2.06-.94L8.5 2.5l-.94 2.06-2.06.94zm10 10l.94 2.06.94-2.06 2.06-.94-2.06-.94-.94-2.06-.94 2.06-2.06.94z\"/><path d=\"M17.41 7.96l-1.37-1.37c-.4-.4-.92-.59-1.43-.59-.52 0-1.04.2-1.43.59L10.3 9.45l-7.72 7.72c-.78.78-.78 2.05 0 2.83L4 21.41c.39.39.9.59 1.41.59.51 0 1.02-.2 1.41-.59l7.78-7.78 2.81-2.81c.8-.78.8-2.07 0-2.86zM5.41 20L4 18.59l7.72-7.72 1.47 1.35L5.41 20z\"/>\n",
       "  </svg>\n",
       "      </button>\n",
       "      \n",
       "  <style>\n",
       "    .colab-df-container {\n",
       "      display:flex;\n",
       "      flex-wrap:wrap;\n",
       "      gap: 12px;\n",
       "    }\n",
       "\n",
       "    .colab-df-convert {\n",
       "      background-color: #E8F0FE;\n",
       "      border: none;\n",
       "      border-radius: 50%;\n",
       "      cursor: pointer;\n",
       "      display: none;\n",
       "      fill: #1967D2;\n",
       "      height: 32px;\n",
       "      padding: 0 0 0 0;\n",
       "      width: 32px;\n",
       "    }\n",
       "\n",
       "    .colab-df-convert:hover {\n",
       "      background-color: #E2EBFA;\n",
       "      box-shadow: 0px 1px 2px rgba(60, 64, 67, 0.3), 0px 1px 3px 1px rgba(60, 64, 67, 0.15);\n",
       "      fill: #174EA6;\n",
       "    }\n",
       "\n",
       "    [theme=dark] .colab-df-convert {\n",
       "      background-color: #3B4455;\n",
       "      fill: #D2E3FC;\n",
       "    }\n",
       "\n",
       "    [theme=dark] .colab-df-convert:hover {\n",
       "      background-color: #434B5C;\n",
       "      box-shadow: 0px 1px 3px 1px rgba(0, 0, 0, 0.15);\n",
       "      filter: drop-shadow(0px 1px 2px rgba(0, 0, 0, 0.3));\n",
       "      fill: #FFFFFF;\n",
       "    }\n",
       "  </style>\n",
       "\n",
       "      <script>\n",
       "        const buttonEl =\n",
       "          document.querySelector('#df-6a579d62-84f6-467a-8607-4719f1b82b08 button.colab-df-convert');\n",
       "        buttonEl.style.display =\n",
       "          google.colab.kernel.accessAllowed ? 'block' : 'none';\n",
       "\n",
       "        async function convertToInteractive(key) {\n",
       "          const element = document.querySelector('#df-6a579d62-84f6-467a-8607-4719f1b82b08');\n",
       "          const dataTable =\n",
       "            await google.colab.kernel.invokeFunction('convertToInteractive',\n",
       "                                                     [key], {});\n",
       "          if (!dataTable) return;\n",
       "\n",
       "          const docLinkHtml = 'Like what you see? Visit the ' +\n",
       "            '<a target=\"_blank\" href=https://colab.research.google.com/notebooks/data_table.ipynb>data table notebook</a>'\n",
       "            + ' to learn more about interactive tables.';\n",
       "          element.innerHTML = '';\n",
       "          dataTable['output_type'] = 'display_data';\n",
       "          await google.colab.output.renderOutput(dataTable, element);\n",
       "          const docLink = document.createElement('div');\n",
       "          docLink.innerHTML = docLinkHtml;\n",
       "          element.appendChild(docLink);\n",
       "        }\n",
       "      </script>\n",
       "    </div>\n",
       "  </div>\n",
       "  "
      ],
      "text/plain": [
       "           location  fault_severity  ...  log_volumestd  log_volumesum\n",
       "id                                   ...                              \n",
       "14121  location 118               1  ...        0.00000             38\n",
       "9320    location 91               0  ...       59.39697            316\n",
       "\n",
       "[2 rows x 19 columns]"
      ]
     },
     "execution_count": 21,
     "metadata": {},
     "output_type": "execute_result"
    }
   ],
   "source": [
    "X_t.head(2)"
   ]
  },
  {
   "cell_type": "code",
   "execution_count": 22,
   "metadata": {
    "colab": {
     "base_uri": "https://localhost:8080/"
    },
    "id": "ttsRj_geGWWz",
    "outputId": "267a31b6-076d-412d-a419-c557cebc9194"
   },
   "outputs": [
    {
     "name": "stdout",
     "output_type": "stream",
     "text": [
      "(7381, 19) (11171, 18)\n"
     ]
    }
   ],
   "source": [
    "print(X_t.shape,Y_t.shape)"
   ]
  },
  {
   "cell_type": "code",
   "execution_count": 23,
   "metadata": {
    "id": "DiC3pPxnHqgb"
   },
   "outputs": [],
   "source": [
    "X11 = pd.merge(left=train_data_copy, right=event_type_copy, how='left', left_on='id', right_on='id')\n",
    "Y11 = pd.merge(left=test_data_copy, right=event_type_copy, how='left', left_on='id', right_on='id')"
   ]
  },
  {
   "cell_type": "code",
   "execution_count": 24,
   "metadata": {
    "id": "RgHXF6JvNKAs"
   },
   "outputs": [],
   "source": [
    "X11 = pd.merge(left=X11, right=log_feature_copy, how='left', left_on='id', right_on='id')\n",
    "Y11 = pd.merge(left=Y11, right=log_feature_copy, how='left', left_on='id', right_on='id')"
   ]
  },
  {
   "cell_type": "code",
   "execution_count": 25,
   "metadata": {
    "id": "XdXLwhipqp3X"
   },
   "outputs": [],
   "source": [
    "# merge log features\n",
    "events = X11.groupby('id')['volume'].agg(['count','min', 'mean', 'max','sum']).fillna(0).add_prefix('event_vol')"
   ]
  },
  {
   "cell_type": "code",
   "execution_count": 26,
   "metadata": {
    "id": "WSwBLhlzqscV"
   },
   "outputs": [],
   "source": [
    "X_t = pd.merge(X_t,events, right_index = True,left_index=True, how='left').fillna(0)\n",
    "Y_t = pd.merge(Y_t,events, right_index = True,left_index=True, how='left').fillna(0)"
   ]
  },
  {
   "cell_type": "code",
   "execution_count": 27,
   "metadata": {
    "colab": {
     "base_uri": "https://localhost:8080/"
    },
    "id": "kl83pF5qqxH7",
    "outputId": "1ae01acb-904d-40a6-edaa-a4de48633bab"
   },
   "outputs": [
    {
     "name": "stdout",
     "output_type": "stream",
     "text": [
      "(7381, 24) (11171, 23)\n"
     ]
    }
   ],
   "source": [
    "print(X_t.shape,Y_t.shape)"
   ]
  },
  {
   "cell_type": "code",
   "execution_count": 28,
   "metadata": {
    "id": "FnCebwq3NKFc"
   },
   "outputs": [],
   "source": [
    "X11 = pd.merge(left=X11, right=severity_type_copy, how='left', left_on='id', right_on='id')\n",
    "Y11 = pd.merge(left=Y11, right=severity_type_copy, how='left', left_on='id', right_on='id')"
   ]
  },
  {
   "cell_type": "code",
   "execution_count": 29,
   "metadata": {
    "id": "t8goCXFYrDnZ"
   },
   "outputs": [],
   "source": [
    "# merge log features\n",
    "severity = X11.groupby('id')['volume'].agg(['count','min', 'mean', 'max','sum']).fillna(0).add_prefix('sev_vol')"
   ]
  },
  {
   "cell_type": "code",
   "execution_count": 30,
   "metadata": {
    "id": "hwNRvqstrIob"
   },
   "outputs": [],
   "source": [
    "X_t = pd.merge(X_t,severity, right_index = True,left_index=True, how='left').fillna(0)\n",
    "Y_t = pd.merge(Y_t,severity, right_index = True,left_index=True, how='left').fillna(0)"
   ]
  },
  {
   "cell_type": "code",
   "execution_count": 31,
   "metadata": {
    "id": "svCdEcPbuWu2"
   },
   "outputs": [],
   "source": [
    "X11 = pd.merge(left=X11, right=resource_type_copy, how='left', left_on='id', right_on='id')\n",
    "Y11 = pd.merge(left=Y11, right=resource_type_copy, how='left', left_on='id', right_on='id')"
   ]
  },
  {
   "cell_type": "code",
   "execution_count": 32,
   "metadata": {
    "id": "fHJql6YFuDb5"
   },
   "outputs": [],
   "source": [
    "# merge log features\n",
    "resource = X11.groupby('id')['volume'].agg(['count','min', 'mean', 'max','sum']).fillna(0).add_prefix('res_vol')"
   ]
  },
  {
   "cell_type": "code",
   "execution_count": 33,
   "metadata": {
    "id": "HG068r24uDhC"
   },
   "outputs": [],
   "source": [
    "X_t = pd.merge(X_t,resource, right_index = True,left_index=True, how='left').fillna(0)\n",
    "Y_t = pd.merge(Y_t,resource, right_index = True,left_index=True, how='left').fillna(0)"
   ]
  },
  {
   "cell_type": "code",
   "execution_count": 34,
   "metadata": {
    "id": "TK_UriecNKLc"
   },
   "outputs": [],
   "source": [
    "#newly added\n",
    "X11['location_id'] = X11.location.apply(lambda x: int(x.split('location ')[1]))\n",
    "Y11['location_id'] = Y11.location.apply(lambda x: int(x.split('location ')[1]))"
   ]
  },
  {
   "cell_type": "code",
   "execution_count": 35,
   "metadata": {
    "id": "XencdqJZNYPv"
   },
   "outputs": [],
   "source": [
    "X_t[\"avgvol_per_event\"]= X11.groupby(['event_type'])[\"volume\"].transform('mean')\n",
    "X_t[\"maxvol_per_event\"]= X11.groupby(['event_type'])[\"volume\"].transform('max')\n",
    "X_t[\"minvol_per_event\"]= X11.groupby(['event_type'])[\"volume\"].transform('mean')\n",
    "\n",
    "Y_t[\"avgvol_per_event\"]= Y11.groupby(['event_type'])[\"volume\"].transform('mean')\n",
    "Y_t[\"maxvol_per_event\"]= Y11.groupby(['event_type'])[\"volume\"].transform('max')\n",
    "Y_t[\"minvol_per_event\"]= Y11.groupby(['event_type'])[\"volume\"].transform('mean')"
   ]
  },
  {
   "cell_type": "code",
   "execution_count": 36,
   "metadata": {
    "id": "SWF-60C7N48L"
   },
   "outputs": [],
   "source": [
    "X_t[\"avgvol_per_sev\"]= X11.groupby(['severity_type'])[\"volume\"].transform('mean')\n",
    "X_t[\"maxvol_per_sev\"]= X11.groupby(['severity_type'])[\"volume\"].transform('max')\n",
    "X_t[\"minvol_per_sev\"]= X11.groupby(['severity_type'])[\"volume\"].transform('mean')\n",
    "\n",
    "Y_t[\"avgvol_per_sev\"]= Y11.groupby(['severity_type'])[\"volume\"].transform('mean')\n",
    "Y_t[\"maxvol_per_sev\"]= Y11.groupby(['severity_type'])[\"volume\"].transform('max')\n",
    "Y_t[\"minvol_per_sev\"]= Y11.groupby(['severity_type'])[\"volume\"].transform('mean')"
   ]
  },
  {
   "cell_type": "code",
   "execution_count": 37,
   "metadata": {
    "colab": {
     "base_uri": "https://localhost:8080/"
    },
    "id": "VNB3dADaNYW1",
    "outputId": "b3a44203-907a-475b-d68a-e39795f15073"
   },
   "outputs": [
    {
     "name": "stdout",
     "output_type": "stream",
     "text": [
      "(7381, 40) (11171, 39)\n"
     ]
    }
   ],
   "source": [
    "print(X_t.shape,Y_t.shape)"
   ]
  },
  {
   "cell_type": "code",
   "execution_count": 38,
   "metadata": {
    "colab": {
     "base_uri": "https://localhost:8080/",
     "height": 242
    },
    "id": "Za5Iy-Lqu8Il",
    "outputId": "f3049da1-26ef-4807-bc09-73e34aa47507"
   },
   "outputs": [
    {
     "data": {
      "text/html": [
       "\n",
       "  <div id=\"df-6f8f93b1-6dea-4f7c-be6a-319733a47ba2\">\n",
       "    <div class=\"colab-df-container\">\n",
       "      <div>\n",
       "<style scoped>\n",
       "    .dataframe tbody tr th:only-of-type {\n",
       "        vertical-align: middle;\n",
       "    }\n",
       "\n",
       "    .dataframe tbody tr th {\n",
       "        vertical-align: top;\n",
       "    }\n",
       "\n",
       "    .dataframe thead th {\n",
       "        text-align: right;\n",
       "    }\n",
       "</style>\n",
       "<table border=\"1\" class=\"dataframe\">\n",
       "  <thead>\n",
       "    <tr style=\"text-align: right;\">\n",
       "      <th></th>\n",
       "      <th>location</th>\n",
       "      <th>fault_severity</th>\n",
       "      <th>location_id</th>\n",
       "      <th>id_x</th>\n",
       "      <th>order</th>\n",
       "      <th>severity_type</th>\n",
       "      <th>id_y</th>\n",
       "      <th>event_type</th>\n",
       "      <th>id_x</th>\n",
       "      <th>log_feature</th>\n",
       "      <th>volume</th>\n",
       "      <th>id_y</th>\n",
       "      <th>resource_type</th>\n",
       "      <th>log_volumecount</th>\n",
       "      <th>log_volumemin</th>\n",
       "      <th>log_volumemean</th>\n",
       "      <th>log_volumemax</th>\n",
       "      <th>log_volumestd</th>\n",
       "      <th>log_volumesum</th>\n",
       "      <th>event_volcount</th>\n",
       "      <th>event_volmin</th>\n",
       "      <th>event_volmean</th>\n",
       "      <th>event_volmax</th>\n",
       "      <th>event_volsum</th>\n",
       "      <th>sev_volcount</th>\n",
       "      <th>sev_volmin</th>\n",
       "      <th>sev_volmean</th>\n",
       "      <th>sev_volmax</th>\n",
       "      <th>sev_volsum</th>\n",
       "      <th>res_volcount</th>\n",
       "      <th>res_volmin</th>\n",
       "      <th>res_volmean</th>\n",
       "      <th>res_volmax</th>\n",
       "      <th>res_volsum</th>\n",
       "      <th>avgvol_per_event</th>\n",
       "      <th>maxvol_per_event</th>\n",
       "      <th>minvol_per_event</th>\n",
       "      <th>avgvol_per_sev</th>\n",
       "      <th>maxvol_per_sev</th>\n",
       "      <th>minvol_per_sev</th>\n",
       "    </tr>\n",
       "    <tr>\n",
       "      <th>id</th>\n",
       "      <th></th>\n",
       "      <th></th>\n",
       "      <th></th>\n",
       "      <th></th>\n",
       "      <th></th>\n",
       "      <th></th>\n",
       "      <th></th>\n",
       "      <th></th>\n",
       "      <th></th>\n",
       "      <th></th>\n",
       "      <th></th>\n",
       "      <th></th>\n",
       "      <th></th>\n",
       "      <th></th>\n",
       "      <th></th>\n",
       "      <th></th>\n",
       "      <th></th>\n",
       "      <th></th>\n",
       "      <th></th>\n",
       "      <th></th>\n",
       "      <th></th>\n",
       "      <th></th>\n",
       "      <th></th>\n",
       "      <th></th>\n",
       "      <th></th>\n",
       "      <th></th>\n",
       "      <th></th>\n",
       "      <th></th>\n",
       "      <th></th>\n",
       "      <th></th>\n",
       "      <th></th>\n",
       "      <th></th>\n",
       "      <th></th>\n",
       "      <th></th>\n",
       "      <th></th>\n",
       "      <th></th>\n",
       "      <th></th>\n",
       "      <th></th>\n",
       "      <th></th>\n",
       "      <th></th>\n",
       "    </tr>\n",
       "  </thead>\n",
       "  <tbody>\n",
       "    <tr>\n",
       "      <th>14121</th>\n",
       "      <td>location 118</td>\n",
       "      <td>1</td>\n",
       "      <td>118</td>\n",
       "      <td>17133</td>\n",
       "      <td>0.761158</td>\n",
       "      <td>severity_type 2</td>\n",
       "      <td>6478</td>\n",
       "      <td>event_type 34</td>\n",
       "      <td>884</td>\n",
       "      <td>feature 44</td>\n",
       "      <td>2</td>\n",
       "      <td>9540</td>\n",
       "      <td>resource_type 2</td>\n",
       "      <td>2</td>\n",
       "      <td>19</td>\n",
       "      <td>19.0</td>\n",
       "      <td>19</td>\n",
       "      <td>0.00000</td>\n",
       "      <td>38</td>\n",
       "      <td>4</td>\n",
       "      <td>19</td>\n",
       "      <td>19.0</td>\n",
       "      <td>19</td>\n",
       "      <td>76</td>\n",
       "      <td>4</td>\n",
       "      <td>19</td>\n",
       "      <td>19.0</td>\n",
       "      <td>19</td>\n",
       "      <td>76</td>\n",
       "      <td>4</td>\n",
       "      <td>19</td>\n",
       "      <td>19.0</td>\n",
       "      <td>19</td>\n",
       "      <td>76</td>\n",
       "      <td>7.479771</td>\n",
       "      <td>877</td>\n",
       "      <td>7.479771</td>\n",
       "      <td>7.103853</td>\n",
       "      <td>877</td>\n",
       "      <td>7.103853</td>\n",
       "    </tr>\n",
       "    <tr>\n",
       "      <th>9320</th>\n",
       "      <td>location 91</td>\n",
       "      <td>0</td>\n",
       "      <td>91</td>\n",
       "      <td>213</td>\n",
       "      <td>0.502372</td>\n",
       "      <td>severity_type 2</td>\n",
       "      <td>7252</td>\n",
       "      <td>event_type 35</td>\n",
       "      <td>8498</td>\n",
       "      <td>feature 227</td>\n",
       "      <td>4</td>\n",
       "      <td>13129</td>\n",
       "      <td>resource_type 2</td>\n",
       "      <td>2</td>\n",
       "      <td>116</td>\n",
       "      <td>158.0</td>\n",
       "      <td>200</td>\n",
       "      <td>59.39697</td>\n",
       "      <td>316</td>\n",
       "      <td>4</td>\n",
       "      <td>116</td>\n",
       "      <td>158.0</td>\n",
       "      <td>200</td>\n",
       "      <td>632</td>\n",
       "      <td>4</td>\n",
       "      <td>116</td>\n",
       "      <td>158.0</td>\n",
       "      <td>200</td>\n",
       "      <td>632</td>\n",
       "      <td>4</td>\n",
       "      <td>116</td>\n",
       "      <td>158.0</td>\n",
       "      <td>200</td>\n",
       "      <td>632</td>\n",
       "      <td>4.669983</td>\n",
       "      <td>154</td>\n",
       "      <td>4.669983</td>\n",
       "      <td>7.103853</td>\n",
       "      <td>877</td>\n",
       "      <td>7.103853</td>\n",
       "    </tr>\n",
       "  </tbody>\n",
       "</table>\n",
       "</div>\n",
       "      <button class=\"colab-df-convert\" onclick=\"convertToInteractive('df-6f8f93b1-6dea-4f7c-be6a-319733a47ba2')\"\n",
       "              title=\"Convert this dataframe to an interactive table.\"\n",
       "              style=\"display:none;\">\n",
       "        \n",
       "  <svg xmlns=\"http://www.w3.org/2000/svg\" height=\"24px\"viewBox=\"0 0 24 24\"\n",
       "       width=\"24px\">\n",
       "    <path d=\"M0 0h24v24H0V0z\" fill=\"none\"/>\n",
       "    <path d=\"M18.56 5.44l.94 2.06.94-2.06 2.06-.94-2.06-.94-.94-2.06-.94 2.06-2.06.94zm-11 1L8.5 8.5l.94-2.06 2.06-.94-2.06-.94L8.5 2.5l-.94 2.06-2.06.94zm10 10l.94 2.06.94-2.06 2.06-.94-2.06-.94-.94-2.06-.94 2.06-2.06.94z\"/><path d=\"M17.41 7.96l-1.37-1.37c-.4-.4-.92-.59-1.43-.59-.52 0-1.04.2-1.43.59L10.3 9.45l-7.72 7.72c-.78.78-.78 2.05 0 2.83L4 21.41c.39.39.9.59 1.41.59.51 0 1.02-.2 1.41-.59l7.78-7.78 2.81-2.81c.8-.78.8-2.07 0-2.86zM5.41 20L4 18.59l7.72-7.72 1.47 1.35L5.41 20z\"/>\n",
       "  </svg>\n",
       "      </button>\n",
       "      \n",
       "  <style>\n",
       "    .colab-df-container {\n",
       "      display:flex;\n",
       "      flex-wrap:wrap;\n",
       "      gap: 12px;\n",
       "    }\n",
       "\n",
       "    .colab-df-convert {\n",
       "      background-color: #E8F0FE;\n",
       "      border: none;\n",
       "      border-radius: 50%;\n",
       "      cursor: pointer;\n",
       "      display: none;\n",
       "      fill: #1967D2;\n",
       "      height: 32px;\n",
       "      padding: 0 0 0 0;\n",
       "      width: 32px;\n",
       "    }\n",
       "\n",
       "    .colab-df-convert:hover {\n",
       "      background-color: #E2EBFA;\n",
       "      box-shadow: 0px 1px 2px rgba(60, 64, 67, 0.3), 0px 1px 3px 1px rgba(60, 64, 67, 0.15);\n",
       "      fill: #174EA6;\n",
       "    }\n",
       "\n",
       "    [theme=dark] .colab-df-convert {\n",
       "      background-color: #3B4455;\n",
       "      fill: #D2E3FC;\n",
       "    }\n",
       "\n",
       "    [theme=dark] .colab-df-convert:hover {\n",
       "      background-color: #434B5C;\n",
       "      box-shadow: 0px 1px 3px 1px rgba(0, 0, 0, 0.15);\n",
       "      filter: drop-shadow(0px 1px 2px rgba(0, 0, 0, 0.3));\n",
       "      fill: #FFFFFF;\n",
       "    }\n",
       "  </style>\n",
       "\n",
       "      <script>\n",
       "        const buttonEl =\n",
       "          document.querySelector('#df-6f8f93b1-6dea-4f7c-be6a-319733a47ba2 button.colab-df-convert');\n",
       "        buttonEl.style.display =\n",
       "          google.colab.kernel.accessAllowed ? 'block' : 'none';\n",
       "\n",
       "        async function convertToInteractive(key) {\n",
       "          const element = document.querySelector('#df-6f8f93b1-6dea-4f7c-be6a-319733a47ba2');\n",
       "          const dataTable =\n",
       "            await google.colab.kernel.invokeFunction('convertToInteractive',\n",
       "                                                     [key], {});\n",
       "          if (!dataTable) return;\n",
       "\n",
       "          const docLinkHtml = 'Like what you see? Visit the ' +\n",
       "            '<a target=\"_blank\" href=https://colab.research.google.com/notebooks/data_table.ipynb>data table notebook</a>'\n",
       "            + ' to learn more about interactive tables.';\n",
       "          element.innerHTML = '';\n",
       "          dataTable['output_type'] = 'display_data';\n",
       "          await google.colab.output.renderOutput(dataTable, element);\n",
       "          const docLink = document.createElement('div');\n",
       "          docLink.innerHTML = docLinkHtml;\n",
       "          element.appendChild(docLink);\n",
       "        }\n",
       "      </script>\n",
       "    </div>\n",
       "  </div>\n",
       "  "
      ],
      "text/plain": [
       "           location  fault_severity  ...  maxvol_per_sev  minvol_per_sev\n",
       "id                                   ...                                \n",
       "14121  location 118               1  ...             877        7.103853\n",
       "9320    location 91               0  ...             877        7.103853\n",
       "\n",
       "[2 rows x 40 columns]"
      ]
     },
     "execution_count": 38,
     "metadata": {},
     "output_type": "execute_result"
    }
   ],
   "source": [
    "X_t.head(2)"
   ]
  },
  {
   "cell_type": "code",
   "execution_count": 39,
   "metadata": {
    "id": "fPwLIaMIN959"
   },
   "outputs": [],
   "source": [
    "# Python log transform\n",
    "X_t.insert(len(X_t.columns), 'log_volume',np.log(X_t['volume']))\n",
    "Y_t.insert(len(Y_t.columns), 'log_volume',np.log(Y_t['volume']))"
   ]
  },
  {
   "cell_type": "code",
   "execution_count": 40,
   "metadata": {
    "id": "oRiJ-qEfOBhu"
   },
   "outputs": [],
   "source": [
    "# rank features\n",
    "# ---------------------------------------------------------------------------------\n",
    "X_t['location_rank_asc'] = X_t.groupby('location_id')[['order']].rank()\n",
    "X_t['location_rank_desc'] = X_t.groupby('location_id')[['order']].rank(ascending=False)\n",
    "\n",
    "# ---------------------------------------------------------------------------------\n",
    "Y_t['location_rank_asc'] = Y_t.groupby('location_id')[['order']].rank()\n",
    "Y_t['location_rank_desc'] = Y_t.groupby('location_id')[['order']].rank(ascending=False)"
   ]
  },
  {
   "cell_type": "code",
   "execution_count": 41,
   "metadata": {
    "colab": {
     "base_uri": "https://localhost:8080/"
    },
    "id": "GHNDozIcOBol",
    "outputId": "c2b4dce0-4344-4f25-f69d-3a40708ee839"
   },
   "outputs": [
    {
     "name": "stdout",
     "output_type": "stream",
     "text": [
      "(7381, 43) (11171, 42)\n"
     ]
    }
   ],
   "source": [
    "print(X_t.shape,Y_t.shape)"
   ]
  },
  {
   "cell_type": "code",
   "execution_count": 42,
   "metadata": {
    "colab": {
     "base_uri": "https://localhost:8080/"
    },
    "id": "QQxAiMxgOBu1",
    "outputId": "96cfc3a7-349c-48bb-a218-a3c4a9eeb59b"
   },
   "outputs": [
    {
     "data": {
      "text/plain": [
       "Index(['location', 'fault_severity', 'location_id', 'id_x', 'order',\n",
       "       'severity_type', 'id_y', 'event_type', 'id_x', 'log_feature', 'volume',\n",
       "       'id_y', 'resource_type', 'log_volumecount', 'log_volumemin',\n",
       "       'log_volumemean', 'log_volumemax', 'log_volumestd', 'log_volumesum',\n",
       "       'event_volcount', 'event_volmin', 'event_volmean', 'event_volmax',\n",
       "       'event_volsum', 'sev_volcount', 'sev_volmin', 'sev_volmean',\n",
       "       'sev_volmax', 'sev_volsum', 'res_volcount', 'res_volmin', 'res_volmean',\n",
       "       'res_volmax', 'res_volsum', 'avgvol_per_event', 'maxvol_per_event',\n",
       "       'minvol_per_event', 'avgvol_per_sev', 'maxvol_per_sev',\n",
       "       'minvol_per_sev', 'log_volume', 'location_rank_asc',\n",
       "       'location_rank_desc'],\n",
       "      dtype='object')"
      ]
     },
     "execution_count": 42,
     "metadata": {},
     "output_type": "execute_result"
    }
   ],
   "source": [
    "X_t.columns"
   ]
  },
  {
   "cell_type": "code",
   "execution_count": 43,
   "metadata": {
    "id": "b9k52rlhOHL5"
   },
   "outputs": [],
   "source": [
    "# Source: https://maxhalford.github.io/blog/target-encoding-done-the-right-way/\n",
    "def calc_smooth_mean(df1, df2, cat_name, target, weight):\n",
    "\n",
    "    # Compute the global mean\n",
    "    mean = X_t[target].mean()\n",
    "\n",
    "    # Compute the number of values and the mean of each group\n",
    "    agg = X_t.groupby(cat_name)[target].agg(['count', 'mean'])\n",
    "    counts = agg['count']\n",
    "    means = agg['mean']\n",
    "\n",
    "    # Compute the \"smoothed\" means\n",
    "    smooth = (counts * means + weight * mean) / (counts + weight)\n",
    "\n",
    "    # Replace each value by the according smoothed mean\n",
    "    if df2 is None:\n",
    "        return df1[cat_name].map(smooth)\n",
    "    else:\n",
    "        return df1[cat_name].map(smooth),df2[cat_name].map(smooth.to_dict())"
   ]
  },
  {
   "cell_type": "code",
   "execution_count": 44,
   "metadata": {
    "id": "Jnr6TMEEOHRN"
   },
   "outputs": [],
   "source": [
    "WEIGHT = 10\n",
    "X_t['loc_ord'] = calc_smooth_mean(df1=X_t, df2=None, cat_name='location', target='fault_severity', weight=WEIGHT)\n",
    "Y_t['loc_ord'] = calc_smooth_mean(df1=X_t, df2=None, cat_name='location', target='fault_severity', weight=WEIGHT)\n",
    "\n",
    "X_t['event_ord'] = calc_smooth_mean(df1=X_t, df2=None, cat_name='event_type', target='fault_severity', weight=WEIGHT)\n",
    "Y_t['event_ord'] = calc_smooth_mean(df1=X_t, df2=None, cat_name='event_type', target='fault_severity', weight=WEIGHT)\n",
    "\n",
    "X_t['res_ord'] = calc_smooth_mean(df1=X_t, df2=None, cat_name='resource_type', target='fault_severity', weight=WEIGHT)\n",
    "Y_t['res_ord'] = calc_smooth_mean(df1=X_t, df2=None, cat_name='resource_type', target='fault_severity', weight=WEIGHT)\n",
    "\n",
    "X_t['feature_ord'] = calc_smooth_mean(df1=X_t, df2=None, cat_name='log_feature', target='fault_severity', weight=WEIGHT)\n",
    "Y_t['feature_ord'] = calc_smooth_mean(df1=X_t, df2=None, cat_name='log_feature', target='fault_severity', weight=WEIGHT)"
   ]
  },
  {
   "cell_type": "code",
   "execution_count": 45,
   "metadata": {
    "colab": {
     "base_uri": "https://localhost:8080/"
    },
    "id": "P4_uLgnEPD7O",
    "outputId": "7a857681-bd7f-460c-e1d0-ab33157f2959"
   },
   "outputs": [
    {
     "data": {
      "text/plain": [
       "Index(['location', 'fault_severity', 'location_id', 'id_x', 'order',\n",
       "       'severity_type', 'id_y', 'event_type', 'id_x', 'log_feature', 'volume',\n",
       "       'id_y', 'resource_type', 'log_volumecount', 'log_volumemin',\n",
       "       'log_volumemean', 'log_volumemax', 'log_volumestd', 'log_volumesum',\n",
       "       'event_volcount', 'event_volmin', 'event_volmean', 'event_volmax',\n",
       "       'event_volsum', 'sev_volcount', 'sev_volmin', 'sev_volmean',\n",
       "       'sev_volmax', 'sev_volsum', 'res_volcount', 'res_volmin', 'res_volmean',\n",
       "       'res_volmax', 'res_volsum', 'avgvol_per_event', 'maxvol_per_event',\n",
       "       'minvol_per_event', 'avgvol_per_sev', 'maxvol_per_sev',\n",
       "       'minvol_per_sev', 'log_volume', 'location_rank_asc',\n",
       "       'location_rank_desc', 'loc_ord', 'event_ord', 'res_ord', 'feature_ord'],\n",
       "      dtype='object')"
      ]
     },
     "execution_count": 45,
     "metadata": {},
     "output_type": "execute_result"
    }
   ],
   "source": [
    "X_t.columns"
   ]
  },
  {
   "cell_type": "code",
   "execution_count": 46,
   "metadata": {
    "colab": {
     "base_uri": "https://localhost:8080/",
     "height": 242
    },
    "id": "Atzxi-qVcjY3",
    "outputId": "adf51375-2555-421b-93d0-7d02a6270f40"
   },
   "outputs": [
    {
     "data": {
      "text/html": [
       "\n",
       "  <div id=\"df-2992bc82-cf84-419b-8c5d-754cc4c8b0b3\">\n",
       "    <div class=\"colab-df-container\">\n",
       "      <div>\n",
       "<style scoped>\n",
       "    .dataframe tbody tr th:only-of-type {\n",
       "        vertical-align: middle;\n",
       "    }\n",
       "\n",
       "    .dataframe tbody tr th {\n",
       "        vertical-align: top;\n",
       "    }\n",
       "\n",
       "    .dataframe thead th {\n",
       "        text-align: right;\n",
       "    }\n",
       "</style>\n",
       "<table border=\"1\" class=\"dataframe\">\n",
       "  <thead>\n",
       "    <tr style=\"text-align: right;\">\n",
       "      <th></th>\n",
       "      <th>location</th>\n",
       "      <th>fault_severity</th>\n",
       "      <th>location_id</th>\n",
       "      <th>id_x</th>\n",
       "      <th>order</th>\n",
       "      <th>severity_type</th>\n",
       "      <th>id_y</th>\n",
       "      <th>event_type</th>\n",
       "      <th>id_x</th>\n",
       "      <th>log_feature</th>\n",
       "      <th>volume</th>\n",
       "      <th>id_y</th>\n",
       "      <th>resource_type</th>\n",
       "      <th>log_volumecount</th>\n",
       "      <th>log_volumemin</th>\n",
       "      <th>log_volumemean</th>\n",
       "      <th>log_volumemax</th>\n",
       "      <th>log_volumestd</th>\n",
       "      <th>log_volumesum</th>\n",
       "      <th>event_volcount</th>\n",
       "      <th>event_volmin</th>\n",
       "      <th>event_volmean</th>\n",
       "      <th>event_volmax</th>\n",
       "      <th>event_volsum</th>\n",
       "      <th>sev_volcount</th>\n",
       "      <th>sev_volmin</th>\n",
       "      <th>sev_volmean</th>\n",
       "      <th>sev_volmax</th>\n",
       "      <th>sev_volsum</th>\n",
       "      <th>res_volcount</th>\n",
       "      <th>res_volmin</th>\n",
       "      <th>res_volmean</th>\n",
       "      <th>res_volmax</th>\n",
       "      <th>res_volsum</th>\n",
       "      <th>avgvol_per_event</th>\n",
       "      <th>maxvol_per_event</th>\n",
       "      <th>minvol_per_event</th>\n",
       "      <th>avgvol_per_sev</th>\n",
       "      <th>maxvol_per_sev</th>\n",
       "      <th>minvol_per_sev</th>\n",
       "      <th>log_volume</th>\n",
       "      <th>location_rank_asc</th>\n",
       "      <th>location_rank_desc</th>\n",
       "      <th>loc_ord</th>\n",
       "      <th>event_ord</th>\n",
       "      <th>res_ord</th>\n",
       "      <th>feature_ord</th>\n",
       "    </tr>\n",
       "    <tr>\n",
       "      <th>id</th>\n",
       "      <th></th>\n",
       "      <th></th>\n",
       "      <th></th>\n",
       "      <th></th>\n",
       "      <th></th>\n",
       "      <th></th>\n",
       "      <th></th>\n",
       "      <th></th>\n",
       "      <th></th>\n",
       "      <th></th>\n",
       "      <th></th>\n",
       "      <th></th>\n",
       "      <th></th>\n",
       "      <th></th>\n",
       "      <th></th>\n",
       "      <th></th>\n",
       "      <th></th>\n",
       "      <th></th>\n",
       "      <th></th>\n",
       "      <th></th>\n",
       "      <th></th>\n",
       "      <th></th>\n",
       "      <th></th>\n",
       "      <th></th>\n",
       "      <th></th>\n",
       "      <th></th>\n",
       "      <th></th>\n",
       "      <th></th>\n",
       "      <th></th>\n",
       "      <th></th>\n",
       "      <th></th>\n",
       "      <th></th>\n",
       "      <th></th>\n",
       "      <th></th>\n",
       "      <th></th>\n",
       "      <th></th>\n",
       "      <th></th>\n",
       "      <th></th>\n",
       "      <th></th>\n",
       "      <th></th>\n",
       "      <th></th>\n",
       "      <th></th>\n",
       "      <th></th>\n",
       "      <th></th>\n",
       "      <th></th>\n",
       "      <th></th>\n",
       "      <th></th>\n",
       "    </tr>\n",
       "  </thead>\n",
       "  <tbody>\n",
       "    <tr>\n",
       "      <th>14121</th>\n",
       "      <td>location 118</td>\n",
       "      <td>1</td>\n",
       "      <td>118</td>\n",
       "      <td>17133</td>\n",
       "      <td>0.761158</td>\n",
       "      <td>severity_type 2</td>\n",
       "      <td>6478</td>\n",
       "      <td>event_type 34</td>\n",
       "      <td>884</td>\n",
       "      <td>feature 44</td>\n",
       "      <td>2</td>\n",
       "      <td>9540</td>\n",
       "      <td>resource_type 2</td>\n",
       "      <td>2</td>\n",
       "      <td>19</td>\n",
       "      <td>19.0</td>\n",
       "      <td>19</td>\n",
       "      <td>0.00000</td>\n",
       "      <td>38</td>\n",
       "      <td>4</td>\n",
       "      <td>19</td>\n",
       "      <td>19.0</td>\n",
       "      <td>19</td>\n",
       "      <td>76</td>\n",
       "      <td>4</td>\n",
       "      <td>19</td>\n",
       "      <td>19.0</td>\n",
       "      <td>19</td>\n",
       "      <td>76</td>\n",
       "      <td>4</td>\n",
       "      <td>19</td>\n",
       "      <td>19.0</td>\n",
       "      <td>19</td>\n",
       "      <td>76</td>\n",
       "      <td>7.479771</td>\n",
       "      <td>877</td>\n",
       "      <td>7.479771</td>\n",
       "      <td>7.103853</td>\n",
       "      <td>877</td>\n",
       "      <td>7.103853</td>\n",
       "      <td>0.693147</td>\n",
       "      <td>23.0</td>\n",
       "      <td>11.0</td>\n",
       "      <td>0.174467</td>\n",
       "      <td>0.461215</td>\n",
       "      <td>0.447191</td>\n",
       "      <td>0.365465</td>\n",
       "    </tr>\n",
       "    <tr>\n",
       "      <th>9320</th>\n",
       "      <td>location 91</td>\n",
       "      <td>0</td>\n",
       "      <td>91</td>\n",
       "      <td>213</td>\n",
       "      <td>0.502372</td>\n",
       "      <td>severity_type 2</td>\n",
       "      <td>7252</td>\n",
       "      <td>event_type 35</td>\n",
       "      <td>8498</td>\n",
       "      <td>feature 227</td>\n",
       "      <td>4</td>\n",
       "      <td>13129</td>\n",
       "      <td>resource_type 2</td>\n",
       "      <td>2</td>\n",
       "      <td>116</td>\n",
       "      <td>158.0</td>\n",
       "      <td>200</td>\n",
       "      <td>59.39697</td>\n",
       "      <td>316</td>\n",
       "      <td>4</td>\n",
       "      <td>116</td>\n",
       "      <td>158.0</td>\n",
       "      <td>200</td>\n",
       "      <td>632</td>\n",
       "      <td>4</td>\n",
       "      <td>116</td>\n",
       "      <td>158.0</td>\n",
       "      <td>200</td>\n",
       "      <td>632</td>\n",
       "      <td>4</td>\n",
       "      <td>116</td>\n",
       "      <td>158.0</td>\n",
       "      <td>200</td>\n",
       "      <td>632</td>\n",
       "      <td>4.669983</td>\n",
       "      <td>154</td>\n",
       "      <td>4.669983</td>\n",
       "      <td>7.103853</td>\n",
       "      <td>877</td>\n",
       "      <td>7.103853</td>\n",
       "      <td>1.386294</td>\n",
       "      <td>27.0</td>\n",
       "      <td>23.0</td>\n",
       "      <td>0.161053</td>\n",
       "      <td>0.438662</td>\n",
       "      <td>0.447191</td>\n",
       "      <td>0.456196</td>\n",
       "    </tr>\n",
       "  </tbody>\n",
       "</table>\n",
       "</div>\n",
       "      <button class=\"colab-df-convert\" onclick=\"convertToInteractive('df-2992bc82-cf84-419b-8c5d-754cc4c8b0b3')\"\n",
       "              title=\"Convert this dataframe to an interactive table.\"\n",
       "              style=\"display:none;\">\n",
       "        \n",
       "  <svg xmlns=\"http://www.w3.org/2000/svg\" height=\"24px\"viewBox=\"0 0 24 24\"\n",
       "       width=\"24px\">\n",
       "    <path d=\"M0 0h24v24H0V0z\" fill=\"none\"/>\n",
       "    <path d=\"M18.56 5.44l.94 2.06.94-2.06 2.06-.94-2.06-.94-.94-2.06-.94 2.06-2.06.94zm-11 1L8.5 8.5l.94-2.06 2.06-.94-2.06-.94L8.5 2.5l-.94 2.06-2.06.94zm10 10l.94 2.06.94-2.06 2.06-.94-2.06-.94-.94-2.06-.94 2.06-2.06.94z\"/><path d=\"M17.41 7.96l-1.37-1.37c-.4-.4-.92-.59-1.43-.59-.52 0-1.04.2-1.43.59L10.3 9.45l-7.72 7.72c-.78.78-.78 2.05 0 2.83L4 21.41c.39.39.9.59 1.41.59.51 0 1.02-.2 1.41-.59l7.78-7.78 2.81-2.81c.8-.78.8-2.07 0-2.86zM5.41 20L4 18.59l7.72-7.72 1.47 1.35L5.41 20z\"/>\n",
       "  </svg>\n",
       "      </button>\n",
       "      \n",
       "  <style>\n",
       "    .colab-df-container {\n",
       "      display:flex;\n",
       "      flex-wrap:wrap;\n",
       "      gap: 12px;\n",
       "    }\n",
       "\n",
       "    .colab-df-convert {\n",
       "      background-color: #E8F0FE;\n",
       "      border: none;\n",
       "      border-radius: 50%;\n",
       "      cursor: pointer;\n",
       "      display: none;\n",
       "      fill: #1967D2;\n",
       "      height: 32px;\n",
       "      padding: 0 0 0 0;\n",
       "      width: 32px;\n",
       "    }\n",
       "\n",
       "    .colab-df-convert:hover {\n",
       "      background-color: #E2EBFA;\n",
       "      box-shadow: 0px 1px 2px rgba(60, 64, 67, 0.3), 0px 1px 3px 1px rgba(60, 64, 67, 0.15);\n",
       "      fill: #174EA6;\n",
       "    }\n",
       "\n",
       "    [theme=dark] .colab-df-convert {\n",
       "      background-color: #3B4455;\n",
       "      fill: #D2E3FC;\n",
       "    }\n",
       "\n",
       "    [theme=dark] .colab-df-convert:hover {\n",
       "      background-color: #434B5C;\n",
       "      box-shadow: 0px 1px 3px 1px rgba(0, 0, 0, 0.15);\n",
       "      filter: drop-shadow(0px 1px 2px rgba(0, 0, 0, 0.3));\n",
       "      fill: #FFFFFF;\n",
       "    }\n",
       "  </style>\n",
       "\n",
       "      <script>\n",
       "        const buttonEl =\n",
       "          document.querySelector('#df-2992bc82-cf84-419b-8c5d-754cc4c8b0b3 button.colab-df-convert');\n",
       "        buttonEl.style.display =\n",
       "          google.colab.kernel.accessAllowed ? 'block' : 'none';\n",
       "\n",
       "        async function convertToInteractive(key) {\n",
       "          const element = document.querySelector('#df-2992bc82-cf84-419b-8c5d-754cc4c8b0b3');\n",
       "          const dataTable =\n",
       "            await google.colab.kernel.invokeFunction('convertToInteractive',\n",
       "                                                     [key], {});\n",
       "          if (!dataTable) return;\n",
       "\n",
       "          const docLinkHtml = 'Like what you see? Visit the ' +\n",
       "            '<a target=\"_blank\" href=https://colab.research.google.com/notebooks/data_table.ipynb>data table notebook</a>'\n",
       "            + ' to learn more about interactive tables.';\n",
       "          element.innerHTML = '';\n",
       "          dataTable['output_type'] = 'display_data';\n",
       "          await google.colab.output.renderOutput(dataTable, element);\n",
       "          const docLink = document.createElement('div');\n",
       "          docLink.innerHTML = docLinkHtml;\n",
       "          element.appendChild(docLink);\n",
       "        }\n",
       "      </script>\n",
       "    </div>\n",
       "  </div>\n",
       "  "
      ],
      "text/plain": [
       "           location  fault_severity  ...   res_ord  feature_ord\n",
       "id                                   ...                       \n",
       "14121  location 118               1  ...  0.447191     0.365465\n",
       "9320    location 91               0  ...  0.447191     0.456196\n",
       "\n",
       "[2 rows x 47 columns]"
      ]
     },
     "execution_count": 46,
     "metadata": {},
     "output_type": "execute_result"
    }
   ],
   "source": [
    "X_t.head(2)"
   ]
  },
  {
   "cell_type": "code",
   "execution_count": null,
   "metadata": {
    "id": "z20juapFcVow"
   },
   "outputs": [],
   "source": [
    "\"\"\"\n",
    "X_t =  X_t.drop(['id_x','id_y','location','event_type','resource_type_y','log_feature','severity_type'],axis=1)\n",
    "Y_t = Y_t.drop(['id_x','id_y','location','event_type','resource_type','log_feature','severity_type'],axis=1)\n",
    "\n",
    "\"\"\""
   ]
  },
  {
   "cell_type": "code",
   "execution_count": 47,
   "metadata": {
    "colab": {
     "base_uri": "https://localhost:8080/",
     "height": 194
    },
    "id": "iDOgItZ5wFCz",
    "outputId": "0ca54685-aa78-4398-9759-5208c4ac5c55"
   },
   "outputs": [
    {
     "data": {
      "text/html": [
       "\n",
       "  <div id=\"df-4e87b6b6-9806-4f85-bc74-3860af9b6437\">\n",
       "    <div class=\"colab-df-container\">\n",
       "      <div>\n",
       "<style scoped>\n",
       "    .dataframe tbody tr th:only-of-type {\n",
       "        vertical-align: middle;\n",
       "    }\n",
       "\n",
       "    .dataframe tbody tr th {\n",
       "        vertical-align: top;\n",
       "    }\n",
       "\n",
       "    .dataframe thead th {\n",
       "        text-align: right;\n",
       "    }\n",
       "</style>\n",
       "<table border=\"1\" class=\"dataframe\">\n",
       "  <thead>\n",
       "    <tr style=\"text-align: right;\">\n",
       "      <th></th>\n",
       "      <th>location</th>\n",
       "      <th>fault_severity</th>\n",
       "      <th>location_id</th>\n",
       "      <th>id_x</th>\n",
       "      <th>order</th>\n",
       "      <th>severity_type</th>\n",
       "      <th>id_y</th>\n",
       "      <th>event_type</th>\n",
       "      <th>id_x</th>\n",
       "      <th>log_feature</th>\n",
       "      <th>volume</th>\n",
       "      <th>id_y</th>\n",
       "      <th>resource_type</th>\n",
       "      <th>log_volumecount</th>\n",
       "      <th>log_volumemin</th>\n",
       "      <th>log_volumemean</th>\n",
       "      <th>log_volumemax</th>\n",
       "      <th>log_volumestd</th>\n",
       "      <th>log_volumesum</th>\n",
       "      <th>event_volcount</th>\n",
       "      <th>event_volmin</th>\n",
       "      <th>event_volmean</th>\n",
       "      <th>event_volmax</th>\n",
       "      <th>event_volsum</th>\n",
       "      <th>sev_volcount</th>\n",
       "      <th>sev_volmin</th>\n",
       "      <th>sev_volmean</th>\n",
       "      <th>sev_volmax</th>\n",
       "      <th>sev_volsum</th>\n",
       "      <th>res_volcount</th>\n",
       "      <th>res_volmin</th>\n",
       "      <th>res_volmean</th>\n",
       "      <th>res_volmax</th>\n",
       "      <th>res_volsum</th>\n",
       "      <th>avgvol_per_event</th>\n",
       "      <th>maxvol_per_event</th>\n",
       "      <th>minvol_per_event</th>\n",
       "      <th>avgvol_per_sev</th>\n",
       "      <th>maxvol_per_sev</th>\n",
       "      <th>minvol_per_sev</th>\n",
       "      <th>log_volume</th>\n",
       "      <th>location_rank_asc</th>\n",
       "      <th>location_rank_desc</th>\n",
       "      <th>loc_ord</th>\n",
       "      <th>event_ord</th>\n",
       "      <th>res_ord</th>\n",
       "      <th>feature_ord</th>\n",
       "    </tr>\n",
       "    <tr>\n",
       "      <th>id</th>\n",
       "      <th></th>\n",
       "      <th></th>\n",
       "      <th></th>\n",
       "      <th></th>\n",
       "      <th></th>\n",
       "      <th></th>\n",
       "      <th></th>\n",
       "      <th></th>\n",
       "      <th></th>\n",
       "      <th></th>\n",
       "      <th></th>\n",
       "      <th></th>\n",
       "      <th></th>\n",
       "      <th></th>\n",
       "      <th></th>\n",
       "      <th></th>\n",
       "      <th></th>\n",
       "      <th></th>\n",
       "      <th></th>\n",
       "      <th></th>\n",
       "      <th></th>\n",
       "      <th></th>\n",
       "      <th></th>\n",
       "      <th></th>\n",
       "      <th></th>\n",
       "      <th></th>\n",
       "      <th></th>\n",
       "      <th></th>\n",
       "      <th></th>\n",
       "      <th></th>\n",
       "      <th></th>\n",
       "      <th></th>\n",
       "      <th></th>\n",
       "      <th></th>\n",
       "      <th></th>\n",
       "      <th></th>\n",
       "      <th></th>\n",
       "      <th></th>\n",
       "      <th></th>\n",
       "      <th></th>\n",
       "      <th></th>\n",
       "      <th></th>\n",
       "      <th></th>\n",
       "      <th></th>\n",
       "      <th></th>\n",
       "      <th></th>\n",
       "      <th></th>\n",
       "    </tr>\n",
       "  </thead>\n",
       "  <tbody>\n",
       "    <tr>\n",
       "      <th>14121</th>\n",
       "      <td>location 118</td>\n",
       "      <td>1</td>\n",
       "      <td>118</td>\n",
       "      <td>17133</td>\n",
       "      <td>0.761158</td>\n",
       "      <td>severity_type 2</td>\n",
       "      <td>6478</td>\n",
       "      <td>event_type 34</td>\n",
       "      <td>884</td>\n",
       "      <td>feature 44</td>\n",
       "      <td>2</td>\n",
       "      <td>9540</td>\n",
       "      <td>resource_type 2</td>\n",
       "      <td>2</td>\n",
       "      <td>19</td>\n",
       "      <td>19.0</td>\n",
       "      <td>19</td>\n",
       "      <td>0.0</td>\n",
       "      <td>38</td>\n",
       "      <td>4</td>\n",
       "      <td>19</td>\n",
       "      <td>19.0</td>\n",
       "      <td>19</td>\n",
       "      <td>76</td>\n",
       "      <td>4</td>\n",
       "      <td>19</td>\n",
       "      <td>19.0</td>\n",
       "      <td>19</td>\n",
       "      <td>76</td>\n",
       "      <td>4</td>\n",
       "      <td>19</td>\n",
       "      <td>19.0</td>\n",
       "      <td>19</td>\n",
       "      <td>76</td>\n",
       "      <td>7.479771</td>\n",
       "      <td>877</td>\n",
       "      <td>7.479771</td>\n",
       "      <td>7.103853</td>\n",
       "      <td>877</td>\n",
       "      <td>7.103853</td>\n",
       "      <td>0.693147</td>\n",
       "      <td>23.0</td>\n",
       "      <td>11.0</td>\n",
       "      <td>0.174467</td>\n",
       "      <td>0.461215</td>\n",
       "      <td>0.447191</td>\n",
       "      <td>0.365465</td>\n",
       "    </tr>\n",
       "  </tbody>\n",
       "</table>\n",
       "</div>\n",
       "      <button class=\"colab-df-convert\" onclick=\"convertToInteractive('df-4e87b6b6-9806-4f85-bc74-3860af9b6437')\"\n",
       "              title=\"Convert this dataframe to an interactive table.\"\n",
       "              style=\"display:none;\">\n",
       "        \n",
       "  <svg xmlns=\"http://www.w3.org/2000/svg\" height=\"24px\"viewBox=\"0 0 24 24\"\n",
       "       width=\"24px\">\n",
       "    <path d=\"M0 0h24v24H0V0z\" fill=\"none\"/>\n",
       "    <path d=\"M18.56 5.44l.94 2.06.94-2.06 2.06-.94-2.06-.94-.94-2.06-.94 2.06-2.06.94zm-11 1L8.5 8.5l.94-2.06 2.06-.94-2.06-.94L8.5 2.5l-.94 2.06-2.06.94zm10 10l.94 2.06.94-2.06 2.06-.94-2.06-.94-.94-2.06-.94 2.06-2.06.94z\"/><path d=\"M17.41 7.96l-1.37-1.37c-.4-.4-.92-.59-1.43-.59-.52 0-1.04.2-1.43.59L10.3 9.45l-7.72 7.72c-.78.78-.78 2.05 0 2.83L4 21.41c.39.39.9.59 1.41.59.51 0 1.02-.2 1.41-.59l7.78-7.78 2.81-2.81c.8-.78.8-2.07 0-2.86zM5.41 20L4 18.59l7.72-7.72 1.47 1.35L5.41 20z\"/>\n",
       "  </svg>\n",
       "      </button>\n",
       "      \n",
       "  <style>\n",
       "    .colab-df-container {\n",
       "      display:flex;\n",
       "      flex-wrap:wrap;\n",
       "      gap: 12px;\n",
       "    }\n",
       "\n",
       "    .colab-df-convert {\n",
       "      background-color: #E8F0FE;\n",
       "      border: none;\n",
       "      border-radius: 50%;\n",
       "      cursor: pointer;\n",
       "      display: none;\n",
       "      fill: #1967D2;\n",
       "      height: 32px;\n",
       "      padding: 0 0 0 0;\n",
       "      width: 32px;\n",
       "    }\n",
       "\n",
       "    .colab-df-convert:hover {\n",
       "      background-color: #E2EBFA;\n",
       "      box-shadow: 0px 1px 2px rgba(60, 64, 67, 0.3), 0px 1px 3px 1px rgba(60, 64, 67, 0.15);\n",
       "      fill: #174EA6;\n",
       "    }\n",
       "\n",
       "    [theme=dark] .colab-df-convert {\n",
       "      background-color: #3B4455;\n",
       "      fill: #D2E3FC;\n",
       "    }\n",
       "\n",
       "    [theme=dark] .colab-df-convert:hover {\n",
       "      background-color: #434B5C;\n",
       "      box-shadow: 0px 1px 3px 1px rgba(0, 0, 0, 0.15);\n",
       "      filter: drop-shadow(0px 1px 2px rgba(0, 0, 0, 0.3));\n",
       "      fill: #FFFFFF;\n",
       "    }\n",
       "  </style>\n",
       "\n",
       "      <script>\n",
       "        const buttonEl =\n",
       "          document.querySelector('#df-4e87b6b6-9806-4f85-bc74-3860af9b6437 button.colab-df-convert');\n",
       "        buttonEl.style.display =\n",
       "          google.colab.kernel.accessAllowed ? 'block' : 'none';\n",
       "\n",
       "        async function convertToInteractive(key) {\n",
       "          const element = document.querySelector('#df-4e87b6b6-9806-4f85-bc74-3860af9b6437');\n",
       "          const dataTable =\n",
       "            await google.colab.kernel.invokeFunction('convertToInteractive',\n",
       "                                                     [key], {});\n",
       "          if (!dataTable) return;\n",
       "\n",
       "          const docLinkHtml = 'Like what you see? Visit the ' +\n",
       "            '<a target=\"_blank\" href=https://colab.research.google.com/notebooks/data_table.ipynb>data table notebook</a>'\n",
       "            + ' to learn more about interactive tables.';\n",
       "          element.innerHTML = '';\n",
       "          dataTable['output_type'] = 'display_data';\n",
       "          await google.colab.output.renderOutput(dataTable, element);\n",
       "          const docLink = document.createElement('div');\n",
       "          docLink.innerHTML = docLinkHtml;\n",
       "          element.appendChild(docLink);\n",
       "        }\n",
       "      </script>\n",
       "    </div>\n",
       "  </div>\n",
       "  "
      ],
      "text/plain": [
       "           location  fault_severity  ...   res_ord  feature_ord\n",
       "id                                   ...                       \n",
       "14121  location 118               1  ...  0.447191     0.365465\n",
       "\n",
       "[1 rows x 47 columns]"
      ]
     },
     "execution_count": 47,
     "metadata": {},
     "output_type": "execute_result"
    }
   ],
   "source": [
    "X_t.head(1)"
   ]
  },
  {
   "cell_type": "code",
   "execution_count": 48,
   "metadata": {
    "id": "-G2Gz1rpPD_u"
   },
   "outputs": [],
   "source": [
    "X_t =  X_t.drop(['id_x','id_y','location','event_type','severity_type','resource_type','log_feature'],axis=1)\n",
    "Y_t = Y_t.drop(['id_x','id_y','location','event_type','severity_type','resource_type','log_feature'],axis=1)"
   ]
  },
  {
   "cell_type": "code",
   "execution_count": 49,
   "metadata": {
    "id": "rGMp1xjPPLPQ"
   },
   "outputs": [],
   "source": [
    "X_t.reset_index(inplace=True)\n",
    "Y_t.reset_index(inplace=True)"
   ]
  },
  {
   "cell_type": "code",
   "execution_count": 50,
   "metadata": {
    "colab": {
     "base_uri": "https://localhost:8080/",
     "height": 145
    },
    "id": "lRHD5cLnwr2r",
    "outputId": "e50ce6d4-fc86-4c70-ff3d-ff527ef8231e"
   },
   "outputs": [
    {
     "data": {
      "text/html": [
       "\n",
       "  <div id=\"df-6dd4c483-aeef-4117-b9f7-c11a3f0ccdc9\">\n",
       "    <div class=\"colab-df-container\">\n",
       "      <div>\n",
       "<style scoped>\n",
       "    .dataframe tbody tr th:only-of-type {\n",
       "        vertical-align: middle;\n",
       "    }\n",
       "\n",
       "    .dataframe tbody tr th {\n",
       "        vertical-align: top;\n",
       "    }\n",
       "\n",
       "    .dataframe thead th {\n",
       "        text-align: right;\n",
       "    }\n",
       "</style>\n",
       "<table border=\"1\" class=\"dataframe\">\n",
       "  <thead>\n",
       "    <tr style=\"text-align: right;\">\n",
       "      <th></th>\n",
       "      <th>id</th>\n",
       "      <th>fault_severity</th>\n",
       "      <th>location_id</th>\n",
       "      <th>order</th>\n",
       "      <th>volume</th>\n",
       "      <th>log_volumecount</th>\n",
       "      <th>log_volumemin</th>\n",
       "      <th>log_volumemean</th>\n",
       "      <th>log_volumemax</th>\n",
       "      <th>log_volumestd</th>\n",
       "      <th>log_volumesum</th>\n",
       "      <th>event_volcount</th>\n",
       "      <th>event_volmin</th>\n",
       "      <th>event_volmean</th>\n",
       "      <th>event_volmax</th>\n",
       "      <th>event_volsum</th>\n",
       "      <th>sev_volcount</th>\n",
       "      <th>sev_volmin</th>\n",
       "      <th>sev_volmean</th>\n",
       "      <th>sev_volmax</th>\n",
       "      <th>sev_volsum</th>\n",
       "      <th>res_volcount</th>\n",
       "      <th>res_volmin</th>\n",
       "      <th>res_volmean</th>\n",
       "      <th>res_volmax</th>\n",
       "      <th>res_volsum</th>\n",
       "      <th>avgvol_per_event</th>\n",
       "      <th>maxvol_per_event</th>\n",
       "      <th>minvol_per_event</th>\n",
       "      <th>avgvol_per_sev</th>\n",
       "      <th>maxvol_per_sev</th>\n",
       "      <th>minvol_per_sev</th>\n",
       "      <th>log_volume</th>\n",
       "      <th>location_rank_asc</th>\n",
       "      <th>location_rank_desc</th>\n",
       "      <th>loc_ord</th>\n",
       "      <th>event_ord</th>\n",
       "      <th>res_ord</th>\n",
       "      <th>feature_ord</th>\n",
       "    </tr>\n",
       "  </thead>\n",
       "  <tbody>\n",
       "    <tr>\n",
       "      <th>0</th>\n",
       "      <td>14121</td>\n",
       "      <td>1</td>\n",
       "      <td>118</td>\n",
       "      <td>0.761158</td>\n",
       "      <td>2</td>\n",
       "      <td>2</td>\n",
       "      <td>19</td>\n",
       "      <td>19.0</td>\n",
       "      <td>19</td>\n",
       "      <td>0.0</td>\n",
       "      <td>38</td>\n",
       "      <td>4</td>\n",
       "      <td>19</td>\n",
       "      <td>19.0</td>\n",
       "      <td>19</td>\n",
       "      <td>76</td>\n",
       "      <td>4</td>\n",
       "      <td>19</td>\n",
       "      <td>19.0</td>\n",
       "      <td>19</td>\n",
       "      <td>76</td>\n",
       "      <td>4</td>\n",
       "      <td>19</td>\n",
       "      <td>19.0</td>\n",
       "      <td>19</td>\n",
       "      <td>76</td>\n",
       "      <td>7.479771</td>\n",
       "      <td>877</td>\n",
       "      <td>7.479771</td>\n",
       "      <td>7.103853</td>\n",
       "      <td>877</td>\n",
       "      <td>7.103853</td>\n",
       "      <td>0.693147</td>\n",
       "      <td>23.0</td>\n",
       "      <td>11.0</td>\n",
       "      <td>0.174467</td>\n",
       "      <td>0.461215</td>\n",
       "      <td>0.447191</td>\n",
       "      <td>0.365465</td>\n",
       "    </tr>\n",
       "  </tbody>\n",
       "</table>\n",
       "</div>\n",
       "      <button class=\"colab-df-convert\" onclick=\"convertToInteractive('df-6dd4c483-aeef-4117-b9f7-c11a3f0ccdc9')\"\n",
       "              title=\"Convert this dataframe to an interactive table.\"\n",
       "              style=\"display:none;\">\n",
       "        \n",
       "  <svg xmlns=\"http://www.w3.org/2000/svg\" height=\"24px\"viewBox=\"0 0 24 24\"\n",
       "       width=\"24px\">\n",
       "    <path d=\"M0 0h24v24H0V0z\" fill=\"none\"/>\n",
       "    <path d=\"M18.56 5.44l.94 2.06.94-2.06 2.06-.94-2.06-.94-.94-2.06-.94 2.06-2.06.94zm-11 1L8.5 8.5l.94-2.06 2.06-.94-2.06-.94L8.5 2.5l-.94 2.06-2.06.94zm10 10l.94 2.06.94-2.06 2.06-.94-2.06-.94-.94-2.06-.94 2.06-2.06.94z\"/><path d=\"M17.41 7.96l-1.37-1.37c-.4-.4-.92-.59-1.43-.59-.52 0-1.04.2-1.43.59L10.3 9.45l-7.72 7.72c-.78.78-.78 2.05 0 2.83L4 21.41c.39.39.9.59 1.41.59.51 0 1.02-.2 1.41-.59l7.78-7.78 2.81-2.81c.8-.78.8-2.07 0-2.86zM5.41 20L4 18.59l7.72-7.72 1.47 1.35L5.41 20z\"/>\n",
       "  </svg>\n",
       "      </button>\n",
       "      \n",
       "  <style>\n",
       "    .colab-df-container {\n",
       "      display:flex;\n",
       "      flex-wrap:wrap;\n",
       "      gap: 12px;\n",
       "    }\n",
       "\n",
       "    .colab-df-convert {\n",
       "      background-color: #E8F0FE;\n",
       "      border: none;\n",
       "      border-radius: 50%;\n",
       "      cursor: pointer;\n",
       "      display: none;\n",
       "      fill: #1967D2;\n",
       "      height: 32px;\n",
       "      padding: 0 0 0 0;\n",
       "      width: 32px;\n",
       "    }\n",
       "\n",
       "    .colab-df-convert:hover {\n",
       "      background-color: #E2EBFA;\n",
       "      box-shadow: 0px 1px 2px rgba(60, 64, 67, 0.3), 0px 1px 3px 1px rgba(60, 64, 67, 0.15);\n",
       "      fill: #174EA6;\n",
       "    }\n",
       "\n",
       "    [theme=dark] .colab-df-convert {\n",
       "      background-color: #3B4455;\n",
       "      fill: #D2E3FC;\n",
       "    }\n",
       "\n",
       "    [theme=dark] .colab-df-convert:hover {\n",
       "      background-color: #434B5C;\n",
       "      box-shadow: 0px 1px 3px 1px rgba(0, 0, 0, 0.15);\n",
       "      filter: drop-shadow(0px 1px 2px rgba(0, 0, 0, 0.3));\n",
       "      fill: #FFFFFF;\n",
       "    }\n",
       "  </style>\n",
       "\n",
       "      <script>\n",
       "        const buttonEl =\n",
       "          document.querySelector('#df-6dd4c483-aeef-4117-b9f7-c11a3f0ccdc9 button.colab-df-convert');\n",
       "        buttonEl.style.display =\n",
       "          google.colab.kernel.accessAllowed ? 'block' : 'none';\n",
       "\n",
       "        async function convertToInteractive(key) {\n",
       "          const element = document.querySelector('#df-6dd4c483-aeef-4117-b9f7-c11a3f0ccdc9');\n",
       "          const dataTable =\n",
       "            await google.colab.kernel.invokeFunction('convertToInteractive',\n",
       "                                                     [key], {});\n",
       "          if (!dataTable) return;\n",
       "\n",
       "          const docLinkHtml = 'Like what you see? Visit the ' +\n",
       "            '<a target=\"_blank\" href=https://colab.research.google.com/notebooks/data_table.ipynb>data table notebook</a>'\n",
       "            + ' to learn more about interactive tables.';\n",
       "          element.innerHTML = '';\n",
       "          dataTable['output_type'] = 'display_data';\n",
       "          await google.colab.output.renderOutput(dataTable, element);\n",
       "          const docLink = document.createElement('div');\n",
       "          docLink.innerHTML = docLinkHtml;\n",
       "          element.appendChild(docLink);\n",
       "        }\n",
       "      </script>\n",
       "    </div>\n",
       "  </div>\n",
       "  "
      ],
      "text/plain": [
       "      id  fault_severity  location_id  ...  event_ord   res_ord  feature_ord\n",
       "0  14121               1          118  ...   0.461215  0.447191     0.365465\n",
       "\n",
       "[1 rows x 39 columns]"
      ]
     },
     "execution_count": 50,
     "metadata": {},
     "output_type": "execute_result"
    }
   ],
   "source": [
    "X_t.head(1)"
   ]
  },
  {
   "cell_type": "code",
   "execution_count": 51,
   "metadata": {
    "id": "sHYJS4ZHPLSq"
   },
   "outputs": [],
   "source": [
    "index = Y_t['id']\n",
    "Y_t['id'] = index"
   ]
  },
  {
   "cell_type": "code",
   "execution_count": 52,
   "metadata": {
    "id": "va92nxgPPR6b"
   },
   "outputs": [],
   "source": [
    "X_t = X_t.set_index('id')\n",
    "Y_t = Y_t.set_index('id')"
   ]
  },
  {
   "cell_type": "code",
   "execution_count": 53,
   "metadata": {
    "id": "5Yjp55liQiSj"
   },
   "outputs": [],
   "source": [
    "y_t = X_t['fault_severity']"
   ]
  },
  {
   "cell_type": "code",
   "execution_count": 54,
   "metadata": {
    "colab": {
     "base_uri": "https://localhost:8080/",
     "height": 207
    },
    "id": "J1LmS34IPVGn",
    "outputId": "a1728f77-37b8-4a42-db1e-fdd8cde3259d"
   },
   "outputs": [
    {
     "data": {
      "text/html": [
       "\n",
       "  <div id=\"df-b143bf4a-fd7e-4e64-9216-9701343486d4\">\n",
       "    <div class=\"colab-df-container\">\n",
       "      <div>\n",
       "<style scoped>\n",
       "    .dataframe tbody tr th:only-of-type {\n",
       "        vertical-align: middle;\n",
       "    }\n",
       "\n",
       "    .dataframe tbody tr th {\n",
       "        vertical-align: top;\n",
       "    }\n",
       "\n",
       "    .dataframe thead th {\n",
       "        text-align: right;\n",
       "    }\n",
       "</style>\n",
       "<table border=\"1\" class=\"dataframe\">\n",
       "  <thead>\n",
       "    <tr style=\"text-align: right;\">\n",
       "      <th></th>\n",
       "      <th>location_id</th>\n",
       "      <th>order</th>\n",
       "      <th>volume</th>\n",
       "      <th>log_volumecount</th>\n",
       "      <th>log_volumemin</th>\n",
       "      <th>log_volumemean</th>\n",
       "      <th>log_volumemax</th>\n",
       "      <th>log_volumestd</th>\n",
       "      <th>log_volumesum</th>\n",
       "      <th>event_volcount</th>\n",
       "      <th>event_volmin</th>\n",
       "      <th>event_volmean</th>\n",
       "      <th>event_volmax</th>\n",
       "      <th>event_volsum</th>\n",
       "      <th>sev_volcount</th>\n",
       "      <th>sev_volmin</th>\n",
       "      <th>sev_volmean</th>\n",
       "      <th>sev_volmax</th>\n",
       "      <th>sev_volsum</th>\n",
       "      <th>res_volcount</th>\n",
       "      <th>res_volmin</th>\n",
       "      <th>res_volmean</th>\n",
       "      <th>res_volmax</th>\n",
       "      <th>res_volsum</th>\n",
       "      <th>avgvol_per_event</th>\n",
       "      <th>maxvol_per_event</th>\n",
       "      <th>minvol_per_event</th>\n",
       "      <th>avgvol_per_sev</th>\n",
       "      <th>maxvol_per_sev</th>\n",
       "      <th>minvol_per_sev</th>\n",
       "      <th>log_volume</th>\n",
       "      <th>location_rank_asc</th>\n",
       "      <th>location_rank_desc</th>\n",
       "      <th>loc_ord</th>\n",
       "      <th>event_ord</th>\n",
       "      <th>res_ord</th>\n",
       "      <th>feature_ord</th>\n",
       "    </tr>\n",
       "    <tr>\n",
       "      <th>id</th>\n",
       "      <th></th>\n",
       "      <th></th>\n",
       "      <th></th>\n",
       "      <th></th>\n",
       "      <th></th>\n",
       "      <th></th>\n",
       "      <th></th>\n",
       "      <th></th>\n",
       "      <th></th>\n",
       "      <th></th>\n",
       "      <th></th>\n",
       "      <th></th>\n",
       "      <th></th>\n",
       "      <th></th>\n",
       "      <th></th>\n",
       "      <th></th>\n",
       "      <th></th>\n",
       "      <th></th>\n",
       "      <th></th>\n",
       "      <th></th>\n",
       "      <th></th>\n",
       "      <th></th>\n",
       "      <th></th>\n",
       "      <th></th>\n",
       "      <th></th>\n",
       "      <th></th>\n",
       "      <th></th>\n",
       "      <th></th>\n",
       "      <th></th>\n",
       "      <th></th>\n",
       "      <th></th>\n",
       "      <th></th>\n",
       "      <th></th>\n",
       "      <th></th>\n",
       "      <th></th>\n",
       "      <th></th>\n",
       "      <th></th>\n",
       "    </tr>\n",
       "  </thead>\n",
       "  <tbody>\n",
       "    <tr>\n",
       "      <th>14121</th>\n",
       "      <td>118</td>\n",
       "      <td>0.761158</td>\n",
       "      <td>2</td>\n",
       "      <td>2</td>\n",
       "      <td>19</td>\n",
       "      <td>19.0</td>\n",
       "      <td>19</td>\n",
       "      <td>0.00000</td>\n",
       "      <td>38</td>\n",
       "      <td>4</td>\n",
       "      <td>19</td>\n",
       "      <td>19.0</td>\n",
       "      <td>19</td>\n",
       "      <td>76</td>\n",
       "      <td>4</td>\n",
       "      <td>19</td>\n",
       "      <td>19.0</td>\n",
       "      <td>19</td>\n",
       "      <td>76</td>\n",
       "      <td>4</td>\n",
       "      <td>19</td>\n",
       "      <td>19.0</td>\n",
       "      <td>19</td>\n",
       "      <td>76</td>\n",
       "      <td>7.479771</td>\n",
       "      <td>877</td>\n",
       "      <td>7.479771</td>\n",
       "      <td>7.103853</td>\n",
       "      <td>877</td>\n",
       "      <td>7.103853</td>\n",
       "      <td>0.693147</td>\n",
       "      <td>23.0</td>\n",
       "      <td>11.0</td>\n",
       "      <td>0.174467</td>\n",
       "      <td>0.461215</td>\n",
       "      <td>0.447191</td>\n",
       "      <td>0.365465</td>\n",
       "    </tr>\n",
       "    <tr>\n",
       "      <th>9320</th>\n",
       "      <td>91</td>\n",
       "      <td>0.502372</td>\n",
       "      <td>4</td>\n",
       "      <td>2</td>\n",
       "      <td>116</td>\n",
       "      <td>158.0</td>\n",
       "      <td>200</td>\n",
       "      <td>59.39697</td>\n",
       "      <td>316</td>\n",
       "      <td>4</td>\n",
       "      <td>116</td>\n",
       "      <td>158.0</td>\n",
       "      <td>200</td>\n",
       "      <td>632</td>\n",
       "      <td>4</td>\n",
       "      <td>116</td>\n",
       "      <td>158.0</td>\n",
       "      <td>200</td>\n",
       "      <td>632</td>\n",
       "      <td>4</td>\n",
       "      <td>116</td>\n",
       "      <td>158.0</td>\n",
       "      <td>200</td>\n",
       "      <td>632</td>\n",
       "      <td>4.669983</td>\n",
       "      <td>154</td>\n",
       "      <td>4.669983</td>\n",
       "      <td>7.103853</td>\n",
       "      <td>877</td>\n",
       "      <td>7.103853</td>\n",
       "      <td>1.386294</td>\n",
       "      <td>27.0</td>\n",
       "      <td>23.0</td>\n",
       "      <td>0.161053</td>\n",
       "      <td>0.438662</td>\n",
       "      <td>0.447191</td>\n",
       "      <td>0.456196</td>\n",
       "    </tr>\n",
       "  </tbody>\n",
       "</table>\n",
       "</div>\n",
       "      <button class=\"colab-df-convert\" onclick=\"convertToInteractive('df-b143bf4a-fd7e-4e64-9216-9701343486d4')\"\n",
       "              title=\"Convert this dataframe to an interactive table.\"\n",
       "              style=\"display:none;\">\n",
       "        \n",
       "  <svg xmlns=\"http://www.w3.org/2000/svg\" height=\"24px\"viewBox=\"0 0 24 24\"\n",
       "       width=\"24px\">\n",
       "    <path d=\"M0 0h24v24H0V0z\" fill=\"none\"/>\n",
       "    <path d=\"M18.56 5.44l.94 2.06.94-2.06 2.06-.94-2.06-.94-.94-2.06-.94 2.06-2.06.94zm-11 1L8.5 8.5l.94-2.06 2.06-.94-2.06-.94L8.5 2.5l-.94 2.06-2.06.94zm10 10l.94 2.06.94-2.06 2.06-.94-2.06-.94-.94-2.06-.94 2.06-2.06.94z\"/><path d=\"M17.41 7.96l-1.37-1.37c-.4-.4-.92-.59-1.43-.59-.52 0-1.04.2-1.43.59L10.3 9.45l-7.72 7.72c-.78.78-.78 2.05 0 2.83L4 21.41c.39.39.9.59 1.41.59.51 0 1.02-.2 1.41-.59l7.78-7.78 2.81-2.81c.8-.78.8-2.07 0-2.86zM5.41 20L4 18.59l7.72-7.72 1.47 1.35L5.41 20z\"/>\n",
       "  </svg>\n",
       "      </button>\n",
       "      \n",
       "  <style>\n",
       "    .colab-df-container {\n",
       "      display:flex;\n",
       "      flex-wrap:wrap;\n",
       "      gap: 12px;\n",
       "    }\n",
       "\n",
       "    .colab-df-convert {\n",
       "      background-color: #E8F0FE;\n",
       "      border: none;\n",
       "      border-radius: 50%;\n",
       "      cursor: pointer;\n",
       "      display: none;\n",
       "      fill: #1967D2;\n",
       "      height: 32px;\n",
       "      padding: 0 0 0 0;\n",
       "      width: 32px;\n",
       "    }\n",
       "\n",
       "    .colab-df-convert:hover {\n",
       "      background-color: #E2EBFA;\n",
       "      box-shadow: 0px 1px 2px rgba(60, 64, 67, 0.3), 0px 1px 3px 1px rgba(60, 64, 67, 0.15);\n",
       "      fill: #174EA6;\n",
       "    }\n",
       "\n",
       "    [theme=dark] .colab-df-convert {\n",
       "      background-color: #3B4455;\n",
       "      fill: #D2E3FC;\n",
       "    }\n",
       "\n",
       "    [theme=dark] .colab-df-convert:hover {\n",
       "      background-color: #434B5C;\n",
       "      box-shadow: 0px 1px 3px 1px rgba(0, 0, 0, 0.15);\n",
       "      filter: drop-shadow(0px 1px 2px rgba(0, 0, 0, 0.3));\n",
       "      fill: #FFFFFF;\n",
       "    }\n",
       "  </style>\n",
       "\n",
       "      <script>\n",
       "        const buttonEl =\n",
       "          document.querySelector('#df-b143bf4a-fd7e-4e64-9216-9701343486d4 button.colab-df-convert');\n",
       "        buttonEl.style.display =\n",
       "          google.colab.kernel.accessAllowed ? 'block' : 'none';\n",
       "\n",
       "        async function convertToInteractive(key) {\n",
       "          const element = document.querySelector('#df-b143bf4a-fd7e-4e64-9216-9701343486d4');\n",
       "          const dataTable =\n",
       "            await google.colab.kernel.invokeFunction('convertToInteractive',\n",
       "                                                     [key], {});\n",
       "          if (!dataTable) return;\n",
       "\n",
       "          const docLinkHtml = 'Like what you see? Visit the ' +\n",
       "            '<a target=\"_blank\" href=https://colab.research.google.com/notebooks/data_table.ipynb>data table notebook</a>'\n",
       "            + ' to learn more about interactive tables.';\n",
       "          element.innerHTML = '';\n",
       "          dataTable['output_type'] = 'display_data';\n",
       "          await google.colab.output.renderOutput(dataTable, element);\n",
       "          const docLink = document.createElement('div');\n",
       "          docLink.innerHTML = docLinkHtml;\n",
       "          element.appendChild(docLink);\n",
       "        }\n",
       "      </script>\n",
       "    </div>\n",
       "  </div>\n",
       "  "
      ],
      "text/plain": [
       "       location_id     order  volume  ...  event_ord   res_ord  feature_ord\n",
       "id                                    ...                                  \n",
       "14121          118  0.761158       2  ...   0.461215  0.447191     0.365465\n",
       "9320            91  0.502372       4  ...   0.438662  0.447191     0.456196\n",
       "\n",
       "[2 rows x 37 columns]"
      ]
     },
     "execution_count": 54,
     "metadata": {},
     "output_type": "execute_result"
    }
   ],
   "source": [
    "X_t = X_t.drop(['fault_severity'], axis=1)\n",
    "X_t.head(2)"
   ]
  },
  {
   "cell_type": "code",
   "execution_count": 55,
   "metadata": {
    "id": "QYC22_9nPXoy"
   },
   "outputs": [],
   "source": [
    "X2 = X_t.copy()\n",
    "Y2 = Y_t.copy()"
   ]
  },
  {
   "cell_type": "code",
   "execution_count": 56,
   "metadata": {
    "id": "L-KtRIxtPbb3"
   },
   "outputs": [],
   "source": [
    "# split the data into test and train by maintaining same distribution of output varaible 'y_true' [stratify=y_true]\n",
    "X_train,X_test, y_train, y_test = train_test_split(X_t, y_t, stratify=y_t, test_size=0.2)"
   ]
  },
  {
   "cell_type": "code",
   "execution_count": 57,
   "metadata": {
    "colab": {
     "base_uri": "https://localhost:8080/"
    },
    "id": "RscCqA69Pbgn",
    "outputId": "ca42d2c7-1768-4e38-a07f-c8a72f774435"
   },
   "outputs": [
    {
     "name": "stdout",
     "output_type": "stream",
     "text": [
      "(5904, 37) (5904,) (1477, 37) (1477,)\n"
     ]
    }
   ],
   "source": [
    "print(X_train.shape,y_train.shape,X_test.shape,y_test.shape)"
   ]
  },
  {
   "cell_type": "code",
   "execution_count": 58,
   "metadata": {
    "id": "ximbX3q4Pbll"
   },
   "outputs": [],
   "source": [
    "numeric_features = X_t.select_dtypes(include=['int64', 'float64']).columns\n",
    "categorical_features = X_t.select_dtypes(include=['object', 'category']).columns"
   ]
  },
  {
   "cell_type": "code",
   "execution_count": 59,
   "metadata": {
    "id": "Ehf1gIdpPbqd"
   },
   "outputs": [],
   "source": [
    "# import the needed libraries first\n",
    "from sklearn.pipeline import Pipeline\n",
    "from sklearn.impute import SimpleImputer\n",
    "from sklearn.preprocessing import StandardScaler, OneHotEncoder\n",
    "from sklearn.preprocessing import MinMaxScaler\n",
    "\n",
    "# create a transformer for the categorical values\n",
    "#categorical_transformer = Pipeline(steps=[\n",
    " #   ('one_hot', OneHotEncoder())])\n",
    "\n",
    "# create a transformed for the numerical values\n",
    "numeric_transformer = Pipeline(steps=[('imputer', SimpleImputer(strategy='median')), ('scaler',StandardScaler())])"
   ]
  },
  {
   "cell_type": "code",
   "execution_count": 60,
   "metadata": {
    "id": "edXaFMFfPbus"
   },
   "outputs": [],
   "source": [
    "from sklearn.compose import ColumnTransformer\n",
    "\n",
    "preprocessor_sca_train = ColumnTransformer(\n",
    "    transformers=[\n",
    "        ('num', numeric_transformer, numeric_features),\n",
    "        #('cat', categorical_transformer, categorical_features)\n",
    "    ])"
   ]
  },
  {
   "cell_type": "code",
   "execution_count": 61,
   "metadata": {
    "id": "P460wz1DPkkd"
   },
   "outputs": [],
   "source": [
    "#We are then ready to transform!\n",
    "X_train_transformed_sca = preprocessor_sca_train.fit_transform(X_train)\n",
    "X_test_transformed_sca = preprocessor_sca_train.transform(X_test)\n",
    "X_train_transformed_sca_copy = X_train_transformed_sca.copy()\n",
    "test_transformed_sca = preprocessor_sca_train.transform(Y_t)\n",
    "\n",
    "X_train_sca = pd.DataFrame(X_train_transformed_sca)\n",
    "X_test_sca = pd.DataFrame(X_test_transformed_sca)\n",
    "test_sca = pd.DataFrame(test_transformed_sca)"
   ]
  },
  {
   "cell_type": "code",
   "execution_count": 63,
   "metadata": {
    "id": "4o0OHb1jV-i7"
   },
   "outputs": [],
   "source": [
    "from sklearn.ensemble import GradientBoostingClassifier"
   ]
  },
  {
   "cell_type": "code",
   "execution_count": 64,
   "metadata": {
    "id": "XTbRY_d4Pkny"
   },
   "outputs": [],
   "source": [
    "classifiers = [KNeighborsClassifier(),\n",
    "               RandomForestClassifier(),\n",
    "               GaussianNB(),\n",
    "               # Learn to predict each class against the other\n",
    "               LogisticRegression(multi_class='ovr'),\n",
    "               OneVsRestClassifier(SVC()),\n",
    "               XGBClassifier(),\n",
    "              GradientBoostingClassifier(),\n",
    "               lgb.LGBMClassifier()\n",
    "              ]\n",
    "classifier_names = ['kNN','forest','GNB','LogReg','SVC','XGB','GBC','LGBM']"
   ]
  },
  {
   "cell_type": "code",
   "execution_count": null,
   "metadata": {
    "colab": {
     "base_uri": "https://localhost:8080/"
    },
    "id": "UzvIPIGuPzU0",
    "outputId": "d4478690-be3c-41fa-b79e-271158ec1f71"
   },
   "outputs": [
    {
     "name": "stdout",
     "output_type": "stream",
     "text": [
      "Model evaluation By Standardizing Data\n",
      "kNN \t 0.5277020562508656\n",
      "forest \t 0.6580928817952332\n",
      "GNB \t 0.3408288948156314\n",
      "LogReg \t 0.5584608787587345\n",
      "SVC \t 0.5700220973358691\n",
      "XGB \t 0.6774016106842854\n",
      "GBC \t 0.6770275277900872\n",
      "LGBM \t 0.6648074545494757\n"
     ]
    }
   ],
   "source": [
    "# Loop through classifiers\n",
    "print('Model evaluation By Standardizing Data')\n",
    "\n",
    "for classifier, clf_name in zip(classifiers, classifier_names):\n",
    "  # Calculate CV\n",
    "  print(clf_name,'\\t',cross_val_score(estimator=classifier,X=X_train_sca, y=y_train, cv=5, scoring='f1_macro').mean())"
   ]
  },
  {
   "cell_type": "code",
   "execution_count": 65,
   "metadata": {
    "colab": {
     "base_uri": "https://localhost:8080/"
    },
    "id": "zeQ0JmGgDGvh",
    "outputId": "2dafcef5-2597-4327-9b9b-e679546b5b4a"
   },
   "outputs": [
    {
     "data": {
      "text/plain": [
       "XGBClassifier(objective='multi:softprob')"
      ]
     },
     "execution_count": 65,
     "metadata": {},
     "output_type": "execute_result"
    }
   ],
   "source": [
    "xgb = XGBClassifier()\n",
    "xgb.fit(X_train_sca,y_train)"
   ]
  },
  {
   "cell_type": "code",
   "execution_count": 66,
   "metadata": {
    "id": "iezC_tAxDG1F"
   },
   "outputs": [],
   "source": [
    "#Predictions\n",
    "y_pred = xgb.predict(X_test_sca)\n",
    "report10 = classification_report(y_test,y_pred,output_dict=True)\n",
    "df_std = pd.DataFrame(report10).transpose()"
   ]
  },
  {
   "cell_type": "code",
   "execution_count": null,
   "metadata": {
    "colab": {
     "base_uri": "https://localhost:8080/",
     "height": 238
    },
    "id": "4B19oRXiDcg2",
    "outputId": "7a1735f0-8bf5-4577-d8fb-949259b75ff1"
   },
   "outputs": [
    {
     "data": {
      "text/html": [
       "\n",
       "  <div id=\"df-4ed18c20-f121-4aee-87e0-aa61d80df6f7\">\n",
       "    <div class=\"colab-df-container\">\n",
       "      <div>\n",
       "<style scoped>\n",
       "    .dataframe tbody tr th:only-of-type {\n",
       "        vertical-align: middle;\n",
       "    }\n",
       "\n",
       "    .dataframe tbody tr th {\n",
       "        vertical-align: top;\n",
       "    }\n",
       "\n",
       "    .dataframe thead th {\n",
       "        text-align: right;\n",
       "    }\n",
       "</style>\n",
       "<table border=\"1\" class=\"dataframe\">\n",
       "  <thead>\n",
       "    <tr style=\"text-align: right;\">\n",
       "      <th></th>\n",
       "      <th>precision</th>\n",
       "      <th>recall</th>\n",
       "      <th>f1-score</th>\n",
       "      <th>support</th>\n",
       "    </tr>\n",
       "  </thead>\n",
       "  <tbody>\n",
       "    <tr>\n",
       "      <th>0</th>\n",
       "      <td>0.838373</td>\n",
       "      <td>0.840125</td>\n",
       "      <td>0.839248</td>\n",
       "      <td>957.000000</td>\n",
       "    </tr>\n",
       "    <tr>\n",
       "      <th>1</th>\n",
       "      <td>0.623494</td>\n",
       "      <td>0.552000</td>\n",
       "      <td>0.585573</td>\n",
       "      <td>375.000000</td>\n",
       "    </tr>\n",
       "    <tr>\n",
       "      <th>2</th>\n",
       "      <td>0.516129</td>\n",
       "      <td>0.662069</td>\n",
       "      <td>0.580060</td>\n",
       "      <td>145.000000</td>\n",
       "    </tr>\n",
       "    <tr>\n",
       "      <th>accuracy</th>\n",
       "      <td>0.749492</td>\n",
       "      <td>0.749492</td>\n",
       "      <td>0.749492</td>\n",
       "      <td>0.749492</td>\n",
       "    </tr>\n",
       "    <tr>\n",
       "      <th>macro avg</th>\n",
       "      <td>0.659332</td>\n",
       "      <td>0.684731</td>\n",
       "      <td>0.668294</td>\n",
       "      <td>1477.000000</td>\n",
       "    </tr>\n",
       "    <tr>\n",
       "      <th>weighted avg</th>\n",
       "      <td>0.752182</td>\n",
       "      <td>0.749492</td>\n",
       "      <td>0.749397</td>\n",
       "      <td>1477.000000</td>\n",
       "    </tr>\n",
       "  </tbody>\n",
       "</table>\n",
       "</div>\n",
       "      <button class=\"colab-df-convert\" onclick=\"convertToInteractive('df-4ed18c20-f121-4aee-87e0-aa61d80df6f7')\"\n",
       "              title=\"Convert this dataframe to an interactive table.\"\n",
       "              style=\"display:none;\">\n",
       "        \n",
       "  <svg xmlns=\"http://www.w3.org/2000/svg\" height=\"24px\"viewBox=\"0 0 24 24\"\n",
       "       width=\"24px\">\n",
       "    <path d=\"M0 0h24v24H0V0z\" fill=\"none\"/>\n",
       "    <path d=\"M18.56 5.44l.94 2.06.94-2.06 2.06-.94-2.06-.94-.94-2.06-.94 2.06-2.06.94zm-11 1L8.5 8.5l.94-2.06 2.06-.94-2.06-.94L8.5 2.5l-.94 2.06-2.06.94zm10 10l.94 2.06.94-2.06 2.06-.94-2.06-.94-.94-2.06-.94 2.06-2.06.94z\"/><path d=\"M17.41 7.96l-1.37-1.37c-.4-.4-.92-.59-1.43-.59-.52 0-1.04.2-1.43.59L10.3 9.45l-7.72 7.72c-.78.78-.78 2.05 0 2.83L4 21.41c.39.39.9.59 1.41.59.51 0 1.02-.2 1.41-.59l7.78-7.78 2.81-2.81c.8-.78.8-2.07 0-2.86zM5.41 20L4 18.59l7.72-7.72 1.47 1.35L5.41 20z\"/>\n",
       "  </svg>\n",
       "      </button>\n",
       "      \n",
       "  <style>\n",
       "    .colab-df-container {\n",
       "      display:flex;\n",
       "      flex-wrap:wrap;\n",
       "      gap: 12px;\n",
       "    }\n",
       "\n",
       "    .colab-df-convert {\n",
       "      background-color: #E8F0FE;\n",
       "      border: none;\n",
       "      border-radius: 50%;\n",
       "      cursor: pointer;\n",
       "      display: none;\n",
       "      fill: #1967D2;\n",
       "      height: 32px;\n",
       "      padding: 0 0 0 0;\n",
       "      width: 32px;\n",
       "    }\n",
       "\n",
       "    .colab-df-convert:hover {\n",
       "      background-color: #E2EBFA;\n",
       "      box-shadow: 0px 1px 2px rgba(60, 64, 67, 0.3), 0px 1px 3px 1px rgba(60, 64, 67, 0.15);\n",
       "      fill: #174EA6;\n",
       "    }\n",
       "\n",
       "    [theme=dark] .colab-df-convert {\n",
       "      background-color: #3B4455;\n",
       "      fill: #D2E3FC;\n",
       "    }\n",
       "\n",
       "    [theme=dark] .colab-df-convert:hover {\n",
       "      background-color: #434B5C;\n",
       "      box-shadow: 0px 1px 3px 1px rgba(0, 0, 0, 0.15);\n",
       "      filter: drop-shadow(0px 1px 2px rgba(0, 0, 0, 0.3));\n",
       "      fill: #FFFFFF;\n",
       "    }\n",
       "  </style>\n",
       "\n",
       "      <script>\n",
       "        const buttonEl =\n",
       "          document.querySelector('#df-4ed18c20-f121-4aee-87e0-aa61d80df6f7 button.colab-df-convert');\n",
       "        buttonEl.style.display =\n",
       "          google.colab.kernel.accessAllowed ? 'block' : 'none';\n",
       "\n",
       "        async function convertToInteractive(key) {\n",
       "          const element = document.querySelector('#df-4ed18c20-f121-4aee-87e0-aa61d80df6f7');\n",
       "          const dataTable =\n",
       "            await google.colab.kernel.invokeFunction('convertToInteractive',\n",
       "                                                     [key], {});\n",
       "          if (!dataTable) return;\n",
       "\n",
       "          const docLinkHtml = 'Like what you see? Visit the ' +\n",
       "            '<a target=\"_blank\" href=https://colab.research.google.com/notebooks/data_table.ipynb>data table notebook</a>'\n",
       "            + ' to learn more about interactive tables.';\n",
       "          element.innerHTML = '';\n",
       "          dataTable['output_type'] = 'display_data';\n",
       "          await google.colab.output.renderOutput(dataTable, element);\n",
       "          const docLink = document.createElement('div');\n",
       "          docLink.innerHTML = docLinkHtml;\n",
       "          element.appendChild(docLink);\n",
       "        }\n",
       "      </script>\n",
       "    </div>\n",
       "  </div>\n",
       "  "
      ],
      "text/plain": [
       "              precision    recall  f1-score      support\n",
       "0              0.838373  0.840125  0.839248   957.000000\n",
       "1              0.623494  0.552000  0.585573   375.000000\n",
       "2              0.516129  0.662069  0.580060   145.000000\n",
       "accuracy       0.749492  0.749492  0.749492     0.749492\n",
       "macro avg      0.659332  0.684731  0.668294  1477.000000\n",
       "weighted avg   0.752182  0.749492  0.749397  1477.000000"
      ]
     },
     "execution_count": 184,
     "metadata": {},
     "output_type": "execute_result"
    }
   ],
   "source": [
    "df_std"
   ]
  },
  {
   "cell_type": "code",
   "execution_count": 68,
   "metadata": {
    "id": "TM4erE9TdilK"
   },
   "outputs": [],
   "source": [
    "X_train = X_train.replace((np.inf, -np.inf, np.nan), 0).reset_index(drop=True)\n",
    "y_train = y_train.replace((np.inf, -np.inf, np.nan), 0).reset_index(drop=True)\n",
    "X_test = X_test.replace((np.inf, -np.inf, np.nan), 0).reset_index(drop=True)"
   ]
  },
  {
   "cell_type": "code",
   "execution_count": null,
   "metadata": {
    "id": "3WjD97unQJlu"
   },
   "outputs": [],
   "source": [
    "features=[]\n",
    "for columns in X_t.columns:\n",
    "    features.append(columns)"
   ]
  },
  {
   "cell_type": "code",
   "execution_count": null,
   "metadata": {
    "colab": {
     "base_uri": "https://localhost:8080/"
    },
    "id": "NLp39F9WQJry",
    "outputId": "7d30053e-f90f-43cf-c109-2faef5cd3c02"
   },
   "outputs": [
    {
     "name": "stdout",
     "output_type": "stream",
     "text": [
      "0.025\n",
      "0.017\n",
      "0.011\n",
      "0.066\n",
      "0.101\n",
      "0.024\n",
      "0.015\n",
      "0.037\n",
      "0.098\n",
      "0.084\n",
      "0.0\n",
      "0.0\n",
      "0.0\n",
      "0.03\n",
      "0.0\n",
      "0.0\n",
      "0.0\n",
      "0.0\n",
      "0.0\n",
      "0.026\n",
      "0.0\n",
      "0.0\n",
      "0.0\n",
      "0.023\n",
      "0.018\n",
      "0.013\n",
      "0.0\n",
      "0.016\n",
      "0.014\n",
      "0.0\n",
      "0.0\n",
      "0.03\n",
      "0.027\n",
      "0.275\n",
      "0.014\n",
      "0.009\n",
      "0.025\n"
     ]
    }
   ],
   "source": [
    "imp_features = xgb.feature_importances_\n",
    "for i in imp_features:\n",
    "    print(i.round(3))\n",
    "df_imp_features = pd.DataFrame({\"features\":features}).join(pd.DataFrame({\"weights\":imp_features}))\n",
    "df_imp_features = df_imp_features.sort_values(by=['weights'], ascending=False)"
   ]
  },
  {
   "cell_type": "code",
   "execution_count": null,
   "metadata": {
    "id": "_SdQEbnuZdUH"
   },
   "outputs": [],
   "source": [
    "df_imp_features = df_imp_features.head(15)"
   ]
  },
  {
   "cell_type": "code",
   "execution_count": null,
   "metadata": {
    "colab": {
     "base_uri": "https://localhost:8080/",
     "height": 369
    },
    "id": "gWk0A9GhG8Bc",
    "outputId": "0e8ed16f-1a77-40d6-dd01-3df4956d24a9"
   },
   "outputs": [
    {
     "data": {
      "image/png": "[encoded data removed]",
      "text/plain": [
       "<Figure size 720x360 with 1 Axes>"
      ]
     },
     "metadata": {
      "needs_background": "light"
     },
     "output_type": "display_data"
    }
   ],
   "source": [
    "plt.figure(figsize=(10,5))\n",
    "sns.barplot(x=\"weights\",y=\"features\",data=df_imp_features)\n",
    "plt.tight_layout()\n",
    "plt.savefig('lgbm_importances3.png')"
   ]
  },
  {
   "cell_type": "code",
   "execution_count": null,
   "metadata": {
    "id": "tOYBIzI9ZfhG"
   },
   "outputs": [],
   "source": [
    "predict_test = gbc.predict_proba(test_sca)\n",
    "pred_df = pd.DataFrame(predict_test,columns=['predict_0', 'predict_1', 'predict_2'])\n",
    "Y3 = Y_t.reset_index()\n",
    "results = pd.concat([Y3[['id']],pred_df],axis=1)\n",
    "results = results.set_index('id')  # set ID as index\n",
    "results.head()"
   ]
  },
  {
   "cell_type": "code",
   "execution_count": null,
   "metadata": {
    "id": "SjTKeKKUZ6zD"
   },
   "outputs": [],
   "source": [
    "results.shape"
   ]
  },
  {
   "cell_type": "code",
   "execution_count": null,
   "metadata": {
    "id": "M_3E6OiEZ9tU"
   },
   "outputs": [],
   "source": [
    "results.to_csv('sub_gbcw10.csv')"
   ]
  },
  {
   "cell_type": "markdown",
   "metadata": {
    "id": "ngeyxcqNmDgB"
   },
   "source": [
    "---------------------------------------------------------------------------------------------------------------------"
   ]
  },
  {
   "cell_type": "code",
   "execution_count": null,
   "metadata": {
    "id": "Xbow1X8-5_kk"
   },
   "outputs": [],
   "source": []
  },
  {
   "cell_type": "code",
   "execution_count": null,
   "metadata": {
    "id": "xr7roi-ceMDl"
   },
   "outputs": [],
   "source": []
  },
  {
   "cell_type": "code",
   "execution_count": null,
   "metadata": {
    "id": "1lGA8hOveMF-"
   },
   "outputs": [],
   "source": []
  },
  {
   "cell_type": "code",
   "execution_count": null,
   "metadata": {
    "id": "aOlbDvpPeMIT"
   },
   "outputs": [],
   "source": []
  },
  {
   "cell_type": "code",
   "execution_count": null,
   "metadata": {
    "id": "tfQX48oNeMLE"
   },
   "outputs": [],
   "source": []
  },
  {
   "cell_type": "code",
   "execution_count": null,
   "metadata": {
    "id": "k80TbMKZeMNy"
   },
   "outputs": [],
   "source": []
  },
  {
   "cell_type": "code",
   "execution_count": null,
   "metadata": {
    "id": "my5hIc6UeMQT"
   },
   "outputs": [],
   "source": []
  },
  {
   "cell_type": "code",
   "execution_count": null,
   "metadata": {
    "id": "rhYHPZS_eMTH"
   },
   "outputs": [],
   "source": []
  },
  {
   "cell_type": "code",
   "execution_count": null,
   "metadata": {
    "id": "sh_WvAv75_rs"
   },
   "outputs": [],
   "source": [
    "# create a transformed for the numerical values\n",
    "from sklearn.preprocessing import MinMaxScaler\n",
    "numeric_transformer_minmax = Pipeline(steps=[('imputer', SimpleImputer(strategy='median')), ('scaler',MinMaxScaler())])"
   ]
  },
  {
   "cell_type": "code",
   "execution_count": null,
   "metadata": {
    "id": "yynZCRNG5_wH"
   },
   "outputs": [],
   "source": [
    "from sklearn.compose import ColumnTransformer\n",
    "\n",
    "preprocessor_sca_minmax = ColumnTransformer(\n",
    "    transformers=[\n",
    "        ('num', numeric_transformer_minmax, numeric_features),\n",
    "        #('cat', categorical_transformer, categorical_features)\n",
    "    ])"
   ]
  },
  {
   "cell_type": "code",
   "execution_count": null,
   "metadata": {
    "id": "mNr_CRM65_0m"
   },
   "outputs": [],
   "source": [
    "#We are then ready to transform!\n",
    "X_train_transformed_sca = preprocessor_sca_minmax.fit_transform(X_train)\n",
    "X_test_transformed_sca = preprocessor_sca_minmax.transform(X_test)\n",
    "X_train_transformed_sca_copy = X_train_transformed_sca.copy()\n",
    "test_transformed_sca = preprocessor_sca_minmax.transform(Y_t)\n",
    "\n",
    "X_train_sca = pd.DataFrame(X_train_transformed_sca)\n",
    "X_test_sca = pd.DataFrame(X_test_transformed_sca)\n",
    "test_sca = pd.DataFrame(test_transformed_sca)"
   ]
  },
  {
   "cell_type": "code",
   "execution_count": null,
   "metadata": {
    "id": "Im_mx8X95_6i"
   },
   "outputs": [],
   "source": [
    "gbc = GradientBoostingClassifier()\n",
    "\n",
    "gbc.fit(X_train_sca, y_train)"
   ]
  },
  {
   "cell_type": "code",
   "execution_count": null,
   "metadata": {
    "id": "vvYaeLLynul0"
   },
   "outputs": [],
   "source": [
    "#Predictions\n",
    "y_pred = gbc.predict(X_test_sca)\n",
    "report10 = classification_report(y_test,y_pred,output_dict=True)\n",
    "df_std = pd.DataFrame(report10).transpose()"
   ]
  },
  {
   "cell_type": "code",
   "execution_count": null,
   "metadata": {
    "id": "jxlNPdesnzXO"
   },
   "outputs": [],
   "source": [
    "df_std"
   ]
  },
  {
   "cell_type": "code",
   "execution_count": null,
   "metadata": {
    "id": "TfJ2pt0i6AA5"
   },
   "outputs": [],
   "source": [
    "loss2tr = log_loss(y_train.values, gbc.predict_proba(X_train_sca.values))\n",
    "print(\"Random forest: train loss {:.4f}\".format(loss2tr))\n",
    "print('---------------------------------------------------------------')\n",
    "loss2te = log_loss(y_test.values, gbc.predict_proba(X_test_sca.values))\n",
    "print(\"Random forest: test loss {:.4f}\".format(loss2te))"
   ]
  },
  {
   "cell_type": "code",
   "execution_count": null,
   "metadata": {
    "id": "KUBmnfHa6AHz"
   },
   "outputs": [],
   "source": [
    "predict_test = gbc.predict_proba(test_sca)\n",
    "pred_df = pd.DataFrame(predict_test,columns=['predict_0', 'predict_1', 'predict_2'])\n",
    "Y3 = Y_t.reset_index()\n",
    "results = pd.concat([Y3[['id']],pred_df],axis=1)\n",
    "results = results.set_index('id')  # set ID as index\n",
    "results.head()"
   ]
  },
  {
   "cell_type": "code",
   "execution_count": null,
   "metadata": {
    "id": "lroWv4OL6ANh"
   },
   "outputs": [],
   "source": [
    "results.to_csv('sub_gbcw10_minmax.csv')"
   ]
  },
  {
   "cell_type": "code",
   "execution_count": null,
   "metadata": {
    "id": "CnU_v2QfGFE1"
   },
   "outputs": [],
   "source": [
    "print(X_t.shape,Y_t.shape)"
   ]
  },
  {
   "cell_type": "markdown",
   "metadata": {
    "id": "OaWNm7NiO6_3"
   },
   "source": [
    "Neural Network "
   ]
  },
  {
   "cell_type": "code",
   "execution_count": null,
   "metadata": {
    "id": "-XA6he8RPDzD"
   },
   "outputs": [],
   "source": [
    "# Classification neural network\n",
    "import tensorflow as tf\n",
    "from tensorflow import keras\n",
    "from tensorflow.keras.models import Sequential\n",
    "from tensorflow.keras.layers import Dense, Activation\n",
    "from tensorflow.keras.callbacks import EarlyStopping\n",
    "\n",
    "# Split into train/test\n",
    "X_train, X_test, y_train, y_test = train_test_split(X_t, y_t, test_size=0.2, random_state=42)"
   ]
  },
  {
   "cell_type": "code",
   "execution_count": null,
   "metadata": {
    "id": "UAyz26fHTwNw"
   },
   "outputs": [],
   "source": [
    "#We are then ready to transform!\n",
    "X_train_transformed_sca = preprocessor_sca_train.fit_transform(X_train)\n",
    "X_test_transformed_sca = preprocessor_sca_train.transform(X_test)\n",
    "X_train_transformed_sca_copy = X_train_transformed_sca.copy()\n",
    "test_transformed_sca = preprocessor_sca_train.transform(Y_t)\n",
    "\n",
    "X_train_sca = pd.DataFrame(X_train_transformed_sca)\n",
    "X_test_sca = pd.DataFrame(X_test_transformed_sca)\n",
    "test_sca = pd.DataFrame(test_transformed_sca)"
   ]
  },
  {
   "cell_type": "code",
   "execution_count": null,
   "metadata": {
    "id": "kv8cRBI1cvkm"
   },
   "outputs": [],
   "source": [
    "X_t.shape"
   ]
  },
  {
   "cell_type": "code",
   "execution_count": null,
   "metadata": {
    "id": "FCv7HENVWJK4"
   },
   "outputs": [],
   "source": [
    "X_train_sca1 = X_train_sca.values\n",
    "X_test_sca1 = X_test_sca.values"
   ]
  },
  {
   "cell_type": "code",
   "execution_count": null,
   "metadata": {
    "id": "BfWGRCCiPhz_"
   },
   "outputs": [],
   "source": [
    "model = keras.Sequential([\n",
    "    keras.layers.Flatten(input_shape=(23,)),\n",
    "    keras.layers.Dense(16, activation=tf.nn.relu),\n",
    "\tkeras.layers.Dense(16, activation=tf.nn.relu),\n",
    "    keras.layers.Dense(1, activation=tf.nn.softmax),\n",
    "])\n",
    "\n",
    "model.compile(optimizer='adam',\n",
    "              loss='binary_crossentropy',\n",
    "              metrics=['accuracy'])\n",
    "\n",
    "model.fit(X_train_sca, y_train, epochs=50, batch_size=1)\n",
    "\n",
    "test_loss, test_acc = model.evaluate(X_test_sca, y_test)\n",
    "print('Test accuracy:', test_acc)\n"
   ]
  },
  {
   "cell_type": "code",
   "execution_count": null,
   "metadata": {
    "id": "xol9IxgURiH7"
   },
   "outputs": [],
   "source": [
    "df = pd.DataFrame({'Actual': y_test, 'Predicted': y_pred2})\n",
    "df"
   ]
  }
 ],
 "metadata": {
  "colab": {
   "collapsed_sections": [],
   "name": "Phase-3.ipynb",
   "provenance": []
  },
  "kernelspec": {
   "display_name": "Python 3 (ipykernel)",
   "language": "python",
   "name": "python3"
  },
  "language_info": {
   "codemirror_mode": {
    "name": "ipython",
    "version": 3
   },
   "file_extension": ".py",
   "mimetype": "text/x-python",
   "name": "python",
   "nbconvert_exporter": "python",
   "pygments_lexer": "ipython3",
   "version": "3.9.7"
  }
 },
 "nbformat": 4,
 "nbformat_minor": 1
}
